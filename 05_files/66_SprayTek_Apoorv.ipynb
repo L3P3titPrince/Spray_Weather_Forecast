{
 "cells": [
  {
   "cell_type": "code",
   "execution_count": 1,
   "metadata": {},
   "outputs": [],
   "source": [
    "import pandas as pd"
   ]
  },
  {
   "cell_type": "code",
   "execution_count": 2,
   "metadata": {},
   "outputs": [],
   "source": [
    "df = pd.read_csv('/Users/Admin/Desktop/MS BIA/Spring 2021/Industry Capstone Project/SprayTek_ProductionData_csv.csv')"
   ]
  },
  {
   "cell_type": "code",
   "execution_count": 3,
   "metadata": {},
   "outputs": [
    {
     "data": {
      "text/html": [
       "<div>\n",
       "<style scoped>\n",
       "    .dataframe tbody tr th:only-of-type {\n",
       "        vertical-align: middle;\n",
       "    }\n",
       "\n",
       "    .dataframe tbody tr th {\n",
       "        vertical-align: top;\n",
       "    }\n",
       "\n",
       "    .dataframe thead th {\n",
       "        text-align: right;\n",
       "    }\n",
       "</style>\n",
       "<table border=\"1\" class=\"dataframe\">\n",
       "  <thead>\n",
       "    <tr style=\"text-align: right;\">\n",
       "      <th></th>\n",
       "      <th>OrderEntryDate</th>\n",
       "      <th>OrginalScheduleDate</th>\n",
       "      <th>ActualStartDate</th>\n",
       "      <th>ReleaseDate</th>\n",
       "      <th>BatchNumber</th>\n",
       "      <th>CustItem</th>\n",
       "      <th>Dryer</th>\n",
       "      <th>ScheduledDryQty</th>\n",
       "      <th>ActualDryQty</th>\n",
       "      <th>YieldPercentage</th>\n",
       "      <th>DryingTime_Hrs</th>\n",
       "      <th>CleanTime_Hrs</th>\n",
       "      <th>DownTime_Hrs</th>\n",
       "      <th>TotalRunTime_Hrs</th>\n",
       "      <th>ProdLine</th>\n",
       "      <th>ttlBatches</th>\n",
       "    </tr>\n",
       "  </thead>\n",
       "  <tbody>\n",
       "    <tr>\n",
       "      <th>429</th>\n",
       "      <td>3/11/16 15:07</td>\n",
       "      <td>3/11/16 15:07</td>\n",
       "      <td>3/26/16 12:40</td>\n",
       "      <td>3/11/16 15:07</td>\n",
       "      <td>NJSD317153</td>\n",
       "      <td>10558-0000</td>\n",
       "      <td>Dryer 03</td>\n",
       "      <td>4270.4120</td>\n",
       "      <td>3560.5999</td>\n",
       "      <td>83.4</td>\n",
       "      <td>6.2</td>\n",
       "      <td>8.1</td>\n",
       "      <td>7.5</td>\n",
       "      <td>21.8</td>\n",
       "      <td>Fragrance</td>\n",
       "      <td>2</td>\n",
       "    </tr>\n",
       "    <tr>\n",
       "      <th>5402</th>\n",
       "      <td>10/9/18 10:50</td>\n",
       "      <td>11/14/18 10:48</td>\n",
       "      <td>11/14/18 12:45</td>\n",
       "      <td>10/23/18 9:05</td>\n",
       "      <td>NJSD352383</td>\n",
       "      <td>44190-0000</td>\n",
       "      <td>Dryer 03</td>\n",
       "      <td>4651.5341</td>\n",
       "      <td>2853.0000</td>\n",
       "      <td>61.3</td>\n",
       "      <td>5.6</td>\n",
       "      <td>4.9</td>\n",
       "      <td>9.9</td>\n",
       "      <td>20.4</td>\n",
       "      <td>Fragrance</td>\n",
       "      <td>9</td>\n",
       "    </tr>\n",
       "    <tr>\n",
       "      <th>5254</th>\n",
       "      <td>9/24/18 9:00</td>\n",
       "      <td>10/19/18 5:59</td>\n",
       "      <td>10/19/18 3:50</td>\n",
       "      <td>9/24/18 9:37</td>\n",
       "      <td>NJSD351967</td>\n",
       "      <td>42456-0000</td>\n",
       "      <td>Dryer 01</td>\n",
       "      <td>1103.3030</td>\n",
       "      <td>1050.0000</td>\n",
       "      <td>95.2</td>\n",
       "      <td>3.3</td>\n",
       "      <td>5.2</td>\n",
       "      <td>0.4</td>\n",
       "      <td>8.8</td>\n",
       "      <td>Flavors</td>\n",
       "      <td>1</td>\n",
       "    </tr>\n",
       "    <tr>\n",
       "      <th>330</th>\n",
       "      <td>3/4/16 10:42</td>\n",
       "      <td>3/4/16 10:40</td>\n",
       "      <td>3/4/16 19:54</td>\n",
       "      <td>3/4/16 10:42</td>\n",
       "      <td>PASD316911</td>\n",
       "      <td>23423-0000</td>\n",
       "      <td>Dryer 06</td>\n",
       "      <td>23551.0278</td>\n",
       "      <td>18900.1993</td>\n",
       "      <td>80.3</td>\n",
       "      <td>119.0</td>\n",
       "      <td>0.0</td>\n",
       "      <td>3.6</td>\n",
       "      <td>122.7</td>\n",
       "      <td>Flavors</td>\n",
       "      <td>27</td>\n",
       "    </tr>\n",
       "    <tr>\n",
       "      <th>8349</th>\n",
       "      <td>3/10/20 12:02</td>\n",
       "      <td>3/10/20 12:01</td>\n",
       "      <td>3/29/20 5:30</td>\n",
       "      <td>3/20/20 9:18</td>\n",
       "      <td>NJSD368906</td>\n",
       "      <td>42655-0000</td>\n",
       "      <td>Dryer 01</td>\n",
       "      <td>2764.9624</td>\n",
       "      <td>2699.8999</td>\n",
       "      <td>97.6</td>\n",
       "      <td>6.7</td>\n",
       "      <td>4.5</td>\n",
       "      <td>0.4</td>\n",
       "      <td>11.7</td>\n",
       "      <td>Vitamin</td>\n",
       "      <td>1</td>\n",
       "    </tr>\n",
       "  </tbody>\n",
       "</table>\n",
       "</div>"
      ],
      "text/plain": [
       "     OrderEntryDate OrginalScheduleDate ActualStartDate    ReleaseDate  \\\n",
       "429   3/11/16 15:07       3/11/16 15:07   3/26/16 12:40  3/11/16 15:07   \n",
       "5402  10/9/18 10:50      11/14/18 10:48  11/14/18 12:45  10/23/18 9:05   \n",
       "5254   9/24/18 9:00       10/19/18 5:59   10/19/18 3:50   9/24/18 9:37   \n",
       "330    3/4/16 10:42        3/4/16 10:40    3/4/16 19:54   3/4/16 10:42   \n",
       "8349  3/10/20 12:02       3/10/20 12:01    3/29/20 5:30   3/20/20 9:18   \n",
       "\n",
       "     BatchNumber    CustItem     Dryer  ScheduledDryQty  ActualDryQty  \\\n",
       "429   NJSD317153  10558-0000  Dryer 03        4270.4120     3560.5999   \n",
       "5402  NJSD352383  44190-0000  Dryer 03        4651.5341     2853.0000   \n",
       "5254  NJSD351967  42456-0000  Dryer 01        1103.3030     1050.0000   \n",
       "330   PASD316911  23423-0000  Dryer 06       23551.0278    18900.1993   \n",
       "8349  NJSD368906  42655-0000  Dryer 01        2764.9624     2699.8999   \n",
       "\n",
       "      YieldPercentage  DryingTime_Hrs  CleanTime_Hrs  DownTime_Hrs  \\\n",
       "429              83.4             6.2            8.1           7.5   \n",
       "5402             61.3             5.6            4.9           9.9   \n",
       "5254             95.2             3.3            5.2           0.4   \n",
       "330              80.3           119.0            0.0           3.6   \n",
       "8349             97.6             6.7            4.5           0.4   \n",
       "\n",
       "      TotalRunTime_Hrs   ProdLine  ttlBatches  \n",
       "429               21.8  Fragrance           2  \n",
       "5402              20.4  Fragrance           9  \n",
       "5254               8.8    Flavors           1  \n",
       "330              122.7    Flavors          27  \n",
       "8349              11.7    Vitamin           1  "
      ]
     },
     "execution_count": 3,
     "metadata": {},
     "output_type": "execute_result"
    }
   ],
   "source": [
    "df1 = df.drop(columns = ['Flow', 'Hygroscopicity', 'Bulk Density', 'Moisture',\n",
    "                         'ContainerNet', 'Container', 'ContainerID'])\n",
    "df1.sample(5)"
   ]
  },
  {
   "cell_type": "code",
   "execution_count": 4,
   "metadata": {},
   "outputs": [
    {
     "data": {
      "text/html": [
       "<div>\n",
       "<style scoped>\n",
       "    .dataframe tbody tr th:only-of-type {\n",
       "        vertical-align: middle;\n",
       "    }\n",
       "\n",
       "    .dataframe tbody tr th {\n",
       "        vertical-align: top;\n",
       "    }\n",
       "\n",
       "    .dataframe thead th {\n",
       "        text-align: right;\n",
       "    }\n",
       "</style>\n",
       "<table border=\"1\" class=\"dataframe\">\n",
       "  <thead>\n",
       "    <tr style=\"text-align: right;\">\n",
       "      <th></th>\n",
       "      <th>ScheduledDryQty</th>\n",
       "      <th>ActualDryQty</th>\n",
       "      <th>YieldPercentage</th>\n",
       "      <th>DryingTime_Hrs</th>\n",
       "      <th>CleanTime_Hrs</th>\n",
       "      <th>DownTime_Hrs</th>\n",
       "      <th>TotalRunTime_Hrs</th>\n",
       "      <th>ttlBatches</th>\n",
       "    </tr>\n",
       "  </thead>\n",
       "  <tbody>\n",
       "    <tr>\n",
       "      <th>count</th>\n",
       "      <td>9969.000000</td>\n",
       "      <td>9956.000000</td>\n",
       "      <td>9961.000000</td>\n",
       "      <td>9970.000000</td>\n",
       "      <td>9970.000000</td>\n",
       "      <td>9970.000000</td>\n",
       "      <td>9970.000000</td>\n",
       "      <td>9970.000000</td>\n",
       "    </tr>\n",
       "    <tr>\n",
       "      <th>mean</th>\n",
       "      <td>8944.787058</td>\n",
       "      <td>8348.359213</td>\n",
       "      <td>91.214466</td>\n",
       "      <td>21.752849</td>\n",
       "      <td>6.339228</td>\n",
       "      <td>4.596861</td>\n",
       "      <td>32.653591</td>\n",
       "      <td>5.036409</td>\n",
       "    </tr>\n",
       "    <tr>\n",
       "      <th>std</th>\n",
       "      <td>13974.411561</td>\n",
       "      <td>13350.619864</td>\n",
       "      <td>13.582797</td>\n",
       "      <td>23.249582</td>\n",
       "      <td>6.556783</td>\n",
       "      <td>7.568556</td>\n",
       "      <td>29.983541</td>\n",
       "      <td>6.930778</td>\n",
       "    </tr>\n",
       "    <tr>\n",
       "      <th>min</th>\n",
       "      <td>5.680500</td>\n",
       "      <td>0.100000</td>\n",
       "      <td>0.000000</td>\n",
       "      <td>0.000000</td>\n",
       "      <td>-9.200000</td>\n",
       "      <td>0.000000</td>\n",
       "      <td>0.000000</td>\n",
       "      <td>1.000000</td>\n",
       "    </tr>\n",
       "    <tr>\n",
       "      <th>25%</th>\n",
       "      <td>1559.935000</td>\n",
       "      <td>1423.374925</td>\n",
       "      <td>88.700000</td>\n",
       "      <td>5.725000</td>\n",
       "      <td>3.500000</td>\n",
       "      <td>0.600000</td>\n",
       "      <td>12.200000</td>\n",
       "      <td>1.000000</td>\n",
       "    </tr>\n",
       "    <tr>\n",
       "      <th>50%</th>\n",
       "      <td>4400.696400</td>\n",
       "      <td>4263.649950</td>\n",
       "      <td>93.300000</td>\n",
       "      <td>13.900000</td>\n",
       "      <td>5.300000</td>\n",
       "      <td>1.900000</td>\n",
       "      <td>22.500000</td>\n",
       "      <td>2.000000</td>\n",
       "    </tr>\n",
       "    <tr>\n",
       "      <th>75%</th>\n",
       "      <td>10878.646600</td>\n",
       "      <td>10034.850000</td>\n",
       "      <td>96.600000</td>\n",
       "      <td>30.600000</td>\n",
       "      <td>7.700000</td>\n",
       "      <td>5.500000</td>\n",
       "      <td>42.800000</td>\n",
       "      <td>6.000000</td>\n",
       "    </tr>\n",
       "    <tr>\n",
       "      <th>max</th>\n",
       "      <td>301195.720000</td>\n",
       "      <td>293923.198200</td>\n",
       "      <td>864.900000</td>\n",
       "      <td>221.500000</td>\n",
       "      <td>172.100000</td>\n",
       "      <td>127.400000</td>\n",
       "      <td>284.700000</td>\n",
       "      <td>120.000000</td>\n",
       "    </tr>\n",
       "  </tbody>\n",
       "</table>\n",
       "</div>"
      ],
      "text/plain": [
       "       ScheduledDryQty   ActualDryQty  YieldPercentage  DryingTime_Hrs  \\\n",
       "count      9969.000000    9956.000000      9961.000000     9970.000000   \n",
       "mean       8944.787058    8348.359213        91.214466       21.752849   \n",
       "std       13974.411561   13350.619864        13.582797       23.249582   \n",
       "min           5.680500       0.100000         0.000000        0.000000   \n",
       "25%        1559.935000    1423.374925        88.700000        5.725000   \n",
       "50%        4400.696400    4263.649950        93.300000       13.900000   \n",
       "75%       10878.646600   10034.850000        96.600000       30.600000   \n",
       "max      301195.720000  293923.198200       864.900000      221.500000   \n",
       "\n",
       "       CleanTime_Hrs  DownTime_Hrs  TotalRunTime_Hrs   ttlBatches  \n",
       "count    9970.000000   9970.000000       9970.000000  9970.000000  \n",
       "mean        6.339228      4.596861         32.653591     5.036409  \n",
       "std         6.556783      7.568556         29.983541     6.930778  \n",
       "min        -9.200000      0.000000          0.000000     1.000000  \n",
       "25%         3.500000      0.600000         12.200000     1.000000  \n",
       "50%         5.300000      1.900000         22.500000     2.000000  \n",
       "75%         7.700000      5.500000         42.800000     6.000000  \n",
       "max       172.100000    127.400000        284.700000   120.000000  "
      ]
     },
     "execution_count": 4,
     "metadata": {},
     "output_type": "execute_result"
    }
   ],
   "source": [
    "df1.describe()"
   ]
  },
  {
   "cell_type": "code",
   "execution_count": 5,
   "metadata": {},
   "outputs": [
    {
     "data": {
      "text/plain": [
       "OrderEntryDate          0\n",
       "OrginalScheduleDate     0\n",
       "ActualStartDate         0\n",
       "ReleaseDate             0\n",
       "BatchNumber             0\n",
       "CustItem                1\n",
       "Dryer                   0\n",
       "ScheduledDryQty         1\n",
       "ActualDryQty           14\n",
       "YieldPercentage         9\n",
       "DryingTime_Hrs          0\n",
       "CleanTime_Hrs           0\n",
       "DownTime_Hrs            0\n",
       "TotalRunTime_Hrs        0\n",
       "ProdLine                9\n",
       "ttlBatches              0\n",
       "dtype: int64"
      ]
     },
     "execution_count": 5,
     "metadata": {},
     "output_type": "execute_result"
    }
   ],
   "source": [
    "df1.isnull().sum()"
   ]
  },
  {
   "cell_type": "markdown",
   "metadata": {},
   "source": [
    "### If ActualDryQty is null, ActualDryQty = ScheduledDryQty "
   ]
  },
  {
   "cell_type": "code",
   "execution_count": 6,
   "metadata": {},
   "outputs": [],
   "source": [
    "df1.ActualDryQty.fillna(df1.ScheduledDryQty,inplace=True)\n",
    "df1 = df1.drop(columns = 'ScheduledDryQty')"
   ]
  },
  {
   "cell_type": "code",
   "execution_count": null,
   "metadata": {},
   "outputs": [],
   "source": [
    "## Yield Percentage preserved only between range 50-100"
   ]
  },
  {
   "cell_type": "code",
   "execution_count": 7,
   "metadata": {},
   "outputs": [],
   "source": [
    "df1.loc[(df1.YieldPercentage > 100),'YieldPercentage'] = 100"
   ]
  },
  {
   "cell_type": "code",
   "execution_count": 8,
   "metadata": {},
   "outputs": [],
   "source": [
    "df1.drop(df1[df1['YieldPercentage'] < 50].index, inplace = True)"
   ]
  },
  {
   "cell_type": "code",
   "execution_count": null,
   "metadata": {},
   "outputs": [],
   "source": [
    "## Filling null values in ProdLine with mode."
   ]
  },
  {
   "cell_type": "code",
   "execution_count": 9,
   "metadata": {},
   "outputs": [],
   "source": [
    "df1.ProdLine.fillna(df1.ProdLine.mode()[0],inplace=True)"
   ]
  },
  {
   "cell_type": "code",
   "execution_count": 10,
   "metadata": {
    "scrolled": true
   },
   "outputs": [
    {
     "data": {
      "text/plain": [
       "Flavors          5312\n",
       "Fragrance        2188\n",
       "Chemical          704\n",
       "Nutraceutical     682\n",
       "Food Additive     464\n",
       "Vitamin           273\n",
       "Food Addit        122\n",
       "Pharma             87\n",
       "Cosmetic           51\n",
       "Name: ProdLine, dtype: int64"
      ]
     },
     "execution_count": 10,
     "metadata": {},
     "output_type": "execute_result"
    }
   ],
   "source": [
    "df1['ProdLine'].value_counts()"
   ]
  },
  {
   "cell_type": "code",
   "execution_count": 11,
   "metadata": {},
   "outputs": [
    {
     "data": {
      "text/plain": [
       "OrderEntryDate         0\n",
       "OrginalScheduleDate    0\n",
       "ActualStartDate        0\n",
       "ReleaseDate            0\n",
       "BatchNumber            0\n",
       "CustItem               0\n",
       "Dryer                  0\n",
       "ActualDryQty           0\n",
       "YieldPercentage        0\n",
       "DryingTime_Hrs         0\n",
       "CleanTime_Hrs          0\n",
       "DownTime_Hrs           0\n",
       "TotalRunTime_Hrs       0\n",
       "ProdLine               0\n",
       "ttlBatches             0\n",
       "dtype: int64"
      ]
     },
     "execution_count": 11,
     "metadata": {},
     "output_type": "execute_result"
    }
   ],
   "source": [
    "df1 = df1.dropna()\n",
    "df1.isnull().sum()"
   ]
  },
  {
   "cell_type": "code",
   "execution_count": 14,
   "metadata": {},
   "outputs": [
    {
     "name": "stdout",
     "output_type": "stream",
     "text": [
      "<class 'pandas.core.frame.DataFrame'>\n",
      "Int64Index: 9872 entries, 0 to 9969\n",
      "Data columns (total 15 columns):\n",
      " #   Column               Non-Null Count  Dtype  \n",
      "---  ------               --------------  -----  \n",
      " 0   OrderEntryDate       9872 non-null   object \n",
      " 1   OrginalScheduleDate  9872 non-null   object \n",
      " 2   ActualStartDate      9872 non-null   object \n",
      " 3   ReleaseDate          9872 non-null   object \n",
      " 4   BatchNumber          9872 non-null   object \n",
      " 5   CustItem             9872 non-null   object \n",
      " 6   Dryer                9872 non-null   object \n",
      " 7   ActualDryQty         9872 non-null   float64\n",
      " 8   YieldPercentage      9872 non-null   float64\n",
      " 9   DryingTime_Hrs       9872 non-null   float64\n",
      " 10  CleanTime_Hrs        9872 non-null   float64\n",
      " 11  DownTime_Hrs         9872 non-null   float64\n",
      " 12  TotalRunTime_Hrs     9872 non-null   float64\n",
      " 13  ProdLine             9872 non-null   object \n",
      " 14  ttlBatches           9872 non-null   int64  \n",
      "dtypes: float64(6), int64(1), object(8)\n",
      "memory usage: 1.2+ MB\n"
     ]
    }
   ],
   "source": [
    "df1.info()"
   ]
  },
  {
   "cell_type": "code",
   "execution_count": 15,
   "metadata": {},
   "outputs": [],
   "source": [
    "df1['OrderEntryDate'] = pd.to_datetime(df1['OrderEntryDate'])\n",
    "df1['OrginalScheduleDate'] = pd.to_datetime(df1['OrginalScheduleDate'])\n",
    "df1['ActualStartDate'] = pd.to_datetime(df1['ActualStartDate'])\n",
    "df1['ReleaseDate'] = pd.to_datetime(df1['ReleaseDate'])"
   ]
  },
  {
   "cell_type": "code",
   "execution_count": 16,
   "metadata": {},
   "outputs": [],
   "source": [
    "from datetime import datetime, timedelta"
   ]
  },
  {
   "cell_type": "code",
   "execution_count": 17,
   "metadata": {},
   "outputs": [],
   "source": [
    "df1['Final_EndTime'] = df1['ActualStartDate'] + pd.TimedeltaIndex(df1['TotalRunTime_Hrs'], unit = 'D')\n",
    "df1['Drying_EndTime'] = df1['ActualStartDate'] + pd.TimedeltaIndex(df1['DryingTime_Hrs'], unit = 'D')\n",
    "df1['Cleaning_EndTime'] = df1['ActualStartDate'] + pd.TimedeltaIndex(df1['CleanTime_Hrs'], unit = 'D')"
   ]
  },
  {
   "cell_type": "code",
   "execution_count": 18,
   "metadata": {},
   "outputs": [],
   "source": [
    "df1 = df1[['BatchNumber', 'OrderEntryDate', 'OrginalScheduleDate', 'ReleaseDate', 'ActualStartDate',\n",
    "           'Drying_EndTime', 'DryingTime_Hrs', 'Cleaning_EndTime', 'CleanTime_Hrs', 'DownTime_Hrs', 'Final_EndTime', \n",
    "           'TotalRunTime_Hrs', 'CustItem', 'ProdLine', 'ActualDryQty', 'Dryer', 'ttlBatches', \n",
    "           'YieldPercentage']]"
   ]
  },
  {
   "cell_type": "code",
   "execution_count": 19,
   "metadata": {},
   "outputs": [],
   "source": [
    "df1.to_excel(r'/Users/Admin/Desktop/MS BIA/Spring 2021/Industry Capstone Project/Apoorv Akhouri_Spray Tek Report/DF1.xlsx', index = False)"
   ]
  },
  {
   "cell_type": "markdown",
   "metadata": {},
   "source": [
    "### Which Dryer is processing which ProdLine the most? [ .idxmax() ] "
   ]
  },
  {
   "cell_type": "code",
   "execution_count": 20,
   "metadata": {},
   "outputs": [
    {
     "data": {
      "text/plain": [
       "Flavors          5306\n",
       "Fragrance        2188\n",
       "Chemical          703\n",
       "Nutraceutical     681\n",
       "Food Additive     461\n",
       "Vitamin           273\n",
       "Food Addit        122\n",
       "Pharma             87\n",
       "Cosmetic           51\n",
       "Name: ProdLine, dtype: int64"
      ]
     },
     "execution_count": 20,
     "metadata": {},
     "output_type": "execute_result"
    }
   ],
   "source": [
    "ProdlineInfo = df1['ProdLine'].value_counts()\n",
    "ProdlineInfo"
   ]
  },
  {
   "cell_type": "code",
   "execution_count": 21,
   "metadata": {},
   "outputs": [],
   "source": [
    "# To display full length output from ProdLine_by_Dryer_info\n",
    "### pd.set_option('display.max_rows', None)\n",
    "ProdlineByDryerInfo = df1.groupby('Dryer').apply(lambda x: x['ProdLine'].value_counts())"
   ]
  },
  {
   "cell_type": "code",
   "execution_count": 22,
   "metadata": {},
   "outputs": [
    {
     "name": "stdout",
     "output_type": "stream",
     "text": [
      "Dryer                  \n",
      "Dryer 01  Flavors          1994\n",
      "          Food Additive     132\n",
      "          Vitamin            56\n",
      "          Chemical            6\n",
      "          Food Addit          6\n",
      "                           ... \n",
      "Dryer 10  Food Addit         47\n",
      "          Pharma              3\n",
      "Dryer 11  Flavors            17\n",
      "          Food Addit          2\n",
      "          Food Additive       2\n",
      "Name: ProdLine, Length: 71, dtype: int64\n"
     ]
    }
   ],
   "source": [
    "print(ProdlineByDryerInfo)"
   ]
  },
  {
   "cell_type": "markdown",
   "metadata": {},
   "source": [
    "### refer report ->"
   ]
  },
  {
   "cell_type": "code",
   "execution_count": null,
   "metadata": {},
   "outputs": [],
   "source": [
    "## Process Times Calculation verification\n",
    "## create a colummn which will be CleanTime + DryingTime + DownTime should be equal to TotalRunTime\n",
    "## But as Eric mentioned, there can be minor difference in times due to dividing consignments into batches\n",
    "## thus, we take difference of CleanTime + DryingTime + DownTime & TotalRunTime, & check if the mean is close to 0."
   ]
  },
  {
   "cell_type": "code",
   "execution_count": 23,
   "metadata": {},
   "outputs": [
    {
     "name": "stderr",
     "output_type": "stream",
     "text": [
      "<ipython-input-23-9722a78aa12a>:1: SettingWithCopyWarning: \n",
      "A value is trying to be set on a copy of a slice from a DataFrame.\n",
      "Try using .loc[row_indexer,col_indexer] = value instead\n",
      "\n",
      "See the caveats in the documentation: https://pandas.pydata.org/pandas-docs/stable/user_guide/indexing.html#returning-a-view-versus-a-copy\n",
      "  df1['Test'] = df1['CleanTime_Hrs'] + df1['DryingTime_Hrs'] + df1['DownTime_Hrs']\n",
      "<ipython-input-23-9722a78aa12a>:2: SettingWithCopyWarning: \n",
      "A value is trying to be set on a copy of a slice from a DataFrame.\n",
      "Try using .loc[row_indexer,col_indexer] = value instead\n",
      "\n",
      "See the caveats in the documentation: https://pandas.pydata.org/pandas-docs/stable/user_guide/indexing.html#returning-a-view-versus-a-copy\n",
      "  df1['Result'] = df1['TotalRunTime_Hrs'] - df1['Test']\n"
     ]
    },
    {
     "data": {
      "text/plain": [
       "-0.034187601296596294"
      ]
     },
     "execution_count": 23,
     "metadata": {},
     "output_type": "execute_result"
    }
   ],
   "source": [
    "df1['Test'] = df1['CleanTime_Hrs'] + df1['DryingTime_Hrs'] + df1['DownTime_Hrs']\n",
    "df1['Result'] = df1['TotalRunTime_Hrs'] - df1['Test']\n",
    "df1['Result'].mean()"
   ]
  },
  {
   "cell_type": "code",
   "execution_count": 24,
   "metadata": {},
   "outputs": [],
   "source": [
    "df1 = df1.drop(columns = ['Test', 'Result'])"
   ]
  },
  {
   "cell_type": "code",
   "execution_count": null,
   "metadata": {},
   "outputs": [],
   "source": [
    "# Dryers vs Process Times"
   ]
  },
  {
   "cell_type": "code",
   "execution_count": null,
   "metadata": {},
   "outputs": [],
   "source": [
    "## For this correlation analysis it would be better to work with:\n",
    "## df2: DataFrame without the outliers w.r.t DryingTime, CleanTime, DownTime & TotalRunTime\n",
    "#### IQR for DryingTime, CleanTime, DownTime & TotalRunTime"
   ]
  },
  {
   "cell_type": "code",
   "execution_count": 25,
   "metadata": {},
   "outputs": [
    {
     "data": {
      "text/plain": [
       "<AxesSubplot:>"
      ]
     },
     "execution_count": 25,
     "metadata": {},
     "output_type": "execute_result"
    },
    {
     "data": {
      "image/png": "[encoded data removed]",
      "text/plain": [
       "<Figure size 432x288 with 1 Axes>"
      ]
     },
     "metadata": {
      "needs_background": "light"
     },
     "output_type": "display_data"
    }
   ],
   "source": [
    "import seaborn as sns\n",
    "import matplotlib.pyplot as plt\n",
    "\n",
    "sns.boxplot(data= [df1['DryingTime_Hrs'], df1['CleanTime_Hrs'], df1['DownTime_Hrs'], df1['TotalRunTime_Hrs']])"
   ]
  },
  {
   "cell_type": "code",
   "execution_count": 85,
   "metadata": {},
   "outputs": [],
   "source": [
    "df3 = df1"
   ]
  },
  {
   "cell_type": "code",
   "execution_count": 86,
   "metadata": {},
   "outputs": [
    {
     "name": "stdout",
     "output_type": "stream",
     "text": [
      "DryingTime_Hrs        25.000\n",
      "CleanTime_Hrs          4.200\n",
      "DownTime_Hrs           4.800\n",
      "TotalRunTime_Hrs      30.700\n",
      "ActualDryQty        8653.825\n",
      "ttlBatches             5.000\n",
      "YieldPercentage        7.700\n",
      "dtype: float64\n"
     ]
    }
   ],
   "source": [
    "Q1 = df3.quantile(0.25)\n",
    "Q3 = df3.quantile(0.75)\n",
    "IQR = Q3-Q1\n",
    "print(IQR)"
   ]
  },
  {
   "cell_type": "code",
   "execution_count": 87,
   "metadata": {},
   "outputs": [],
   "source": [
    "df3_float = df3[['DryingTime_Hrs', 'CleanTime_Hrs', 'DownTime_Hrs', 'TotalRunTime_Hrs', 'ActualDryQty', 'ttlBatches', 'YieldPercentage']]"
   ]
  },
  {
   "cell_type": "code",
   "execution_count": 88,
   "metadata": {},
   "outputs": [
    {
     "name": "stdout",
     "output_type": "stream",
     "text": [
      "(9872, 7)\n",
      "(7107, 7)\n"
     ]
    }
   ],
   "source": [
    "print(df3_float.shape)\n",
    "df3_clean = df3_float[~((df3_float < (Q1 - 1.5 *IQR)) | (df3_float > (Q3 + 1.5 * IQR))).any(axis=1)]\n",
    "print(df3_clean.shape)"
   ]
  },
  {
   "cell_type": "code",
   "execution_count": 89,
   "metadata": {},
   "outputs": [
    {
     "data": {
      "text/html": [
       "<div>\n",
       "<style scoped>\n",
       "    .dataframe tbody tr th:only-of-type {\n",
       "        vertical-align: middle;\n",
       "    }\n",
       "\n",
       "    .dataframe tbody tr th {\n",
       "        vertical-align: top;\n",
       "    }\n",
       "\n",
       "    .dataframe thead th {\n",
       "        text-align: right;\n",
       "    }\n",
       "</style>\n",
       "<table border=\"1\" class=\"dataframe\">\n",
       "  <thead>\n",
       "    <tr style=\"text-align: right;\">\n",
       "      <th></th>\n",
       "      <th>DryingTime_Hrs</th>\n",
       "      <th>CleanTime_Hrs</th>\n",
       "      <th>DownTime_Hrs</th>\n",
       "      <th>TotalRunTime_Hrs</th>\n",
       "      <th>ActualDryQty</th>\n",
       "      <th>ttlBatches</th>\n",
       "      <th>YieldPercentage</th>\n",
       "    </tr>\n",
       "  </thead>\n",
       "  <tbody>\n",
       "    <tr>\n",
       "      <th>1394</th>\n",
       "      <td>1.0</td>\n",
       "      <td>9.1</td>\n",
       "      <td>0.0</td>\n",
       "      <td>10.1</td>\n",
       "      <td>881.6000</td>\n",
       "      <td>1</td>\n",
       "      <td>87.9</td>\n",
       "    </tr>\n",
       "    <tr>\n",
       "      <th>4461</th>\n",
       "      <td>0.0</td>\n",
       "      <td>0.0</td>\n",
       "      <td>0.0</td>\n",
       "      <td>0.1</td>\n",
       "      <td>6655.9998</td>\n",
       "      <td>2</td>\n",
       "      <td>98.7</td>\n",
       "    </tr>\n",
       "    <tr>\n",
       "      <th>2811</th>\n",
       "      <td>5.5</td>\n",
       "      <td>5.9</td>\n",
       "      <td>0.3</td>\n",
       "      <td>11.8</td>\n",
       "      <td>2095.1000</td>\n",
       "      <td>1</td>\n",
       "      <td>99.2</td>\n",
       "    </tr>\n",
       "    <tr>\n",
       "      <th>6716</th>\n",
       "      <td>17.8</td>\n",
       "      <td>13.9</td>\n",
       "      <td>4.2</td>\n",
       "      <td>35.9</td>\n",
       "      <td>8200.0000</td>\n",
       "      <td>4</td>\n",
       "      <td>86.5</td>\n",
       "    </tr>\n",
       "    <tr>\n",
       "      <th>6383</th>\n",
       "      <td>13.7</td>\n",
       "      <td>5.9</td>\n",
       "      <td>0.4</td>\n",
       "      <td>20.0</td>\n",
       "      <td>2250.0000</td>\n",
       "      <td>2</td>\n",
       "      <td>97.2</td>\n",
       "    </tr>\n",
       "  </tbody>\n",
       "</table>\n",
       "</div>"
      ],
      "text/plain": [
       "      DryingTime_Hrs  CleanTime_Hrs  DownTime_Hrs  TotalRunTime_Hrs  \\\n",
       "1394             1.0            9.1           0.0              10.1   \n",
       "4461             0.0            0.0           0.0               0.1   \n",
       "2811             5.5            5.9           0.3              11.8   \n",
       "6716            17.8           13.9           4.2              35.9   \n",
       "6383            13.7            5.9           0.4              20.0   \n",
       "\n",
       "      ActualDryQty  ttlBatches  YieldPercentage  \n",
       "1394      881.6000           1             87.9  \n",
       "4461     6655.9998           2             98.7  \n",
       "2811     2095.1000           1             99.2  \n",
       "6716     8200.0000           4             86.5  \n",
       "6383     2250.0000           2             97.2  "
      ]
     },
     "execution_count": 89,
     "metadata": {},
     "output_type": "execute_result"
    }
   ],
   "source": [
    "df3_clean.sample(5)"
   ]
  },
  {
   "cell_type": "code",
   "execution_count": 91,
   "metadata": {},
   "outputs": [],
   "source": [
    "df3_clean = pd.merge(df3_clean, df3, how = \"left\", on = ['DryingTime_Hrs', 'CleanTime_Hrs', 'DownTime_Hrs', 'TotalRunTime_Hrs', 'ActualDryQty', 'ttlBatches', 'YieldPercentage'])"
   ]
  },
  {
   "cell_type": "code",
   "execution_count": 99,
   "metadata": {},
   "outputs": [
    {
     "name": "stdout",
     "output_type": "stream",
     "text": [
      "<class 'pandas.core.frame.DataFrame'>\n",
      "Int64Index: 8075 entries, 0 to 8074\n",
      "Data columns (total 18 columns):\n",
      " #   Column               Non-Null Count  Dtype         \n",
      "---  ------               --------------  -----         \n",
      " 0   DryingTime_Hrs       8075 non-null   float64       \n",
      " 1   CleanTime_Hrs        8075 non-null   float64       \n",
      " 2   DownTime_Hrs         8075 non-null   float64       \n",
      " 3   TotalRunTime_Hrs     8075 non-null   float64       \n",
      " 4   ActualDryQty         8075 non-null   float64       \n",
      " 5   ttlBatches           8075 non-null   int64         \n",
      " 6   YieldPercentage      8075 non-null   float64       \n",
      " 7   BatchNumber          8075 non-null   object        \n",
      " 8   OrderEntryDate       8075 non-null   datetime64[ns]\n",
      " 9   OrginalScheduleDate  8075 non-null   datetime64[ns]\n",
      " 10  ReleaseDate          8075 non-null   datetime64[ns]\n",
      " 11  ActualStartDate      8075 non-null   datetime64[ns]\n",
      " 12  Drying_EndTime       8075 non-null   datetime64[ns]\n",
      " 13  Cleaning_EndTime     8075 non-null   datetime64[ns]\n",
      " 14  Final_EndTime        8075 non-null   datetime64[ns]\n",
      " 15  CustItem             8075 non-null   object        \n",
      " 16  ProdLine             8075 non-null   object        \n",
      " 17  Dryer                8075 non-null   object        \n",
      "dtypes: datetime64[ns](7), float64(6), int64(1), object(4)\n",
      "memory usage: 1.2+ MB\n"
     ]
    }
   ],
   "source": [
    "df3 = df3_clean\n",
    "df3.info()"
   ]
  },
  {
   "cell_type": "code",
   "execution_count": 102,
   "metadata": {},
   "outputs": [
    {
     "data": {
      "text/html": [
       "<div>\n",
       "<style scoped>\n",
       "    .dataframe tbody tr th:only-of-type {\n",
       "        vertical-align: middle;\n",
       "    }\n",
       "\n",
       "    .dataframe tbody tr th {\n",
       "        vertical-align: top;\n",
       "    }\n",
       "\n",
       "    .dataframe thead th {\n",
       "        text-align: right;\n",
       "    }\n",
       "</style>\n",
       "<table border=\"1\" class=\"dataframe\">\n",
       "  <thead>\n",
       "    <tr style=\"text-align: right;\">\n",
       "      <th></th>\n",
       "      <th>BatchNumber</th>\n",
       "      <th>OrderEntryDate</th>\n",
       "      <th>OrginalScheduleDate</th>\n",
       "      <th>ReleaseDate</th>\n",
       "      <th>ActualStartDate</th>\n",
       "      <th>Drying_EndTime</th>\n",
       "      <th>DryingTime_Hrs</th>\n",
       "      <th>Cleaning_EndTime</th>\n",
       "      <th>CleanTime_Hrs</th>\n",
       "      <th>DownTime_Hrs</th>\n",
       "      <th>Final_EndTime</th>\n",
       "      <th>TotalRunTime_Hrs</th>\n",
       "      <th>CustItem</th>\n",
       "      <th>ProdLine</th>\n",
       "      <th>ActualDryQty</th>\n",
       "      <th>Dryer</th>\n",
       "      <th>ttlBatches</th>\n",
       "      <th>YieldPercentage</th>\n",
       "    </tr>\n",
       "  </thead>\n",
       "  <tbody>\n",
       "    <tr>\n",
       "      <th>491</th>\n",
       "      <td>NJSD320519</td>\n",
       "      <td>2016-06-02 13:23:00</td>\n",
       "      <td>2016-06-02 13:22:00</td>\n",
       "      <td>2016-06-02 15:51:00</td>\n",
       "      <td>2016-06-03 00:47:00</td>\n",
       "      <td>2016-06-08 10:23:00</td>\n",
       "      <td>5.4</td>\n",
       "      <td>2016-06-08 03:11:00</td>\n",
       "      <td>5.1</td>\n",
       "      <td>0.4</td>\n",
       "      <td>2016-06-14 00:47:00</td>\n",
       "      <td>11.0</td>\n",
       "      <td>41254-0000</td>\n",
       "      <td>Flavors</td>\n",
       "      <td>1693.0</td>\n",
       "      <td>Dryer 01</td>\n",
       "      <td>1</td>\n",
       "      <td>93.6</td>\n",
       "    </tr>\n",
       "    <tr>\n",
       "      <th>5614</th>\n",
       "      <td>PASD359699</td>\n",
       "      <td>2019-06-27 15:04:00</td>\n",
       "      <td>2019-07-24 15:02:00</td>\n",
       "      <td>2019-07-23 08:22:00</td>\n",
       "      <td>2019-07-23 23:33:00</td>\n",
       "      <td>2019-08-24 18:45:00</td>\n",
       "      <td>31.8</td>\n",
       "      <td>2019-07-28 13:57:00</td>\n",
       "      <td>4.6</td>\n",
       "      <td>5.9</td>\n",
       "      <td>2019-09-04 06:45:00</td>\n",
       "      <td>42.3</td>\n",
       "      <td>44695-0000</td>\n",
       "      <td>Flavors</td>\n",
       "      <td>6100.0</td>\n",
       "      <td>Dryer 07</td>\n",
       "      <td>8</td>\n",
       "      <td>78.1</td>\n",
       "    </tr>\n",
       "    <tr>\n",
       "      <th>5886</th>\n",
       "      <td>NJSD362360</td>\n",
       "      <td>2019-09-10 09:51:00</td>\n",
       "      <td>2019-10-10 05:48:00</td>\n",
       "      <td>2019-09-17 12:01:00</td>\n",
       "      <td>2019-09-17 23:51:00</td>\n",
       "      <td>2019-09-21 09:27:00</td>\n",
       "      <td>3.4</td>\n",
       "      <td>2019-09-22 07:03:00</td>\n",
       "      <td>4.3</td>\n",
       "      <td>0.4</td>\n",
       "      <td>2019-09-26 02:15:00</td>\n",
       "      <td>8.1</td>\n",
       "      <td>23978-0000</td>\n",
       "      <td>Flavors</td>\n",
       "      <td>896.0</td>\n",
       "      <td>Dryer 01</td>\n",
       "      <td>1</td>\n",
       "      <td>88.6</td>\n",
       "    </tr>\n",
       "    <tr>\n",
       "      <th>5701</th>\n",
       "      <td>NJSD357950</td>\n",
       "      <td>2019-04-22 08:03:00</td>\n",
       "      <td>2019-07-08 08:02:00</td>\n",
       "      <td>2019-08-09 06:22:00</td>\n",
       "      <td>2019-08-09 10:55:00</td>\n",
       "      <td>2019-08-24 15:43:00</td>\n",
       "      <td>15.2</td>\n",
       "      <td>2019-08-14 10:55:00</td>\n",
       "      <td>5.0</td>\n",
       "      <td>1.0</td>\n",
       "      <td>2019-08-30 13:19:00</td>\n",
       "      <td>21.1</td>\n",
       "      <td>43130-0000</td>\n",
       "      <td>Flavors</td>\n",
       "      <td>9160.0</td>\n",
       "      <td>Dryer 02</td>\n",
       "      <td>3</td>\n",
       "      <td>98.0</td>\n",
       "    </tr>\n",
       "    <tr>\n",
       "      <th>563</th>\n",
       "      <td>NJSD319494</td>\n",
       "      <td>2016-05-06 11:08:00</td>\n",
       "      <td>2016-06-24 17:07:00</td>\n",
       "      <td>2016-06-30 08:28:00</td>\n",
       "      <td>2016-07-01 14:58:00</td>\n",
       "      <td>2016-07-06 14:58:00</td>\n",
       "      <td>5.0</td>\n",
       "      <td>2016-07-09 14:58:00</td>\n",
       "      <td>8.0</td>\n",
       "      <td>5.1</td>\n",
       "      <td>2016-07-19 19:46:00</td>\n",
       "      <td>18.2</td>\n",
       "      <td>22745-0000</td>\n",
       "      <td>Flavors</td>\n",
       "      <td>3154.0</td>\n",
       "      <td>Dryer 02</td>\n",
       "      <td>1</td>\n",
       "      <td>93.3</td>\n",
       "    </tr>\n",
       "    <tr>\n",
       "      <th>1407</th>\n",
       "      <td>PASD331595</td>\n",
       "      <td>2017-02-10 17:05:00</td>\n",
       "      <td>2017-03-16 09:03:00</td>\n",
       "      <td>2017-03-16 15:52:00</td>\n",
       "      <td>2017-03-21 03:04:00</td>\n",
       "      <td>2017-03-25 15:04:00</td>\n",
       "      <td>4.5</td>\n",
       "      <td>2017-03-23 10:16:00</td>\n",
       "      <td>2.3</td>\n",
       "      <td>1.0</td>\n",
       "      <td>2017-03-28 22:16:00</td>\n",
       "      <td>7.8</td>\n",
       "      <td>42373-0000</td>\n",
       "      <td>Flavors</td>\n",
       "      <td>1695.0</td>\n",
       "      <td>Dryer 06</td>\n",
       "      <td>1</td>\n",
       "      <td>84.7</td>\n",
       "    </tr>\n",
       "    <tr>\n",
       "      <th>7892</th>\n",
       "      <td>PASD377046</td>\n",
       "      <td>2020-10-14 12:08:00</td>\n",
       "      <td>2020-10-14 12:05:00</td>\n",
       "      <td>2020-11-16 11:12:00</td>\n",
       "      <td>2020-11-18 04:40:00</td>\n",
       "      <td>2020-12-22 21:28:00</td>\n",
       "      <td>34.7</td>\n",
       "      <td>2020-11-24 19:04:00</td>\n",
       "      <td>6.6</td>\n",
       "      <td>6.2</td>\n",
       "      <td>2021-01-04 16:40:00</td>\n",
       "      <td>47.5</td>\n",
       "      <td>48025-0000</td>\n",
       "      <td>Flavors</td>\n",
       "      <td>19900.0</td>\n",
       "      <td>Dryer 10</td>\n",
       "      <td>8</td>\n",
       "      <td>93.0</td>\n",
       "    </tr>\n",
       "    <tr>\n",
       "      <th>6343</th>\n",
       "      <td>PASD366169</td>\n",
       "      <td>2020-01-07 07:39:00</td>\n",
       "      <td>2020-01-10 07:38:00</td>\n",
       "      <td>2020-01-09 21:01:00</td>\n",
       "      <td>2020-01-14 02:28:00</td>\n",
       "      <td>2020-01-28 19:16:00</td>\n",
       "      <td>14.7</td>\n",
       "      <td>2020-01-22 16:52:00</td>\n",
       "      <td>8.6</td>\n",
       "      <td>2.5</td>\n",
       "      <td>2020-02-09 00:04:00</td>\n",
       "      <td>25.9</td>\n",
       "      <td>45230-0000</td>\n",
       "      <td>Flavors</td>\n",
       "      <td>4250.0</td>\n",
       "      <td>Dryer 06</td>\n",
       "      <td>3</td>\n",
       "      <td>91.5</td>\n",
       "    </tr>\n",
       "    <tr>\n",
       "      <th>7723</th>\n",
       "      <td>NJSD376447</td>\n",
       "      <td>2020-10-02 07:56:00</td>\n",
       "      <td>2020-10-08 07:55:00</td>\n",
       "      <td>2020-10-07 08:22:00</td>\n",
       "      <td>2020-10-09 00:39:00</td>\n",
       "      <td>2020-10-17 07:51:00</td>\n",
       "      <td>8.3</td>\n",
       "      <td>2020-10-13 10:15:00</td>\n",
       "      <td>4.4</td>\n",
       "      <td>3.5</td>\n",
       "      <td>2020-10-25 05:27:00</td>\n",
       "      <td>16.2</td>\n",
       "      <td>41935-0000</td>\n",
       "      <td>Flavors</td>\n",
       "      <td>2000.0</td>\n",
       "      <td>Dryer 01</td>\n",
       "      <td>1</td>\n",
       "      <td>93.4</td>\n",
       "    </tr>\n",
       "    <tr>\n",
       "      <th>3291</th>\n",
       "      <td>NJSD348125</td>\n",
       "      <td>2018-05-26 01:26:00</td>\n",
       "      <td>2018-06-10 04:25:00</td>\n",
       "      <td>2018-06-08 13:39:00</td>\n",
       "      <td>2018-06-08 22:20:00</td>\n",
       "      <td>2018-06-12 00:44:00</td>\n",
       "      <td>3.1</td>\n",
       "      <td>2018-06-17 00:44:00</td>\n",
       "      <td>8.1</td>\n",
       "      <td>1.0</td>\n",
       "      <td>2018-06-21 03:08:00</td>\n",
       "      <td>12.2</td>\n",
       "      <td>44141-0000</td>\n",
       "      <td>Flavors</td>\n",
       "      <td>1973.9</td>\n",
       "      <td>Dryer 02</td>\n",
       "      <td>1</td>\n",
       "      <td>93.9</td>\n",
       "    </tr>\n",
       "  </tbody>\n",
       "</table>\n",
       "</div>"
      ],
      "text/plain": [
       "     BatchNumber      OrderEntryDate OrginalScheduleDate         ReleaseDate  \\\n",
       "491   NJSD320519 2016-06-02 13:23:00 2016-06-02 13:22:00 2016-06-02 15:51:00   \n",
       "5614  PASD359699 2019-06-27 15:04:00 2019-07-24 15:02:00 2019-07-23 08:22:00   \n",
       "5886  NJSD362360 2019-09-10 09:51:00 2019-10-10 05:48:00 2019-09-17 12:01:00   \n",
       "5701  NJSD357950 2019-04-22 08:03:00 2019-07-08 08:02:00 2019-08-09 06:22:00   \n",
       "563   NJSD319494 2016-05-06 11:08:00 2016-06-24 17:07:00 2016-06-30 08:28:00   \n",
       "1407  PASD331595 2017-02-10 17:05:00 2017-03-16 09:03:00 2017-03-16 15:52:00   \n",
       "7892  PASD377046 2020-10-14 12:08:00 2020-10-14 12:05:00 2020-11-16 11:12:00   \n",
       "6343  PASD366169 2020-01-07 07:39:00 2020-01-10 07:38:00 2020-01-09 21:01:00   \n",
       "7723  NJSD376447 2020-10-02 07:56:00 2020-10-08 07:55:00 2020-10-07 08:22:00   \n",
       "3291  NJSD348125 2018-05-26 01:26:00 2018-06-10 04:25:00 2018-06-08 13:39:00   \n",
       "\n",
       "         ActualStartDate      Drying_EndTime  DryingTime_Hrs  \\\n",
       "491  2016-06-03 00:47:00 2016-06-08 10:23:00             5.4   \n",
       "5614 2019-07-23 23:33:00 2019-08-24 18:45:00            31.8   \n",
       "5886 2019-09-17 23:51:00 2019-09-21 09:27:00             3.4   \n",
       "5701 2019-08-09 10:55:00 2019-08-24 15:43:00            15.2   \n",
       "563  2016-07-01 14:58:00 2016-07-06 14:58:00             5.0   \n",
       "1407 2017-03-21 03:04:00 2017-03-25 15:04:00             4.5   \n",
       "7892 2020-11-18 04:40:00 2020-12-22 21:28:00            34.7   \n",
       "6343 2020-01-14 02:28:00 2020-01-28 19:16:00            14.7   \n",
       "7723 2020-10-09 00:39:00 2020-10-17 07:51:00             8.3   \n",
       "3291 2018-06-08 22:20:00 2018-06-12 00:44:00             3.1   \n",
       "\n",
       "        Cleaning_EndTime  CleanTime_Hrs  DownTime_Hrs       Final_EndTime  \\\n",
       "491  2016-06-08 03:11:00            5.1           0.4 2016-06-14 00:47:00   \n",
       "5614 2019-07-28 13:57:00            4.6           5.9 2019-09-04 06:45:00   \n",
       "5886 2019-09-22 07:03:00            4.3           0.4 2019-09-26 02:15:00   \n",
       "5701 2019-08-14 10:55:00            5.0           1.0 2019-08-30 13:19:00   \n",
       "563  2016-07-09 14:58:00            8.0           5.1 2016-07-19 19:46:00   \n",
       "1407 2017-03-23 10:16:00            2.3           1.0 2017-03-28 22:16:00   \n",
       "7892 2020-11-24 19:04:00            6.6           6.2 2021-01-04 16:40:00   \n",
       "6343 2020-01-22 16:52:00            8.6           2.5 2020-02-09 00:04:00   \n",
       "7723 2020-10-13 10:15:00            4.4           3.5 2020-10-25 05:27:00   \n",
       "3291 2018-06-17 00:44:00            8.1           1.0 2018-06-21 03:08:00   \n",
       "\n",
       "      TotalRunTime_Hrs    CustItem ProdLine  ActualDryQty     Dryer  \\\n",
       "491               11.0  41254-0000  Flavors        1693.0  Dryer 01   \n",
       "5614              42.3  44695-0000  Flavors        6100.0  Dryer 07   \n",
       "5886               8.1  23978-0000  Flavors         896.0  Dryer 01   \n",
       "5701              21.1  43130-0000  Flavors        9160.0  Dryer 02   \n",
       "563               18.2  22745-0000  Flavors        3154.0  Dryer 02   \n",
       "1407               7.8  42373-0000  Flavors        1695.0  Dryer 06   \n",
       "7892              47.5  48025-0000  Flavors       19900.0  Dryer 10   \n",
       "6343              25.9  45230-0000  Flavors        4250.0  Dryer 06   \n",
       "7723              16.2  41935-0000  Flavors        2000.0  Dryer 01   \n",
       "3291              12.2  44141-0000  Flavors        1973.9  Dryer 02   \n",
       "\n",
       "      ttlBatches  YieldPercentage  \n",
       "491            1             93.6  \n",
       "5614           8             78.1  \n",
       "5886           1             88.6  \n",
       "5701           3             98.0  \n",
       "563            1             93.3  \n",
       "1407           1             84.7  \n",
       "7892           8             93.0  \n",
       "6343           3             91.5  \n",
       "7723           1             93.4  \n",
       "3291           1             93.9  "
      ]
     },
     "execution_count": 102,
     "metadata": {},
     "output_type": "execute_result"
    }
   ],
   "source": [
    "df3 = df3[['BatchNumber', 'OrderEntryDate', 'OrginalScheduleDate', 'ReleaseDate', 'ActualStartDate',\n",
    "           'Drying_EndTime', 'DryingTime_Hrs', 'Cleaning_EndTime', 'CleanTime_Hrs', 'DownTime_Hrs', 'Final_EndTime', \n",
    "           'TotalRunTime_Hrs', 'CustItem', 'ProdLine', 'ActualDryQty', 'Dryer', 'ttlBatches', \n",
    "           'YieldPercentage']]\n",
    "df3.sample(10)"
   ]
  },
  {
   "cell_type": "code",
   "execution_count": 105,
   "metadata": {},
   "outputs": [
    {
     "name": "stdout",
     "output_type": "stream",
     "text": [
      "<class 'pandas.core.frame.DataFrame'>\n",
      "Int64Index: 8075 entries, 0 to 8074\n",
      "Data columns (total 18 columns):\n",
      " #   Column               Non-Null Count  Dtype         \n",
      "---  ------               --------------  -----         \n",
      " 0   BatchNumber          8075 non-null   object        \n",
      " 1   OrderEntryDate       8075 non-null   datetime64[ns]\n",
      " 2   OrginalScheduleDate  8075 non-null   datetime64[ns]\n",
      " 3   ReleaseDate          8075 non-null   datetime64[ns]\n",
      " 4   ActualStartDate      8075 non-null   datetime64[ns]\n",
      " 5   Drying_EndTime       8075 non-null   datetime64[ns]\n",
      " 6   DryingTime_Hrs       8075 non-null   float64       \n",
      " 7   Cleaning_EndTime     8075 non-null   datetime64[ns]\n",
      " 8   CleanTime_Hrs        8075 non-null   float64       \n",
      " 9   DownTime_Hrs         8075 non-null   float64       \n",
      " 10  Final_EndTime        8075 non-null   datetime64[ns]\n",
      " 11  TotalRunTime_Hrs     8075 non-null   float64       \n",
      " 12  CustItem             8075 non-null   object        \n",
      " 13  ProdLine             8075 non-null   object        \n",
      " 14  ActualDryQty         8075 non-null   float64       \n",
      " 15  Dryer                8075 non-null   object        \n",
      " 16  ttlBatches           8075 non-null   int64         \n",
      " 17  YieldPercentage      8075 non-null   float64       \n",
      "dtypes: datetime64[ns](7), float64(6), int64(1), object(4)\n",
      "memory usage: 1.2+ MB\n"
     ]
    }
   ],
   "source": [
    "df2 = df3"
   ]
  },
  {
   "cell_type": "code",
   "execution_count": 106,
   "metadata": {},
   "outputs": [],
   "source": [
    "import numpy as np"
   ]
  },
  {
   "cell_type": "code",
   "execution_count": 107,
   "metadata": {},
   "outputs": [],
   "source": [
    "for w in ['TotalRunTime_Hrs']:\n",
    "    q75,q25 = np.percentile(df2.loc[:,w],[75,25])\n",
    "    intr_qr = q75-q25\n",
    " \n",
    "    max = q75+(1.5*intr_qr)\n",
    "    min = q25-(1.5*intr_qr)\n",
    " \n",
    "    df2.loc[df2[w] < min,w] = np.nan\n",
    "    df2.loc[df2[w] > max,w] = np.nan\n",
    "\n",
    "for x in ['DryingTime_Hrs']:\n",
    "    q75,q25 = np.percentile(df2.loc[:,x],[75,25])\n",
    "    intr_qr = q75-q25\n",
    " \n",
    "    max = q75+(1.5*intr_qr)\n",
    "    min = q25-(1.5*intr_qr)\n",
    " \n",
    "    df2.loc[df2[x] < min,x] = np.nan\n",
    "    df2.loc[df2[x] > max,x] = np.nan\n",
    "    \n",
    "for y in ['CleanTime_Hrs']:\n",
    "    q75,q25 = np.percentile(df2.loc[:,y],[75,25])\n",
    "    intr_qr = q75-q25\n",
    " \n",
    "    max = q75+(1.5*intr_qr)\n",
    "    min = q25-(1.5*intr_qr)\n",
    " \n",
    "    df2.loc[df2[y] < min,y] = np.nan\n",
    "    df2.loc[df2[y] > max,y] = np.nan\n",
    "    \n",
    "for z in ['DownTime_Hrs']:\n",
    "    q75,q25 = np.percentile(df2.loc[:,z],[75,25])\n",
    "    intr_qr = q75-q25\n",
    " \n",
    "    max = q75+(1.5*intr_qr)\n",
    "    min = q25-(1.5*intr_qr)\n",
    " \n",
    "    df2.loc[df2[z] < min,z] = np.nan\n",
    "    df2.loc[df2[z] > max,z] = np.nan"
   ]
  },
  {
   "cell_type": "code",
   "execution_count": 108,
   "metadata": {},
   "outputs": [
    {
     "data": {
      "text/plain": [
       "BatchNumber              0\n",
       "OrderEntryDate           0\n",
       "OrginalScheduleDate      0\n",
       "ReleaseDate              0\n",
       "ActualStartDate          0\n",
       "Drying_EndTime           0\n",
       "DryingTime_Hrs         360\n",
       "Cleaning_EndTime         0\n",
       "CleanTime_Hrs           98\n",
       "DownTime_Hrs           710\n",
       "Final_EndTime            0\n",
       "TotalRunTime_Hrs       385\n",
       "CustItem                 0\n",
       "ProdLine                 0\n",
       "ActualDryQty             0\n",
       "Dryer                    0\n",
       "ttlBatches               0\n",
       "YieldPercentage          0\n",
       "dtype: int64"
      ]
     },
     "execution_count": 108,
     "metadata": {},
     "output_type": "execute_result"
    }
   ],
   "source": [
    "df2.isnull().sum()"
   ]
  },
  {
   "cell_type": "code",
   "execution_count": 109,
   "metadata": {},
   "outputs": [],
   "source": [
    "df2 = df2.dropna(axis=0)"
   ]
  },
  {
   "cell_type": "code",
   "execution_count": 110,
   "metadata": {},
   "outputs": [
    {
     "data": {
      "text/plain": [
       "(7065, 18)"
      ]
     },
     "execution_count": 110,
     "metadata": {},
     "output_type": "execute_result"
    }
   ],
   "source": [
    "df2.shape"
   ]
  },
  {
   "cell_type": "code",
   "execution_count": 111,
   "metadata": {},
   "outputs": [],
   "source": [
    "from numpy.random import seed\n",
    "from scipy.stats import spearmanr\n",
    "\n",
    "seed(26195)"
   ]
  },
  {
   "cell_type": "code",
   "execution_count": 112,
   "metadata": {},
   "outputs": [
    {
     "name": "stdout",
     "output_type": "stream",
     "text": [
      "Spearmans correlation [Dryer vs Clean Time]: 0.035\n"
     ]
    }
   ],
   "source": [
    "corr, _ = spearmanr(df2['Dryer'], df2['CleanTime_Hrs'])\n",
    "print('Spearmans correlation [Dryer vs Clean Time]: %.3f' % corr)"
   ]
  },
  {
   "cell_type": "code",
   "execution_count": 113,
   "metadata": {},
   "outputs": [
    {
     "name": "stdout",
     "output_type": "stream",
     "text": [
      "Spearmans correlation [Dryer vs Drying Time]: -0.004\n"
     ]
    }
   ],
   "source": [
    "corr, _ = spearmanr(df2['Dryer'], df2['DryingTime_Hrs'])\n",
    "print('Spearmans correlation [Dryer vs Drying Time]: %.3f' % corr)"
   ]
  },
  {
   "cell_type": "code",
   "execution_count": 114,
   "metadata": {},
   "outputs": [
    {
     "name": "stdout",
     "output_type": "stream",
     "text": [
      "Spearmans correlation [Dryer vs Down Time]: -0.253\n"
     ]
    }
   ],
   "source": [
    "corr, _ = spearmanr(df2['Dryer'], df2['DownTime_Hrs'])\n",
    "print('Spearmans correlation [Dryer vs Down Time]: %.3f' % corr)"
   ]
  },
  {
   "cell_type": "code",
   "execution_count": 115,
   "metadata": {},
   "outputs": [
    {
     "name": "stdout",
     "output_type": "stream",
     "text": [
      "Spearmans correlation [Dryer vs Total Run Time]: -0.011\n"
     ]
    }
   ],
   "source": [
    "corr, _ = spearmanr(df2['Dryer'], df2['TotalRunTime_Hrs'])\n",
    "print('Spearmans correlation [Dryer vs Total Run Time]: %.3f' % corr)"
   ]
  },
  {
   "cell_type": "code",
   "execution_count": null,
   "metadata": {},
   "outputs": [],
   "source": [
    "df2.info()"
   ]
  },
  {
   "cell_type": "code",
   "execution_count": null,
   "metadata": {},
   "outputs": [],
   "source": []
  },
  {
   "cell_type": "markdown",
   "metadata": {},
   "source": [
    "Further notes:\n",
    "* Downtime as y variable\n",
    "* check efficiency through clustering based on ActualDryQty. [find relevant attributes for efficiency] [Rate = ActualDryQty / TotalRunTime]"
   ]
  },
  {
   "cell_type": "code",
   "execution_count": null,
   "metadata": {},
   "outputs": [],
   "source": []
  },
  {
   "cell_type": "code",
   "execution_count": null,
   "metadata": {},
   "outputs": [],
   "source": []
  }
 ],
 "metadata": {
  "kernelspec": {
   "display_name": "Python 3",
   "language": "python",
   "name": "python3"
  },
  "language_info": {
   "codemirror_mode": {
    "name": "ipython",
    "version": 3
   },
   "file_extension": ".py",
   "mimetype": "text/x-python",
   "name": "python",
   "nbconvert_exporter": "python",
   "pygments_lexer": "ipython3",
   "version": "3.8.5"
  }
 },
 "nbformat": 4,
 "nbformat_minor": 4
}

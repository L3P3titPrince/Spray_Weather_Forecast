{
 "cells": [
  {
   "cell_type": "code",
   "execution_count": 2,
   "metadata": {},
   "outputs": [],
   "source": [
    "from IPython.display import Image"
   ]
  },
  {
   "cell_type": "markdown",
   "metadata": {},
   "source": [
    "# <a id=\"1.Summary\"> 1.Summary</a>"
   ]
  },
  {
   "cell_type": "markdown",
   "metadata": {},
   "source": [
    "I have attached a spreadsheet containing five years of production and weather data for our Middlesex, NJ and Bethlehem, PA facilities. When looking at the production data if the “BatchNumber” listed starts with PASD it was done in Bethlehem and if it starts with NJSD it was done in Middlesex. I included some info that we have on flowability and hygroscopicity but it’s not empirical data; mostly a judgement call made for “reasons”. Weather data was downloaded from openweathermap.org, temperatures are in °F. Let me know if you need any clarification on the data provided.\n"
   ]
  },
  {
   "cell_type": "markdown",
   "metadata": {},
   "source": [
    "More specifically, given the dependence of their drying products and services on weather\n",
    "conditions, the company is interested in using weather data to forecast the processing times for\n",
    "different batches of SKUs. \n",
    "\n",
    "The team is expected to:\n",
    "\n",
    "• Develop a database with manufacturing data that will be used to develop statistical\n",
    "models\n",
    "\n",
    "• Develop, manage and maintain statistical models, including but not limited to:\n",
    "\n",
    "o Forecasting of processing times based on weather data\n",
    "\n",
    "o Forecasting downtime and preventive maintenance issues"
   ]
  },
  {
   "cell_type": "markdown",
   "metadata": {},
   "source": [
    "<br>"
   ]
  },
  {
   "cell_type": "markdown",
   "metadata": {},
   "source": [
    "<br>"
   ]
  },
  {
   "cell_type": "markdown",
   "metadata": {},
   "source": [
    "<br>"
   ]
  },
  {
   "cell_type": "markdown",
   "metadata": {},
   "source": [
    "# <a id=\"2.Table of Contents\">2.Tabole of Contents</a>\n",
    "<a href=\"#1.Summary\">Click this Link back to Top</a>"
   ]
  },
  {
   "cell_type": "markdown",
   "metadata": {},
   "source": [
    "<ol>\n",
    "    <li><a href=\"#1.Summary\">Summary</a></li>\n",
    "    <li><a href=\"#2.Tabole of Contents\">Tabole of Contents</a></li>\n",
    "    <li><a href=\"#3.Preprocess\">Preprocess</a>\n",
    "    <ul>\n",
    "        <li><a href=\"#3.1 Hyperparameter\">3.1 Hyperparameter</a></li>\n",
    "        <li><a href=\"#3.2 Import Data\">3.2 Import Data</a></li>\n",
    "        <li><a href=\"#3.3 EDA\">3.3 EDA</a></li> \n",
    "        <li><a href=\"#3.4 Preprocess\">3.4 Preprocess</a></li> \n",
    "        <li><a href=\"#3.5 Merge Data\">3.5 Merge Data</a></li>    \n",
    "    </ul>\n",
    "    </li>\n",
    "    <li><a href=\"#4.Others\">Others</a>\n",
    "    <ul>\n",
    "        <li><del><a href=\"#TFIDF\">4.1 TFIDF</a></del></li>\n",
    "        <li><del><a href=\"#Embedding\">4.2 Embedding</a></del></li> \n",
    "    </ul>\n",
    "    </li>\n",
    "    <li><del><a href=\"#5.Classify\">Classify</a></del></li>\n",
    "    <li><del><a href=\"#6.Models\">Models</del></a>\n",
    "    <ul>\n",
    "        <li><a href=\"#6.1 Model1\">6.1 Model1</a></li>\n",
    "        <li><a href=\"#6.2 Model2\">6.2 Model2</a></li>\n",
    "    </ul>\n",
    "    </li>\n",
    "    <li><a href=\"#7.Main Function\">Main Function</a></li>\n",
    "    <li><a href=\"#9.Test Code\">Test Code</a></li>\n",
    "</ol>"
   ]
  },
  {
   "cell_type": "markdown",
   "metadata": {},
   "source": [
    "<br>"
   ]
  },
  {
   "cell_type": "markdown",
   "metadata": {},
   "source": [
    "<br>"
   ]
  },
  {
   "cell_type": "markdown",
   "metadata": {},
   "source": [
    "<br>"
   ]
  },
  {
   "cell_type": "markdown",
   "metadata": {},
   "source": [
    "# <a id=\"3.Preprocess\">3.Preprocess</a>\n",
    "<a href=\"#2.Table of Contents\">Click this Link back to Top</a>"
   ]
  },
  {
   "cell_type": "markdown",
   "metadata": {},
   "source": [
    "1. transform data column into identical format\n",
    "2. split data into two station part: NJ and PA\n",
    "3. For each hour data, we have multi rows if there are two differnet weather condition(Snow / Frog)"
   ]
  },
  {
   "cell_type": "markdown",
   "metadata": {},
   "source": [
    "## <a id=\"3.1 Hyperparameter\">3.1 Hyperparameter</a>\n",
    "<a href=\"#2.Table of Contents\">Click this Link back to Top</a>"
   ]
  },
  {
   "cell_type": "code",
   "execution_count": 950,
   "metadata": {},
   "outputs": [],
   "source": [
    "class HyperParamters(object):\n",
    "    \"\"\"\n",
    "    This class will be used to transmit hyperparameters between class.parameters\n",
    "    Most of class can inherit this class and its hyperparameters\n",
    "\n",
    "    ########################__Rules__##################################\n",
    "    class file name = class + _ + number of sequence + function name\n",
    "    class name = ClassType (Camel-Case)\n",
    "    function name = function_name\n",
    "    variable name = attribute_type_describe (Hungarian notation) # sometime I don't use attribute\n",
    "    constant = UPPERCASE\n",
    "    ###########################################################################\n",
    "\n",
    "\n",
    "    ########################__Notation__############################################\n",
    "    1. We might need split data into two place NJ and PA, but we also can try to merge two location into one,\n",
    "    because they are not far away\n",
    "    2. clean data, transform date format, join by date, Coeffience anaylsis\n",
    "    3. Check kaggle format\n",
    "    4. Check journals\n",
    "    5. Traditional way is to find relationship between total running time with other weather features\n",
    "    6. But we need to consider equipment service lift or depreciation will affect running time\n",
    "    7. Sometimes, we don't use running time itself, we can use the statiscal version of this data\n",
    "    For example, runing time - avg , variance of each running time data point\n",
    "    8.\n",
    "    #############################################################################\n",
    "\n",
    "    1.change import data path\n",
    "\n",
    "\n",
    "    There is a little space in class_34_proprocess, we elimiate some error record by mannully,\n",
    "    This is not general proceedure, we can comments that part of code any time\n",
    "    \"\"\"\n",
    "\n",
    "    def __init__(self):\n",
    "        \"\"\":arg\n",
    "\n",
    "\n",
    "        \"\"\"\n",
    "        self.TEST = 1\n",
    "\n",
    "        # you can change this root path in this class and import_data() function will search from this root dictionary\n",
    "        self.ROOTPATH = 'D:\\\\OneDrive\\\\03_Academic\\\\23_Github\\\\20_Stevens\\\\66-MGT-809-A\\\\03_data'\n",
    "\n",
    "\n",
    "        # assign the column will be dropped in production table\n",
    "        # we believe these columns are objective result or not useful features\n",
    "        # ['Bulk Density'] is too objective\n",
    "        # ['Moisture'] is decided by custome requirement, that might affect drying time\n",
    "        # ['Hygroscopicity'] imbalance data distribution\n",
    "        self.PRODUCT_DROP = ['Bulk Density', 'Moisture','Flow', 'Hygroscopicity']\n",
    "\n",
    "\n",
    "        # these are the un-related columns in weather data\n",
    "        # ['timezone'] will change from -18000 to -14400 because winter time to summer time, vsia. We can delete it\n",
    "        self.WEATHER_DROP = ['dt_iso', 'timezone', 'city_name', 'lat', 'lon']\n",
    "        # These columns are non-numerical data, if we need use these columns, we can add them back,\n",
    "        # for now, I will delete them in this hyperparameters\n",
    "        # self.WEATHER_DROP = ['dt_iso', 'timezone', 'city_name', 'lat', 'lon',\n",
    "        #                      'weather_id', 'weather_main', 'weather_description', 'weather_icon']\n",
    "\n",
    "\n",
    "        # sometimes operater repack powder back to dryer again because it's not meet particular size requirement\n",
    "        # we use z-score as our defination, If we set threshold as 3, the yeild great than 130% will be eliminate\n",
    "        # we also have a np.abs() for smaller outliers, which also affected by this threshold\n",
    "        # when we set our threshold to 3, we eliminate the percentage great then 130%,\n",
    "        # set to 1.5, then delete precentage greater than 111% (106 rows was dropped)\n",
    "        # 3 - 130% /  1.5 - 111%   / 1 - 104.6%\n",
    "        self.YEILD_THRESHOLD = 1.5\n",
    "        # ['Rate'] is our target output, we more concens this colunm's statistcal results.\n",
    "        # Typically rate can be as high as possible, but sometimes, the extramly high rate is operation error\n",
    "        # We will try to identify ourlier by z-socre and Interquartile Range method\n",
    "        # If we shrink our threshold to a small number, we will delete more outliers. But they might not be delete so early\n",
    "        # For example, in index ['821', '2983','2999'] after manually double chek, they are operation error.\n",
    "        # We can't do this to every ['Rate'] outliers. So we can do this drop process only for statiscal visulzation\n",
    "        self.IQR_THRESHOLD = 2\n",
    "\n",
    "        # using two sigma and three sigma to delete those extramlly higher ['Rate']\n",
    "        # two sigma will CDF = 95%, for each on side, it will be 2.5%\n",
    "        self.TWO_SIGMA = 2.5\n",
    "        # if we don't want delete less rows, we can use three sigma, it will only delete approcimate 30 rows.\n",
    "        # self.THREE_SIGMA = 0.3\n"
   ]
  },
  {
   "cell_type": "markdown",
   "metadata": {},
   "source": [
    "<br>"
   ]
  },
  {
   "cell_type": "markdown",
   "metadata": {},
   "source": [
    "<br>"
   ]
  },
  {
   "cell_type": "markdown",
   "metadata": {},
   "source": [
    "<br>"
   ]
  },
  {
   "cell_type": "markdown",
   "metadata": {},
   "source": [
    "## <a id=\"3.2 Import Data\">3.2 Import Data</a>\n",
    "<a href=\"#2.Table of Contents\">Click this Link back to Top</a>"
   ]
  },
  {
   "cell_type": "code",
   "execution_count": 5,
   "metadata": {},
   "outputs": [],
   "source": [
    "# from class_31_hyperparameters import HyperParamters\n",
    "\n",
    "# read xlxs file\n",
    "import pandas as pd\n",
    "# record running data\n",
    "from time import time\n",
    "# join directory path\n",
    "import os\n",
    "\n",
    "\n",
    "\n",
    "\n",
    "class ImportData(HyperParamters):\n",
    "    \"\"\"\n",
    "    Contain two method: import data and convert time\n",
    "\n",
    "\n",
    "    \"\"\"\n",
    "    def __init__(self):\n",
    "        # inhereit from HyperParameter\n",
    "        HyperParamters.__init__(self)\n",
    "\n",
    "\n",
    "    def import_data(self):\n",
    "        \"\"\":arg\n",
    "\n",
    "        Returns:\n",
    "        ----------\n",
    "        df_product:DataFrame\n",
    "            real production data including running time\n",
    "        df_nj_weather:DataFrame\n",
    "            Middlesex, NJ factory weather data from openweather.org\n",
    "        df_pa_weather:DataFrame\n",
    "\n",
    "\n",
    "        \"\"\"\n",
    "        print(\"*\" * 50, \"Start import_data()\", \"*\" * 50)\n",
    "        start_time = time()\n",
    "\n",
    "        # create excel full paht directory\n",
    "        excel_product = os.path.join(self.ROOTPATH, '019_20160101_20201231_ProductionData.xlsx')\n",
    "        # first sheet is real production data\n",
    "        df_product = pd.read_excel(excel_product, sheet_name = '20160101_20201231_ProductionDat')\n",
    "        # second sheet is NJ weather data\n",
    "        df_nj_weather = pd.read_excel(excel_product, sheet_name = 'MiddlesexWeather')\n",
    "        # third sheet is PA weather data\n",
    "        df_pa_weather = pd.read_excel(excel_product, sheet_name = 'BethlehemWeather')\n",
    "        # this new data missing rate, so we have to import old data and merge ['Rate'] to our new data\n",
    "        old_product = os.path.join(self.ROOTPATH, '017_20160101_20201231_ProductionData.xlsx')\n",
    "        df_old = pd.read_excel(old_product, sheet_name = '20160101_20201231_ProductionDat')\n",
    "        df_product['Rate'] = df_old['Rate']\n",
    "\n",
    "        # save\n",
    "        df_product.to_csv('03_data/20_production.csv',index=False)\n",
    "        df_nj_weather.to_csv('03_data/21_nj_weather.csv', index=False)\n",
    "        df_pa_weather.to_csv('03_data/22_pa_weather.csv', index=False)\n",
    "\n",
    "        cost_time = round((time() - start_time), 4)\n",
    "        print(\"*\" * 40, \"End import_data() with {} second\".format(cost_time), \"*\" * 40, end='\\n\\n')\n",
    "\n",
    "        return df_product, df_nj_weather, df_pa_weather\n",
    "\n",
    "    def read_csv(self):\n",
    "        \"\"\"\":arg\n",
    "        Because reading excel is too slow, so we use this function to read csv that processed and saved by\n",
    "        import_data() function.\n",
    "        \"\"\"\n",
    "        df_product = pd.read_csv('03_data/20_production.csv')\n",
    "        df_nj_weather = pd.read_csv('03_data/21_nj_weather.csv')\n",
    "        df_pa_weather = pd.read_csv('03_data/22_pa_weather.csv')\n",
    "\n",
    "\n",
    "        return df_product, df_nj_weather, df_pa_weather\n",
    "\n"
   ]
  },
  {
   "cell_type": "markdown",
   "metadata": {},
   "source": [
    "<br>"
   ]
  },
  {
   "cell_type": "markdown",
   "metadata": {},
   "source": [
    "<br>"
   ]
  },
  {
   "cell_type": "markdown",
   "metadata": {},
   "source": [
    "<br>"
   ]
  },
  {
   "cell_type": "markdown",
   "metadata": {},
   "source": [
    "## <a id=\"3.3 EDA\">3.3 EDA</a>\n",
    "<a href=\"#2.Table of Contents\">Click this Link back to Top</a>"
   ]
  },
  {
   "cell_type": "code",
   "execution_count": 6,
   "metadata": {},
   "outputs": [],
   "source": [
    "# from class_31_hyperparameters import HyperParamters\n",
    "\n",
    "# used for visulazation\n",
    "import matplotlib.pyplot as plt\n",
    "import pandas as pd\n",
    "import numpy as np\n",
    "\n",
    "class EDA(HyperParamters):\n",
    "    \"\"\":arg\n",
    "    \"\"\"\n",
    "    def __init__(self):\n",
    "        \"\"\":arg\n",
    "        \"\"\"\n",
    "        HyperParamters.__init__(self)\n",
    "\n",
    "    def missing_plot(self, df: pd.DataFrame):\n",
    "        \"\"\":arg\n",
    "\n",
    "        Used for missing data plot for count plot and percenatage plot\n",
    "        \"\"\"\n",
    "        # not all columns contain missing value, we only plot the colunms have missing value\n",
    "        # checking is there any missing value in this df and find threir column names and assign to col_missing_value\n",
    "        col_missing_value = list(df.columns[df.isnull().any()])\n",
    "        # count the missing value for each column\n",
    "        df[col_missing_value].isnull().sum()\n",
    "        # to hold the columns names\n",
    "        list_labels=[]\n",
    "        # to hold the count of missing values for each variable\n",
    "        list_value_count=[]\n",
    "        # to hold the percentage of missing values for each variable\n",
    "        list_percent_count=[]\n",
    "        #\n",
    "        for col in col_missing_value:\n",
    "            # add the column names into this list\n",
    "            list_labels.append(col)\n",
    "            # caculate each column missing value count and append to list\n",
    "            list_value_count.append(df[col].isnull().sum())\n",
    "            # df.shape[0] will give totoal row count\n",
    "            list_percent_count.append(df[col].isnull().sum()/df.shape[0])\n",
    "\n",
    "\n",
    "        # create two subplot with 1 row two columns\n",
    "        fig, (ax1, ax2) = plt.subplots(1,2)\n",
    "        # we use ax.barh() create horizontal bar chart, bar width is the count number of missing value\n",
    "        ax1.barh(y = np.arange(len(list_labels)),width = np.array(list_value_count), height=0.5, color='blue')\n",
    "        # set lenght of y labels\n",
    "        ax1.set_yticks(np.arange(len(list_labels)))\n",
    "        # set y labels\n",
    "        ax1.set_yticklabels(list_labels, rotation='horizontal')\n",
    "        ax1.set_xlabel('Count of missing values')\n",
    "        ax1.set_title(\"Columns with missing value count\")\n",
    "\n",
    "        ax2.barh(y=np.arange(len(list_labels)), width = np.array(list_percent_count), height=0.5, color='red')\n",
    "        ax2.set_yticks(np.arange(len(list_labels)))\n",
    "        ax2.set_yticklabels(list_labels, rotation='horizontal')\n",
    "        ax2.set_xlabel(\"Percentage of missing values\")\n",
    "        ax2.set_title(\"Columns with missing values\")\n",
    "\n",
    "        plt.show()\n",
    "        # print(col_missing_value, type(col_missing_value))\n",
    "\n",
    "        return col_missing_value\n"
   ]
  },
  {
   "cell_type": "markdown",
   "metadata": {},
   "source": [
    "<br>"
   ]
  },
  {
   "cell_type": "markdown",
   "metadata": {},
   "source": [
    "<br>"
   ]
  },
  {
   "cell_type": "markdown",
   "metadata": {},
   "source": [
    "<br>"
   ]
  },
  {
   "cell_type": "markdown",
   "metadata": {},
   "source": [
    "## <a id=\"3.4 Preprocess\">3.4 Preprocess</a>\n",
    "<a href=\"#2.Table of Contents\">Click this Link back to Top</a>"
   ]
  },
  {
   "cell_type": "code",
   "execution_count": 1049,
   "metadata": {},
   "outputs": [],
   "source": [
    "# from class_31_hyperparameters import HyperParamters\n",
    "# from class_33_eda import EDA\n",
    "\n",
    "# using for timestap convert\n",
    "import pandas as pd\n",
    "import numpy as np\n",
    "from scipy import stats\n",
    "# recording running time in each function\n",
    "from time import time\n",
    "\n",
    "\n",
    "\n",
    "class PreProcess(HyperParamters):\n",
    "    \"\"\":arg\n",
    "    Actually, not only production data need to be clean.\n",
    "\n",
    "    tz_convert(): used to convert string to timestamp format\n",
    "    \"\"\"\n",
    "\n",
    "    def __init__(self):\n",
    "        \"\"\":arg\n",
    "        Inheriret from HyperParamters\n",
    "        \"\"\"\n",
    "        HyperParamters.__init__(self)\n",
    "\n",
    "\n",
    "    def tz_convert(self, series):\n",
    "        \"\"\":arg\n",
    "        Args:\n",
    "        ------\n",
    "        serise:DataFrame.series\n",
    "            each element from DataFrame columns\n",
    "\n",
    "        Returns:\n",
    "        -----------\n",
    "        series_est:timestamp\n",
    "\n",
    "        \"\"\"\n",
    "        series_est = pd.Timestamp(series, unit='s', tz='America/New_York')\n",
    "\n",
    "        return series_est\n",
    "\n",
    "    def tz_y_m_d(self, ts):\n",
    "        \"\"\":arg\n",
    "        We use this function to convert Timestamp to year/quarter/month/day\n",
    "\n",
    "        Args:\n",
    "        ------\n",
    "        ts:pd.Timestamp\n",
    "            ['dt_est']\n",
    "\n",
    "        Returns:\n",
    "        -------\n",
    "        year:int\n",
    "        quarter:int\n",
    "        month:int\n",
    "        day:int\n",
    "        \"\"\"\n",
    "        year = ts.year\n",
    "        quarter = ts.quarter\n",
    "        month = ts.month\n",
    "        day = ts.day\n",
    "        hour = ts.hour\n",
    "\n",
    "        return year, quarter, month, day, hour\n",
    "\n",
    "\n",
    "    def round_to_hour(self,timestamp):\n",
    "        \"\"\"\n",
    "        We notice df_product['StartDat'] is string type not DataFrame.timestamp.\n",
    "        And weather data are seperated by hours, so we need transform string time data round to nearest hour\n",
    "\n",
    "        Args:\n",
    "        --------\n",
    "        timestamp\n",
    "        \"\"\"\n",
    "        # due to excel convert to csv, all format are lost and original timestamp has transformed to 'string'\n",
    "        # so we add a duplicate process to convert 'string' to 'timestamp'\n",
    "        timestamp = pd.Timestamp(timestamp)\n",
    "        # because of summer time and winter time rules, some UTC date can't conver to EST\n",
    "        try:\n",
    "            date_hour = timestamp.round(freq='H').tz_localize(tz='America/New_York', nonexistent='shift_forward')\n",
    "        except:\n",
    "            print('This data cant convert correctly {}'.format(timestamp.round(freq='H')))\n",
    "            date_hour = timestamp.round(freq='H').tz_localize(tz='America/New_York',\n",
    "                                                              ambiguous='NaT',\n",
    "                                                              nonexistent='shift_forward')\n",
    "            print('This date replaced by {}'.format('NaT'))\n",
    "\n",
    "        return date_hour\n",
    "\n",
    "\n",
    "    def z_outlier(self, df, str_col, z_threshold  = 3, abs=False):\n",
    "        \"\"\"\n",
    "        We use z-score to delete outliers in our data. for example ['YieldPrecentage'] and ['Rate']\n",
    "        When ads=True, it will delete smallest and biggest outliers.\n",
    "        When ads=False, it will only delete outliers ['YieldPercentage']> 130%, which means remain [0,130]\n",
    "\n",
    "        Args:\n",
    "        ------\n",
    "        df:DataFrame\n",
    "            Any dataframe\n",
    "        str_col:str\n",
    "            the name of column you want to detect outliers and drop\n",
    "\n",
    "        Returns:\n",
    "        --------\n",
    "        df_clean:DataFrame\n",
    "            df has been dropped\n",
    "        df_outlier:DataFrame\n",
    "            The rows that has been detected as outliers\n",
    "        \"\"\"\n",
    "        if abs:\n",
    "            # if abs=True, we will absolute z-score and find the both side outliers\n",
    "            z_score = np.abs(stats.zscore(df[str_col], nan_policy='omit'))\n",
    "            print(\"We will drop too large and too small outliers\")\n",
    "            index_outlier = df[z_score > z_threshold].index\n",
    "        else:\n",
    "            # if abs=False (default setting), we only delete the too large outlers\n",
    "            z_score = stats.zscore(df[str_col], nan_policy='omit')\n",
    "            print(\"we will only drop too large outliers\")\n",
    "            index_outlier = df[(z_score > z_threshold) | (z_score < -z_threshold)].index\n",
    "        # set a z-score threshold, any greater than this value will be eliminate\n",
    "        # z_threshold = 3\n",
    "        # filter that ooutlier rows in dataframe\n",
    "        # index_outlier = np.where(z_score > z_threshold, z_score)\n",
    "        # get the index of these outliers\n",
    "        # index_outlier = df[z_score > z_threshold].index\n",
    "        # restore these outliers in df_outlier for further review\n",
    "        df_outlier = df.loc[index_outlier,:]\n",
    "        print('We have {} data points are outliers, which between {} and {}'.format(len(index_outlier),\n",
    "                                                                                    df_outlier[str_col].min(),\n",
    "                                                                                    df_outlier[str_col].max()))\n",
    "        # drop these rows by index\n",
    "        df_clean = df.drop(axis=0, index=index_outlier)\n",
    "        print(\"After drop outlier, the {} column remain range between {} and {}\".format(str_col,\n",
    "                                                                                        df_clean[str_col].min(),\n",
    "                                                                                        df_clean[str_col].max()))\n",
    "        return df_clean, df_outlier\n",
    "\n",
    "\n",
    "\n",
    "    def iqr_outlier(self, df, str_col, iqr_threshold=3):\n",
    "        \"\"\":arg\n",
    "        Except z-socre, we also have also have 'Interquartile Range Method' to deal with non-Gaussian distribution\n",
    "\n",
    "        Args:\n",
    "        -----\n",
    "        df:pd.DataFrame\n",
    "\n",
    "        \"\"\"\n",
    "        print('Start using IQR to eliminate outliers.')\n",
    "        # caculate interquartile range\n",
    "        q75, q25 = np.percentile(df[str_col], 75), np.percentile(df[str_col], 25)\n",
    "        # IQR can be used to identify outliers by defining limits on the sample values that are a factore k\n",
    "        iqr = q75 - q25\n",
    "        # of the IQR below the 25th percentile or above the 75th percentile. The commmon value of k is 1.5\n",
    "        # A factor k of 3 or more can be used to identify values that are extrmel outliers\n",
    "        cut_off = iqr * iqr_threshold\n",
    "        # get the lower bound and upper bound\n",
    "        lower_bound, upper_bound = q25-cut_off, q75+cut_off\n",
    "        # so we can use these bounds to identify outliers and remaining data\n",
    "        df_outlier = df.loc[(df[str_col]>upper_bound) | (df[str_col]<lower_bound)]\n",
    "        print('In {} column using {} as threshold'.format(str_col,iqr_threshold))\n",
    "        print('We have {} data points are outliers, which between {} and {}'.format(df_outlier.shape[0],\n",
    "                                                                                    df_outlier[str_col].min(),\n",
    "                                                                                    df_outlier[str_col].max()))\n",
    "        print(\"Before drop outlier, the {} column remain range between {} and {}\".format(str_col,\n",
    "                                                                                         df[str_col].min(),\n",
    "                                                                                         df[str_col].max()))\n",
    "        # then we calculate filter out outlers result\n",
    "        df_clean = df.loc[(df[str_col]<upper_bound) & (df[str_col]>lower_bound)]\n",
    "        print(\"After drop outlier, the {} column remain range between {} and {}\".format(str_col,\n",
    "                                                                                        df_clean[str_col].min(),\n",
    "                                                                                        df_clean[str_col].max()))\n",
    "\n",
    "        print('Complete IQR eliminate outliers Function.')\n",
    "\n",
    "        return df_clean, df_outlier\n",
    "\n",
    "    def drop_na(self, df, list_col):\n",
    "        \"\"\"\n",
    "        Args:\n",
    "        ------\n",
    "        df:DataFrame\n",
    "            The DF has delete some objective columns\n",
    "        list_col:list\n",
    "            Generated by EDA() part, like['dt_est','Rate']\n",
    "\n",
    "        Returns:\n",
    "        --------\n",
    "        df_clean:DataFrame\n",
    "            complete cleaning\n",
    "        df_dropped:DataFrame\n",
    "            Contain the rows have been dropped by dropna()\n",
    "        \"\"\"\n",
    "        # sometime, we also need review these columns that has been deleted by rows, so we restore them\n",
    "        # isnull() will return every element, NaN=True, Value=False\n",
    "        # any() axis=0, reduced the index, return a Serise whose index is the original column labesl\n",
    "        # any(axis=1), reduced the columns, return a Serise whose index is the original index label\n",
    "        # we use isnull().any(axis=1) to check each rows have missing data or not\n",
    "        df_dropped = df[df.isnull().any(axis=1)]\n",
    "        # according to eda result, we got columns name that has missing values\n",
    "        df_clean = df.dropna(subset=list_col, axis=0)\n",
    "        print(\"These {} columns still have missing data\".format(list_col))\n",
    "        print(\"After dropping na, {} rows has decreased to {} rows\".format(df.shape[0], df_clean.shape[0]))\n",
    "\n",
    "        return df_clean, df_dropped\n",
    "\n",
    "    def convert_time(self, df_product, df_nj_weather, df_pa_weather):\n",
    "        \"\"\":arg\n",
    "        \"\"\"\n",
    "        # **************Convert all time into same timestamp format***************************\n",
    "        # It should clean data first by columns then by rows, but missing data will appear when you convert time\n",
    "        # From out put, we can now, 11-05 and 11-06 two records got Nan on ['dt_est'] column,\n",
    "        # so we need drop them by row in the next part\n",
    "        # convert weather data ['dt'] (unix time) to Eastern Stardard Time(EST)\n",
    "        # pass an argument(series) to function tz_convert()\n",
    "        df_nj_weather['dt_est'] = df_nj_weather['dt'].apply(self.tz_convert)\n",
    "        # according to Timestamp split into year, quarter, month and day for further merge action\n",
    "        df_nj_weather['year'] = df_nj_weather['dt_est'].apply(lambda x: self.tz_y_m_d(x)[0])\n",
    "        df_nj_weather['quarter'] = df_nj_weather['dt_est'].apply(lambda x: self.tz_y_m_d(x)[1])\n",
    "        df_nj_weather['month'] = df_nj_weather['dt_est'].apply(lambda x: self.tz_y_m_d(x)[2])\n",
    "        df_nj_weather['day'] = df_nj_weather['dt_est'].apply(lambda x: self.tz_y_m_d(x)[3])\n",
    "        df_nj_weather['hour'] = df_nj_weather['dt_est'].apply(lambda x: self.tz_y_m_d(x)[4])\n",
    "        # another way to use apply()\n",
    "        # df_nj_weather['dt_est'] = df_nj_weather['dt'].apply(lambda x: pd.TimeStamp(x, unit='s', tz='America/New_York'))\n",
    "        df_pa_weather['dt_est'] = df_pa_weather['dt'].apply(self.tz_convert)\n",
    "        # according to Timestamp split into year, quarter, month and day for further merge action\n",
    "        df_pa_weather['year'] = df_pa_weather['dt_est'].apply(lambda x: self.tz_y_m_d(x)[0])\n",
    "        df_pa_weather['quarter'] = df_pa_weather['dt_est'].apply(lambda x: self.tz_y_m_d(x)[1])\n",
    "        df_pa_weather['month'] = df_pa_weather['dt_est'].apply(lambda x: self.tz_y_m_d(x)[2])\n",
    "        df_pa_weather['day'] = df_pa_weather['dt_est'].apply(lambda x: self.tz_y_m_d(x)[3])\n",
    "        df_pa_weather['hour'] = df_pa_weather['dt_est'].apply(lambda x: self.tz_y_m_d(x)[4])\n",
    "        # for merge purpose, make sure two column have same name\n",
    "        df_product['dt_est'] = df_product['StartDate'].apply(self.round_to_hour)\n",
    "        # ***********************End***************************************************\n",
    "\n",
    "        return df_product, df_nj_weather, df_pa_weather\n",
    "\n",
    "\n",
    "    def drop_col(self, df_product, df_nj_weather, df_pa_weather):\n",
    "        \"\"\":arg\n",
    "        From initial observation, we know some columns are not useful data analysis infomation,\n",
    "        So, we directly delete them by columns according to EDA() results\n",
    "\n",
    "        \"\"\"\n",
    "        class_eda = EDA()\n",
    "        # ***************Drop non-realted columns**********************\n",
    "        # *************Drop by columns**************\n",
    "        # ['Bulk Density'] have 50% missing data\n",
    "        df_product = df_product.drop(self.PRODUCT_DROP, axis=1)\n",
    "        print(\"In Production sheet, these columns have been dropped {}\".format(self.PRODUCT_DROP))\n",
    "        # Drop un-related colunms from weather data\n",
    "        df_nj_weather = df_nj_weather.drop(self.WEATHER_DROP, axis=1)\n",
    "        # some weather data might also need clearn\n",
    "        list_missing_nj = class_eda.missing_plot(df_nj_weather)\n",
    "        # axis=0/index axis=1/columns\n",
    "        df_nj_weather = df_nj_weather.drop(list_missing_nj, axis=1)\n",
    "        list_missing_pa = class_eda.missing_plot(df_pa_weather)\n",
    "        df_pa_weather = df_pa_weather.drop(list_missing_pa, axis=1)\n",
    "        # ******************End************************************\n",
    "        return df_product, df_nj_weather, df_pa_weather\n",
    "\n",
    "\n",
    "    def drop_outlier(self, df_product):\n",
    "        \"\"\":arg\n",
    "        For now we only drop outlier on df_prodcut. Weather data are not involved yet.\n",
    "        Actually, we can find that ['Humidity'] is fit normal distribution perfectlly\n",
    "\n",
    "        Args:\n",
    "        -------\n",
    "        df_product:DataFrame\n",
    "            After dropping columns and rows, we can not drop outliers\n",
    "        Returns:\n",
    "        -------\n",
    "\n",
    "        \"\"\"\n",
    "        #*****************Drop by outliers****************\n",
    "        # after drop non-related columns, convert timestamp format, drop missing data by rows,\n",
    "        # we need to drop outliers in some necessary columns\n",
    "        # we might need automate generate outlier by some EDA() models\n",
    "        str_col='YieldPercentage'\n",
    "        df_product, df_outlier_1 = self.z_outlier(df_product, str_col, z_threshold = self.YEILD_THRESHOLD, abs=False)\n",
    "        # ['Rate'] data have a lot of extramly large data. According to human judgement, >2000 might be delete.\n",
    "        # Before we use z-score we can use two sigma range to only restore CDF locate in 95%\n",
    "        q_lower = np.percentile(df_product['Rate'], self.TWO_SIGMA)\n",
    "        q_upper = np.percentile(df_product['Rate'], (100-self.TWO_SIGMA))\n",
    "        print(\"Any data smaller than {} and greater than {} will be eliminate\".format(q_lower, q_upper))\n",
    "        # we want to restore these delete column for double check\n",
    "        df_outlier_2 = df_product.loc[(df_product['Rate']>q_upper) | (df_product['Rate']<q_lower)]\n",
    "        print('There are {} rows identified as extramlly outliers'.format(df_outlier_1.shape[0]))\n",
    "        # If we use two sigma, we will directly delete data smaller than 8.1 and greater than 975\n",
    "        df_product = df_product.loc[(df_product['Rate']<q_upper) & (df_product['Rate']>q_lower)]\n",
    "        # But when we use statistical method to testify our data outliers\n",
    "        # In z-score function, if we set value to 3, ['Rate']>1275 row=3 will be delete\n",
    "        # if we set value to 2, ['Rate']>973 row=247 will be delete\n",
    "        df_product, df_outlier_3 = self.z_outlier(df_product, 'Rate', z_threshold = self.IQR_THRESHOLD, abs=True)\n",
    "        # concate outliers into one data frame\n",
    "        frames = [df_outlier_1, df_outlier_2, df_outlier_3]\n",
    "        df_outlier = pd.concat(frames)\n",
    "        #*****************************End**********************\n",
    "\n",
    "        return df_product, df_outlier\n",
    "\n",
    "\n",
    "\n",
    "\n",
    "    def clean_modify(self, df_product, df_nj_weather, df_pa_weather):\n",
    "        \"\"\":arg\n",
    "        \"\"\"\n",
    "        # ********************Adidtional modified*****************************\n",
    "        # we have a few small changes based on some inputing error\n",
    "        # For example ['Food Addit'] == ['Food Additive']\n",
    "        df_product.loc[df_product['ProdLine'] == 'Food Addit', 'ProdLine'] = 'Food Additive'\n",
    "        # PA only proedure food related (non-Fragance) kind custome material\n",
    "        # we find a record in PA location index=3299, Batchnumber = PASD340354\n",
    "        # It could be correct record but for now we delete this line\n",
    "        ind = df_product[(df_product['ProdLine'] == 'Fragrance') & (df_product['BatchNumber'].str.contains('PA'))].index\n",
    "        # we can use former index to drop, beacuse it's two long for one line code.\n",
    "        df_product.drop(index=ind, inplace=True)\n",
    "\n",
    "        # when we deal with product data, we find some dryer in the wrong location.\n",
    "        # Generally, NJ has Dryer 01 -04, PA has Dryer 06-11.\n",
    "        # For index=7491, BatchNumber ='NJSD362799' this records originally palced in NJ and then swithed over\n",
    "        # to be run in PA. Typically, Spray-Tek protocal is cancel the NJ order and re-submit it as a PA order\n",
    "        # In this records, the NJ order was not cancelled. The dyer number is accurate and the location is incorrect\n",
    "        df_nj_1 = df_product[df_product['BatchNumber'].str.contains('NJ')]\n",
    "        # then we find the index of these error recording columns\n",
    "        idx_1 = df_nj_1.loc[(df_nj_1['Dryer'] == 'Dryer 06') | (df_nj_1['Dryer'] == 'Dryer 09')].index\n",
    "        # idx_1 = df_nj_1.loc[df_nj_1['Dryer'].isin(['Dryer 06','Dryer 09'])].index\n",
    "        # The best way to replace/assign value is use .loc[] to locate and then assign new value 'PA000'\n",
    "        df_product.loc[idx_1, 'BatchNumber'] = 'PA000'\n",
    "        # vice-versa, we find Dryer01 in PA, it should be in NJ\n",
    "        # there index=(2761, 3245), BatchNumber=('PASD337379', 'PASD337014')\n",
    "        df_pa_1 = df_product[df_product['BatchNumber'].str.contains('PA')]\n",
    "        idx_2 = df_pa_1.loc[(df_pa_1['Dryer'] == 'Dryer 01')].index\n",
    "        df_product.loc[idx_2, 'BatchNumber'] = 'NJ000'\n",
    "        # anthoer way, If you want to assign multi-values to a pd.Series, the other head also should be pd.Serise\n",
    "        # df_product.loc[idx_2, 'BatchNumber'] = df_product.loc[idx_2, 'BatchNumber'].map(lambda x: 'NJ111').values\n",
    "\n",
    "        # *************************End**********************************************\n",
    "        return df_product, df_nj_weather, df_pa_weather\n",
    "\n",
    "\n",
    "\n",
    "\n",
    "    def clean_data(self, df_product, df_nj_weather, df_pa_weather):\n",
    "        \"\"\":arg\n",
    "        Delete columns we believe didn't use in the future.\n",
    "\n",
    "        Args:\n",
    "        --------\n",
    "        df_product:DataFrame\n",
    "\n",
    "        Returns:\n",
    "        --------\n",
    "        df_product:DataFrame\n",
    "            droped missing value, add a new column['dt_est'] for merge purpose\n",
    "        df_nj_weather:DataFrame\n",
    "            cleaned DataFrame table\n",
    "\n",
    "        \"\"\"\n",
    "        print(\"*\" * 50, \"Start clean_data()\", \"*\" * 50)\n",
    "        start_time = time()\n",
    "\n",
    "        class_eda = EDA()\n",
    "\n",
    "\n",
    "        #**************Convert all time into same timestamp format***************************\n",
    "        # It should clean data first by columns then by rows, but missing data will appear when you convert time\n",
    "        # From out put, we can now, 11-05 and 11-06 two records got Nan on ['dt_est'] column,\n",
    "        # so we need drop them by row in the next part\n",
    "        # convert weather data ['dt'] (unix time) to Eastern Stardard Time(EST)\n",
    "        # pass an argument(series) to function tz_convert()\n",
    "        df_nj_weather['dt_est'] = df_nj_weather['dt'].apply(self.tz_convert)\n",
    "        # according to Timestamp split into year, quarter, month and day for further merge action\n",
    "        df_nj_weather['year'] = df_nj_weather['dt_est'].apply(lambda x: self.tz_y_m_d(x)[0])\n",
    "        df_nj_weather['quarter'] = df_nj_weather['dt_est'].apply(lambda x: self.tz_y_m_d(x)[1])\n",
    "        df_nj_weather['month'] = df_nj_weather['dt_est'].apply(lambda x: self.tz_y_m_d(x)[2])\n",
    "        df_nj_weather['day'] = df_nj_weather['dt_est'].apply(lambda x: self.tz_y_m_d(x)[3])\n",
    "        # another way to use apply()\n",
    "        # df_nj_weather['dt_est'] = df_nj_weather['dt'].apply(lambda x: pd.TimeStamp(x, unit='s', tz='America/New_York'))\n",
    "        df_pa_weather['dt_est'] = df_pa_weather['dt'].apply(self.tz_convert)\n",
    "        # according to Timestamp split into year, quarter, month and day for further merge action\n",
    "        df_pa_weather['year'] = df_pa_weather['dt_est'].apply(lambda x: self.tz_y_m_d(x)[0])\n",
    "        df_pa_weather['quarter'] = df_pa_weather['dt_est'].apply(lambda x: self.tz_y_m_d(x)[1])\n",
    "        df_pa_weather['month'] = df_pa_weather['dt_est'].apply(lambda x: self.tz_y_m_d(x)[2])\n",
    "        df_pa_weather['day'] = df_pa_weather['dt_est'].apply(lambda x: self.tz_y_m_d(x)[3])\n",
    "        # for merge purpose, make sure two column have same name\n",
    "        df_product['dt_est'] = df_product['StartDate'].apply(self.round_to_hour)\n",
    "        #***********************End***************************************************\n",
    "\n",
    "\n",
    "        #***************Drop non-realted columns**********************\n",
    "        # *************Drop by columns**************\n",
    "        # ['Bulk Density'] have 50% missing data\n",
    "        df_product = df_product.drop(self.PRODUCT_DROP, axis=1)\n",
    "        print(\"In Production sheet, these columns have been dropped {}\".format(self.PRODUCT_DROP))\n",
    "        # Drop un-related colunms from weather data\n",
    "        df_nj_weather = df_nj_weather.drop(self.WEATHER_DROP, axis = 1)\n",
    "        # some weather data might also need clearn\n",
    "        list_missing_nj = class_eda.missing_plot(df_nj_weather)\n",
    "        df_nj_weather = df_nj_weather.drop(list_missing_nj, axis = 1)\n",
    "        list_missing_pa = class_eda.missing_plot(df_pa_weather)\n",
    "        df_pa_weather = df_pa_weather.drop(list_missing_pa, axis = 1)\n",
    "        #******************End************************************\n",
    "\n",
    "\n",
    "        #***********************Drop missing data********************************\n",
    "        list_col_missing_product = class_eda.missing_plot(df_product)\n",
    "        #**************Drop by rows**********************\n",
    "        # we get the name of columns that has missing value from eda part\n",
    "        df_product,df_dropped = self.drop_na(df_product, list_col_missing_product)\n",
    "        #******************End*****************\n",
    "\n",
    "\n",
    "        #*****************Drop by outliers****************\n",
    "        # after drop non-related columns, convert timestamp format, drop missing data by rows,\n",
    "        # we need to drop outliers in some necessary columns\n",
    "        # we might need automate generate outlier by some EDA() models\n",
    "        str_col='YieldPercentage'\n",
    "        df_product, df_outlier_1 = self.z_outlier(df_product, str_col, z_threshold = self.YEILD_THRESHOLD, abs=False)\n",
    "        # ['Rate'] data have a lot of extramly large data. According to human judgement, >2000 might be delete.\n",
    "        # But when we use statistical method to testify our data outliers\n",
    "        # In z-score function, if we set value to 3, ['Rate']>1275 row=3 will be delete\n",
    "        # if we set value to 2, ['Rate']>973 row=247 will be delete\n",
    "        df_product, df_outlier_2 = self.z_outlier(df_product, 'Rate', z_threshold = self.IQR_THRESHOLD, abs=False)\n",
    "        # concate outliers into one data frame\n",
    "        frames = [df_outlier_1, df_outlier_2]\n",
    "        df_outlier = pd.concat(frames)\n",
    "        #*****************************End**********************\n",
    "\n",
    "\n",
    "        #********************Adidtional modified*****************************\n",
    "        # we have a few small changes based on some inputing error\n",
    "        # For example ['Food Addit'] == ['Food Additive']\n",
    "        df_product.loc[df_product['ProdLine'] == 'Food Addit', 'ProdLine'] = 'Food Additive'\n",
    "        # PA only proedure food related (non-Fragance) kind custome material\n",
    "        # we find a record in PA location index=3299, Batchnumber = PASD340354\n",
    "        # It could be correct record but for now we delete this line\n",
    "        ind=df_product[(df_product['ProdLine'] == 'Fragrance') & (df_product['BatchNumber'].str.contains('PA'))].index\n",
    "        # we can use former index to drop, beacuse it's two long for one line code.\n",
    "        df_product.drop(index=ind, inplace=True)\n",
    "\n",
    "        # when we deal with product data, we find some dryer in the wrong location.\n",
    "        # Generally, NJ has Dryer 01 -04, PA has Dryer 06-11.\n",
    "        # For index=7491, BatchNumber ='NJSD362799' this records originally palced in NJ and then swithed over\n",
    "        # to be run in PA. Typically, Spray-Tek protocal is cancel the NJ order and re-submit it as a PA order\n",
    "        # In this records, the NJ order was not cancelled. The dyer number is accurate and the location is incorrect\n",
    "        df_nj_1 = df_product[df_product['BatchNumber'].str.contains('NJ')]\n",
    "        # then we find the index of these error recording columns\n",
    "        idx_1 = df_nj_1.loc[(df_nj_1['Dryer'] == 'Dryer 06') | (df_nj_1['Dryer'] == 'Dryer 09')].index\n",
    "        # idx_1 = df_nj_1.loc[df_nj_1['Dryer'].isin(['Dryer 06','Dryer 09'])].index\n",
    "        # The best way to replace/assign value is use .loc[] to locate and then assign new value 'PA000'\n",
    "        df_product.loc[idx_1, 'BatchNumber'] = 'PA000'\n",
    "        # vice-versa, we find Dryer01 in PA, it should be in NJ\n",
    "        # there index=(2761, 3245), BatchNumber=('PASD337379', 'PASD337014')\n",
    "        df_pa_1 = df_product[df_product['BatchNumber'].str.contains('PA')]\n",
    "        idx_2 = df_pa_1.loc[(df_pa_1['Dryer'] == 'Dryer 01')].index\n",
    "        df_product.loc[idx_2, 'BatchNumber'] = 'NJ000'\n",
    "        # anthoer way, If you want to assign multi-values to a pd.Series, the other head also should be pd.Serise\n",
    "        # df_product.loc[idx_2, 'BatchNumber'] = df_product.loc[idx_2, 'BatchNumber'].map(lambda x: 'NJ111').values\n",
    "\n",
    "        #*************************End**********************************************\n",
    "\n",
    "\n",
    "        cost_time = round((time() - start_time), 4)\n",
    "        print(\"*\" * 40, \"End clean_data() with {} second\".format(cost_time), \"*\" * 40, end='\\n\\n')\n",
    "\n",
    "        return df_product, df_nj_weather, df_pa_weather, df_dropped, df_outlier\n",
    "\n"
   ]
  },
  {
   "cell_type": "markdown",
   "metadata": {},
   "source": [
    "<br>"
   ]
  },
  {
   "cell_type": "markdown",
   "metadata": {},
   "source": [
    "<br>"
   ]
  },
  {
   "cell_type": "markdown",
   "metadata": {},
   "source": [
    "<br>"
   ]
  },
  {
   "cell_type": "markdown",
   "metadata": {},
   "source": [
    "## <a id=\"3.5 Merge Data\">3.5 Merge Data</a>\n",
    "<a href=\"#2.Table of Contents\">Click this Link back to Top</a>"
   ]
  },
  {
   "cell_type": "code",
   "execution_count": 686,
   "metadata": {},
   "outputs": [],
   "source": [
    "# from class_31_hyperparameters import HyperParamters\n",
    "\n",
    "import pandas as pd\n",
    "import numpy as np\n",
    "# for time sum()\n",
    "import datetime\n",
    "from time import time\n",
    "\n",
    "class MergeData(HyperParamters):\n",
    "    \"\"\":arg\n",
    "    For now, we have differenty hypothesis to view our data\n",
    "    We will use self.MERGE_WAY to choose different hypothesis\n",
    "\n",
    "    row_proliferate will be the core components. Every other merge function will need call self.df_multi variable first\n",
    "\n",
    "\n",
    "    1.self.MERGE_WAY:one\n",
    "        without further process, just using dt_est to merge\n",
    "    2.self.MERGE_WAY:\n",
    "\n",
    "    \"\"\"\n",
    "    def __init__(self):\n",
    "        HyperParamters.__init__(self)\n",
    "\n",
    "    def convert_timedelta(self, element):\n",
    "        \"\"\":arg\n",
    "        \"\"\"\n",
    "        time_delta = datetime.timedelta(hours = element)\n",
    "        return time_delta\n",
    "\n",
    "\n",
    "    def row_proliferate(self, df_product):\n",
    "        \"\"\":arg\n",
    "        Because weather data is split by hour, so we need transform each records into every hour records\n",
    "\n",
    "        Args:\n",
    "        -----\n",
    "        df_product:DataFrame\n",
    "            Production data that complete clean\n",
    "\n",
    "        Returns:\n",
    "        -------\n",
    "        self.df_multi:DataFrame\n",
    "            Inhereit production information from df_product, so its a production df with ['dt_est'] hours proliferate\n",
    "            All other function in this class wiil need call this variable to merge\n",
    "        \"\"\"\n",
    "        print(\"*\" * 50, \"Start row_proliferate()\", \"*\" * 50)\n",
    "        start_time = time()\n",
    "\n",
    "        # first create a new column ['hours'] from ['DryingTime_Hrs'] round to bigger integer\n",
    "        df_product['hours'] = np.ceil(df_product['DryingTime_Hrs']).astype(int)\n",
    "        # Second, repeat each records/rows by ['hours'] times\n",
    "        # which means you will have how many running hours, you will have how many rows for each column\n",
    "        self.df_multi = pd.DataFrame(np.repeat(df_product.values, df_product['hours'], axis=0),\n",
    "                                      columns = df_product.columns)\n",
    "        # Thrid, adjust ['hours'] to ascending rank model, for instance, [3,3,3] to [0,1,2]\n",
    "        # this is used for next step add to ['dt_est'] time\n",
    "        # groupby each old record, for instance, for first records, groupby will be a three row table\n",
    "        # for second records, groupby['StartData'] will be a nine row table\n",
    "        # Then, extract ['hours'] column, for each pd.Series, apply a fomulation\n",
    "        # addition, in here, ['hours'] will not be a single row, instead, it will be a three element Series\n",
    "        # for this three/nine series, we cacualte their cumulation sum cumsum() [3,3,3] will be [3,6,9]\n",
    "        # for instance [9.9.9.9...9] will be [9,18,27,,,,81]\n",
    "        # and we divide by ['hours'] count, which will be [3,9,...], last minute 1 to get a column for timestamp add\n",
    "        self.df_multi['hour_add'] = self.df_multi.groupby(['StartDate'])['hours'].apply(lambda x:x.cumsum()/x.count())-1\n",
    "        # our weather segmentation is one hour\n",
    "        # one_hour = datetime.timedelta(hours = 1)\n",
    "        self.df_multi['hour_add'] = self.df_multi['hour_add'].apply(self.convert_timedelta)\n",
    "        self.df_multi['dt_est'] = self.df_multi['dt_est'] + self.df_multi['hour_add']\n",
    "\n",
    "        cost_time = round((time() - start_time), 4)\n",
    "        print(\"*\" * 40, \"End row_proliferate() with {} second\".format(cost_time), \"*\" * 40, end='\\n\\n')\n",
    "\n",
    "        return self.df_multi\n",
    "\n",
    "\n",
    "    def merge_location(self, df_product, df_nj_weather, df_pa_weather):\n",
    "        \"\"\":arg\n",
    "        split by location, just merge all together by ['dt_est']\n",
    "        \"\"\"\n",
    "        # Identify location by ['Batchnumber']\n",
    "        df_nj_product = self.df_multi[self.df_multi['BatchNumber'].str.contains('NJ', regex=False)]\n",
    "        # them merge them into a new DataFrame\n",
    "        # after merge, we find a situation, df_nj_product.shape=(102385,6) df_nj.shape=(108907,31)\n",
    "        # after I check indicator, they are exist in both dataset,\n",
    "        # In some day, it should only have 24 records by each hours. But if there is some weather condition mixed up\n",
    "        # for example, at Jan/23/2016, we got 39 records in one day, because most of time mix snow and frog\n",
    "        # so the extract rows are from these dual weather condition, which only different in ['weather_id']\n",
    "        df_nj = pd.merge(df_nj_product, df_nj_weather, how='left', on=['dt_est'], indicator=True)\n",
    "        # merge with self.df_multi and got a new NJ_Production DataFrame\n",
    "        df_pa_pro = self.df_multi[self.df_multi['BatchNumber'].str.contains('PA', regex=False)]\n",
    "        # then merge\n",
    "        df_pa = pd.merge(df_pa_pro, df_pa_weather, how='left', on=['dt_est'], indicator=True)\n",
    "\n",
    "        return df_nj, df_pa\n",
    "\n"
   ]
  },
  {
   "cell_type": "code",
   "execution_count": 852,
   "metadata": {},
   "outputs": [
    {
     "ename": "AttributeError",
     "evalue": "'MergeData' object has no attribute 'df_multi'",
     "output_type": "error",
     "traceback": [
      "\u001b[1;31m---------------------------------------------------------------------------\u001b[0m",
      "\u001b[1;31mAttributeError\u001b[0m                            Traceback (most recent call last)",
      "\u001b[1;32m<ipython-input-852-7624b5fe4adc>\u001b[0m in \u001b[0;36m<module>\u001b[1;34m\u001b[0m\n\u001b[1;32m----> 1\u001b[1;33m \u001b[0ma\u001b[0m\u001b[1;33m,\u001b[0m\u001b[0mb\u001b[0m \u001b[1;33m=\u001b[0m \u001b[0mMergeData\u001b[0m\u001b[1;33m(\u001b[0m\u001b[1;33m)\u001b[0m\u001b[1;33m.\u001b[0m\u001b[0mmerge_location\u001b[0m\u001b[1;33m(\u001b[0m\u001b[0mdf_product\u001b[0m\u001b[1;33m,\u001b[0m \u001b[0mdf_nj_weather\u001b[0m\u001b[1;33m,\u001b[0m \u001b[0mdf_pa_weather\u001b[0m\u001b[1;33m)\u001b[0m\u001b[1;33m\u001b[0m\u001b[1;33m\u001b[0m\u001b[0m\n\u001b[0m",
      "\u001b[1;32m<ipython-input-686-d61999a7a317>\u001b[0m in \u001b[0;36mmerge_location\u001b[1;34m(self, df_product, df_nj_weather, df_pa_weather)\u001b[0m\n\u001b[0;32m     80\u001b[0m         \"\"\"\n\u001b[0;32m     81\u001b[0m         \u001b[1;31m# Identify location by ['Batchnumber']\u001b[0m\u001b[1;33m\u001b[0m\u001b[1;33m\u001b[0m\u001b[1;33m\u001b[0m\u001b[0m\n\u001b[1;32m---> 82\u001b[1;33m         \u001b[0mdf_nj_product\u001b[0m \u001b[1;33m=\u001b[0m \u001b[0mself\u001b[0m\u001b[1;33m.\u001b[0m\u001b[0mdf_multi\u001b[0m\u001b[1;33m[\u001b[0m\u001b[0mself\u001b[0m\u001b[1;33m.\u001b[0m\u001b[0mdf_multi\u001b[0m\u001b[1;33m[\u001b[0m\u001b[1;34m'BatchNumber'\u001b[0m\u001b[1;33m]\u001b[0m\u001b[1;33m.\u001b[0m\u001b[0mstr\u001b[0m\u001b[1;33m.\u001b[0m\u001b[0mcontains\u001b[0m\u001b[1;33m(\u001b[0m\u001b[1;34m'NJ'\u001b[0m\u001b[1;33m,\u001b[0m \u001b[0mregex\u001b[0m\u001b[1;33m=\u001b[0m\u001b[1;32mFalse\u001b[0m\u001b[1;33m)\u001b[0m\u001b[1;33m]\u001b[0m\u001b[1;33m\u001b[0m\u001b[1;33m\u001b[0m\u001b[0m\n\u001b[0m\u001b[0;32m     83\u001b[0m         \u001b[1;31m# them merge them into a new DataFrame\u001b[0m\u001b[1;33m\u001b[0m\u001b[1;33m\u001b[0m\u001b[1;33m\u001b[0m\u001b[0m\n\u001b[0;32m     84\u001b[0m         \u001b[1;31m# after merge, we find a situation, df_nj_product.shape=(102385,6) df_nj.shape=(108907,31)\u001b[0m\u001b[1;33m\u001b[0m\u001b[1;33m\u001b[0m\u001b[1;33m\u001b[0m\u001b[0m\n",
      "\u001b[1;31mAttributeError\u001b[0m: 'MergeData' object has no attribute 'df_multi'"
     ]
    }
   ],
   "source": [
    "a,b = MergeData().merge_location(df_product, df_nj_weather, df_pa_weather)\n"
   ]
  },
  {
   "cell_type": "markdown",
   "metadata": {},
   "source": [
    "<br>"
   ]
  },
  {
   "cell_type": "markdown",
   "metadata": {},
   "source": [
    "<br>"
   ]
  },
  {
   "cell_type": "markdown",
   "metadata": {},
   "source": [
    "<br>"
   ]
  },
  {
   "cell_type": "markdown",
   "metadata": {},
   "source": [
    "# <a id=\"4.others\">4.Others</a>\n",
    "<a href=\"#2.Table of Contents\">Click this Link back to Top</a>"
   ]
  },
  {
   "cell_type": "code",
   "execution_count": null,
   "metadata": {},
   "outputs": [],
   "source": []
  },
  {
   "cell_type": "code",
   "execution_count": null,
   "metadata": {},
   "outputs": [],
   "source": []
  },
  {
   "cell_type": "code",
   "execution_count": null,
   "metadata": {},
   "outputs": [],
   "source": []
  },
  {
   "cell_type": "code",
   "execution_count": null,
   "metadata": {},
   "outputs": [],
   "source": []
  },
  {
   "cell_type": "code",
   "execution_count": null,
   "metadata": {},
   "outputs": [],
   "source": []
  },
  {
   "cell_type": "code",
   "execution_count": null,
   "metadata": {},
   "outputs": [],
   "source": []
  },
  {
   "cell_type": "markdown",
   "metadata": {},
   "source": [
    "# <a id=\"7.Main Function\">7.Main Function</a>\n",
    "<a href=\"#2.Table of Contents\">Click this Link back to Top</a>"
   ]
  },
  {
   "cell_type": "code",
   "execution_count": 1050,
   "metadata": {},
   "outputs": [
    {
     "name": "stdout",
     "output_type": "stream",
     "text": [
      "This data cant convert correctly 2016-11-06 01:00:00\n",
      "This date replaced by NaT\n",
      "This data cant convert correctly 2017-11-05 01:00:00\n",
      "This date replaced by NaT\n",
      "In Production sheet, these columns have been dropped ['Bulk Density', 'Moisture', 'Flow', 'Hygroscopicity']\n"
     ]
    },
    {
     "data": {
      "image/png": "[encoded data removed]",
      "text/plain": [
       "<Figure size 432x288 with 2 Axes>"
      ]
     },
     "metadata": {
      "needs_background": "light"
     },
     "output_type": "display_data"
    },
    {
     "data": {
      "image/png": "[encoded data removed]",
      "text/plain": [
       "<Figure size 432x288 with 2 Axes>"
      ]
     },
     "metadata": {
      "needs_background": "light"
     },
     "output_type": "display_data"
    },
    {
     "data": {
      "image/png": "[encoded data removed]",
      "text/plain": [
       "<Figure size 432x288 with 2 Axes>"
      ]
     },
     "metadata": {
      "needs_background": "light"
     },
     "output_type": "display_data"
    },
    {
     "name": "stdout",
     "output_type": "stream",
     "text": [
      "These ['CustItem', 'ScheduledDryQty', 'ActualDryQty', 'YieldPercentage', 'ProdLine', 'Rate', 'dt_est'] columns still have missing data\n",
      "After dropping na, 9970 rows has decreased to 9931 rows\n",
      "we will only drop too large outliers\n",
      "We have 431 data points are outliers, which between 0.0 and 864.9\n",
      "After drop outlier, the YieldPercentage column remain range between 71.2 and 111.0\n",
      "Any data smaller than 10.04036731634183 and greater than 981.9324986390855 will be eliminate\n",
      "There are 431 rows identified as extramlly outliers\n",
      "We will drop too large and too small outliers\n",
      "We have 327 data points are outliers, which between 819.260752688172 and 981.818181818182\n",
      "After drop outlier, the Rate column remain range between 10.06896551724138 and 818.9655172413793\n",
      "************************************************** Start row_proliferate() **************************************************\n",
      "**************************************** End row_proliferate() with 6.6244 second ****************************************\n",
      "\n",
      "OVER\n"
     ]
    }
   ],
   "source": [
    "# from class_31_hyperparameters import HyperParamters\n",
    "# from class_32_import_data import ImportData\n",
    "# from class_34_preprocess import PreProcess\n",
    "# from class_33_eda import EDA\n",
    "# from class_35_merge_data import MergeData\n",
    "\n",
    "def main():\n",
    "    \"\"\"\n",
    "    We use this function to call process one by one.\n",
    "    \"\"\"\n",
    "\n",
    "\n",
    "    # ***********************import******************************\n",
    "    class_import = ImportData()\n",
    "    # df_product, df_nj_weather, df_pa_weather = class_import.import_data()\n",
    "    df_product_1, df_nj_weather_1, df_pa_weather_1 = class_import.read_csv()\n",
    "\n",
    "    # **************************EDA***************************\n",
    "    class_eda = EDA()\n",
    "\n",
    "    # *******************3.4 Preprocess**************************************\n",
    "    class_pre = PreProcess()\n",
    "    # convert timestmap into same format and generate detail time columns\n",
    "    df_product_2, df_nj_weather_2, df_pa_weather_2 = class_pre.convert_time(df_product_1,\n",
    "                                                                            df_nj_weather_1,\n",
    "                                                                            df_pa_weather_1)\n",
    "    # drop meanningless columns from hyperparameter and EDA result\n",
    "    df_product_3, df_nj_weather_3, df_pa_weather_3 = class_pre.drop_col(df_product_2,\n",
    "                                                                        df_nj_weather_2,\n",
    "                                                                        df_pa_weather_2)\n",
    "    # drop rows still have NaN, these just normal missing data caused by operation error\n",
    "    list_col_missing_product = class_eda.missing_plot(df_product_3)\n",
    "    # Drop by rows\n",
    "    # we get the name of columns that has missing value from eda part\n",
    "    df_product_4, df_dropped = class_pre.drop_na(df_product_3, list_col_missing_product)\n",
    "    # drop outliers\n",
    "    df_product_5 ,df_outlier = class_pre.drop_outlier(df_product_4)\n",
    "    # There are some human issue we can modify and correct here\n",
    "    df_product_6, df_nj_weather_6, df_pa_weather_6 = class_pre.clean_modify(df_product_5,\n",
    "                                                                            df_nj_weather_3,\n",
    "                                                                            df_pa_weather_3)\n",
    "\n",
    "    # **********************WARNING*****************************\n",
    "    # **********************WARNING*****************************\n",
    "    # we should not add this code in final code, but we can temperaoly delete ['Rate']<20 for statistical result\n",
    "    # Because running ['Rate'] might related to Dryer size. So we delete Dryer09 temporary\n",
    "    df_product_6 = df_product_6.loc[df_product_6['Dryer']!='Dryer 09']\n",
    "    df_product_6 = df_product_6.loc[df_product_6['Rate']>20]\n",
    "    # **********************WARNING****************************\n",
    "    # **********************WARNING****************************\n",
    "\n",
    "    # df_product, df_nj_weather, df_pa_weather, df_dropped, df_outlier = class_pre.clean_data(df_raw_product,\n",
    "    #                                                                                         df_raw_nj_weather,\n",
    "    #                                                                                         df_raw_pa_weather)\n",
    "\n",
    "    #*******************3.5 MergeDate************************\n",
    "    class_merge = MergeData()\n",
    "    # if you need use self.df_multi in the next line, you need call function to product self.multi first\n",
    "    df_multi = class_merge.row_proliferate(df_product_6)\n",
    "    # identify this is only belong to\n",
    "    df_nj, df_pa = class_merge.merge_location(df_product_6, df_nj_weather_6, df_pa_weather_6)\n",
    "\n",
    "\n",
    "    return (df_product_1, df_nj_weather_1, df_pa_weather_1, df_product_2, df_nj_weather_2, df_pa_weather_2,\n",
    "            df_product_3, df_nj_weather_3, df_pa_weather_3, df_product_4, df_product_5, df_dropped, df_outlier,\n",
    "            df_product_6, df_nj_weather_6, df_pa_weather_6,\n",
    "            df_multi, df_nj, df_pa,)\n",
    "\n",
    "\n",
    "\n",
    "if __name__==\"__main__\":\n",
    "    \"\"\":arg\n",
    "    \n",
    "    \"\"\"\n",
    "    (df_product_1, df_nj_weather_1, df_pa_weather_1, df_product_2, df_nj_weather_2, df_pa_weather_2,\n",
    "     df_product_3, df_nj_weather_3, df_pa_weather_3, df_product_4, df_product_5, df_dropped, df_outlier,\n",
    "     df_product_6, df_nj_weather_6, df_pa_weather_6,\n",
    "     df_multi, df_nj, df_pa,) = main()\n",
    "\n",
    "    print(\"OVER\")"
   ]
  },
  {
   "cell_type": "code",
   "execution_count": null,
   "metadata": {},
   "outputs": [],
   "source": []
  },
  {
   "cell_type": "code",
   "execution_count": null,
   "metadata": {},
   "outputs": [],
   "source": []
  },
  {
   "cell_type": "code",
   "execution_count": null,
   "metadata": {},
   "outputs": [],
   "source": []
  },
  {
   "cell_type": "code",
   "execution_count": null,
   "metadata": {},
   "outputs": [],
   "source": []
  },
  {
   "cell_type": "code",
   "execution_count": null,
   "metadata": {},
   "outputs": [],
   "source": []
  },
  {
   "cell_type": "markdown",
   "metadata": {},
   "source": [
    "# <a id=\"9.Test Code\">9.Test Code</a>\n",
    "<a href=\"#2.Table of Contents\">Click this Link back to Top</a>"
   ]
  },
  {
   "cell_type": "markdown",
   "metadata": {},
   "source": [
    "1. We might need split data into two place NJ and PA, but we also can try to merge two location into one, because they are not far away\n",
    "2. clean data, transform date format, join by date, Coeffience anaylsis\n",
    "3. Check kaggle format\n",
    "4. Check journals "
   ]
  },
  {
   "cell_type": "code",
   "execution_count": 957,
   "metadata": {},
   "outputs": [
    {
     "data": {
      "text/plain": [
       "(8696, 15)"
      ]
     },
     "execution_count": 957,
     "metadata": {},
     "output_type": "execute_result"
    }
   ],
   "source": [
    "df_product_6.shape"
   ]
  },
  {
   "cell_type": "code",
   "execution_count": 994,
   "metadata": {},
   "outputs": [
    {
     "data": {
      "text/plain": [
       "<AxesSubplot:>"
      ]
     },
     "execution_count": 994,
     "metadata": {},
     "output_type": "execute_result"
    },
    {
     "data": {
      "image/png": "[encoded data removed]",
      "text/plain": [
       "<Figure size 432x288 with 1 Axes>"
      ]
     },
     "metadata": {
      "needs_background": "light"
     },
     "output_type": "display_data"
    }
   ],
   "source": [
    "df_product_4.loc[df_product_4['Dryer'] =='Dryer 09']['Rate'].hist()"
   ]
  },
  {
   "cell_type": "code",
   "execution_count": 986,
   "metadata": {},
   "outputs": [
    {
     "data": {
      "text/plain": [
       "(9970, 18)"
      ]
     },
     "execution_count": 986,
     "metadata": {},
     "output_type": "execute_result"
    }
   ],
   "source": [
    "df_product_1.shape"
   ]
  },
  {
   "cell_type": "code",
   "execution_count": 988,
   "metadata": {},
   "outputs": [
    {
     "data": {
      "text/plain": [
       "(546, 18)"
      ]
     },
     "execution_count": 988,
     "metadata": {},
     "output_type": "execute_result"
    }
   ],
   "source": [
    "df_product_1.loc[df_product_1['Dryer'] =='Dryer 09'].shape"
   ]
  },
  {
   "cell_type": "code",
   "execution_count": 989,
   "metadata": {},
   "outputs": [
    {
     "data": {
      "text/plain": [
       "(546, 18)"
      ]
     },
     "execution_count": 989,
     "metadata": {},
     "output_type": "execute_result"
    }
   ],
   "source": [
    "df_product_2.loc[df_product_2['Dryer'] =='Dryer 09'].shape"
   ]
  },
  {
   "cell_type": "code",
   "execution_count": 990,
   "metadata": {},
   "outputs": [
    {
     "data": {
      "text/plain": [
       "(546, 14)"
      ]
     },
     "execution_count": 990,
     "metadata": {},
     "output_type": "execute_result"
    }
   ],
   "source": [
    "df_product_3.loc[df_product_3['Dryer'] =='Dryer 09'].shape"
   ]
  },
  {
   "cell_type": "code",
   "execution_count": 991,
   "metadata": {},
   "outputs": [
    {
     "data": {
      "text/plain": [
       "(536, 14)"
      ]
     },
     "execution_count": 991,
     "metadata": {},
     "output_type": "execute_result"
    }
   ],
   "source": [
    "df_product_4.loc[df_product_4['Dryer'] =='Dryer 09'].shape"
   ]
  },
  {
   "cell_type": "code",
   "execution_count": 999,
   "metadata": {},
   "outputs": [
    {
     "data": {
      "text/plain": [
       "(180, 14)"
      ]
     },
     "execution_count": 999,
     "metadata": {},
     "output_type": "execute_result"
    }
   ],
   "source": [
    "df_product_5.loc[df_product_5['Dryer'] =='Dryer 09'].shape"
   ]
  },
  {
   "cell_type": "code",
   "execution_count": 1000,
   "metadata": {},
   "outputs": [
    {
     "data": {
      "text/plain": [
       "(0, 15)"
      ]
     },
     "execution_count": 1000,
     "metadata": {},
     "output_type": "execute_result"
    }
   ],
   "source": [
    "df_product_6.loc[df_product_5['Dryer'] =='Dryer 09'].shape"
   ]
  },
  {
   "cell_type": "code",
   "execution_count": null,
   "metadata": {},
   "outputs": [],
   "source": []
  },
  {
   "cell_type": "code",
   "execution_count": null,
   "metadata": {},
   "outputs": [],
   "source": []
  },
  {
   "cell_type": "code",
   "execution_count": 1001,
   "metadata": {},
   "outputs": [
    {
     "name": "stderr",
     "output_type": "stream",
     "text": [
      "D:\\ProgramData\\Anaconda3\\envs\\08_web_mining\\lib\\site-packages\\seaborn\\distributions.py:2551: FutureWarning: `distplot` is a deprecated function and will be removed in a future version. Please adapt your code to use either `displot` (a figure-level function with similar flexibility) or `histplot` (an axes-level function for histograms).\n",
      "  warnings.warn(msg, FutureWarning)\n"
     ]
    },
    {
     "data": {
      "text/plain": [
       "<AxesSubplot:xlabel='Rate', ylabel='Density'>"
      ]
     },
     "execution_count": 1001,
     "metadata": {},
     "output_type": "execute_result"
    },
    {
     "data": {
      "image/png": "[encoded data removed]",
      "text/plain": [
       "<Figure size 432x288 with 1 Axes>"
      ]
     },
     "metadata": {
      "needs_background": "light"
     },
     "output_type": "display_data"
    }
   ],
   "source": [
    "sns.distplot(df_product_6['Rate'])"
   ]
  },
  {
   "cell_type": "code",
   "execution_count": 977,
   "metadata": {},
   "outputs": [
    {
     "name": "stderr",
     "output_type": "stream",
     "text": [
      "D:\\ProgramData\\Anaconda3\\envs\\08_web_mining\\lib\\site-packages\\seaborn\\_decorators.py:36: FutureWarning: Pass the following variable as a keyword arg: x. From version 0.12, the only valid positional argument will be `data`, and passing other arguments without an explicit keyword will result in an error or misinterpretation.\n",
      "  warnings.warn(\n"
     ]
    },
    {
     "data": {
      "text/plain": [
       "<AxesSubplot:xlabel='Rate'>"
      ]
     },
     "execution_count": 977,
     "metadata": {},
     "output_type": "execute_result"
    },
    {
     "data": {
      "image/png": "[encoded data removed]",
      "text/plain": [
       "<Figure size 432x288 with 1 Axes>"
      ]
     },
     "metadata": {
      "needs_background": "light"
     },
     "output_type": "display_data"
    }
   ],
   "source": [
    "sns.boxplot(df_product_6['Rate'])"
   ]
  },
  {
   "cell_type": "code",
   "execution_count": null,
   "metadata": {},
   "outputs": [],
   "source": []
  },
  {
   "cell_type": "code",
   "execution_count": 978,
   "metadata": {},
   "outputs": [
    {
     "name": "stderr",
     "output_type": "stream",
     "text": [
      "D:\\ProgramData\\Anaconda3\\envs\\08_web_mining\\lib\\site-packages\\seaborn\\distributions.py:2551: FutureWarning: `distplot` is a deprecated function and will be removed in a future version. Please adapt your code to use either `displot` (a figure-level function with similar flexibility) or `histplot` (an axes-level function for histograms).\n",
      "  warnings.warn(msg, FutureWarning)\n"
     ]
    },
    {
     "data": {
      "text/plain": [
       "<AxesSubplot:xlabel='Rate', ylabel='Density'>"
      ]
     },
     "execution_count": 978,
     "metadata": {},
     "output_type": "execute_result"
    },
    {
     "data": {
      "image/png": "[encoded data removed]",
      "text/plain": [
       "<Figure size 432x288 with 1 Axes>"
      ]
     },
     "metadata": {
      "needs_background": "light"
     },
     "output_type": "display_data"
    }
   ],
   "source": [
    "sns.distplot(df_pa['Rate'])"
   ]
  },
  {
   "cell_type": "code",
   "execution_count": 979,
   "metadata": {},
   "outputs": [
    {
     "name": "stderr",
     "output_type": "stream",
     "text": [
      "D:\\ProgramData\\Anaconda3\\envs\\08_web_mining\\lib\\site-packages\\seaborn\\_decorators.py:36: FutureWarning: Pass the following variable as a keyword arg: x. From version 0.12, the only valid positional argument will be `data`, and passing other arguments without an explicit keyword will result in an error or misinterpretation.\n",
      "  warnings.warn(\n"
     ]
    },
    {
     "data": {
      "text/plain": [
       "<AxesSubplot:xlabel='Rate'>"
      ]
     },
     "execution_count": 979,
     "metadata": {},
     "output_type": "execute_result"
    },
    {
     "data": {
      "image/png": "[encoded data removed]",
      "text/plain": [
       "<Figure size 432x288 with 1 Axes>"
      ]
     },
     "metadata": {
      "needs_background": "light"
     },
     "output_type": "display_data"
    }
   ],
   "source": [
    "sns.boxplot(df_pa['Rate'])"
   ]
  },
  {
   "cell_type": "code",
   "execution_count": null,
   "metadata": {},
   "outputs": [],
   "source": []
  },
  {
   "cell_type": "code",
   "execution_count": 1002,
   "metadata": {},
   "outputs": [
    {
     "data": {
      "text/plain": [
       "Dryer\n",
       "Dryer 01    23551\n",
       "Dryer 02    23743\n",
       "Dryer 03    21336\n",
       "Dryer 04    30968\n",
       "Name: dt, dtype: int64"
      ]
     },
     "execution_count": 1002,
     "metadata": {},
     "output_type": "execute_result"
    }
   ],
   "source": [
    "df_nj.groupby(by=['Dryer'])['dt'].count()"
   ]
  },
  {
   "cell_type": "code",
   "execution_count": 1003,
   "metadata": {},
   "outputs": [
    {
     "data": {
      "text/plain": [
       "Dryer\n",
       "Dryer 06    23787\n",
       "Dryer 07    28045\n",
       "Dryer 08    20877\n",
       "Dryer 10    16192\n",
       "Dryer 11      293\n",
       "Name: dt, dtype: int64"
      ]
     },
     "execution_count": 1003,
     "metadata": {},
     "output_type": "execute_result"
    }
   ],
   "source": [
    "df_pa.groupby(by=['Dryer'])['dt'].count()"
   ]
  },
  {
   "cell_type": "code",
   "execution_count": 731,
   "metadata": {},
   "outputs": [
    {
     "name": "stderr",
     "output_type": "stream",
     "text": [
      "D:\\ProgramData\\Anaconda3\\envs\\08_web_mining\\lib\\site-packages\\seaborn\\_decorators.py:36: FutureWarning: Pass the following variable as a keyword arg: x. From version 0.12, the only valid positional argument will be `data`, and passing other arguments without an explicit keyword will result in an error or misinterpretation.\n",
      "  warnings.warn(\n"
     ]
    },
    {
     "data": {
      "text/plain": [
       "<AxesSubplot:xlabel='Rate'>"
      ]
     },
     "execution_count": 731,
     "metadata": {},
     "output_type": "execute_result"
    },
    {
     "data": {
      "image/png": "[encoded data removed]",
      "text/plain": [
       "<Figure size 432x288 with 1 Axes>"
      ]
     },
     "metadata": {
      "needs_background": "light"
     },
     "output_type": "display_data"
    }
   ],
   "source": [
    "sns.boxplot(df_product['Rate'])"
   ]
  },
  {
   "cell_type": "code",
   "execution_count": 1005,
   "metadata": {},
   "outputs": [
    {
     "data": {
      "text/plain": [
       "ProdLine\n",
       "Chemical          9282\n",
       "Cosmetic            96\n",
       "Flavors          43304\n",
       "Food Additive     8593\n",
       "Nutraceutical    20978\n",
       "Pharma            3339\n",
       "Vitamin           3760\n",
       "Name: dt_est, dtype: int64"
      ]
     },
     "execution_count": 1005,
     "metadata": {},
     "output_type": "execute_result"
    }
   ],
   "source": [
    "df_pa.groupby(['ProdLine'])['dt_est'].count()"
   ]
  },
  {
   "cell_type": "code",
   "execution_count": 240,
   "metadata": {},
   "outputs": [
    {
     "data": {
      "text/html": [
       "<div>\n",
       "<style scoped>\n",
       "    .dataframe tbody tr th:only-of-type {\n",
       "        vertical-align: middle;\n",
       "    }\n",
       "\n",
       "    .dataframe tbody tr th {\n",
       "        vertical-align: top;\n",
       "    }\n",
       "\n",
       "    .dataframe thead th {\n",
       "        text-align: right;\n",
       "    }\n",
       "</style>\n",
       "<table border=\"1\" class=\"dataframe\">\n",
       "  <thead>\n",
       "    <tr style=\"text-align: right;\">\n",
       "      <th></th>\n",
       "      <th>StartDate</th>\n",
       "      <th>BatchNumber</th>\n",
       "      <th>CustItem</th>\n",
       "      <th>Dryer</th>\n",
       "      <th>ScheduledDryQty</th>\n",
       "      <th>ActualDryQty</th>\n",
       "      <th>YieldPercentage</th>\n",
       "      <th>DryingTime_Hrs</th>\n",
       "      <th>CleanTime_Hrs</th>\n",
       "      <th>DownTime_Hrs</th>\n",
       "      <th>TotalRunTime_Hrs</th>\n",
       "      <th>ProdLine</th>\n",
       "      <th>Rate</th>\n",
       "      <th>dt_est</th>\n",
       "      <th>hours</th>\n",
       "      <th>hour_add</th>\n",
       "    </tr>\n",
       "  </thead>\n",
       "  <tbody>\n",
       "    <tr>\n",
       "      <th>0</th>\n",
       "      <td>2016-01-02 08:54:58.000</td>\n",
       "      <td>NJSD313825</td>\n",
       "      <td>10013-0000</td>\n",
       "      <td>Dryer 04</td>\n",
       "      <td>333.7357</td>\n",
       "      <td>352.2</td>\n",
       "      <td>105.5</td>\n",
       "      <td>2.4</td>\n",
       "      <td>5.1</td>\n",
       "      <td>0.0</td>\n",
       "      <td>7.5</td>\n",
       "      <td>Fragrance</td>\n",
       "      <td>146.75</td>\n",
       "      <td>2016-01-02 09:00:00-05:00</td>\n",
       "      <td>3</td>\n",
       "      <td>0 days 00:00:00</td>\n",
       "    </tr>\n",
       "    <tr>\n",
       "      <th>1</th>\n",
       "      <td>2016-01-02 08:54:58.000</td>\n",
       "      <td>NJSD313825</td>\n",
       "      <td>10013-0000</td>\n",
       "      <td>Dryer 04</td>\n",
       "      <td>333.7357</td>\n",
       "      <td>352.2</td>\n",
       "      <td>105.5</td>\n",
       "      <td>2.4</td>\n",
       "      <td>5.1</td>\n",
       "      <td>0.0</td>\n",
       "      <td>7.5</td>\n",
       "      <td>Fragrance</td>\n",
       "      <td>146.75</td>\n",
       "      <td>2016-01-02 10:00:00-05:00</td>\n",
       "      <td>3</td>\n",
       "      <td>0 days 01:00:00</td>\n",
       "    </tr>\n",
       "    <tr>\n",
       "      <th>2</th>\n",
       "      <td>2016-01-02 08:54:58.000</td>\n",
       "      <td>NJSD313825</td>\n",
       "      <td>10013-0000</td>\n",
       "      <td>Dryer 04</td>\n",
       "      <td>333.7357</td>\n",
       "      <td>352.2</td>\n",
       "      <td>105.5</td>\n",
       "      <td>2.4</td>\n",
       "      <td>5.1</td>\n",
       "      <td>0.0</td>\n",
       "      <td>7.5</td>\n",
       "      <td>Fragrance</td>\n",
       "      <td>146.75</td>\n",
       "      <td>2016-01-02 11:00:00-05:00</td>\n",
       "      <td>3</td>\n",
       "      <td>0 days 02:00:00</td>\n",
       "    </tr>\n",
       "    <tr>\n",
       "      <th>3</th>\n",
       "      <td>2016-01-02 11:06:57.863</td>\n",
       "      <td>NJSD312807</td>\n",
       "      <td>10558-0000</td>\n",
       "      <td>Dryer 03</td>\n",
       "      <td>4270.412</td>\n",
       "      <td>3935.3999</td>\n",
       "      <td>92.2</td>\n",
       "      <td>8.4</td>\n",
       "      <td>0.2</td>\n",
       "      <td>4.2</td>\n",
       "      <td>12.8</td>\n",
       "      <td>Fragrance</td>\n",
       "      <td>468.499988</td>\n",
       "      <td>2016-01-02 11:00:00-05:00</td>\n",
       "      <td>9</td>\n",
       "      <td>0 days 00:00:00</td>\n",
       "    </tr>\n",
       "    <tr>\n",
       "      <th>4</th>\n",
       "      <td>2016-01-02 11:06:57.863</td>\n",
       "      <td>NJSD312807</td>\n",
       "      <td>10558-0000</td>\n",
       "      <td>Dryer 03</td>\n",
       "      <td>4270.412</td>\n",
       "      <td>3935.3999</td>\n",
       "      <td>92.2</td>\n",
       "      <td>8.4</td>\n",
       "      <td>0.2</td>\n",
       "      <td>4.2</td>\n",
       "      <td>12.8</td>\n",
       "      <td>Fragrance</td>\n",
       "      <td>468.499988</td>\n",
       "      <td>2016-01-02 12:00:00-05:00</td>\n",
       "      <td>9</td>\n",
       "      <td>0 days 01:00:00</td>\n",
       "    </tr>\n",
       "  </tbody>\n",
       "</table>\n",
       "</div>"
      ],
      "text/plain": [
       "                 StartDate BatchNumber    CustItem     Dryer ScheduledDryQty  \\\n",
       "0  2016-01-02 08:54:58.000  NJSD313825  10013-0000  Dryer 04        333.7357   \n",
       "1  2016-01-02 08:54:58.000  NJSD313825  10013-0000  Dryer 04        333.7357   \n",
       "2  2016-01-02 08:54:58.000  NJSD313825  10013-0000  Dryer 04        333.7357   \n",
       "3  2016-01-02 11:06:57.863  NJSD312807  10558-0000  Dryer 03        4270.412   \n",
       "4  2016-01-02 11:06:57.863  NJSD312807  10558-0000  Dryer 03        4270.412   \n",
       "\n",
       "  ActualDryQty YieldPercentage DryingTime_Hrs CleanTime_Hrs DownTime_Hrs  \\\n",
       "0        352.2           105.5            2.4           5.1          0.0   \n",
       "1        352.2           105.5            2.4           5.1          0.0   \n",
       "2        352.2           105.5            2.4           5.1          0.0   \n",
       "3    3935.3999            92.2            8.4           0.2          4.2   \n",
       "4    3935.3999            92.2            8.4           0.2          4.2   \n",
       "\n",
       "  TotalRunTime_Hrs   ProdLine        Rate                    dt_est hours  \\\n",
       "0              7.5  Fragrance      146.75 2016-01-02 09:00:00-05:00     3   \n",
       "1              7.5  Fragrance      146.75 2016-01-02 10:00:00-05:00     3   \n",
       "2              7.5  Fragrance      146.75 2016-01-02 11:00:00-05:00     3   \n",
       "3             12.8  Fragrance  468.499988 2016-01-02 11:00:00-05:00     9   \n",
       "4             12.8  Fragrance  468.499988 2016-01-02 12:00:00-05:00     9   \n",
       "\n",
       "         hour_add  \n",
       "0 0 days 00:00:00  \n",
       "1 0 days 01:00:00  \n",
       "2 0 days 02:00:00  \n",
       "3 0 days 00:00:00  \n",
       "4 0 days 01:00:00  "
      ]
     },
     "execution_count": 240,
     "metadata": {},
     "output_type": "execute_result"
    }
   ],
   "source": [
    "df_multi.head(5)"
   ]
  },
  {
   "cell_type": "code",
   "execution_count": 1006,
   "metadata": {},
   "outputs": [
    {
     "name": "stderr",
     "output_type": "stream",
     "text": [
      "D:\\ProgramData\\Anaconda3\\envs\\08_web_mining\\lib\\site-packages\\seaborn\\distributions.py:2551: FutureWarning: `distplot` is a deprecated function and will be removed in a future version. Please adapt your code to use either `displot` (a figure-level function with similar flexibility) or `histplot` (an axes-level function for histograms).\n",
      "  warnings.warn(msg, FutureWarning)\n"
     ]
    },
    {
     "data": {
      "text/plain": [
       "<AxesSubplot:xlabel='Rate', ylabel='Density'>"
      ]
     },
     "execution_count": 1006,
     "metadata": {},
     "output_type": "execute_result"
    },
    {
     "data": {
      "image/png": "[encoded data removed]",
      "text/plain": [
       "<Figure size 432x288 with 1 Axes>"
      ]
     },
     "metadata": {
      "needs_background": "light"
     },
     "output_type": "display_data"
    }
   ],
   "source": [
    "sns.distplot(df_pa['Rate'])"
   ]
  },
  {
   "cell_type": "code",
   "execution_count": 855,
   "metadata": {},
   "outputs": [],
   "source": [
    "df_40 = df_pa.loc[df_pa['Rate']>20]"
   ]
  },
  {
   "cell_type": "code",
   "execution_count": 856,
   "metadata": {},
   "outputs": [
    {
     "name": "stderr",
     "output_type": "stream",
     "text": [
      "D:\\ProgramData\\Anaconda3\\envs\\08_web_mining\\lib\\site-packages\\seaborn\\distributions.py:2551: FutureWarning: `distplot` is a deprecated function and will be removed in a future version. Please adapt your code to use either `displot` (a figure-level function with similar flexibility) or `histplot` (an axes-level function for histograms).\n",
      "  warnings.warn(msg, FutureWarning)\n"
     ]
    },
    {
     "data": {
      "text/plain": [
       "<AxesSubplot:xlabel='Rate', ylabel='Density'>"
      ]
     },
     "execution_count": 856,
     "metadata": {},
     "output_type": "execute_result"
    },
    {
     "data": {
      "image/png": "[encoded data removed]",
      "text/plain": [
       "<Figure size 432x288 with 1 Axes>"
      ]
     },
     "metadata": {
      "needs_background": "light"
     },
     "output_type": "display_data"
    }
   ],
   "source": [
    "sns.distplot(df_40['Rate'])"
   ]
  },
  {
   "cell_type": "code",
   "execution_count": 225,
   "metadata": {},
   "outputs": [
    {
     "data": {
      "text/plain": [
       "Index(['StartDate', 'BatchNumber', 'CustItem', 'Dryer', 'ScheduledDryQty',\n",
       "       'ActualDryQty', 'YieldPercentage', 'DryingTime_Hrs', 'CleanTime_Hrs',\n",
       "       'DownTime_Hrs', 'TotalRunTime_Hrs', 'ProdLine', 'Rate', 'dt_est',\n",
       "       'hours', 'hour_add', 'dt', 'dt_iso', 'timezone', 'city_name', 'lat',\n",
       "       'lon', 'temp', 'feels_like', 'temp_min', 'temp_max', 'pressure',\n",
       "       'humidity', 'wind_speed', 'wind_deg', 'clouds_all', 'weather_id',\n",
       "       'weather_main', 'weather_description', 'weather_icon', 'year',\n",
       "       'quarter', 'month', 'day', '_merge'],\n",
       "      dtype='object')"
      ]
     },
     "execution_count": 225,
     "metadata": {},
     "output_type": "execute_result"
    }
   ],
   "source": [
    "df_40.columns"
   ]
  },
  {
   "cell_type": "code",
   "execution_count": 858,
   "metadata": {},
   "outputs": [
    {
     "data": {
      "text/plain": [
       "(9689, 40)"
      ]
     },
     "execution_count": 858,
     "metadata": {},
     "output_type": "execute_result"
    }
   ],
   "source": [
    "df_40[df_40['ProdLine']=='Chemical'].shape"
   ]
  },
  {
   "cell_type": "code",
   "execution_count": 859,
   "metadata": {},
   "outputs": [],
   "source": [
    "df_41 = df_40[df_40['ProdLine']=='Chemical']"
   ]
  },
  {
   "cell_type": "code",
   "execution_count": 860,
   "metadata": {},
   "outputs": [
    {
     "data": {
      "text/plain": [
       "<AxesSubplot:>"
      ]
     },
     "execution_count": 860,
     "metadata": {},
     "output_type": "execute_result"
    },
    {
     "data": {
      "image/png": "[encoded data removed]",
      "text/plain": [
       "<Figure size 432x288 with 1 Axes>"
      ]
     },
     "metadata": {
      "needs_background": "light"
     },
     "output_type": "display_data"
    }
   ],
   "source": [
    "df_41['dt_est'].hist()"
   ]
  },
  {
   "cell_type": "code",
   "execution_count": 238,
   "metadata": {},
   "outputs": [
    {
     "data": {
      "text/plain": [
       "1225     2016-01-26 23:00:00-05:00\n",
       "1226     2016-01-27 00:00:00-05:00\n",
       "1227     2016-01-27 01:00:00-05:00\n",
       "1228     2016-01-27 02:00:00-05:00\n",
       "1229     2016-01-27 03:00:00-05:00\n",
       "                    ...           \n",
       "121589   2020-12-27 06:00:00-05:00\n",
       "121590   2020-12-27 07:00:00-05:00\n",
       "121591   2020-12-27 08:00:00-05:00\n",
       "121592   2020-12-27 09:00:00-05:00\n",
       "121593   2020-12-27 10:00:00-05:00\n",
       "Name: dt_est, Length: 11529, dtype: datetime64[ns, America/New_York]"
      ]
     },
     "execution_count": 238,
     "metadata": {},
     "output_type": "execute_result"
    }
   ],
   "source": [
    "df_41.loc[:,'dt_est']"
   ]
  },
  {
   "cell_type": "code",
   "execution_count": 262,
   "metadata": {},
   "outputs": [],
   "source": [
    "import seaborn as sns"
   ]
  },
  {
   "cell_type": "code",
   "execution_count": 241,
   "metadata": {},
   "outputs": [
    {
     "data": {
      "text/plain": [
       "Index(['StartDate', 'BatchNumber', 'CustItem', 'Dryer', 'ScheduledDryQty',\n",
       "       'ActualDryQty', 'YieldPercentage', 'DryingTime_Hrs', 'CleanTime_Hrs',\n",
       "       'DownTime_Hrs', 'TotalRunTime_Hrs', 'ProdLine', 'Rate', 'dt_est',\n",
       "       'hours', 'hour_add', 'dt', 'dt_iso', 'timezone', 'city_name', 'lat',\n",
       "       'lon', 'temp', 'feels_like', 'temp_min', 'temp_max', 'pressure',\n",
       "       'humidity', 'wind_speed', 'wind_deg', 'clouds_all', 'weather_id',\n",
       "       'weather_main', 'weather_description', 'weather_icon', 'year',\n",
       "       'quarter', 'month', 'day', '_merge'],\n",
       "      dtype='object')"
      ]
     },
     "execution_count": 241,
     "metadata": {},
     "output_type": "execute_result"
    }
   ],
   "source": [
    "df_41.columns"
   ]
  },
  {
   "cell_type": "code",
   "execution_count": 863,
   "metadata": {},
   "outputs": [
    {
     "data": {
      "text/plain": [
       "ProdLine\n",
       "Chemical          9689\n",
       "Cosmetic            96\n",
       "Flavors          49176\n",
       "Food Additive    10364\n",
       "Nutraceutical    24065\n",
       "Pharma            3342\n",
       "Vitamin           5707\n",
       "Name: dt, dtype: int64"
      ]
     },
     "execution_count": 863,
     "metadata": {},
     "output_type": "execute_result"
    }
   ],
   "source": [
    "df_40.groupby(by=['ProdLine'])['dt'].count()"
   ]
  },
  {
   "cell_type": "code",
   "execution_count": 864,
   "metadata": {},
   "outputs": [],
   "source": [
    "import matplotlib.pyplot as plt"
   ]
  },
  {
   "cell_type": "code",
   "execution_count": 1012,
   "metadata": {},
   "outputs": [
    {
     "data": {
      "image/png": "[encoded data removed]",
      "text/plain": [
       "<Figure size 576x432 with 1 Axes>"
      ]
     },
     "metadata": {
      "needs_background": "light"
     },
     "output_type": "display_data"
    }
   ],
   "source": [
    "fig,ax = plt.subplots(figsize=(8,6))"
   ]
  },
  {
   "cell_type": "code",
   "execution_count": 1013,
   "metadata": {},
   "outputs": [],
   "source": [
    "data_2 = pd.concat([df_40['Rate'], df_40['ProdLine']], axis=1)"
   ]
  },
  {
   "cell_type": "code",
   "execution_count": 1014,
   "metadata": {},
   "outputs": [
    {
     "data": {
      "text/plain": [
       "(102890, 2)"
      ]
     },
     "execution_count": 1014,
     "metadata": {},
     "output_type": "execute_result"
    }
   ],
   "source": [
    "data_2.shape"
   ]
  },
  {
   "cell_type": "code",
   "execution_count": 1015,
   "metadata": {},
   "outputs": [
    {
     "data": {
      "image/png": "[encoded data removed]",
      "text/plain": [
       "<Figure size 432x288 with 1 Axes>"
      ]
     },
     "metadata": {
      "needs_background": "light"
     },
     "output_type": "display_data"
    }
   ],
   "source": [
    "fig = sns.boxplot(x='ProdLine', y='Rate', data=data_2)"
   ]
  },
  {
   "cell_type": "code",
   "execution_count": null,
   "metadata": {},
   "outputs": [],
   "source": [
    "df_41 = df_pa"
   ]
  },
  {
   "cell_type": "code",
   "execution_count": 1018,
   "metadata": {},
   "outputs": [
    {
     "data": {
      "text/plain": [
       "Dryer\n",
       "Dryer 06    23787\n",
       "Dryer 07    28045\n",
       "Dryer 08    20877\n",
       "Dryer 10    16192\n",
       "Dryer 11      293\n",
       "Name: dt, dtype: int64"
      ]
     },
     "execution_count": 1018,
     "metadata": {},
     "output_type": "execute_result"
    }
   ],
   "source": [
    "df_pa.groupby(['Dryer'])['dt'].count()"
   ]
  },
  {
   "cell_type": "code",
   "execution_count": 1017,
   "metadata": {},
   "outputs": [
    {
     "data": {
      "text/plain": [
       "ProdLine\n",
       "Chemical          9282\n",
       "Cosmetic            96\n",
       "Flavors          43266\n",
       "Food Additive     8593\n",
       "Nutraceutical    20858\n",
       "Pharma            3339\n",
       "Vitamin           3760\n",
       "Name: dt, dtype: int64"
      ]
     },
     "execution_count": 1017,
     "metadata": {},
     "output_type": "execute_result"
    }
   ],
   "source": [
    "df_pa.groupby(['ProdLine'])['dt'].count()"
   ]
  },
  {
   "cell_type": "code",
   "execution_count": 1021,
   "metadata": {},
   "outputs": [],
   "source": [
    "df_41 = df_pa.loc[(df_pa['ProdLine']=='Chemical') & (df_pa['Dryer'] == 'Dryer 06')]"
   ]
  },
  {
   "cell_type": "code",
   "execution_count": 1023,
   "metadata": {},
   "outputs": [
    {
     "data": {
      "image/png": "[encoded data removed]",
      "text/plain": [
       "<Figure size 576x432 with 1 Axes>"
      ]
     },
     "metadata": {
      "needs_background": "light"
     },
     "output_type": "display_data"
    }
   ],
   "source": [
    "fig,ax = plt.subplots(figsize=(8,6))\n",
    "data_41 = pd.concat([df_41['Rate'], df_41['month']], axis=1)\n",
    "fig = sns.boxplot(x='month', y='Rate', data=data_41)"
   ]
  },
  {
   "cell_type": "code",
   "execution_count": 1024,
   "metadata": {},
   "outputs": [
    {
     "data": {
      "image/png": "[encoded data removed]",
      "text/plain": [
       "<Figure size 576x432 with 1 Axes>"
      ]
     },
     "metadata": {
      "needs_background": "light"
     },
     "output_type": "display_data"
    }
   ],
   "source": [
    "df_42 = df_pa.loc[(df_pa['ProdLine']=='Chemical') & (df_pa['Dryer'] == 'Dryer 07')]\n",
    "fig,ax = plt.subplots(figsize=(8,6))\n",
    "data_42 = pd.concat([df_42['Rate'], df_42['month']], axis=1)\n",
    "fig = sns.boxplot(x='month', y='Rate', data=data_42)"
   ]
  },
  {
   "cell_type": "code",
   "execution_count": 1025,
   "metadata": {},
   "outputs": [
    {
     "data": {
      "image/png": "[encoded data removed]",
      "text/plain": [
       "<Figure size 576x432 with 1 Axes>"
      ]
     },
     "metadata": {
      "needs_background": "light"
     },
     "output_type": "display_data"
    }
   ],
   "source": [
    "df_43 = df_pa.loc[(df_pa['ProdLine']=='Chemical') & (df_pa['Dryer'] == 'Dryer 08')]\n",
    "fig,ax = plt.subplots(figsize=(8,6))\n",
    "data_43 = pd.concat([df_43['Rate'], df_43['month']], axis=1)\n",
    "fig = sns.boxplot(x='month', y='Rate', data=data_43)"
   ]
  },
  {
   "cell_type": "code",
   "execution_count": 1026,
   "metadata": {},
   "outputs": [
    {
     "data": {
      "image/png": "[encoded data removed]",
      "text/plain": [
       "<Figure size 576x432 with 1 Axes>"
      ]
     },
     "metadata": {
      "needs_background": "light"
     },
     "output_type": "display_data"
    }
   ],
   "source": [
    "df_44 = df_pa.loc[(df_pa['ProdLine']=='Chemical') & (df_pa['Dryer'] == 'Dryer 10')]\n",
    "fig,ax = plt.subplots(figsize=(8,6))\n",
    "data_44 = pd.concat([df_44['Rate'], df_44['month']], axis=1)\n",
    "fig = sns.boxplot(x='month', y='Rate', data=data_44)"
   ]
  },
  {
   "cell_type": "code",
   "execution_count": 1027,
   "metadata": {},
   "outputs": [
    {
     "data": {
      "image/png": "[encoded data removed]",
      "text/plain": [
       "<Figure size 576x432 with 1 Axes>"
      ]
     },
     "metadata": {
      "needs_background": "light"
     },
     "output_type": "display_data"
    }
   ],
   "source": [
    "df_45 = df_pa.loc[(df_pa['ProdLine']=='Flavors') & (df_pa['Dryer'] == 'Dryer 06')]\n",
    "fig,ax = plt.subplots(figsize=(8,6))\n",
    "data_45 = pd.concat([df_45['Rate'], df_45['month']], axis=1)\n",
    "fig = sns.boxplot(x='month', y='Rate', data=data_45)"
   ]
  },
  {
   "cell_type": "code",
   "execution_count": 1028,
   "metadata": {},
   "outputs": [
    {
     "data": {
      "image/png": "[encoded data removed]",
      "text/plain": [
       "<Figure size 576x432 with 1 Axes>"
      ]
     },
     "metadata": {
      "needs_background": "light"
     },
     "output_type": "display_data"
    }
   ],
   "source": [
    "df_46 = df_pa.loc[(df_pa['ProdLine']=='Flavors') & (df_pa['Dryer'] == 'Dryer 07')]\n",
    "fig,ax = plt.subplots(figsize=(8,6))\n",
    "data_46 = pd.concat([df_46['Rate'], df_46['month']], axis=1)\n",
    "fig = sns.boxplot(x='month', y='Rate', data=data_46)"
   ]
  },
  {
   "cell_type": "code",
   "execution_count": 1030,
   "metadata": {},
   "outputs": [
    {
     "name": "stdout",
     "output_type": "stream",
     "text": [
      "(13460, 40)\n"
     ]
    },
    {
     "data": {
      "image/png": "[encoded data removed]",
      "text/plain": [
       "<Figure size 576x432 with 1 Axes>"
      ]
     },
     "metadata": {
      "needs_background": "light"
     },
     "output_type": "display_data"
    }
   ],
   "source": [
    "df_47 = df_pa.loc[(df_pa['ProdLine']=='Flavors') & (df_pa['Dryer'] == 'Dryer 08')]\n",
    "print(df_47.shape)\n",
    "fig,ax = plt.subplots(figsize=(8,6))\n",
    "data_47 = pd.concat([df_47['Rate'], df_47['month']], axis=1)\n",
    "fig = sns.boxplot(x='month', y='Rate', data=data_47)"
   ]
  },
  {
   "cell_type": "code",
   "execution_count": 1031,
   "metadata": {},
   "outputs": [
    {
     "name": "stdout",
     "output_type": "stream",
     "text": [
      "(9495, 40)\n"
     ]
    },
    {
     "data": {
      "image/png": "[encoded data removed]",
      "text/plain": [
       "<Figure size 576x432 with 1 Axes>"
      ]
     },
     "metadata": {
      "needs_background": "light"
     },
     "output_type": "display_data"
    }
   ],
   "source": [
    "df_48 = df_pa.loc[(df_pa['ProdLine']=='Flavors') & (df_pa['Dryer'] == 'Dryer 10')]\n",
    "print(df_48.shape)\n",
    "fig,ax = plt.subplots(figsize=(8,6))\n",
    "data_48 = pd.concat([df_48['Rate'], df_48['month']], axis=1)\n",
    "fig = sns.boxplot(x='month', y='Rate', data=data_48)"
   ]
  },
  {
   "cell_type": "code",
   "execution_count": 1032,
   "metadata": {},
   "outputs": [
    {
     "name": "stdout",
     "output_type": "stream",
     "text": [
      "(2033, 40)\n"
     ]
    },
    {
     "data": {
      "image/png": "[encoded data removed]",
      "text/plain": [
       "<Figure size 576x432 with 1 Axes>"
      ]
     },
     "metadata": {
      "needs_background": "light"
     },
     "output_type": "display_data"
    }
   ],
   "source": [
    "df_50 = df_pa.loc[(df_pa['ProdLine']=='Food Additive') & (df_pa['Dryer'] == 'Dryer 06')]\n",
    "print(df_50.shape)\n",
    "fig,ax = plt.subplots(figsize=(8,6))\n",
    "data_50 = pd.concat([df_50['Rate'], df_50['month']], axis=1)\n",
    "fig = sns.boxplot(x='month', y='Rate', data=data_50)"
   ]
  },
  {
   "cell_type": "code",
   "execution_count": 1033,
   "metadata": {},
   "outputs": [
    {
     "name": "stdout",
     "output_type": "stream",
     "text": [
      "(1927, 40)\n"
     ]
    },
    {
     "data": {
      "image/png": "[encoded data removed]",
      "text/plain": [
       "<Figure size 576x432 with 1 Axes>"
      ]
     },
     "metadata": {
      "needs_background": "light"
     },
     "output_type": "display_data"
    }
   ],
   "source": [
    "df_51 = df_pa.loc[(df_pa['ProdLine']=='Food Additive') & (df_pa['Dryer'] == 'Dryer 07')]\n",
    "print(df_51.shape)\n",
    "fig,ax = plt.subplots(figsize=(8,6))\n",
    "data_51 = pd.concat([df_51['Rate'], df_51['month']], axis=1)\n",
    "fig = sns.boxplot(x='month', y='Rate', data=data_51)"
   ]
  },
  {
   "cell_type": "code",
   "execution_count": 1034,
   "metadata": {},
   "outputs": [
    {
     "name": "stdout",
     "output_type": "stream",
     "text": [
      "(855, 40)\n"
     ]
    },
    {
     "data": {
      "image/png": "[encoded data removed]",
      "text/plain": [
       "<Figure size 576x432 with 1 Axes>"
      ]
     },
     "metadata": {
      "needs_background": "light"
     },
     "output_type": "display_data"
    }
   ],
   "source": [
    "df_52 = df_pa.loc[(df_pa['ProdLine']=='Food Additive') & (df_pa['Dryer'] == 'Dryer 08')]\n",
    "print(df_52.shape)\n",
    "fig,ax = plt.subplots(figsize=(8,6))\n",
    "data_52 = pd.concat([df_52['Rate'], df_52['month']], axis=1)\n",
    "fig = sns.boxplot(x='month', y='Rate', data=data_52)"
   ]
  },
  {
   "cell_type": "code",
   "execution_count": 1035,
   "metadata": {},
   "outputs": [
    {
     "name": "stdout",
     "output_type": "stream",
     "text": [
      "(3771, 40)\n"
     ]
    },
    {
     "data": {
      "image/png": "[encoded data removed]",
      "text/plain": [
       "<Figure size 576x432 with 1 Axes>"
      ]
     },
     "metadata": {
      "needs_background": "light"
     },
     "output_type": "display_data"
    }
   ],
   "source": [
    "df_53 = df_pa.loc[(df_pa['ProdLine']=='Food Additive') & (df_pa['Dryer'] == 'Dryer 10')]\n",
    "print(df_53.shape)\n",
    "fig,ax = plt.subplots(figsize=(8,6))\n",
    "data_53 = pd.concat([df_53['Rate'], df_53['month']], axis=1)\n",
    "fig = sns.boxplot(x='month', y='Rate', data=data_53)"
   ]
  },
  {
   "cell_type": "code",
   "execution_count": 1052,
   "metadata": {},
   "outputs": [
    {
     "name": "stdout",
     "output_type": "stream",
     "text": [
      "(3771, 41)\n"
     ]
    },
    {
     "data": {
      "image/png": "[encoded data removed]",
      "text/plain": [
       "<Figure size 576x432 with 1 Axes>"
      ]
     },
     "metadata": {
      "needs_background": "light"
     },
     "output_type": "display_data"
    }
   ],
   "source": [
    "df_54 = df_pa.loc[(df_pa['ProdLine']=='Food Additive') & (df_pa['Dryer'] == 'Dryer 10')]\n",
    "print(df_54.shape)\n",
    "fig,ax = plt.subplots(figsize=(8,6))\n",
    "data_54 = pd.concat([df_54['Rate'], df_54['hour']], axis=1)\n",
    "fig = sns.boxplot(x='hour', y='Rate', data=data_54)"
   ]
  },
  {
   "cell_type": "code",
   "execution_count": 1053,
   "metadata": {},
   "outputs": [
    {
     "name": "stdout",
     "output_type": "stream",
     "text": [
      "(855, 41)\n"
     ]
    },
    {
     "data": {
      "image/png": "[encoded data removed]",
      "text/plain": [
       "<Figure size 576x432 with 1 Axes>"
      ]
     },
     "metadata": {
      "needs_background": "light"
     },
     "output_type": "display_data"
    }
   ],
   "source": [
    "df_55 = df_pa.loc[(df_pa['ProdLine']=='Food Additive') & (df_pa['Dryer'] == 'Dryer 08')]\n",
    "print(df_55.shape)\n",
    "fig,ax = plt.subplots(figsize=(8,6))\n",
    "data_55 = pd.concat([df_55['Rate'], df_55['hour']], axis=1)\n",
    "fig = sns.boxplot(x='hour', y='Rate', data=data_55)"
   ]
  },
  {
   "cell_type": "code",
   "execution_count": null,
   "metadata": {},
   "outputs": [],
   "source": []
  },
  {
   "cell_type": "code",
   "execution_count": null,
   "metadata": {},
   "outputs": [],
   "source": []
  },
  {
   "cell_type": "code",
   "execution_count": null,
   "metadata": {},
   "outputs": [],
   "source": []
  },
  {
   "cell_type": "code",
   "execution_count": null,
   "metadata": {},
   "outputs": [],
   "source": []
  },
  {
   "cell_type": "code",
   "execution_count": null,
   "metadata": {},
   "outputs": [],
   "source": []
  },
  {
   "cell_type": "code",
   "execution_count": null,
   "metadata": {},
   "outputs": [],
   "source": []
  },
  {
   "cell_type": "code",
   "execution_count": 1044,
   "metadata": {},
   "outputs": [
    {
     "data": {
      "text/plain": [
       "17"
      ]
     },
     "execution_count": 1044,
     "metadata": {},
     "output_type": "execute_result"
    }
   ],
   "source": [
    "df_pa['dt_est'][12].hour"
   ]
  },
  {
   "cell_type": "code",
   "execution_count": 1007,
   "metadata": {},
   "outputs": [
    {
     "data": {
      "text/plain": [
       "(102890,)"
      ]
     },
     "execution_count": 1007,
     "metadata": {},
     "output_type": "execute_result"
    }
   ],
   "source": [
    "(df_40['Rate'].shape"
   ]
  },
  {
   "cell_type": "code",
   "execution_count": 1008,
   "metadata": {},
   "outputs": [
    {
     "data": {
      "text/plain": [
       "(102890,)"
      ]
     },
     "execution_count": 1008,
     "metadata": {},
     "output_type": "execute_result"
    }
   ],
   "source": [
    "df_40['ProdLine'].shape"
   ]
  },
  {
   "cell_type": "code",
   "execution_count": 1037,
   "metadata": {},
   "outputs": [
    {
     "data": {
      "text/plain": [
       "Index(['StartDate', 'BatchNumber', 'CustItem', 'Dryer', 'ScheduledDryQty',\n",
       "       'ActualDryQty', 'YieldPercentage', 'DryingTime_Hrs', 'CleanTime_Hrs',\n",
       "       'DownTime_Hrs', 'TotalRunTime_Hrs', 'ProdLine', 'Rate', 'dt_est',\n",
       "       'hours', 'hour_add', 'dt', 'dt_iso', 'timezone', 'city_name', 'lat',\n",
       "       'lon', 'temp', 'feels_like', 'temp_min', 'temp_max', 'pressure',\n",
       "       'humidity', 'wind_speed', 'wind_deg', 'clouds_all', 'weather_id',\n",
       "       'weather_main', 'weather_description', 'weather_icon', 'year',\n",
       "       'quarter', 'month', 'day', '_merge'],\n",
       "      dtype='object')"
      ]
     },
     "execution_count": 1037,
     "metadata": {},
     "output_type": "execute_result"
    }
   ],
   "source": [
    "df_pa.columns"
   ]
  },
  {
   "cell_type": "code",
   "execution_count": 1038,
   "metadata": {},
   "outputs": [
    {
     "data": {
      "text/plain": [
       "(89352, 40)"
      ]
     },
     "execution_count": 1038,
     "metadata": {},
     "output_type": "execute_result"
    }
   ],
   "source": [
    "df_pa.shape"
   ]
  },
  {
   "cell_type": "code",
   "execution_count": 1040,
   "metadata": {},
   "outputs": [
    {
     "data": {
      "text/html": [
       "<div>\n",
       "<style scoped>\n",
       "    .dataframe tbody tr th:only-of-type {\n",
       "        vertical-align: middle;\n",
       "    }\n",
       "\n",
       "    .dataframe tbody tr th {\n",
       "        vertical-align: top;\n",
       "    }\n",
       "\n",
       "    .dataframe thead th {\n",
       "        text-align: right;\n",
       "    }\n",
       "</style>\n",
       "<table border=\"1\" class=\"dataframe\">\n",
       "  <thead>\n",
       "    <tr style=\"text-align: right;\">\n",
       "      <th></th>\n",
       "      <th>Dryer</th>\n",
       "      <th>ScheduledDryQty</th>\n",
       "      <th>ActualDryQty</th>\n",
       "      <th>YieldPercentage</th>\n",
       "      <th>DryingTime_Hrs</th>\n",
       "      <th>CleanTime_Hrs</th>\n",
       "      <th>DownTime_Hrs</th>\n",
       "      <th>TotalRunTime_Hrs</th>\n",
       "      <th>ProdLine</th>\n",
       "      <th>Rate</th>\n",
       "      <th>dt_est</th>\n",
       "      <th>hours</th>\n",
       "    </tr>\n",
       "  </thead>\n",
       "  <tbody>\n",
       "    <tr>\n",
       "      <th>0</th>\n",
       "      <td>Dryer 08</td>\n",
       "      <td>26941.1765</td>\n",
       "      <td>23100.0</td>\n",
       "      <td>85.7</td>\n",
       "      <td>43.1</td>\n",
       "      <td>32.3</td>\n",
       "      <td>0.7</td>\n",
       "      <td>76.2</td>\n",
       "      <td>Nutraceutical</td>\n",
       "      <td>535.962877</td>\n",
       "      <td>2016-01-03 05:00:00-05:00</td>\n",
       "      <td>44</td>\n",
       "    </tr>\n",
       "    <tr>\n",
       "      <th>1</th>\n",
       "      <td>Dryer 08</td>\n",
       "      <td>26941.1765</td>\n",
       "      <td>23100.0</td>\n",
       "      <td>85.7</td>\n",
       "      <td>43.1</td>\n",
       "      <td>32.3</td>\n",
       "      <td>0.7</td>\n",
       "      <td>76.2</td>\n",
       "      <td>Nutraceutical</td>\n",
       "      <td>535.962877</td>\n",
       "      <td>2016-01-03 06:00:00-05:00</td>\n",
       "      <td>44</td>\n",
       "    </tr>\n",
       "    <tr>\n",
       "      <th>2</th>\n",
       "      <td>Dryer 08</td>\n",
       "      <td>26941.1765</td>\n",
       "      <td>23100.0</td>\n",
       "      <td>85.7</td>\n",
       "      <td>43.1</td>\n",
       "      <td>32.3</td>\n",
       "      <td>0.7</td>\n",
       "      <td>76.2</td>\n",
       "      <td>Nutraceutical</td>\n",
       "      <td>535.962877</td>\n",
       "      <td>2016-01-03 07:00:00-05:00</td>\n",
       "      <td>44</td>\n",
       "    </tr>\n",
       "    <tr>\n",
       "      <th>3</th>\n",
       "      <td>Dryer 08</td>\n",
       "      <td>26941.1765</td>\n",
       "      <td>23100.0</td>\n",
       "      <td>85.7</td>\n",
       "      <td>43.1</td>\n",
       "      <td>32.3</td>\n",
       "      <td>0.7</td>\n",
       "      <td>76.2</td>\n",
       "      <td>Nutraceutical</td>\n",
       "      <td>535.962877</td>\n",
       "      <td>2016-01-03 08:00:00-05:00</td>\n",
       "      <td>44</td>\n",
       "    </tr>\n",
       "    <tr>\n",
       "      <th>4</th>\n",
       "      <td>Dryer 08</td>\n",
       "      <td>26941.1765</td>\n",
       "      <td>23100.0</td>\n",
       "      <td>85.7</td>\n",
       "      <td>43.1</td>\n",
       "      <td>32.3</td>\n",
       "      <td>0.7</td>\n",
       "      <td>76.2</td>\n",
       "      <td>Nutraceutical</td>\n",
       "      <td>535.962877</td>\n",
       "      <td>2016-01-03 09:00:00-05:00</td>\n",
       "      <td>44</td>\n",
       "    </tr>\n",
       "    <tr>\n",
       "      <th>5</th>\n",
       "      <td>Dryer 08</td>\n",
       "      <td>26941.1765</td>\n",
       "      <td>23100.0</td>\n",
       "      <td>85.7</td>\n",
       "      <td>43.1</td>\n",
       "      <td>32.3</td>\n",
       "      <td>0.7</td>\n",
       "      <td>76.2</td>\n",
       "      <td>Nutraceutical</td>\n",
       "      <td>535.962877</td>\n",
       "      <td>2016-01-03 10:00:00-05:00</td>\n",
       "      <td>44</td>\n",
       "    </tr>\n",
       "    <tr>\n",
       "      <th>6</th>\n",
       "      <td>Dryer 08</td>\n",
       "      <td>26941.1765</td>\n",
       "      <td>23100.0</td>\n",
       "      <td>85.7</td>\n",
       "      <td>43.1</td>\n",
       "      <td>32.3</td>\n",
       "      <td>0.7</td>\n",
       "      <td>76.2</td>\n",
       "      <td>Nutraceutical</td>\n",
       "      <td>535.962877</td>\n",
       "      <td>2016-01-03 11:00:00-05:00</td>\n",
       "      <td>44</td>\n",
       "    </tr>\n",
       "  </tbody>\n",
       "</table>\n",
       "</div>"
      ],
      "text/plain": [
       "      Dryer ScheduledDryQty ActualDryQty YieldPercentage DryingTime_Hrs  \\\n",
       "0  Dryer 08      26941.1765      23100.0            85.7           43.1   \n",
       "1  Dryer 08      26941.1765      23100.0            85.7           43.1   \n",
       "2  Dryer 08      26941.1765      23100.0            85.7           43.1   \n",
       "3  Dryer 08      26941.1765      23100.0            85.7           43.1   \n",
       "4  Dryer 08      26941.1765      23100.0            85.7           43.1   \n",
       "5  Dryer 08      26941.1765      23100.0            85.7           43.1   \n",
       "6  Dryer 08      26941.1765      23100.0            85.7           43.1   \n",
       "\n",
       "  CleanTime_Hrs DownTime_Hrs TotalRunTime_Hrs       ProdLine        Rate  \\\n",
       "0          32.3          0.7             76.2  Nutraceutical  535.962877   \n",
       "1          32.3          0.7             76.2  Nutraceutical  535.962877   \n",
       "2          32.3          0.7             76.2  Nutraceutical  535.962877   \n",
       "3          32.3          0.7             76.2  Nutraceutical  535.962877   \n",
       "4          32.3          0.7             76.2  Nutraceutical  535.962877   \n",
       "5          32.3          0.7             76.2  Nutraceutical  535.962877   \n",
       "6          32.3          0.7             76.2  Nutraceutical  535.962877   \n",
       "\n",
       "                     dt_est hours  \n",
       "0 2016-01-03 05:00:00-05:00    44  \n",
       "1 2016-01-03 06:00:00-05:00    44  \n",
       "2 2016-01-03 07:00:00-05:00    44  \n",
       "3 2016-01-03 08:00:00-05:00    44  \n",
       "4 2016-01-03 09:00:00-05:00    44  \n",
       "5 2016-01-03 10:00:00-05:00    44  \n",
       "6 2016-01-03 11:00:00-05:00    44  "
      ]
     },
     "execution_count": 1040,
     "metadata": {},
     "output_type": "execute_result"
    }
   ],
   "source": [
    "df_pa.head(7).iloc[:, 3:15]"
   ]
  },
  {
   "cell_type": "code",
   "execution_count": 861,
   "metadata": {},
   "outputs": [
    {
     "data": {
      "text/plain": [
       "<AxesSubplot:xlabel='humidity', ylabel='Rate'>"
      ]
     },
     "execution_count": 861,
     "metadata": {},
     "output_type": "execute_result"
    },
    {
     "data": {
      "image/png": "[encoded data removed]",
      "text/plain": [
       "<Figure size 432x288 with 1 Axes>"
      ]
     },
     "metadata": {
      "needs_background": "light"
     },
     "output_type": "display_data"
    }
   ],
   "source": [
    "df_41 = df_40[(df_40['ProdLine']=='Chemical') & (df_40['Dryer']=='Dryer 10')]\n",
    "df_41.plot.scatter(x='humidity', y='Rate')"
   ]
  },
  {
   "cell_type": "code",
   "execution_count": 264,
   "metadata": {},
   "outputs": [
    {
     "name": "stderr",
     "output_type": "stream",
     "text": [
      "D:\\ProgramData\\Anaconda3\\envs\\08_web_mining\\lib\\site-packages\\seaborn\\_decorators.py:36: FutureWarning: Pass the following variable as a keyword arg: x. From version 0.12, the only valid positional argument will be `data`, and passing other arguments without an explicit keyword will result in an error or misinterpretation.\n",
      "  warnings.warn(\n"
     ]
    },
    {
     "data": {
      "text/plain": [
       "<AxesSubplot:xlabel='Rate'>"
      ]
     },
     "execution_count": 264,
     "metadata": {},
     "output_type": "execute_result"
    },
    {
     "data": {
      "image/png": "[encoded data removed]",
      "text/plain": [
       "<Figure size 432x288 with 1 Axes>"
      ]
     },
     "metadata": {
      "needs_background": "light"
     },
     "output_type": "display_data"
    }
   ],
   "source": [
    "sns.boxplot(df_41['Rate'])"
   ]
  },
  {
   "cell_type": "code",
   "execution_count": 263,
   "metadata": {},
   "outputs": [
    {
     "name": "stderr",
     "output_type": "stream",
     "text": [
      "D:\\ProgramData\\Anaconda3\\envs\\08_web_mining\\lib\\site-packages\\seaborn\\_decorators.py:36: FutureWarning: Pass the following variable as a keyword arg: x. From version 0.12, the only valid positional argument will be `data`, and passing other arguments without an explicit keyword will result in an error or misinterpretation.\n",
      "  warnings.warn(\n"
     ]
    },
    {
     "data": {
      "text/plain": [
       "<AxesSubplot:xlabel='humidity'>"
      ]
     },
     "execution_count": 263,
     "metadata": {},
     "output_type": "execute_result"
    },
    {
     "data": {
      "image/png": "[encoded data removed]",
      "text/plain": [
       "<Figure size 432x288 with 1 Axes>"
      ]
     },
     "metadata": {
      "needs_background": "light"
     },
     "output_type": "display_data"
    }
   ],
   "source": [
    "sns.boxplot(df_41['humidity'])"
   ]
  },
  {
   "cell_type": "code",
   "execution_count": 247,
   "metadata": {},
   "outputs": [
    {
     "data": {
      "text/plain": [
       "<AxesSubplot:xlabel='humidity', ylabel='Rate'>"
      ]
     },
     "execution_count": 247,
     "metadata": {},
     "output_type": "execute_result"
    },
    {
     "data": {
      "image/png": "[encoded data removed]",
      "text/plain": [
       "<Figure size 432x288 with 1 Axes>"
      ]
     },
     "metadata": {
      "needs_background": "light"
     },
     "output_type": "display_data"
    }
   ],
   "source": [
    "df_41 = df_40[df_40['ProdLine']=='Cosmetic']\n",
    "df_41.plot.scatter(x='humidity', y='Rate')"
   ]
  },
  {
   "cell_type": "code",
   "execution_count": 248,
   "metadata": {},
   "outputs": [
    {
     "data": {
      "text/plain": [
       "<AxesSubplot:xlabel='humidity', ylabel='Rate'>"
      ]
     },
     "execution_count": 248,
     "metadata": {},
     "output_type": "execute_result"
    },
    {
     "data": {
      "image/png": "[encoded data removed]",
      "text/plain": [
       "<Figure size 432x288 with 1 Axes>"
      ]
     },
     "metadata": {
      "needs_background": "light"
     },
     "output_type": "display_data"
    }
   ],
   "source": [
    "df_41 = df_40[df_40['ProdLine']=='Flavors']\n",
    "df_41.plot.scatter(x='humidity', y='Rate')"
   ]
  },
  {
   "cell_type": "code",
   "execution_count": 249,
   "metadata": {},
   "outputs": [
    {
     "data": {
      "text/plain": [
       "<AxesSubplot:xlabel='humidity', ylabel='Rate'>"
      ]
     },
     "execution_count": 249,
     "metadata": {},
     "output_type": "execute_result"
    },
    {
     "data": {
      "image/png": "[encoded data removed]",
      "text/plain": [
       "<Figure size 432x288 with 1 Axes>"
      ]
     },
     "metadata": {
      "needs_background": "light"
     },
     "output_type": "display_data"
    }
   ],
   "source": [
    "df_41 = df_40[df_40['ProdLine']=='Food Additive']\n",
    "df_41.plot.scatter(x='humidity', y='Rate')"
   ]
  },
  {
   "cell_type": "code",
   "execution_count": 250,
   "metadata": {},
   "outputs": [
    {
     "data": {
      "text/plain": [
       "<AxesSubplot:xlabel='humidity', ylabel='Rate'>"
      ]
     },
     "execution_count": 250,
     "metadata": {},
     "output_type": "execute_result"
    },
    {
     "data": {
      "image/png": "[encoded data removed]",
      "text/plain": [
       "<Figure size 432x288 with 1 Axes>"
      ]
     },
     "metadata": {
      "needs_background": "light"
     },
     "output_type": "display_data"
    }
   ],
   "source": [
    "df_41 = df_40[df_40['ProdLine']=='Nutraceutical']\n",
    "df_41.plot.scatter(x='humidity', y='Rate')"
   ]
  },
  {
   "cell_type": "code",
   "execution_count": 252,
   "metadata": {},
   "outputs": [
    {
     "data": {
      "text/plain": [
       "<AxesSubplot:xlabel='humidity', ylabel='Rate'>"
      ]
     },
     "execution_count": 252,
     "metadata": {},
     "output_type": "execute_result"
    },
    {
     "data": {
      "image/png": "[encoded data removed]",
      "text/plain": [
       "<Figure size 432x288 with 1 Axes>"
      ]
     },
     "metadata": {
      "needs_background": "light"
     },
     "output_type": "display_data"
    }
   ],
   "source": [
    "df_41 = df_40[df_40['ProdLine']=='Pharma']\n",
    "df_41.plot.scatter(x='humidity', y='Rate')"
   ]
  },
  {
   "cell_type": "code",
   "execution_count": 191,
   "metadata": {},
   "outputs": [
    {
     "data": {
      "text/plain": [
       "ProdLine\n",
       "Chemical         11529\n",
       "Cosmetic           193\n",
       "Flavors          64972\n",
       "Food Additive    11338\n",
       "Fragrance           31\n",
       "Nutraceutical    24201\n",
       "Pharma            3348\n",
       "Vitamin           5816\n",
       "Name: dt, dtype: int64"
      ]
     },
     "execution_count": 191,
     "metadata": {},
     "output_type": "execute_result"
    }
   ],
   "source": [
    "df_32.groupby(['ProdLine'])['dt'].count()"
   ]
  },
  {
   "cell_type": "code",
   "execution_count": 197,
   "metadata": {},
   "outputs": [
    {
     "data": {
      "text/plain": [
       "ProdLine\n",
       "Chemical         11529\n",
       "Cosmetic           193\n",
       "Flavors          64972\n",
       "Food Additive    11338\n",
       "Fragrance           31\n",
       "Nutraceutical    24201\n",
       "Pharma            3348\n",
       "Vitamin           5816\n",
       "Name: dt, dtype: int64"
      ]
     },
     "execution_count": 197,
     "metadata": {},
     "output_type": "execute_result"
    }
   ],
   "source": [
    "df_32.groupby(['ProdLine'])['dt'].count()"
   ]
  },
  {
   "cell_type": "code",
   "execution_count": 193,
   "metadata": {},
   "outputs": [
    {
     "data": {
      "text/plain": [
       "ProdLine\n",
       "Chemical          705\n",
       "Cosmetic           51\n",
       "Flavors          5303\n",
       "Food Additive     608\n",
       "Fragrance        2184\n",
       "Nutraceutical     656\n",
       "Pharma             85\n",
       "Vitamin           279\n",
       "Name: dt_est, dtype: int64"
      ]
     },
     "execution_count": 193,
     "metadata": {},
     "output_type": "execute_result"
    }
   ],
   "source": [
    "df_product.groupby(['ProdLine'])['dt_est'].count()"
   ]
  },
  {
   "cell_type": "code",
   "execution_count": 208,
   "metadata": {},
   "outputs": [
    {
     "data": {
      "text/plain": [
       "(9871, 15)"
      ]
     },
     "execution_count": 208,
     "metadata": {},
     "output_type": "execute_result"
    }
   ],
   "source": [
    "df_product.shape"
   ]
  },
  {
   "cell_type": "code",
   "execution_count": 205,
   "metadata": {},
   "outputs": [],
   "source": [
    "df_20 = df_product.drop(df_product[(df_product['ProdLine']=='Fragrance') & (df_product['BatchNumber'].str.contains('PA'))].index, axis=0)"
   ]
  },
  {
   "cell_type": "code",
   "execution_count": 209,
   "metadata": {},
   "outputs": [
    {
     "data": {
      "text/plain": [
       "(9870, 15)"
      ]
     },
     "execution_count": 209,
     "metadata": {},
     "output_type": "execute_result"
    }
   ],
   "source": [
    "df_20.shape"
   ]
  },
  {
   "cell_type": "code",
   "execution_count": 211,
   "metadata": {},
   "outputs": [
    {
     "data": {
      "text/html": [
       "<div>\n",
       "<style scoped>\n",
       "    .dataframe tbody tr th:only-of-type {\n",
       "        vertical-align: middle;\n",
       "    }\n",
       "\n",
       "    .dataframe tbody tr th {\n",
       "        vertical-align: top;\n",
       "    }\n",
       "\n",
       "    .dataframe thead th {\n",
       "        text-align: right;\n",
       "    }\n",
       "</style>\n",
       "<table border=\"1\" class=\"dataframe\">\n",
       "  <thead>\n",
       "    <tr style=\"text-align: right;\">\n",
       "      <th></th>\n",
       "      <th>StartDate</th>\n",
       "      <th>BatchNumber</th>\n",
       "      <th>CustItem</th>\n",
       "      <th>Dryer</th>\n",
       "      <th>ScheduledDryQty</th>\n",
       "      <th>ActualDryQty</th>\n",
       "      <th>YieldPercentage</th>\n",
       "      <th>DryingTime_Hrs</th>\n",
       "      <th>CleanTime_Hrs</th>\n",
       "      <th>DownTime_Hrs</th>\n",
       "      <th>TotalRunTime_Hrs</th>\n",
       "      <th>ProdLine</th>\n",
       "      <th>Rate</th>\n",
       "      <th>dt_est</th>\n",
       "      <th>hours</th>\n",
       "    </tr>\n",
       "  </thead>\n",
       "  <tbody>\n",
       "  </tbody>\n",
       "</table>\n",
       "</div>"
      ],
      "text/plain": [
       "Empty DataFrame\n",
       "Columns: [StartDate, BatchNumber, CustItem, Dryer, ScheduledDryQty, ActualDryQty, YieldPercentage, DryingTime_Hrs, CleanTime_Hrs, DownTime_Hrs, TotalRunTime_Hrs, ProdLine, Rate, dt_est, hours]\n",
       "Index: []"
      ]
     },
     "execution_count": 211,
     "metadata": {},
     "output_type": "execute_result"
    }
   ],
   "source": [
    "df_20[(df_20['ProdLine']=='Fragrance') & (df_20['BatchNumber'].str.contains('PA'))]"
   ]
  },
  {
   "cell_type": "code",
   "execution_count": 213,
   "metadata": {},
   "outputs": [],
   "source": [
    "df_21 = df_product.drop(index=3299, inplace=True)"
   ]
  },
  {
   "cell_type": "code",
   "execution_count": 215,
   "metadata": {},
   "outputs": [
    {
     "data": {
      "text/plain": [
       "(9870, 15)"
      ]
     },
     "execution_count": 215,
     "metadata": {},
     "output_type": "execute_result"
    }
   ],
   "source": [
    "df_product.shape"
   ]
  },
  {
   "cell_type": "code",
   "execution_count": 218,
   "metadata": {},
   "outputs": [
    {
     "data": {
      "text/plain": [
       "StartDate             2017-11-10 16:07:31.607\n",
       "BatchNumber                        NJSD340212\n",
       "CustItem                           42556-0000\n",
       "Dryer                                Dryer 01\n",
       "ScheduledDryQty                     10015.029\n",
       "ActualDryQty                           9481.0\n",
       "YieldPercentage                          94.7\n",
       "DryingTime_Hrs                           42.4\n",
       "CleanTime_Hrs                             3.5\n",
       "DownTime_Hrs                              4.6\n",
       "TotalRunTime_Hrs                         50.6\n",
       "ProdLine                              Flavors\n",
       "Rate                               223.608491\n",
       "dt_est              2017-11-10 16:00:00-05:00\n",
       "hours                                      43\n",
       "Name: 3351, dtype: object"
      ]
     },
     "execution_count": 218,
     "metadata": {},
     "output_type": "execute_result"
    }
   ],
   "source": [
    "df_product.iloc[3298,:]"
   ]
  },
  {
   "cell_type": "code",
   "execution_count": 219,
   "metadata": {},
   "outputs": [
    {
     "data": {
      "text/plain": [
       "StartDate             2017-11-11 03:48:13.623\n",
       "BatchNumber                        NJSD341112\n",
       "CustItem                           10095-0000\n",
       "Dryer                                Dryer 03\n",
       "ScheduledDryQty                      873.1334\n",
       "ActualDryQty                            746.4\n",
       "YieldPercentage                          85.5\n",
       "DryingTime_Hrs                            2.2\n",
       "CleanTime_Hrs                             6.2\n",
       "DownTime_Hrs                              0.2\n",
       "TotalRunTime_Hrs                          8.7\n",
       "ProdLine                              Flavors\n",
       "Rate                               339.272727\n",
       "dt_est              2017-11-11 04:00:00-05:00\n",
       "hours                                       3\n",
       "Name: 3352, dtype: object"
      ]
     },
     "execution_count": 219,
     "metadata": {},
     "output_type": "execute_result"
    }
   ],
   "source": [
    "df_product.iloc[3299]"
   ]
  },
  {
   "cell_type": "code",
   "execution_count": 207,
   "metadata": {},
   "outputs": [
    {
     "data": {
      "text/html": [
       "<div>\n",
       "<style scoped>\n",
       "    .dataframe tbody tr th:only-of-type {\n",
       "        vertical-align: middle;\n",
       "    }\n",
       "\n",
       "    .dataframe tbody tr th {\n",
       "        vertical-align: top;\n",
       "    }\n",
       "\n",
       "    .dataframe thead th {\n",
       "        text-align: right;\n",
       "    }\n",
       "</style>\n",
       "<table border=\"1\" class=\"dataframe\">\n",
       "  <thead>\n",
       "    <tr style=\"text-align: right;\">\n",
       "      <th></th>\n",
       "      <th>StartDate</th>\n",
       "      <th>BatchNumber</th>\n",
       "      <th>CustItem</th>\n",
       "      <th>Dryer</th>\n",
       "      <th>ScheduledDryQty</th>\n",
       "      <th>ActualDryQty</th>\n",
       "      <th>YieldPercentage</th>\n",
       "      <th>DryingTime_Hrs</th>\n",
       "      <th>CleanTime_Hrs</th>\n",
       "      <th>DownTime_Hrs</th>\n",
       "      <th>TotalRunTime_Hrs</th>\n",
       "      <th>ProdLine</th>\n",
       "      <th>Rate</th>\n",
       "      <th>dt_est</th>\n",
       "      <th>hours</th>\n",
       "    </tr>\n",
       "  </thead>\n",
       "  <tbody>\n",
       "    <tr>\n",
       "      <th>3299</th>\n",
       "      <td>2017-11-01 16:45:20.387</td>\n",
       "      <td>PASD340354</td>\n",
       "      <td>22713-0000</td>\n",
       "      <td>Dryer 08</td>\n",
       "      <td>31695.7536</td>\n",
       "      <td>25018.8</td>\n",
       "      <td>78.9</td>\n",
       "      <td>30.7</td>\n",
       "      <td>20.9</td>\n",
       "      <td>7.7</td>\n",
       "      <td>59.3</td>\n",
       "      <td>Fragrance</td>\n",
       "      <td>814.944625</td>\n",
       "      <td>2017-11-01 17:00:00-04:00</td>\n",
       "      <td>31</td>\n",
       "    </tr>\n",
       "  </tbody>\n",
       "</table>\n",
       "</div>"
      ],
      "text/plain": [
       "                    StartDate BatchNumber    CustItem     Dryer  \\\n",
       "3299  2017-11-01 16:45:20.387  PASD340354  22713-0000  Dryer 08   \n",
       "\n",
       "      ScheduledDryQty  ActualDryQty  YieldPercentage  DryingTime_Hrs  \\\n",
       "3299       31695.7536       25018.8             78.9            30.7   \n",
       "\n",
       "      CleanTime_Hrs  DownTime_Hrs  TotalRunTime_Hrs   ProdLine        Rate  \\\n",
       "3299           20.9           7.7              59.3  Fragrance  814.944625   \n",
       "\n",
       "                        dt_est  hours  \n",
       "3299 2017-11-01 17:00:00-04:00     31  "
      ]
     },
     "execution_count": 207,
     "metadata": {},
     "output_type": "execute_result"
    }
   ],
   "source": [
    "df_product[(df_product['ProdLine']=='Fragrance') & (df_product['BatchNumber'].str.contains('PA'))]"
   ]
  },
  {
   "cell_type": "code",
   "execution_count": 198,
   "metadata": {},
   "outputs": [
    {
     "data": {
      "text/html": [
       "<div>\n",
       "<style scoped>\n",
       "    .dataframe tbody tr th:only-of-type {\n",
       "        vertical-align: middle;\n",
       "    }\n",
       "\n",
       "    .dataframe tbody tr th {\n",
       "        vertical-align: top;\n",
       "    }\n",
       "\n",
       "    .dataframe thead th {\n",
       "        text-align: right;\n",
       "    }\n",
       "</style>\n",
       "<table border=\"1\" class=\"dataframe\">\n",
       "  <thead>\n",
       "    <tr style=\"text-align: right;\">\n",
       "      <th></th>\n",
       "      <th>StartDate</th>\n",
       "      <th>BatchNumber</th>\n",
       "      <th>CustItem</th>\n",
       "      <th>Dryer</th>\n",
       "      <th>ScheduledDryQty</th>\n",
       "      <th>ActualDryQty</th>\n",
       "      <th>YieldPercentage</th>\n",
       "      <th>DryingTime_Hrs</th>\n",
       "      <th>CleanTime_Hrs</th>\n",
       "      <th>DownTime_Hrs</th>\n",
       "      <th>...</th>\n",
       "      <th>clouds_all</th>\n",
       "      <th>weather_id</th>\n",
       "      <th>weather_main</th>\n",
       "      <th>weather_description</th>\n",
       "      <th>weather_icon</th>\n",
       "      <th>year</th>\n",
       "      <th>quarter</th>\n",
       "      <th>month</th>\n",
       "      <th>day</th>\n",
       "      <th>_merge</th>\n",
       "    </tr>\n",
       "  </thead>\n",
       "  <tbody>\n",
       "    <tr>\n",
       "      <th>37896</th>\n",
       "      <td>2017-11-01 16:45:20.387</td>\n",
       "      <td>PASD340354</td>\n",
       "      <td>22713-0000</td>\n",
       "      <td>Dryer 08</td>\n",
       "      <td>31695.7536</td>\n",
       "      <td>25018.8</td>\n",
       "      <td>78.9</td>\n",
       "      <td>30.7</td>\n",
       "      <td>20.9</td>\n",
       "      <td>7.7</td>\n",
       "      <td>...</td>\n",
       "      <td>90.0</td>\n",
       "      <td>804.0</td>\n",
       "      <td>Clouds</td>\n",
       "      <td>overcast clouds</td>\n",
       "      <td>04d</td>\n",
       "      <td>2017.0</td>\n",
       "      <td>4.0</td>\n",
       "      <td>11.0</td>\n",
       "      <td>1.0</td>\n",
       "      <td>both</td>\n",
       "    </tr>\n",
       "    <tr>\n",
       "      <th>37897</th>\n",
       "      <td>2017-11-01 16:45:20.387</td>\n",
       "      <td>PASD340354</td>\n",
       "      <td>22713-0000</td>\n",
       "      <td>Dryer 08</td>\n",
       "      <td>31695.7536</td>\n",
       "      <td>25018.8</td>\n",
       "      <td>78.9</td>\n",
       "      <td>30.7</td>\n",
       "      <td>20.9</td>\n",
       "      <td>7.7</td>\n",
       "      <td>...</td>\n",
       "      <td>90.0</td>\n",
       "      <td>804.0</td>\n",
       "      <td>Clouds</td>\n",
       "      <td>overcast clouds</td>\n",
       "      <td>04n</td>\n",
       "      <td>2017.0</td>\n",
       "      <td>4.0</td>\n",
       "      <td>11.0</td>\n",
       "      <td>1.0</td>\n",
       "      <td>both</td>\n",
       "    </tr>\n",
       "    <tr>\n",
       "      <th>37898</th>\n",
       "      <td>2017-11-01 16:45:20.387</td>\n",
       "      <td>PASD340354</td>\n",
       "      <td>22713-0000</td>\n",
       "      <td>Dryer 08</td>\n",
       "      <td>31695.7536</td>\n",
       "      <td>25018.8</td>\n",
       "      <td>78.9</td>\n",
       "      <td>30.7</td>\n",
       "      <td>20.9</td>\n",
       "      <td>7.7</td>\n",
       "      <td>...</td>\n",
       "      <td>90.0</td>\n",
       "      <td>804.0</td>\n",
       "      <td>Clouds</td>\n",
       "      <td>overcast clouds</td>\n",
       "      <td>04n</td>\n",
       "      <td>2017.0</td>\n",
       "      <td>4.0</td>\n",
       "      <td>11.0</td>\n",
       "      <td>1.0</td>\n",
       "      <td>both</td>\n",
       "    </tr>\n",
       "    <tr>\n",
       "      <th>37899</th>\n",
       "      <td>2017-11-01 16:45:20.387</td>\n",
       "      <td>PASD340354</td>\n",
       "      <td>22713-0000</td>\n",
       "      <td>Dryer 08</td>\n",
       "      <td>31695.7536</td>\n",
       "      <td>25018.8</td>\n",
       "      <td>78.9</td>\n",
       "      <td>30.7</td>\n",
       "      <td>20.9</td>\n",
       "      <td>7.7</td>\n",
       "      <td>...</td>\n",
       "      <td>90.0</td>\n",
       "      <td>804.0</td>\n",
       "      <td>Clouds</td>\n",
       "      <td>overcast clouds</td>\n",
       "      <td>04n</td>\n",
       "      <td>2017.0</td>\n",
       "      <td>4.0</td>\n",
       "      <td>11.0</td>\n",
       "      <td>1.0</td>\n",
       "      <td>both</td>\n",
       "    </tr>\n",
       "    <tr>\n",
       "      <th>37900</th>\n",
       "      <td>2017-11-01 16:45:20.387</td>\n",
       "      <td>PASD340354</td>\n",
       "      <td>22713-0000</td>\n",
       "      <td>Dryer 08</td>\n",
       "      <td>31695.7536</td>\n",
       "      <td>25018.8</td>\n",
       "      <td>78.9</td>\n",
       "      <td>30.7</td>\n",
       "      <td>20.9</td>\n",
       "      <td>7.7</td>\n",
       "      <td>...</td>\n",
       "      <td>90.0</td>\n",
       "      <td>804.0</td>\n",
       "      <td>Clouds</td>\n",
       "      <td>overcast clouds</td>\n",
       "      <td>04n</td>\n",
       "      <td>2017.0</td>\n",
       "      <td>4.0</td>\n",
       "      <td>11.0</td>\n",
       "      <td>1.0</td>\n",
       "      <td>both</td>\n",
       "    </tr>\n",
       "    <tr>\n",
       "      <th>37901</th>\n",
       "      <td>2017-11-01 16:45:20.387</td>\n",
       "      <td>PASD340354</td>\n",
       "      <td>22713-0000</td>\n",
       "      <td>Dryer 08</td>\n",
       "      <td>31695.7536</td>\n",
       "      <td>25018.8</td>\n",
       "      <td>78.9</td>\n",
       "      <td>30.7</td>\n",
       "      <td>20.9</td>\n",
       "      <td>7.7</td>\n",
       "      <td>...</td>\n",
       "      <td>90.0</td>\n",
       "      <td>804.0</td>\n",
       "      <td>Clouds</td>\n",
       "      <td>overcast clouds</td>\n",
       "      <td>04n</td>\n",
       "      <td>2017.0</td>\n",
       "      <td>4.0</td>\n",
       "      <td>11.0</td>\n",
       "      <td>1.0</td>\n",
       "      <td>both</td>\n",
       "    </tr>\n",
       "    <tr>\n",
       "      <th>37902</th>\n",
       "      <td>2017-11-01 16:45:20.387</td>\n",
       "      <td>PASD340354</td>\n",
       "      <td>22713-0000</td>\n",
       "      <td>Dryer 08</td>\n",
       "      <td>31695.7536</td>\n",
       "      <td>25018.8</td>\n",
       "      <td>78.9</td>\n",
       "      <td>30.7</td>\n",
       "      <td>20.9</td>\n",
       "      <td>7.7</td>\n",
       "      <td>...</td>\n",
       "      <td>90.0</td>\n",
       "      <td>804.0</td>\n",
       "      <td>Clouds</td>\n",
       "      <td>overcast clouds</td>\n",
       "      <td>04n</td>\n",
       "      <td>2017.0</td>\n",
       "      <td>4.0</td>\n",
       "      <td>11.0</td>\n",
       "      <td>1.0</td>\n",
       "      <td>both</td>\n",
       "    </tr>\n",
       "    <tr>\n",
       "      <th>37903</th>\n",
       "      <td>2017-11-01 16:45:20.387</td>\n",
       "      <td>PASD340354</td>\n",
       "      <td>22713-0000</td>\n",
       "      <td>Dryer 08</td>\n",
       "      <td>31695.7536</td>\n",
       "      <td>25018.8</td>\n",
       "      <td>78.9</td>\n",
       "      <td>30.7</td>\n",
       "      <td>20.9</td>\n",
       "      <td>7.7</td>\n",
       "      <td>...</td>\n",
       "      <td>90.0</td>\n",
       "      <td>804.0</td>\n",
       "      <td>Clouds</td>\n",
       "      <td>overcast clouds</td>\n",
       "      <td>04n</td>\n",
       "      <td>2017.0</td>\n",
       "      <td>4.0</td>\n",
       "      <td>11.0</td>\n",
       "      <td>2.0</td>\n",
       "      <td>both</td>\n",
       "    </tr>\n",
       "    <tr>\n",
       "      <th>37904</th>\n",
       "      <td>2017-11-01 16:45:20.387</td>\n",
       "      <td>PASD340354</td>\n",
       "      <td>22713-0000</td>\n",
       "      <td>Dryer 08</td>\n",
       "      <td>31695.7536</td>\n",
       "      <td>25018.8</td>\n",
       "      <td>78.9</td>\n",
       "      <td>30.7</td>\n",
       "      <td>20.9</td>\n",
       "      <td>7.7</td>\n",
       "      <td>...</td>\n",
       "      <td>90.0</td>\n",
       "      <td>804.0</td>\n",
       "      <td>Clouds</td>\n",
       "      <td>overcast clouds</td>\n",
       "      <td>04n</td>\n",
       "      <td>2017.0</td>\n",
       "      <td>4.0</td>\n",
       "      <td>11.0</td>\n",
       "      <td>2.0</td>\n",
       "      <td>both</td>\n",
       "    </tr>\n",
       "    <tr>\n",
       "      <th>37905</th>\n",
       "      <td>2017-11-01 16:45:20.387</td>\n",
       "      <td>PASD340354</td>\n",
       "      <td>22713-0000</td>\n",
       "      <td>Dryer 08</td>\n",
       "      <td>31695.7536</td>\n",
       "      <td>25018.8</td>\n",
       "      <td>78.9</td>\n",
       "      <td>30.7</td>\n",
       "      <td>20.9</td>\n",
       "      <td>7.7</td>\n",
       "      <td>...</td>\n",
       "      <td>90.0</td>\n",
       "      <td>804.0</td>\n",
       "      <td>Clouds</td>\n",
       "      <td>overcast clouds</td>\n",
       "      <td>04n</td>\n",
       "      <td>2017.0</td>\n",
       "      <td>4.0</td>\n",
       "      <td>11.0</td>\n",
       "      <td>2.0</td>\n",
       "      <td>both</td>\n",
       "    </tr>\n",
       "    <tr>\n",
       "      <th>37906</th>\n",
       "      <td>2017-11-01 16:45:20.387</td>\n",
       "      <td>PASD340354</td>\n",
       "      <td>22713-0000</td>\n",
       "      <td>Dryer 08</td>\n",
       "      <td>31695.7536</td>\n",
       "      <td>25018.8</td>\n",
       "      <td>78.9</td>\n",
       "      <td>30.7</td>\n",
       "      <td>20.9</td>\n",
       "      <td>7.7</td>\n",
       "      <td>...</td>\n",
       "      <td>90.0</td>\n",
       "      <td>804.0</td>\n",
       "      <td>Clouds</td>\n",
       "      <td>overcast clouds</td>\n",
       "      <td>04n</td>\n",
       "      <td>2017.0</td>\n",
       "      <td>4.0</td>\n",
       "      <td>11.0</td>\n",
       "      <td>2.0</td>\n",
       "      <td>both</td>\n",
       "    </tr>\n",
       "    <tr>\n",
       "      <th>37907</th>\n",
       "      <td>2017-11-01 16:45:20.387</td>\n",
       "      <td>PASD340354</td>\n",
       "      <td>22713-0000</td>\n",
       "      <td>Dryer 08</td>\n",
       "      <td>31695.7536</td>\n",
       "      <td>25018.8</td>\n",
       "      <td>78.9</td>\n",
       "      <td>30.7</td>\n",
       "      <td>20.9</td>\n",
       "      <td>7.7</td>\n",
       "      <td>...</td>\n",
       "      <td>90.0</td>\n",
       "      <td>804.0</td>\n",
       "      <td>Clouds</td>\n",
       "      <td>overcast clouds</td>\n",
       "      <td>04n</td>\n",
       "      <td>2017.0</td>\n",
       "      <td>4.0</td>\n",
       "      <td>11.0</td>\n",
       "      <td>2.0</td>\n",
       "      <td>both</td>\n",
       "    </tr>\n",
       "    <tr>\n",
       "      <th>37908</th>\n",
       "      <td>2017-11-01 16:45:20.387</td>\n",
       "      <td>PASD340354</td>\n",
       "      <td>22713-0000</td>\n",
       "      <td>Dryer 08</td>\n",
       "      <td>31695.7536</td>\n",
       "      <td>25018.8</td>\n",
       "      <td>78.9</td>\n",
       "      <td>30.7</td>\n",
       "      <td>20.9</td>\n",
       "      <td>7.7</td>\n",
       "      <td>...</td>\n",
       "      <td>90.0</td>\n",
       "      <td>804.0</td>\n",
       "      <td>Clouds</td>\n",
       "      <td>overcast clouds</td>\n",
       "      <td>04n</td>\n",
       "      <td>2017.0</td>\n",
       "      <td>4.0</td>\n",
       "      <td>11.0</td>\n",
       "      <td>2.0</td>\n",
       "      <td>both</td>\n",
       "    </tr>\n",
       "    <tr>\n",
       "      <th>37909</th>\n",
       "      <td>2017-11-01 16:45:20.387</td>\n",
       "      <td>PASD340354</td>\n",
       "      <td>22713-0000</td>\n",
       "      <td>Dryer 08</td>\n",
       "      <td>31695.7536</td>\n",
       "      <td>25018.8</td>\n",
       "      <td>78.9</td>\n",
       "      <td>30.7</td>\n",
       "      <td>20.9</td>\n",
       "      <td>7.7</td>\n",
       "      <td>...</td>\n",
       "      <td>90.0</td>\n",
       "      <td>701.0</td>\n",
       "      <td>Mist</td>\n",
       "      <td>mist</td>\n",
       "      <td>50n</td>\n",
       "      <td>2017.0</td>\n",
       "      <td>4.0</td>\n",
       "      <td>11.0</td>\n",
       "      <td>2.0</td>\n",
       "      <td>both</td>\n",
       "    </tr>\n",
       "    <tr>\n",
       "      <th>37910</th>\n",
       "      <td>2017-11-01 16:45:20.387</td>\n",
       "      <td>PASD340354</td>\n",
       "      <td>22713-0000</td>\n",
       "      <td>Dryer 08</td>\n",
       "      <td>31695.7536</td>\n",
       "      <td>25018.8</td>\n",
       "      <td>78.9</td>\n",
       "      <td>30.7</td>\n",
       "      <td>20.9</td>\n",
       "      <td>7.7</td>\n",
       "      <td>...</td>\n",
       "      <td>90.0</td>\n",
       "      <td>701.0</td>\n",
       "      <td>Mist</td>\n",
       "      <td>mist</td>\n",
       "      <td>50n</td>\n",
       "      <td>2017.0</td>\n",
       "      <td>4.0</td>\n",
       "      <td>11.0</td>\n",
       "      <td>2.0</td>\n",
       "      <td>both</td>\n",
       "    </tr>\n",
       "    <tr>\n",
       "      <th>37911</th>\n",
       "      <td>2017-11-01 16:45:20.387</td>\n",
       "      <td>PASD340354</td>\n",
       "      <td>22713-0000</td>\n",
       "      <td>Dryer 08</td>\n",
       "      <td>31695.7536</td>\n",
       "      <td>25018.8</td>\n",
       "      <td>78.9</td>\n",
       "      <td>30.7</td>\n",
       "      <td>20.9</td>\n",
       "      <td>7.7</td>\n",
       "      <td>...</td>\n",
       "      <td>40.0</td>\n",
       "      <td>701.0</td>\n",
       "      <td>Mist</td>\n",
       "      <td>mist</td>\n",
       "      <td>50d</td>\n",
       "      <td>2017.0</td>\n",
       "      <td>4.0</td>\n",
       "      <td>11.0</td>\n",
       "      <td>2.0</td>\n",
       "      <td>both</td>\n",
       "    </tr>\n",
       "    <tr>\n",
       "      <th>37912</th>\n",
       "      <td>2017-11-01 16:45:20.387</td>\n",
       "      <td>PASD340354</td>\n",
       "      <td>22713-0000</td>\n",
       "      <td>Dryer 08</td>\n",
       "      <td>31695.7536</td>\n",
       "      <td>25018.8</td>\n",
       "      <td>78.9</td>\n",
       "      <td>30.7</td>\n",
       "      <td>20.9</td>\n",
       "      <td>7.7</td>\n",
       "      <td>...</td>\n",
       "      <td>90.0</td>\n",
       "      <td>804.0</td>\n",
       "      <td>Clouds</td>\n",
       "      <td>overcast clouds</td>\n",
       "      <td>04d</td>\n",
       "      <td>2017.0</td>\n",
       "      <td>4.0</td>\n",
       "      <td>11.0</td>\n",
       "      <td>2.0</td>\n",
       "      <td>both</td>\n",
       "    </tr>\n",
       "    <tr>\n",
       "      <th>37913</th>\n",
       "      <td>2017-11-01 16:45:20.387</td>\n",
       "      <td>PASD340354</td>\n",
       "      <td>22713-0000</td>\n",
       "      <td>Dryer 08</td>\n",
       "      <td>31695.7536</td>\n",
       "      <td>25018.8</td>\n",
       "      <td>78.9</td>\n",
       "      <td>30.7</td>\n",
       "      <td>20.9</td>\n",
       "      <td>7.7</td>\n",
       "      <td>...</td>\n",
       "      <td>1.0</td>\n",
       "      <td>800.0</td>\n",
       "      <td>Clear</td>\n",
       "      <td>sky is clear</td>\n",
       "      <td>01d</td>\n",
       "      <td>2017.0</td>\n",
       "      <td>4.0</td>\n",
       "      <td>11.0</td>\n",
       "      <td>2.0</td>\n",
       "      <td>both</td>\n",
       "    </tr>\n",
       "    <tr>\n",
       "      <th>37914</th>\n",
       "      <td>2017-11-01 16:45:20.387</td>\n",
       "      <td>PASD340354</td>\n",
       "      <td>22713-0000</td>\n",
       "      <td>Dryer 08</td>\n",
       "      <td>31695.7536</td>\n",
       "      <td>25018.8</td>\n",
       "      <td>78.9</td>\n",
       "      <td>30.7</td>\n",
       "      <td>20.9</td>\n",
       "      <td>7.7</td>\n",
       "      <td>...</td>\n",
       "      <td>20.0</td>\n",
       "      <td>801.0</td>\n",
       "      <td>Clouds</td>\n",
       "      <td>few clouds</td>\n",
       "      <td>02d</td>\n",
       "      <td>2017.0</td>\n",
       "      <td>4.0</td>\n",
       "      <td>11.0</td>\n",
       "      <td>2.0</td>\n",
       "      <td>both</td>\n",
       "    </tr>\n",
       "    <tr>\n",
       "      <th>37915</th>\n",
       "      <td>2017-11-01 16:45:20.387</td>\n",
       "      <td>PASD340354</td>\n",
       "      <td>22713-0000</td>\n",
       "      <td>Dryer 08</td>\n",
       "      <td>31695.7536</td>\n",
       "      <td>25018.8</td>\n",
       "      <td>78.9</td>\n",
       "      <td>30.7</td>\n",
       "      <td>20.9</td>\n",
       "      <td>7.7</td>\n",
       "      <td>...</td>\n",
       "      <td>1.0</td>\n",
       "      <td>800.0</td>\n",
       "      <td>Clear</td>\n",
       "      <td>sky is clear</td>\n",
       "      <td>01d</td>\n",
       "      <td>2017.0</td>\n",
       "      <td>4.0</td>\n",
       "      <td>11.0</td>\n",
       "      <td>2.0</td>\n",
       "      <td>both</td>\n",
       "    </tr>\n",
       "    <tr>\n",
       "      <th>37916</th>\n",
       "      <td>2017-11-01 16:45:20.387</td>\n",
       "      <td>PASD340354</td>\n",
       "      <td>22713-0000</td>\n",
       "      <td>Dryer 08</td>\n",
       "      <td>31695.7536</td>\n",
       "      <td>25018.8</td>\n",
       "      <td>78.9</td>\n",
       "      <td>30.7</td>\n",
       "      <td>20.9</td>\n",
       "      <td>7.7</td>\n",
       "      <td>...</td>\n",
       "      <td>1.0</td>\n",
       "      <td>800.0</td>\n",
       "      <td>Clear</td>\n",
       "      <td>sky is clear</td>\n",
       "      <td>01d</td>\n",
       "      <td>2017.0</td>\n",
       "      <td>4.0</td>\n",
       "      <td>11.0</td>\n",
       "      <td>2.0</td>\n",
       "      <td>both</td>\n",
       "    </tr>\n",
       "    <tr>\n",
       "      <th>37917</th>\n",
       "      <td>2017-11-01 16:45:20.387</td>\n",
       "      <td>PASD340354</td>\n",
       "      <td>22713-0000</td>\n",
       "      <td>Dryer 08</td>\n",
       "      <td>31695.7536</td>\n",
       "      <td>25018.8</td>\n",
       "      <td>78.9</td>\n",
       "      <td>30.7</td>\n",
       "      <td>20.9</td>\n",
       "      <td>7.7</td>\n",
       "      <td>...</td>\n",
       "      <td>1.0</td>\n",
       "      <td>800.0</td>\n",
       "      <td>Clear</td>\n",
       "      <td>sky is clear</td>\n",
       "      <td>01d</td>\n",
       "      <td>2017.0</td>\n",
       "      <td>4.0</td>\n",
       "      <td>11.0</td>\n",
       "      <td>2.0</td>\n",
       "      <td>both</td>\n",
       "    </tr>\n",
       "    <tr>\n",
       "      <th>37918</th>\n",
       "      <td>2017-11-01 16:45:20.387</td>\n",
       "      <td>PASD340354</td>\n",
       "      <td>22713-0000</td>\n",
       "      <td>Dryer 08</td>\n",
       "      <td>31695.7536</td>\n",
       "      <td>25018.8</td>\n",
       "      <td>78.9</td>\n",
       "      <td>30.7</td>\n",
       "      <td>20.9</td>\n",
       "      <td>7.7</td>\n",
       "      <td>...</td>\n",
       "      <td>1.0</td>\n",
       "      <td>800.0</td>\n",
       "      <td>Clear</td>\n",
       "      <td>sky is clear</td>\n",
       "      <td>01d</td>\n",
       "      <td>2017.0</td>\n",
       "      <td>4.0</td>\n",
       "      <td>11.0</td>\n",
       "      <td>2.0</td>\n",
       "      <td>both</td>\n",
       "    </tr>\n",
       "    <tr>\n",
       "      <th>37919</th>\n",
       "      <td>2017-11-01 16:45:20.387</td>\n",
       "      <td>PASD340354</td>\n",
       "      <td>22713-0000</td>\n",
       "      <td>Dryer 08</td>\n",
       "      <td>31695.7536</td>\n",
       "      <td>25018.8</td>\n",
       "      <td>78.9</td>\n",
       "      <td>30.7</td>\n",
       "      <td>20.9</td>\n",
       "      <td>7.7</td>\n",
       "      <td>...</td>\n",
       "      <td>90.0</td>\n",
       "      <td>804.0</td>\n",
       "      <td>Clouds</td>\n",
       "      <td>overcast clouds</td>\n",
       "      <td>04d</td>\n",
       "      <td>2017.0</td>\n",
       "      <td>4.0</td>\n",
       "      <td>11.0</td>\n",
       "      <td>2.0</td>\n",
       "      <td>both</td>\n",
       "    </tr>\n",
       "    <tr>\n",
       "      <th>37920</th>\n",
       "      <td>2017-11-01 16:45:20.387</td>\n",
       "      <td>PASD340354</td>\n",
       "      <td>22713-0000</td>\n",
       "      <td>Dryer 08</td>\n",
       "      <td>31695.7536</td>\n",
       "      <td>25018.8</td>\n",
       "      <td>78.9</td>\n",
       "      <td>30.7</td>\n",
       "      <td>20.9</td>\n",
       "      <td>7.7</td>\n",
       "      <td>...</td>\n",
       "      <td>40.0</td>\n",
       "      <td>802.0</td>\n",
       "      <td>Clouds</td>\n",
       "      <td>scattered clouds</td>\n",
       "      <td>03d</td>\n",
       "      <td>2017.0</td>\n",
       "      <td>4.0</td>\n",
       "      <td>11.0</td>\n",
       "      <td>2.0</td>\n",
       "      <td>both</td>\n",
       "    </tr>\n",
       "    <tr>\n",
       "      <th>37921</th>\n",
       "      <td>2017-11-01 16:45:20.387</td>\n",
       "      <td>PASD340354</td>\n",
       "      <td>22713-0000</td>\n",
       "      <td>Dryer 08</td>\n",
       "      <td>31695.7536</td>\n",
       "      <td>25018.8</td>\n",
       "      <td>78.9</td>\n",
       "      <td>30.7</td>\n",
       "      <td>20.9</td>\n",
       "      <td>7.7</td>\n",
       "      <td>...</td>\n",
       "      <td>1.0</td>\n",
       "      <td>800.0</td>\n",
       "      <td>Clear</td>\n",
       "      <td>sky is clear</td>\n",
       "      <td>01n</td>\n",
       "      <td>2017.0</td>\n",
       "      <td>4.0</td>\n",
       "      <td>11.0</td>\n",
       "      <td>2.0</td>\n",
       "      <td>both</td>\n",
       "    </tr>\n",
       "    <tr>\n",
       "      <th>37922</th>\n",
       "      <td>2017-11-01 16:45:20.387</td>\n",
       "      <td>PASD340354</td>\n",
       "      <td>22713-0000</td>\n",
       "      <td>Dryer 08</td>\n",
       "      <td>31695.7536</td>\n",
       "      <td>25018.8</td>\n",
       "      <td>78.9</td>\n",
       "      <td>30.7</td>\n",
       "      <td>20.9</td>\n",
       "      <td>7.7</td>\n",
       "      <td>...</td>\n",
       "      <td>20.0</td>\n",
       "      <td>801.0</td>\n",
       "      <td>Clouds</td>\n",
       "      <td>few clouds</td>\n",
       "      <td>02n</td>\n",
       "      <td>2017.0</td>\n",
       "      <td>4.0</td>\n",
       "      <td>11.0</td>\n",
       "      <td>2.0</td>\n",
       "      <td>both</td>\n",
       "    </tr>\n",
       "    <tr>\n",
       "      <th>37923</th>\n",
       "      <td>2017-11-01 16:45:20.387</td>\n",
       "      <td>PASD340354</td>\n",
       "      <td>22713-0000</td>\n",
       "      <td>Dryer 08</td>\n",
       "      <td>31695.7536</td>\n",
       "      <td>25018.8</td>\n",
       "      <td>78.9</td>\n",
       "      <td>30.7</td>\n",
       "      <td>20.9</td>\n",
       "      <td>7.7</td>\n",
       "      <td>...</td>\n",
       "      <td>1.0</td>\n",
       "      <td>800.0</td>\n",
       "      <td>Clear</td>\n",
       "      <td>sky is clear</td>\n",
       "      <td>01n</td>\n",
       "      <td>2017.0</td>\n",
       "      <td>4.0</td>\n",
       "      <td>11.0</td>\n",
       "      <td>2.0</td>\n",
       "      <td>both</td>\n",
       "    </tr>\n",
       "    <tr>\n",
       "      <th>37924</th>\n",
       "      <td>2017-11-01 16:45:20.387</td>\n",
       "      <td>PASD340354</td>\n",
       "      <td>22713-0000</td>\n",
       "      <td>Dryer 08</td>\n",
       "      <td>31695.7536</td>\n",
       "      <td>25018.8</td>\n",
       "      <td>78.9</td>\n",
       "      <td>30.7</td>\n",
       "      <td>20.9</td>\n",
       "      <td>7.7</td>\n",
       "      <td>...</td>\n",
       "      <td>90.0</td>\n",
       "      <td>804.0</td>\n",
       "      <td>Clouds</td>\n",
       "      <td>overcast clouds</td>\n",
       "      <td>04n</td>\n",
       "      <td>2017.0</td>\n",
       "      <td>4.0</td>\n",
       "      <td>11.0</td>\n",
       "      <td>2.0</td>\n",
       "      <td>both</td>\n",
       "    </tr>\n",
       "    <tr>\n",
       "      <th>37925</th>\n",
       "      <td>2017-11-01 16:45:20.387</td>\n",
       "      <td>PASD340354</td>\n",
       "      <td>22713-0000</td>\n",
       "      <td>Dryer 08</td>\n",
       "      <td>31695.7536</td>\n",
       "      <td>25018.8</td>\n",
       "      <td>78.9</td>\n",
       "      <td>30.7</td>\n",
       "      <td>20.9</td>\n",
       "      <td>7.7</td>\n",
       "      <td>...</td>\n",
       "      <td>90.0</td>\n",
       "      <td>804.0</td>\n",
       "      <td>Clouds</td>\n",
       "      <td>overcast clouds</td>\n",
       "      <td>04n</td>\n",
       "      <td>2017.0</td>\n",
       "      <td>4.0</td>\n",
       "      <td>11.0</td>\n",
       "      <td>2.0</td>\n",
       "      <td>both</td>\n",
       "    </tr>\n",
       "    <tr>\n",
       "      <th>37926</th>\n",
       "      <td>2017-11-01 16:45:20.387</td>\n",
       "      <td>PASD340354</td>\n",
       "      <td>22713-0000</td>\n",
       "      <td>Dryer 08</td>\n",
       "      <td>31695.7536</td>\n",
       "      <td>25018.8</td>\n",
       "      <td>78.9</td>\n",
       "      <td>30.7</td>\n",
       "      <td>20.9</td>\n",
       "      <td>7.7</td>\n",
       "      <td>...</td>\n",
       "      <td>75.0</td>\n",
       "      <td>803.0</td>\n",
       "      <td>Clouds</td>\n",
       "      <td>broken clouds</td>\n",
       "      <td>04n</td>\n",
       "      <td>2017.0</td>\n",
       "      <td>4.0</td>\n",
       "      <td>11.0</td>\n",
       "      <td>2.0</td>\n",
       "      <td>both</td>\n",
       "    </tr>\n",
       "  </tbody>\n",
       "</table>\n",
       "<p>31 rows × 40 columns</p>\n",
       "</div>"
      ],
      "text/plain": [
       "                     StartDate BatchNumber    CustItem     Dryer  \\\n",
       "37896  2017-11-01 16:45:20.387  PASD340354  22713-0000  Dryer 08   \n",
       "37897  2017-11-01 16:45:20.387  PASD340354  22713-0000  Dryer 08   \n",
       "37898  2017-11-01 16:45:20.387  PASD340354  22713-0000  Dryer 08   \n",
       "37899  2017-11-01 16:45:20.387  PASD340354  22713-0000  Dryer 08   \n",
       "37900  2017-11-01 16:45:20.387  PASD340354  22713-0000  Dryer 08   \n",
       "37901  2017-11-01 16:45:20.387  PASD340354  22713-0000  Dryer 08   \n",
       "37902  2017-11-01 16:45:20.387  PASD340354  22713-0000  Dryer 08   \n",
       "37903  2017-11-01 16:45:20.387  PASD340354  22713-0000  Dryer 08   \n",
       "37904  2017-11-01 16:45:20.387  PASD340354  22713-0000  Dryer 08   \n",
       "37905  2017-11-01 16:45:20.387  PASD340354  22713-0000  Dryer 08   \n",
       "37906  2017-11-01 16:45:20.387  PASD340354  22713-0000  Dryer 08   \n",
       "37907  2017-11-01 16:45:20.387  PASD340354  22713-0000  Dryer 08   \n",
       "37908  2017-11-01 16:45:20.387  PASD340354  22713-0000  Dryer 08   \n",
       "37909  2017-11-01 16:45:20.387  PASD340354  22713-0000  Dryer 08   \n",
       "37910  2017-11-01 16:45:20.387  PASD340354  22713-0000  Dryer 08   \n",
       "37911  2017-11-01 16:45:20.387  PASD340354  22713-0000  Dryer 08   \n",
       "37912  2017-11-01 16:45:20.387  PASD340354  22713-0000  Dryer 08   \n",
       "37913  2017-11-01 16:45:20.387  PASD340354  22713-0000  Dryer 08   \n",
       "37914  2017-11-01 16:45:20.387  PASD340354  22713-0000  Dryer 08   \n",
       "37915  2017-11-01 16:45:20.387  PASD340354  22713-0000  Dryer 08   \n",
       "37916  2017-11-01 16:45:20.387  PASD340354  22713-0000  Dryer 08   \n",
       "37917  2017-11-01 16:45:20.387  PASD340354  22713-0000  Dryer 08   \n",
       "37918  2017-11-01 16:45:20.387  PASD340354  22713-0000  Dryer 08   \n",
       "37919  2017-11-01 16:45:20.387  PASD340354  22713-0000  Dryer 08   \n",
       "37920  2017-11-01 16:45:20.387  PASD340354  22713-0000  Dryer 08   \n",
       "37921  2017-11-01 16:45:20.387  PASD340354  22713-0000  Dryer 08   \n",
       "37922  2017-11-01 16:45:20.387  PASD340354  22713-0000  Dryer 08   \n",
       "37923  2017-11-01 16:45:20.387  PASD340354  22713-0000  Dryer 08   \n",
       "37924  2017-11-01 16:45:20.387  PASD340354  22713-0000  Dryer 08   \n",
       "37925  2017-11-01 16:45:20.387  PASD340354  22713-0000  Dryer 08   \n",
       "37926  2017-11-01 16:45:20.387  PASD340354  22713-0000  Dryer 08   \n",
       "\n",
       "      ScheduledDryQty ActualDryQty YieldPercentage DryingTime_Hrs  \\\n",
       "37896      31695.7536      25018.8            78.9           30.7   \n",
       "37897      31695.7536      25018.8            78.9           30.7   \n",
       "37898      31695.7536      25018.8            78.9           30.7   \n",
       "37899      31695.7536      25018.8            78.9           30.7   \n",
       "37900      31695.7536      25018.8            78.9           30.7   \n",
       "37901      31695.7536      25018.8            78.9           30.7   \n",
       "37902      31695.7536      25018.8            78.9           30.7   \n",
       "37903      31695.7536      25018.8            78.9           30.7   \n",
       "37904      31695.7536      25018.8            78.9           30.7   \n",
       "37905      31695.7536      25018.8            78.9           30.7   \n",
       "37906      31695.7536      25018.8            78.9           30.7   \n",
       "37907      31695.7536      25018.8            78.9           30.7   \n",
       "37908      31695.7536      25018.8            78.9           30.7   \n",
       "37909      31695.7536      25018.8            78.9           30.7   \n",
       "37910      31695.7536      25018.8            78.9           30.7   \n",
       "37911      31695.7536      25018.8            78.9           30.7   \n",
       "37912      31695.7536      25018.8            78.9           30.7   \n",
       "37913      31695.7536      25018.8            78.9           30.7   \n",
       "37914      31695.7536      25018.8            78.9           30.7   \n",
       "37915      31695.7536      25018.8            78.9           30.7   \n",
       "37916      31695.7536      25018.8            78.9           30.7   \n",
       "37917      31695.7536      25018.8            78.9           30.7   \n",
       "37918      31695.7536      25018.8            78.9           30.7   \n",
       "37919      31695.7536      25018.8            78.9           30.7   \n",
       "37920      31695.7536      25018.8            78.9           30.7   \n",
       "37921      31695.7536      25018.8            78.9           30.7   \n",
       "37922      31695.7536      25018.8            78.9           30.7   \n",
       "37923      31695.7536      25018.8            78.9           30.7   \n",
       "37924      31695.7536      25018.8            78.9           30.7   \n",
       "37925      31695.7536      25018.8            78.9           30.7   \n",
       "37926      31695.7536      25018.8            78.9           30.7   \n",
       "\n",
       "      CleanTime_Hrs DownTime_Hrs  ... clouds_all weather_id weather_main  \\\n",
       "37896          20.9          7.7  ...       90.0      804.0       Clouds   \n",
       "37897          20.9          7.7  ...       90.0      804.0       Clouds   \n",
       "37898          20.9          7.7  ...       90.0      804.0       Clouds   \n",
       "37899          20.9          7.7  ...       90.0      804.0       Clouds   \n",
       "37900          20.9          7.7  ...       90.0      804.0       Clouds   \n",
       "37901          20.9          7.7  ...       90.0      804.0       Clouds   \n",
       "37902          20.9          7.7  ...       90.0      804.0       Clouds   \n",
       "37903          20.9          7.7  ...       90.0      804.0       Clouds   \n",
       "37904          20.9          7.7  ...       90.0      804.0       Clouds   \n",
       "37905          20.9          7.7  ...       90.0      804.0       Clouds   \n",
       "37906          20.9          7.7  ...       90.0      804.0       Clouds   \n",
       "37907          20.9          7.7  ...       90.0      804.0       Clouds   \n",
       "37908          20.9          7.7  ...       90.0      804.0       Clouds   \n",
       "37909          20.9          7.7  ...       90.0      701.0         Mist   \n",
       "37910          20.9          7.7  ...       90.0      701.0         Mist   \n",
       "37911          20.9          7.7  ...       40.0      701.0         Mist   \n",
       "37912          20.9          7.7  ...       90.0      804.0       Clouds   \n",
       "37913          20.9          7.7  ...        1.0      800.0        Clear   \n",
       "37914          20.9          7.7  ...       20.0      801.0       Clouds   \n",
       "37915          20.9          7.7  ...        1.0      800.0        Clear   \n",
       "37916          20.9          7.7  ...        1.0      800.0        Clear   \n",
       "37917          20.9          7.7  ...        1.0      800.0        Clear   \n",
       "37918          20.9          7.7  ...        1.0      800.0        Clear   \n",
       "37919          20.9          7.7  ...       90.0      804.0       Clouds   \n",
       "37920          20.9          7.7  ...       40.0      802.0       Clouds   \n",
       "37921          20.9          7.7  ...        1.0      800.0        Clear   \n",
       "37922          20.9          7.7  ...       20.0      801.0       Clouds   \n",
       "37923          20.9          7.7  ...        1.0      800.0        Clear   \n",
       "37924          20.9          7.7  ...       90.0      804.0       Clouds   \n",
       "37925          20.9          7.7  ...       90.0      804.0       Clouds   \n",
       "37926          20.9          7.7  ...       75.0      803.0       Clouds   \n",
       "\n",
       "      weather_description weather_icon    year  quarter month  day _merge  \n",
       "37896     overcast clouds          04d  2017.0      4.0  11.0  1.0   both  \n",
       "37897     overcast clouds          04n  2017.0      4.0  11.0  1.0   both  \n",
       "37898     overcast clouds          04n  2017.0      4.0  11.0  1.0   both  \n",
       "37899     overcast clouds          04n  2017.0      4.0  11.0  1.0   both  \n",
       "37900     overcast clouds          04n  2017.0      4.0  11.0  1.0   both  \n",
       "37901     overcast clouds          04n  2017.0      4.0  11.0  1.0   both  \n",
       "37902     overcast clouds          04n  2017.0      4.0  11.0  1.0   both  \n",
       "37903     overcast clouds          04n  2017.0      4.0  11.0  2.0   both  \n",
       "37904     overcast clouds          04n  2017.0      4.0  11.0  2.0   both  \n",
       "37905     overcast clouds          04n  2017.0      4.0  11.0  2.0   both  \n",
       "37906     overcast clouds          04n  2017.0      4.0  11.0  2.0   both  \n",
       "37907     overcast clouds          04n  2017.0      4.0  11.0  2.0   both  \n",
       "37908     overcast clouds          04n  2017.0      4.0  11.0  2.0   both  \n",
       "37909                mist          50n  2017.0      4.0  11.0  2.0   both  \n",
       "37910                mist          50n  2017.0      4.0  11.0  2.0   both  \n",
       "37911                mist          50d  2017.0      4.0  11.0  2.0   both  \n",
       "37912     overcast clouds          04d  2017.0      4.0  11.0  2.0   both  \n",
       "37913        sky is clear          01d  2017.0      4.0  11.0  2.0   both  \n",
       "37914          few clouds          02d  2017.0      4.0  11.0  2.0   both  \n",
       "37915        sky is clear          01d  2017.0      4.0  11.0  2.0   both  \n",
       "37916        sky is clear          01d  2017.0      4.0  11.0  2.0   both  \n",
       "37917        sky is clear          01d  2017.0      4.0  11.0  2.0   both  \n",
       "37918        sky is clear          01d  2017.0      4.0  11.0  2.0   both  \n",
       "37919     overcast clouds          04d  2017.0      4.0  11.0  2.0   both  \n",
       "37920    scattered clouds          03d  2017.0      4.0  11.0  2.0   both  \n",
       "37921        sky is clear          01n  2017.0      4.0  11.0  2.0   both  \n",
       "37922          few clouds          02n  2017.0      4.0  11.0  2.0   both  \n",
       "37923        sky is clear          01n  2017.0      4.0  11.0  2.0   both  \n",
       "37924     overcast clouds          04n  2017.0      4.0  11.0  2.0   both  \n",
       "37925     overcast clouds          04n  2017.0      4.0  11.0  2.0   both  \n",
       "37926       broken clouds          04n  2017.0      4.0  11.0  2.0   both  \n",
       "\n",
       "[31 rows x 40 columns]"
      ]
     },
     "execution_count": 198,
     "metadata": {},
     "output_type": "execute_result"
    }
   ],
   "source": [
    "df_32[df_32['ProdLine']=='Fragrance']"
   ]
  },
  {
   "cell_type": "code",
   "execution_count": null,
   "metadata": {},
   "outputs": [],
   "source": []
  },
  {
   "cell_type": "code",
   "execution_count": null,
   "metadata": {},
   "outputs": [],
   "source": []
  },
  {
   "cell_type": "code",
   "execution_count": null,
   "metadata": {},
   "outputs": [],
   "source": []
  },
  {
   "cell_type": "code",
   "execution_count": null,
   "metadata": {},
   "outputs": [],
   "source": []
  },
  {
   "cell_type": "code",
   "execution_count": 165,
   "metadata": {},
   "outputs": [
    {
     "data": {
      "text/plain": [
       "(9871, 15)"
      ]
     },
     "execution_count": 165,
     "metadata": {},
     "output_type": "execute_result"
    }
   ],
   "source": [
    "df_product.shape"
   ]
  },
  {
   "cell_type": "code",
   "execution_count": 172,
   "metadata": {},
   "outputs": [],
   "source": [
    "df_product[df_product['ProdLine']=='Food Addit'].loc[:,('ProdLine')]='Food Additive'"
   ]
  },
  {
   "cell_type": "code",
   "execution_count": 176,
   "metadata": {},
   "outputs": [],
   "source": [
    "df_product.loc[df_product['ProdLine']=='Food Addit','ProdLine'] = 'Food Additive'"
   ]
  },
  {
   "cell_type": "code",
   "execution_count": 177,
   "metadata": {},
   "outputs": [
    {
     "data": {
      "text/html": [
       "<div>\n",
       "<style scoped>\n",
       "    .dataframe tbody tr th:only-of-type {\n",
       "        vertical-align: middle;\n",
       "    }\n",
       "\n",
       "    .dataframe tbody tr th {\n",
       "        vertical-align: top;\n",
       "    }\n",
       "\n",
       "    .dataframe thead th {\n",
       "        text-align: right;\n",
       "    }\n",
       "</style>\n",
       "<table border=\"1\" class=\"dataframe\">\n",
       "  <thead>\n",
       "    <tr style=\"text-align: right;\">\n",
       "      <th></th>\n",
       "      <th>StartDate</th>\n",
       "      <th>BatchNumber</th>\n",
       "      <th>CustItem</th>\n",
       "      <th>Dryer</th>\n",
       "      <th>ScheduledDryQty</th>\n",
       "      <th>ActualDryQty</th>\n",
       "      <th>YieldPercentage</th>\n",
       "      <th>DryingTime_Hrs</th>\n",
       "      <th>CleanTime_Hrs</th>\n",
       "      <th>DownTime_Hrs</th>\n",
       "      <th>TotalRunTime_Hrs</th>\n",
       "      <th>ProdLine</th>\n",
       "      <th>Rate</th>\n",
       "      <th>dt_est</th>\n",
       "      <th>hours</th>\n",
       "    </tr>\n",
       "  </thead>\n",
       "  <tbody>\n",
       "  </tbody>\n",
       "</table>\n",
       "</div>"
      ],
      "text/plain": [
       "Empty DataFrame\n",
       "Columns: [StartDate, BatchNumber, CustItem, Dryer, ScheduledDryQty, ActualDryQty, YieldPercentage, DryingTime_Hrs, CleanTime_Hrs, DownTime_Hrs, TotalRunTime_Hrs, ProdLine, Rate, dt_est, hours]\n",
       "Index: []"
      ]
     },
     "execution_count": 177,
     "metadata": {},
     "output_type": "execute_result"
    }
   ],
   "source": [
    "df_product[df_product['ProdLine']=='Food Addit']"
   ]
  },
  {
   "cell_type": "code",
   "execution_count": 178,
   "metadata": {},
   "outputs": [
    {
     "data": {
      "text/html": [
       "<div>\n",
       "<style scoped>\n",
       "    .dataframe tbody tr th:only-of-type {\n",
       "        vertical-align: middle;\n",
       "    }\n",
       "\n",
       "    .dataframe tbody tr th {\n",
       "        vertical-align: top;\n",
       "    }\n",
       "\n",
       "    .dataframe thead th {\n",
       "        text-align: right;\n",
       "    }\n",
       "</style>\n",
       "<table border=\"1\" class=\"dataframe\">\n",
       "  <thead>\n",
       "    <tr style=\"text-align: right;\">\n",
       "      <th></th>\n",
       "      <th>StartDate</th>\n",
       "      <th>BatchNumber</th>\n",
       "      <th>CustItem</th>\n",
       "      <th>Dryer</th>\n",
       "      <th>ScheduledDryQty</th>\n",
       "      <th>ActualDryQty</th>\n",
       "      <th>YieldPercentage</th>\n",
       "      <th>DryingTime_Hrs</th>\n",
       "      <th>CleanTime_Hrs</th>\n",
       "      <th>DownTime_Hrs</th>\n",
       "      <th>TotalRunTime_Hrs</th>\n",
       "      <th>ProdLine</th>\n",
       "      <th>Rate</th>\n",
       "      <th>dt_est</th>\n",
       "      <th>hours</th>\n",
       "    </tr>\n",
       "  </thead>\n",
       "  <tbody>\n",
       "    <tr>\n",
       "      <th>105</th>\n",
       "      <td>2016-01-20 20:01:55.000</td>\n",
       "      <td>NJSD313114</td>\n",
       "      <td>10302-0000</td>\n",
       "      <td>Dryer 03</td>\n",
       "      <td>97225.4093</td>\n",
       "      <td>97102.0000</td>\n",
       "      <td>99.9</td>\n",
       "      <td>66.0</td>\n",
       "      <td>16.3</td>\n",
       "      <td>22.0</td>\n",
       "      <td>104.3</td>\n",
       "      <td>Chemical</td>\n",
       "      <td>1471.242424</td>\n",
       "      <td>2016-01-20 20:00:00-05:00</td>\n",
       "      <td>66</td>\n",
       "    </tr>\n",
       "    <tr>\n",
       "      <th>250</th>\n",
       "      <td>2016-02-19 20:05:14.803</td>\n",
       "      <td>NJSD314067</td>\n",
       "      <td>22713-0000</td>\n",
       "      <td>Dryer 03</td>\n",
       "      <td>31459.2663</td>\n",
       "      <td>29931.0000</td>\n",
       "      <td>95.1</td>\n",
       "      <td>27.2</td>\n",
       "      <td>12.9</td>\n",
       "      <td>3.3</td>\n",
       "      <td>43.4</td>\n",
       "      <td>Fragrance</td>\n",
       "      <td>1100.404412</td>\n",
       "      <td>2016-02-19 20:00:00-05:00</td>\n",
       "      <td>28</td>\n",
       "    </tr>\n",
       "    <tr>\n",
       "      <th>272</th>\n",
       "      <td>2016-02-23 23:58:33.000</td>\n",
       "      <td>NJSD313292</td>\n",
       "      <td>10302-0000</td>\n",
       "      <td>Dryer 03</td>\n",
       "      <td>93506.4000</td>\n",
       "      <td>92121.0000</td>\n",
       "      <td>98.5</td>\n",
       "      <td>58.9</td>\n",
       "      <td>12.8</td>\n",
       "      <td>6.4</td>\n",
       "      <td>78.1</td>\n",
       "      <td>Chemical</td>\n",
       "      <td>1564.023769</td>\n",
       "      <td>2016-02-24 00:00:00-05:00</td>\n",
       "      <td>59</td>\n",
       "    </tr>\n",
       "    <tr>\n",
       "      <th>346</th>\n",
       "      <td>2016-03-09 05:35:01.000</td>\n",
       "      <td>NJSD313293</td>\n",
       "      <td>10302-0000</td>\n",
       "      <td>Dryer 03</td>\n",
       "      <td>95867.6704</td>\n",
       "      <td>96804.5000</td>\n",
       "      <td>101.0</td>\n",
       "      <td>61.8</td>\n",
       "      <td>15.3</td>\n",
       "      <td>12.5</td>\n",
       "      <td>89.7</td>\n",
       "      <td>Chemical</td>\n",
       "      <td>1566.415858</td>\n",
       "      <td>2016-03-09 06:00:00-05:00</td>\n",
       "      <td>62</td>\n",
       "    </tr>\n",
       "    <tr>\n",
       "      <th>576</th>\n",
       "      <td>2016-04-24 17:33:38.317</td>\n",
       "      <td>PASD317852</td>\n",
       "      <td>10551-0000</td>\n",
       "      <td>Dryer 08</td>\n",
       "      <td>30231.6080</td>\n",
       "      <td>28842.0000</td>\n",
       "      <td>95.4</td>\n",
       "      <td>26.5</td>\n",
       "      <td>40.1</td>\n",
       "      <td>2.6</td>\n",
       "      <td>69.2</td>\n",
       "      <td>Vitamin</td>\n",
       "      <td>1088.377358</td>\n",
       "      <td>2016-04-24 18:00:00-04:00</td>\n",
       "      <td>27</td>\n",
       "    </tr>\n",
       "    <tr>\n",
       "      <th>...</th>\n",
       "      <td>...</td>\n",
       "      <td>...</td>\n",
       "      <td>...</td>\n",
       "      <td>...</td>\n",
       "      <td>...</td>\n",
       "      <td>...</td>\n",
       "      <td>...</td>\n",
       "      <td>...</td>\n",
       "      <td>...</td>\n",
       "      <td>...</td>\n",
       "      <td>...</td>\n",
       "      <td>...</td>\n",
       "      <td>...</td>\n",
       "      <td>...</td>\n",
       "      <td>...</td>\n",
       "    </tr>\n",
       "    <tr>\n",
       "      <th>9606</th>\n",
       "      <td>2020-10-30 01:18:20.967</td>\n",
       "      <td>PASD375643</td>\n",
       "      <td>10551-0000</td>\n",
       "      <td>Dryer 07</td>\n",
       "      <td>48571.5314</td>\n",
       "      <td>48620.0000</td>\n",
       "      <td>101.3</td>\n",
       "      <td>47.0</td>\n",
       "      <td>7.6</td>\n",
       "      <td>9.4</td>\n",
       "      <td>64.1</td>\n",
       "      <td>Vitamin</td>\n",
       "      <td>1034.468085</td>\n",
       "      <td>2020-10-30 01:00:00-04:00</td>\n",
       "      <td>47</td>\n",
       "    </tr>\n",
       "    <tr>\n",
       "      <th>9626</th>\n",
       "      <td>2020-11-03 06:42:21.430</td>\n",
       "      <td>PASD373366</td>\n",
       "      <td>41733-0000</td>\n",
       "      <td>Dryer 08</td>\n",
       "      <td>23045.6920</td>\n",
       "      <td>21158.3994</td>\n",
       "      <td>91.8</td>\n",
       "      <td>21.1</td>\n",
       "      <td>0.5</td>\n",
       "      <td>11.9</td>\n",
       "      <td>33.6</td>\n",
       "      <td>Vitamin</td>\n",
       "      <td>1002.767744</td>\n",
       "      <td>2020-11-03 07:00:00-05:00</td>\n",
       "      <td>22</td>\n",
       "    </tr>\n",
       "    <tr>\n",
       "      <th>9759</th>\n",
       "      <td>2020-11-23 22:11:11.673</td>\n",
       "      <td>NJSD365077</td>\n",
       "      <td>10302-0000</td>\n",
       "      <td>Dryer 03</td>\n",
       "      <td>100790.9298</td>\n",
       "      <td>96977.9065</td>\n",
       "      <td>96.2</td>\n",
       "      <td>77.8</td>\n",
       "      <td>11.3</td>\n",
       "      <td>8.3</td>\n",
       "      <td>97.4</td>\n",
       "      <td>Chemical</td>\n",
       "      <td>1246.502654</td>\n",
       "      <td>2020-11-23 22:00:00-05:00</td>\n",
       "      <td>78</td>\n",
       "    </tr>\n",
       "    <tr>\n",
       "      <th>9771</th>\n",
       "      <td>2020-11-25 10:25:44.547</td>\n",
       "      <td>PASD379071</td>\n",
       "      <td>41902-0000</td>\n",
       "      <td>Dryer 11</td>\n",
       "      <td>2449.9902</td>\n",
       "      <td>2365.0000</td>\n",
       "      <td>96.5</td>\n",
       "      <td>1.9</td>\n",
       "      <td>16.0</td>\n",
       "      <td>0.0</td>\n",
       "      <td>1.9</td>\n",
       "      <td>Flavors</td>\n",
       "      <td>1244.736842</td>\n",
       "      <td>2020-11-25 10:00:00-05:00</td>\n",
       "      <td>2</td>\n",
       "    </tr>\n",
       "    <tr>\n",
       "      <th>9941</th>\n",
       "      <td>2020-12-23 09:54:42.687</td>\n",
       "      <td>PASD379707</td>\n",
       "      <td>47717-0000</td>\n",
       "      <td>Dryer 10</td>\n",
       "      <td>1455.9987</td>\n",
       "      <td>1014.3000</td>\n",
       "      <td>69.7</td>\n",
       "      <td>0.9</td>\n",
       "      <td>6.9</td>\n",
       "      <td>3.2</td>\n",
       "      <td>11.0</td>\n",
       "      <td>Food Additive</td>\n",
       "      <td>1127.000000</td>\n",
       "      <td>2020-12-23 10:00:00-05:00</td>\n",
       "      <td>1</td>\n",
       "    </tr>\n",
       "  </tbody>\n",
       "</table>\n",
       "<p>217 rows × 15 columns</p>\n",
       "</div>"
      ],
      "text/plain": [
       "                    StartDate BatchNumber    CustItem     Dryer  \\\n",
       "105   2016-01-20 20:01:55.000  NJSD313114  10302-0000  Dryer 03   \n",
       "250   2016-02-19 20:05:14.803  NJSD314067  22713-0000  Dryer 03   \n",
       "272   2016-02-23 23:58:33.000  NJSD313292  10302-0000  Dryer 03   \n",
       "346   2016-03-09 05:35:01.000  NJSD313293  10302-0000  Dryer 03   \n",
       "576   2016-04-24 17:33:38.317  PASD317852  10551-0000  Dryer 08   \n",
       "...                       ...         ...         ...       ...   \n",
       "9606  2020-10-30 01:18:20.967  PASD375643  10551-0000  Dryer 07   \n",
       "9626  2020-11-03 06:42:21.430  PASD373366  41733-0000  Dryer 08   \n",
       "9759  2020-11-23 22:11:11.673  NJSD365077  10302-0000  Dryer 03   \n",
       "9771  2020-11-25 10:25:44.547  PASD379071  41902-0000  Dryer 11   \n",
       "9941  2020-12-23 09:54:42.687  PASD379707  47717-0000  Dryer 10   \n",
       "\n",
       "      ScheduledDryQty  ActualDryQty  YieldPercentage  DryingTime_Hrs  \\\n",
       "105        97225.4093    97102.0000             99.9            66.0   \n",
       "250        31459.2663    29931.0000             95.1            27.2   \n",
       "272        93506.4000    92121.0000             98.5            58.9   \n",
       "346        95867.6704    96804.5000            101.0            61.8   \n",
       "576        30231.6080    28842.0000             95.4            26.5   \n",
       "...               ...           ...              ...             ...   \n",
       "9606       48571.5314    48620.0000            101.3            47.0   \n",
       "9626       23045.6920    21158.3994             91.8            21.1   \n",
       "9759      100790.9298    96977.9065             96.2            77.8   \n",
       "9771        2449.9902     2365.0000             96.5             1.9   \n",
       "9941        1455.9987     1014.3000             69.7             0.9   \n",
       "\n",
       "      CleanTime_Hrs  DownTime_Hrs  TotalRunTime_Hrs       ProdLine  \\\n",
       "105            16.3          22.0             104.3       Chemical   \n",
       "250            12.9           3.3              43.4      Fragrance   \n",
       "272            12.8           6.4              78.1       Chemical   \n",
       "346            15.3          12.5              89.7       Chemical   \n",
       "576            40.1           2.6              69.2        Vitamin   \n",
       "...             ...           ...               ...            ...   \n",
       "9606            7.6           9.4              64.1        Vitamin   \n",
       "9626            0.5          11.9              33.6        Vitamin   \n",
       "9759           11.3           8.3              97.4       Chemical   \n",
       "9771           16.0           0.0               1.9        Flavors   \n",
       "9941            6.9           3.2              11.0  Food Additive   \n",
       "\n",
       "             Rate                    dt_est  hours  \n",
       "105   1471.242424 2016-01-20 20:00:00-05:00     66  \n",
       "250   1100.404412 2016-02-19 20:00:00-05:00     28  \n",
       "272   1564.023769 2016-02-24 00:00:00-05:00     59  \n",
       "346   1566.415858 2016-03-09 06:00:00-05:00     62  \n",
       "576   1088.377358 2016-04-24 18:00:00-04:00     27  \n",
       "...           ...                       ...    ...  \n",
       "9606  1034.468085 2020-10-30 01:00:00-04:00     47  \n",
       "9626  1002.767744 2020-11-03 07:00:00-05:00     22  \n",
       "9759  1246.502654 2020-11-23 22:00:00-05:00     78  \n",
       "9771  1244.736842 2020-11-25 10:00:00-05:00      2  \n",
       "9941  1127.000000 2020-12-23 10:00:00-05:00      1  \n",
       "\n",
       "[217 rows x 15 columns]"
      ]
     },
     "execution_count": 178,
     "metadata": {},
     "output_type": "execute_result"
    }
   ],
   "source": [
    "df_product[df_product['Rate']>1000]"
   ]
  },
  {
   "cell_type": "code",
   "execution_count": 179,
   "metadata": {},
   "outputs": [
    {
     "data": {
      "text/plain": [
       "Index(['StartDate', 'BatchNumber', 'CustItem', 'Dryer', 'ScheduledDryQty',\n",
       "       'ActualDryQty', 'YieldPercentage', 'DryingTime_Hrs', 'CleanTime_Hrs',\n",
       "       'DownTime_Hrs', 'TotalRunTime_Hrs', 'ProdLine', 'Rate', 'dt_est',\n",
       "       'hours', 'hour_add', 'dt', 'dt_iso', 'timezone', 'city_name', 'lat',\n",
       "       'lon', 'temp', 'feels_like', 'temp_min', 'temp_max', 'pressure',\n",
       "       'humidity', 'wind_speed', 'wind_deg', 'clouds_all', 'weather_id',\n",
       "       'weather_main', 'weather_description', 'weather_icon', 'year',\n",
       "       'quarter', 'month', 'day', '_merge'],\n",
       "      dtype='object')"
      ]
     },
     "execution_count": 179,
     "metadata": {},
     "output_type": "execute_result"
    }
   ],
   "source": [
    "df_32.columns"
   ]
  },
  {
   "cell_type": "code",
   "execution_count": 277,
   "metadata": {},
   "outputs": [],
   "source": [
    "x = df_product['ActualDryQty'] / df_product['DryingTime_Hrs']"
   ]
  },
  {
   "cell_type": "code",
   "execution_count": 273,
   "metadata": {},
   "outputs": [],
   "source": [
    "x = df_product['ScheduledDryQty'] / df_product['DryingTime_Hrs']"
   ]
  },
  {
   "cell_type": "code",
   "execution_count": 278,
   "metadata": {},
   "outputs": [],
   "source": [
    "y = df_product['Rate']"
   ]
  },
  {
   "cell_type": "code",
   "execution_count": 279,
   "metadata": {},
   "outputs": [
    {
     "data": {
      "text/plain": [
       "[<matplotlib.lines.Line2D at 0x23137fd90d0>]"
      ]
     },
     "execution_count": 279,
     "metadata": {},
     "output_type": "execute_result"
    },
    {
     "data": {
      "image/png": "[encoded data removed]",
      "text/plain": [
       "<Figure size 432x288 with 1 Axes>"
      ]
     },
     "metadata": {
      "needs_background": "light"
     },
     "output_type": "display_data"
    }
   ],
   "source": [
    "plt.plot(x, y)"
   ]
  },
  {
   "cell_type": "code",
   "execution_count": null,
   "metadata": {},
   "outputs": [],
   "source": [
    "df_32"
   ]
  },
  {
   "cell_type": "code",
   "execution_count": null,
   "metadata": {},
   "outputs": [],
   "source": []
  },
  {
   "cell_type": "code",
   "execution_count": null,
   "metadata": {},
   "outputs": [],
   "source": []
  },
  {
   "cell_type": "code",
   "execution_count": null,
   "metadata": {},
   "outputs": [],
   "source": []
  },
  {
   "cell_type": "code",
   "execution_count": null,
   "metadata": {},
   "outputs": [],
   "source": []
  },
  {
   "cell_type": "code",
   "execution_count": null,
   "metadata": {},
   "outputs": [],
   "source": []
  },
  {
   "cell_type": "code",
   "execution_count": null,
   "metadata": {},
   "outputs": [],
   "source": []
  },
  {
   "cell_type": "code",
   "execution_count": null,
   "metadata": {},
   "outputs": [],
   "source": []
  },
  {
   "cell_type": "code",
   "execution_count": 138,
   "metadata": {},
   "outputs": [
    {
     "data": {
      "text/plain": [
       "(108907, 35)"
      ]
     },
     "execution_count": 138,
     "metadata": {},
     "output_type": "execute_result"
    }
   ],
   "source": [
    "df_nj_loc.shape"
   ]
  },
  {
   "cell_type": "code",
   "execution_count": 141,
   "metadata": {},
   "outputs": [
    {
     "data": {
      "text/html": [
       "<div>\n",
       "<style scoped>\n",
       "    .dataframe tbody tr th:only-of-type {\n",
       "        vertical-align: middle;\n",
       "    }\n",
       "\n",
       "    .dataframe tbody tr th {\n",
       "        vertical-align: top;\n",
       "    }\n",
       "\n",
       "    .dataframe thead th {\n",
       "        text-align: right;\n",
       "    }\n",
       "</style>\n",
       "<table border=\"1\" class=\"dataframe\">\n",
       "  <thead>\n",
       "    <tr style=\"text-align: right;\">\n",
       "      <th></th>\n",
       "      <th>StartDate</th>\n",
       "      <th>BatchNumber</th>\n",
       "      <th>CustItem</th>\n",
       "      <th>Dryer</th>\n",
       "      <th>ScheduledDryQty</th>\n",
       "      <th>ActualDryQty</th>\n",
       "      <th>YieldPercentage</th>\n",
       "      <th>DryingTime_Hrs</th>\n",
       "      <th>CleanTime_Hrs</th>\n",
       "      <th>DownTime_Hrs</th>\n",
       "      <th>...</th>\n",
       "      <th>clouds_all</th>\n",
       "      <th>weather_id</th>\n",
       "      <th>weather_main</th>\n",
       "      <th>weather_description</th>\n",
       "      <th>weather_icon</th>\n",
       "      <th>year</th>\n",
       "      <th>quarter</th>\n",
       "      <th>month</th>\n",
       "      <th>day</th>\n",
       "      <th>_merge</th>\n",
       "    </tr>\n",
       "  </thead>\n",
       "  <tbody>\n",
       "    <tr>\n",
       "      <th>0</th>\n",
       "      <td>2016-01-02 08:54:58.000</td>\n",
       "      <td>NJSD313825</td>\n",
       "      <td>10013-0000</td>\n",
       "      <td>Dryer 04</td>\n",
       "      <td>333.7357</td>\n",
       "      <td>352.2</td>\n",
       "      <td>105.5</td>\n",
       "      <td>2.4</td>\n",
       "      <td>5.1</td>\n",
       "      <td>0.0</td>\n",
       "      <td>...</td>\n",
       "      <td>90.0</td>\n",
       "      <td>804.0</td>\n",
       "      <td>Clouds</td>\n",
       "      <td>overcast clouds</td>\n",
       "      <td>04d</td>\n",
       "      <td>2016.0</td>\n",
       "      <td>1.0</td>\n",
       "      <td>1.0</td>\n",
       "      <td>2.0</td>\n",
       "      <td>both</td>\n",
       "    </tr>\n",
       "    <tr>\n",
       "      <th>1</th>\n",
       "      <td>2016-01-02 08:54:58.000</td>\n",
       "      <td>NJSD313825</td>\n",
       "      <td>10013-0000</td>\n",
       "      <td>Dryer 04</td>\n",
       "      <td>333.7357</td>\n",
       "      <td>352.2</td>\n",
       "      <td>105.5</td>\n",
       "      <td>2.4</td>\n",
       "      <td>5.1</td>\n",
       "      <td>0.0</td>\n",
       "      <td>...</td>\n",
       "      <td>1.0</td>\n",
       "      <td>800.0</td>\n",
       "      <td>Clear</td>\n",
       "      <td>sky is clear</td>\n",
       "      <td>01d</td>\n",
       "      <td>2016.0</td>\n",
       "      <td>1.0</td>\n",
       "      <td>1.0</td>\n",
       "      <td>2.0</td>\n",
       "      <td>both</td>\n",
       "    </tr>\n",
       "  </tbody>\n",
       "</table>\n",
       "<p>2 rows × 35 columns</p>\n",
       "</div>"
      ],
      "text/plain": [
       "                 StartDate BatchNumber    CustItem     Dryer ScheduledDryQty  \\\n",
       "0  2016-01-02 08:54:58.000  NJSD313825  10013-0000  Dryer 04        333.7357   \n",
       "1  2016-01-02 08:54:58.000  NJSD313825  10013-0000  Dryer 04        333.7357   \n",
       "\n",
       "  ActualDryQty YieldPercentage DryingTime_Hrs CleanTime_Hrs DownTime_Hrs  ...  \\\n",
       "0        352.2           105.5            2.4           5.1          0.0  ...   \n",
       "1        352.2           105.5            2.4           5.1          0.0  ...   \n",
       "\n",
       "  clouds_all weather_id weather_main weather_description weather_icon    year  \\\n",
       "0       90.0      804.0       Clouds     overcast clouds          04d  2016.0   \n",
       "1        1.0      800.0        Clear        sky is clear          01d  2016.0   \n",
       "\n",
       "   quarter  month  day  _merge  \n",
       "0      1.0    1.0  2.0    both  \n",
       "1      1.0    1.0  2.0    both  \n",
       "\n",
       "[2 rows x 35 columns]"
      ]
     },
     "execution_count": 141,
     "metadata": {},
     "output_type": "execute_result"
    }
   ],
   "source": [
    "df_nj_loc.head(2)"
   ]
  },
  {
   "cell_type": "code",
   "execution_count": 142,
   "metadata": {},
   "outputs": [],
   "source": [
    "df_20 = df_nj_loc.loc[:,('Dryer','Rate','dt_est','humidity')]"
   ]
  },
  {
   "cell_type": "code",
   "execution_count": 143,
   "metadata": {},
   "outputs": [
    {
     "data": {
      "text/html": [
       "<div>\n",
       "<style scoped>\n",
       "    .dataframe tbody tr th:only-of-type {\n",
       "        vertical-align: middle;\n",
       "    }\n",
       "\n",
       "    .dataframe tbody tr th {\n",
       "        vertical-align: top;\n",
       "    }\n",
       "\n",
       "    .dataframe thead th {\n",
       "        text-align: right;\n",
       "    }\n",
       "</style>\n",
       "<table border=\"1\" class=\"dataframe\">\n",
       "  <thead>\n",
       "    <tr style=\"text-align: right;\">\n",
       "      <th></th>\n",
       "      <th>Dryer</th>\n",
       "      <th>Rate</th>\n",
       "      <th>dt_est</th>\n",
       "      <th>humidity</th>\n",
       "    </tr>\n",
       "  </thead>\n",
       "  <tbody>\n",
       "    <tr>\n",
       "      <th>0</th>\n",
       "      <td>Dryer 04</td>\n",
       "      <td>146.75</td>\n",
       "      <td>2016-01-02 09:00:00-05:00</td>\n",
       "      <td>51.0</td>\n",
       "    </tr>\n",
       "    <tr>\n",
       "      <th>1</th>\n",
       "      <td>Dryer 04</td>\n",
       "      <td>146.75</td>\n",
       "      <td>2016-01-02 10:00:00-05:00</td>\n",
       "      <td>45.0</td>\n",
       "    </tr>\n",
       "  </tbody>\n",
       "</table>\n",
       "</div>"
      ],
      "text/plain": [
       "      Dryer    Rate                    dt_est  humidity\n",
       "0  Dryer 04  146.75 2016-01-02 09:00:00-05:00      51.0\n",
       "1  Dryer 04  146.75 2016-01-02 10:00:00-05:00      45.0"
      ]
     },
     "execution_count": 143,
     "metadata": {},
     "output_type": "execute_result"
    }
   ],
   "source": [
    "df_20.head(2)"
   ]
  },
  {
   "cell_type": "code",
   "execution_count": 144,
   "metadata": {},
   "outputs": [
    {
     "data": {
      "text/plain": [
       "(108907, 4)"
      ]
     },
     "execution_count": 144,
     "metadata": {},
     "output_type": "execute_result"
    }
   ],
   "source": [
    "df_20.shape"
   ]
  },
  {
   "cell_type": "code",
   "execution_count": null,
   "metadata": {},
   "outputs": [],
   "source": []
  },
  {
   "cell_type": "code",
   "execution_count": 139,
   "metadata": {},
   "outputs": [
    {
     "data": {
      "text/plain": [
       "Index(['StartDate', 'BatchNumber', 'CustItem', 'Dryer', 'ScheduledDryQty',\n",
       "       'ActualDryQty', 'YieldPercentage', 'DryingTime_Hrs', 'CleanTime_Hrs',\n",
       "       'DownTime_Hrs', 'TotalRunTime_Hrs', 'ProdLine', 'Rate', 'dt_est',\n",
       "       'hours', 'hour_add', 'dt', 'temp', 'feels_like', 'temp_min', 'temp_max',\n",
       "       'pressure', 'humidity', 'wind_speed', 'wind_deg', 'clouds_all',\n",
       "       'weather_id', 'weather_main', 'weather_description', 'weather_icon',\n",
       "       'year', 'quarter', 'month', 'day', '_merge'],\n",
       "      dtype='object')"
      ]
     },
     "execution_count": 139,
     "metadata": {},
     "output_type": "execute_result"
    }
   ],
   "source": [
    "df_nj_loc.columns"
   ]
  },
  {
   "cell_type": "code",
   "execution_count": 146,
   "metadata": {},
   "outputs": [
    {
     "data": {
      "text/plain": [
       "Dryer     dt_est                   \n",
       "Dryer 01  2016-01-03 05:00:00-05:00    1\n",
       "          2016-01-03 06:00:00-05:00    1\n",
       "          2016-01-03 07:00:00-05:00    1\n",
       "          2016-01-03 08:00:00-05:00    1\n",
       "          2016-01-03 09:00:00-05:00    1\n",
       "                                      ..\n",
       "Dryer 09  2019-07-30 19:00:00-04:00    1\n",
       "          2019-07-30 20:00:00-04:00    1\n",
       "          2019-07-30 21:00:00-04:00    1\n",
       "          2019-07-30 22:00:00-04:00    1\n",
       "          2019-07-30 23:00:00-04:00    1\n",
       "Name: BatchNumber, Length: 101579, dtype: int64"
      ]
     },
     "execution_count": 146,
     "metadata": {},
     "output_type": "execute_result"
    }
   ],
   "source": [
    "df_nj_loc.groupby(by=['Dryer','dt_est'])['BatchNumber'].count()"
   ]
  },
  {
   "cell_type": "code",
   "execution_count": 148,
   "metadata": {},
   "outputs": [],
   "source": [
    "df_21 = df_nj_loc.copy()"
   ]
  },
  {
   "cell_type": "code",
   "execution_count": 149,
   "metadata": {},
   "outputs": [
    {
     "data": {
      "text/plain": [
       "<AxesSubplot:xlabel='humidity', ylabel='Rate'>"
      ]
     },
     "execution_count": 149,
     "metadata": {},
     "output_type": "execute_result"
    },
    {
     "data": {
      "image/png": "[encoded data removed]",
      "text/plain": [
       "<Figure size 432x288 with 1 Axes>"
      ]
     },
     "metadata": {
      "needs_background": "light"
     },
     "output_type": "display_data"
    }
   ],
   "source": [
    "df_21.plot.scatter(x='humidity', y='Rate')"
   ]
  },
  {
   "cell_type": "code",
   "execution_count": 151,
   "metadata": {},
   "outputs": [
    {
     "data": {
      "text/plain": [
       "<AxesSubplot:xlabel='humidity', ylabel='Rate'>"
      ]
     },
     "execution_count": 151,
     "metadata": {},
     "output_type": "execute_result"
    },
    {
     "data": {
      "image/png": "[encoded data removed]",
      "text/plain": [
       "<Figure size 432x288 with 1 Axes>"
      ]
     },
     "metadata": {
      "needs_background": "light"
     },
     "output_type": "display_data"
    }
   ],
   "source": [
    "df_21[df_21['Dryer']=='Dryer 02'].plot.scatter(x='humidity', y='Rate')"
   ]
  },
  {
   "cell_type": "code",
   "execution_count": 152,
   "metadata": {},
   "outputs": [
    {
     "data": {
      "text/plain": [
       "ProdLine\n",
       "Chemical          9276\n",
       "Cosmetic           853\n",
       "Flavors          47453\n",
       "Food Addit        2447\n",
       "Food Additive     2962\n",
       "Fragrance        42375\n",
       "Nutraceutical     2066\n",
       "Pharma            1059\n",
       "Vitamin            409\n",
       "Name: dt, dtype: int64"
      ]
     },
     "execution_count": 152,
     "metadata": {},
     "output_type": "execute_result"
    }
   ],
   "source": [
    "df_21.groupby(by=['ProdLine'])['dt'].count()"
   ]
  },
  {
   "cell_type": "code",
   "execution_count": 582,
   "metadata": {},
   "outputs": [],
   "source": [
    "df_50 = df_product[df_product['BatchNumber'].str.contains('PA')]\n"
   ]
  },
  {
   "cell_type": "code",
   "execution_count": 583,
   "metadata": {},
   "outputs": [],
   "source": [
    "idx_1 = df_50[(df_50['Dryer'] == 'Dryer 11')].index"
   ]
  },
  {
   "cell_type": "code",
   "execution_count": null,
   "metadata": {},
   "outputs": [],
   "source": []
  },
  {
   "cell_type": "code",
   "execution_count": 599,
   "metadata": {},
   "outputs": [],
   "source": [
    "class_pre = PreProcess"
   ]
  },
  {
   "cell_type": "code",
   "execution_count": 602,
   "metadata": {},
   "outputs": [
    {
     "ename": "TypeError",
     "evalue": "del_outlier() missing 1 required positional argument: 'self'",
     "output_type": "error",
     "traceback": [
      "\u001b[1;31m---------------------------------------------------------------------------\u001b[0m",
      "\u001b[1;31mTypeError\u001b[0m                                 Traceback (most recent call last)",
      "\u001b[1;32m<ipython-input-602-4ed9bb0f6183>\u001b[0m in \u001b[0;36m<module>\u001b[1;34m\u001b[0m\n\u001b[1;32m----> 1\u001b[1;33m \u001b[0mdf_clean\u001b[0m\u001b[1;33m,\u001b[0m \u001b[0mdf_outlier\u001b[0m \u001b[1;33m=\u001b[0m \u001b[0mclass_pre\u001b[0m\u001b[1;33m.\u001b[0m\u001b[0mdel_outlier\u001b[0m\u001b[1;33m(\u001b[0m\u001b[0mdf\u001b[0m\u001b[1;33m=\u001b[0m\u001b[0mdf_product\u001b[0m\u001b[1;33m,\u001b[0m  \u001b[0mstr_col\u001b[0m\u001b[1;33m=\u001b[0m\u001b[1;34m'Rate'\u001b[0m\u001b[1;33m,\u001b[0m \u001b[0mabs\u001b[0m\u001b[1;33m=\u001b[0m\u001b[1;32mFalse\u001b[0m\u001b[1;33m)\u001b[0m\u001b[1;33m\u001b[0m\u001b[1;33m\u001b[0m\u001b[0m\n\u001b[0m",
      "\u001b[1;31mTypeError\u001b[0m: del_outlier() missing 1 required positional argument: 'self'"
     ]
    }
   ],
   "source": [
    "df_clean, df_outlier = class_pre.del_outlier(df=df_product,  str_col='Rate', abs=False)"
   ]
  },
  {
   "cell_type": "code",
   "execution_count": 669,
   "metadata": {},
   "outputs": [
    {
     "name": "stdout",
     "output_type": "stream",
     "text": [
      "We will drop too large and too small outliers\n"
     ]
    }
   ],
   "source": [
    "z_score = np.abs(stats.zscore(df_product['Rate'], nan_policy='omit'))\n",
    "print(\"We will drop too large and too small outliers\")"
   ]
  },
  {
   "cell_type": "code",
   "execution_count": 676,
   "metadata": {},
   "outputs": [],
   "source": [
    "index_outlier = df_product[z_score > 2].index"
   ]
  },
  {
   "cell_type": "code",
   "execution_count": 675,
   "metadata": {},
   "outputs": [
    {
     "data": {
      "text/plain": [
       "(9870, 15)"
      ]
     },
     "execution_count": 675,
     "metadata": {},
     "output_type": "execute_result"
    }
   ],
   "source": [
    "df_product.shape"
   ]
  },
  {
   "cell_type": "code",
   "execution_count": 677,
   "metadata": {},
   "outputs": [
    {
     "data": {
      "text/plain": [
       "array([0.84322629, 0.26275865, 0.92387242, ..., 0.89546151, 1.74889054,\n",
       "       0.64380627])"
      ]
     },
     "execution_count": 677,
     "metadata": {},
     "output_type": "execute_result"
    }
   ],
   "source": [
    "z_score"
   ]
  },
  {
   "cell_type": "code",
   "execution_count": 678,
   "metadata": {},
   "outputs": [
    {
     "data": {
      "text/plain": [
       "Int64Index([ 105,  228,  250,  272,  346,  422,  576,  586,  665,  746,\n",
       "            ...\n",
       "            9344, 9415, 9594, 9606, 9626, 9655, 9746, 9759, 9771, 9941],\n",
       "           dtype='int64', length=248)"
      ]
     },
     "execution_count": 678,
     "metadata": {},
     "output_type": "execute_result"
    }
   ],
   "source": [
    "index_outlier"
   ]
  },
  {
   "cell_type": "code",
   "execution_count": 679,
   "metadata": {},
   "outputs": [],
   "source": [
    "df_outlier = df_product.loc[index_outlier,:]"
   ]
  },
  {
   "cell_type": "code",
   "execution_count": 680,
   "metadata": {},
   "outputs": [
    {
     "data": {
      "text/plain": [
       "973.9130434782608"
      ]
     },
     "execution_count": 680,
     "metadata": {},
     "output_type": "execute_result"
    }
   ],
   "source": [
    "df_outlier['Rate'].min()"
   ]
  },
  {
   "cell_type": "code",
   "execution_count": 681,
   "metadata": {},
   "outputs": [],
   "source": [
    "df_clean = df_product.drop(axis=0, index=index_outlier)"
   ]
  },
  {
   "cell_type": "code",
   "execution_count": 682,
   "metadata": {},
   "outputs": [
    {
     "data": {
      "text/plain": [
       "973.8396717557252"
      ]
     },
     "execution_count": 682,
     "metadata": {},
     "output_type": "execute_result"
    }
   ],
   "source": [
    "df_clean['Rate'].max()"
   ]
  },
  {
   "cell_type": "code",
   "execution_count": 683,
   "metadata": {},
   "outputs": [
    {
     "name": "stderr",
     "output_type": "stream",
     "text": [
      "D:\\ProgramData\\Anaconda3\\envs\\08_web_mining\\lib\\site-packages\\seaborn\\_decorators.py:36: FutureWarning: Pass the following variable as a keyword arg: x. From version 0.12, the only valid positional argument will be `data`, and passing other arguments without an explicit keyword will result in an error or misinterpretation.\n",
      "  warnings.warn(\n"
     ]
    },
    {
     "data": {
      "text/plain": [
       "<AxesSubplot:xlabel='Rate'>"
      ]
     },
     "execution_count": 683,
     "metadata": {},
     "output_type": "execute_result"
    },
    {
     "data": {
      "image/png": "[encoded data removed]",
      "text/plain": [
       "<Figure size 432x288 with 1 Axes>"
      ]
     },
     "metadata": {
      "needs_background": "light"
     },
     "output_type": "display_data"
    }
   ],
   "source": [
    "sns.boxplot(df_clean['Rate'])"
   ]
  },
  {
   "cell_type": "code",
   "execution_count": null,
   "metadata": {},
   "outputs": [],
   "source": []
  },
  {
   "cell_type": "code",
   "execution_count": null,
   "metadata": {},
   "outputs": [],
   "source": []
  },
  {
   "cell_type": "code",
   "execution_count": null,
   "metadata": {},
   "outputs": [],
   "source": []
  },
  {
   "cell_type": "code",
   "execution_count": 630,
   "metadata": {},
   "outputs": [
    {
     "data": {
      "text/plain": [
       "float"
      ]
     },
     "execution_count": 630,
     "metadata": {},
     "output_type": "execute_result"
    }
   ],
   "source": [
    "type(np.mean(df_product['Rate']))"
   ]
  },
  {
   "cell_type": "code",
   "execution_count": 631,
   "metadata": {},
   "outputs": [],
   "source": [
    "float_maen, float_std = np.mean(df_product['Rate']), np.std(df_product['Rate'])"
   ]
  },
  {
   "cell_type": "code",
   "execution_count": 632,
   "metadata": {},
   "outputs": [
    {
     "data": {
      "text/plain": [
       "720.8731532369908"
      ]
     },
     "execution_count": 632,
     "metadata": {},
     "output_type": "execute_result"
    }
   ],
   "source": [
    "float_std"
   ]
  },
  {
   "cell_type": "code",
   "execution_count": 633,
   "metadata": {},
   "outputs": [],
   "source": [
    "cut_off = float_std * 3"
   ]
  },
  {
   "cell_type": "code",
   "execution_count": 634,
   "metadata": {},
   "outputs": [
    {
     "data": {
      "text/plain": [
       "2162.6194597109725"
      ]
     },
     "execution_count": 634,
     "metadata": {},
     "output_type": "execute_result"
    }
   ],
   "source": [
    "cut_off"
   ]
  },
  {
   "cell_type": "code",
   "execution_count": 636,
   "metadata": {},
   "outputs": [],
   "source": [
    "lower, upper = float_maen - cut_off, float_maen + cut_off"
   ]
  },
  {
   "cell_type": "code",
   "execution_count": 637,
   "metadata": {},
   "outputs": [
    {
     "data": {
      "text/plain": [
       "(-1763.0678793581462, 2562.1710400637985)"
      ]
     },
     "execution_count": 637,
     "metadata": {},
     "output_type": "execute_result"
    }
   ],
   "source": [
    "lower, upper"
   ]
  },
  {
   "cell_type": "markdown",
   "metadata": {},
   "source": [
    "Interquartile Range"
   ]
  },
  {
   "cell_type": "code",
   "execution_count": 653,
   "metadata": {},
   "outputs": [],
   "source": [
    "# calculate interquartile range\n",
    "q25, q75 = np.percentile(df_product['Rate'], 25), np.percentile(df_product['Rate'], 75)"
   ]
  },
  {
   "cell_type": "code",
   "execution_count": 654,
   "metadata": {},
   "outputs": [],
   "source": [
    "iqr = q75-q25"
   ]
  },
  {
   "cell_type": "code",
   "execution_count": 655,
   "metadata": {},
   "outputs": [
    {
     "data": {
      "text/plain": [
       "339.7510481520317"
      ]
     },
     "execution_count": 655,
     "metadata": {},
     "output_type": "execute_result"
    }
   ],
   "source": [
    "iqr"
   ]
  },
  {
   "cell_type": "code",
   "execution_count": 656,
   "metadata": {},
   "outputs": [],
   "source": [
    "cut_off = iqr*1.5"
   ]
  },
  {
   "cell_type": "code",
   "execution_count": 657,
   "metadata": {},
   "outputs": [],
   "source": [
    "lower, upper = q25 - cut_off, q75 + cut_off"
   ]
  },
  {
   "cell_type": "code",
   "execution_count": 658,
   "metadata": {},
   "outputs": [],
   "source": [
    "df_60 = df_product.copy()"
   ]
  },
  {
   "cell_type": "code",
   "execution_count": 659,
   "metadata": {},
   "outputs": [
    {
     "data": {
      "text/plain": [
       "-308.4921292448204"
      ]
     },
     "execution_count": 659,
     "metadata": {},
     "output_type": "execute_result"
    }
   ],
   "source": [
    "lower"
   ]
  },
  {
   "cell_type": "code",
   "execution_count": 660,
   "metadata": {},
   "outputs": [
    {
     "data": {
      "text/plain": [
       "1050.5120633633064"
      ]
     },
     "execution_count": 660,
     "metadata": {},
     "output_type": "execute_result"
    }
   ],
   "source": [
    "upper"
   ]
  },
  {
   "cell_type": "code",
   "execution_count": 663,
   "metadata": {},
   "outputs": [],
   "source": [
    "df_outlier = df_60.loc[(df_60['Rate']>upper) | (df_60['Rate']<lower)]"
   ]
  },
  {
   "cell_type": "code",
   "execution_count": 664,
   "metadata": {},
   "outputs": [
    {
     "data": {
      "text/plain": [
       "(162, 15)"
      ]
     },
     "execution_count": 664,
     "metadata": {},
     "output_type": "execute_result"
    }
   ],
   "source": [
    "df_outlier.shape"
   ]
  },
  {
   "cell_type": "code",
   "execution_count": 667,
   "metadata": {},
   "outputs": [],
   "source": [
    "df_cleaned = df_60.loc[(df_60['Rate']<upper) & (df_60['Rate']>lower)]"
   ]
  },
  {
   "cell_type": "code",
   "execution_count": 668,
   "metadata": {},
   "outputs": [
    {
     "name": "stderr",
     "output_type": "stream",
     "text": [
      "D:\\ProgramData\\Anaconda3\\envs\\08_web_mining\\lib\\site-packages\\seaborn\\_decorators.py:36: FutureWarning: Pass the following variable as a keyword arg: x. From version 0.12, the only valid positional argument will be `data`, and passing other arguments without an explicit keyword will result in an error or misinterpretation.\n",
      "  warnings.warn(\n"
     ]
    },
    {
     "data": {
      "text/plain": [
       "<AxesSubplot:xlabel='Rate'>"
      ]
     },
     "execution_count": 668,
     "metadata": {},
     "output_type": "execute_result"
    },
    {
     "data": {
      "image/png": "[encoded data removed]",
      "text/plain": [
       "<Figure size 432x288 with 1 Axes>"
      ]
     },
     "metadata": {
      "needs_background": "light"
     },
     "output_type": "display_data"
    }
   ],
   "source": [
    "sns.boxplot(df_cleaned['Rate'])"
   ]
  },
  {
   "cell_type": "code",
   "execution_count": 846,
   "metadata": {},
   "outputs": [
    {
     "name": "stderr",
     "output_type": "stream",
     "text": [
      "D:\\ProgramData\\Anaconda3\\envs\\08_web_mining\\lib\\site-packages\\seaborn\\_decorators.py:36: FutureWarning: Pass the following variable as a keyword arg: x. From version 0.12, the only valid positional argument will be `data`, and passing other arguments without an explicit keyword will result in an error or misinterpretation.\n",
      "  warnings.warn(\n"
     ]
    },
    {
     "data": {
      "text/plain": [
       "<AxesSubplot:xlabel='Rate'>"
      ]
     },
     "execution_count": 846,
     "metadata": {},
     "output_type": "execute_result"
    },
    {
     "data": {
      "image/png": "[encoded data removed]",
      "text/plain": [
       "<Figure size 432x288 with 1 Axes>"
      ]
     },
     "metadata": {
      "needs_background": "light"
     },
     "output_type": "display_data"
    }
   ],
   "source": [
    "sns.boxplot(df_raw_product['Rate'])"
   ]
  },
  {
   "cell_type": "code",
   "execution_count": 847,
   "metadata": {},
   "outputs": [
    {
     "name": "stderr",
     "output_type": "stream",
     "text": [
      "D:\\ProgramData\\Anaconda3\\envs\\08_web_mining\\lib\\site-packages\\seaborn\\_decorators.py:36: FutureWarning: Pass the following variable as a keyword arg: x. From version 0.12, the only valid positional argument will be `data`, and passing other arguments without an explicit keyword will result in an error or misinterpretation.\n",
      "  warnings.warn(\n"
     ]
    },
    {
     "data": {
      "text/plain": [
       "<AxesSubplot:xlabel='Rate'>"
      ]
     },
     "execution_count": 847,
     "metadata": {},
     "output_type": "execute_result"
    },
    {
     "data": {
      "image/png": "[encoded data removed]",
      "text/plain": [
       "<Figure size 432x288 with 1 Axes>"
      ]
     },
     "metadata": {
      "needs_background": "light"
     },
     "output_type": "display_data"
    }
   ],
   "source": [
    "sns.boxplot(df_65['Rate'])"
   ]
  },
  {
   "cell_type": "code",
   "execution_count": 913,
   "metadata": {},
   "outputs": [],
   "source": [
    "TWO_SIGMA = 2.5"
   ]
  },
  {
   "cell_type": "code",
   "execution_count": 920,
   "metadata": {},
   "outputs": [
    {
     "name": "stdout",
     "output_type": "stream",
     "text": [
      "Any data smaller than 8.087831439393938 and greater than 975.6211180124221 will be eliminate\n",
      "There are 498 rows identified as extramlly outliers\n"
     ]
    }
   ],
   "source": [
    "q_lower = np.percentile(df_product_4['Rate'], TWO_SIGMA)\n",
    "q_upper = np.percentile(df_product_4['Rate'], (100-TWO_SIGMA))\n",
    "print(\"Any data smaller than {} and greater than {} will be eliminate\".format(q_lower, q_upper))\n",
    "# we want to restore these delete column for double check\n",
    "df_outlier_2 = df_product_4.loc[(df_product_4['Rate']>q_upper) | (df_product_4['Rate']<q_lower)]\n",
    "print('There are {} rows identified as extramlly outliers'.format(df_outlier_2.shape[0]))\n",
    "# If we use two sigma, we will directly delete data smaller than 8.1 and greater than 975\n",
    "df_product_5 = df_product_5.loc[(df_product_4['Rate']<q_upper) & (df_product_4['Rate']>q_lower)]"
   ]
  },
  {
   "cell_type": "code",
   "execution_count": 921,
   "metadata": {},
   "outputs": [
    {
     "data": {
      "text/plain": [
       "(498, 14)"
      ]
     },
     "execution_count": 921,
     "metadata": {},
     "output_type": "execute_result"
    }
   ],
   "source": [
    "df_outlier_2.shape"
   ]
  },
  {
   "cell_type": "code",
   "execution_count": 922,
   "metadata": {},
   "outputs": [
    {
     "data": {
      "text/plain": [
       "(9374, 15)"
      ]
     },
     "execution_count": 922,
     "metadata": {},
     "output_type": "execute_result"
    }
   ],
   "source": [
    "df_product_5.shape"
   ]
  },
  {
   "cell_type": "code",
   "execution_count": 923,
   "metadata": {},
   "outputs": [],
   "source": [
    "z_score = stats.zscore(df_product_5['Rate'], nan_policy='omit')"
   ]
  },
  {
   "cell_type": "code",
   "execution_count": 930,
   "metadata": {},
   "outputs": [
    {
     "data": {
      "text/plain": [
       "342"
      ]
     },
     "execution_count": 930,
     "metadata": {},
     "output_type": "execute_result"
    }
   ],
   "source": [
    "len(z_score[z_score>2])"
   ]
  },
  {
   "cell_type": "code",
   "execution_count": 931,
   "metadata": {},
   "outputs": [
    {
     "name": "stderr",
     "output_type": "stream",
     "text": [
      "D:\\ProgramData\\Anaconda3\\envs\\08_web_mining\\lib\\site-packages\\seaborn\\_decorators.py:36: FutureWarning: Pass the following variable as a keyword arg: x. From version 0.12, the only valid positional argument will be `data`, and passing other arguments without an explicit keyword will result in an error or misinterpretation.\n",
      "  warnings.warn(\n"
     ]
    },
    {
     "data": {
      "text/plain": [
       "<AxesSubplot:xlabel='Rate'>"
      ]
     },
     "execution_count": 931,
     "metadata": {},
     "output_type": "execute_result"
    },
    {
     "data": {
      "image/png": "[encoded data removed]",
      "text/plain": [
       "<Figure size 432x288 with 1 Axes>"
      ]
     },
     "metadata": {
      "needs_background": "light"
     },
     "output_type": "display_data"
    }
   ],
   "source": [
    "sns.boxplot(df_product_5['Rate'])"
   ]
  },
  {
   "cell_type": "code",
   "execution_count": 932,
   "metadata": {},
   "outputs": [
    {
     "data": {
      "image/png": "[encoded data removed]",
      "text/plain": [
       "<Figure size 432x288 with 1 Axes>"
      ]
     },
     "metadata": {
      "needs_background": "light"
     },
     "output_type": "display_data"
    }
   ],
   "source": [
    "ax = df_product_5['Rate'].plot.kde()"
   ]
  },
  {
   "cell_type": "code",
   "execution_count": 933,
   "metadata": {},
   "outputs": [
    {
     "data": {
      "image/png": "[encoded data removed]",
      "text/plain": [
       "<Figure size 432x288 with 1 Axes>"
      ]
     },
     "execution_count": 933,
     "metadata": {},
     "output_type": "execute_result"
    },
    {
     "data": {
      "image/png": "[encoded data removed]",
      "text/plain": [
       "<Figure size 432x288 with 1 Axes>"
      ]
     },
     "metadata": {
      "needs_background": "light"
     },
     "output_type": "display_data"
    }
   ],
   "source": [
    "qqplot(df_product_5['Rate'], line='s')"
   ]
  },
  {
   "cell_type": "code",
   "execution_count": null,
   "metadata": {},
   "outputs": [],
   "source": []
  },
  {
   "cell_type": "code",
   "execution_count": null,
   "metadata": {},
   "outputs": [],
   "source": []
  },
  {
   "cell_type": "code",
   "execution_count": 940,
   "metadata": {},
   "outputs": [],
   "source": [
    "def del_outlier(df, str_col, z_threshold  = 3, abs=False):\n",
    "    \"\"\"\n",
    "    We use z-score to delete outliers in our data. for example ['YieldPrecentage'] and ['Rate']\n",
    "    When ads=True, it will delete smallest and biggest outliers.\n",
    "    When ads=False, it will only delete outliers ['YieldPercentage']> 130%, which means remain [0,130]\n",
    "\n",
    "    Args:\n",
    "    ------\n",
    "    df:DataFrame\n",
    "        Any dataframe\n",
    "    str_col:str\n",
    "        the name of column you want to detect outliers and drop\n",
    "\n",
    "    Returns:\n",
    "    --------\n",
    "    df_clean:DataFrame\n",
    "        df has been dropped\n",
    "    df_outlier:DataFrame\n",
    "        The rows that has been detected as outliers\n",
    "    \"\"\"\n",
    "    if abs:\n",
    "        # if abs=True, we will absolute z-score and find the both side outliers\n",
    "        z_score = np.abs(stats.zscore(df[str_col], nan_policy='omit'))\n",
    "        print(\"We will drop too large and too small outliers\")\n",
    "        index_outlier = df[z_score > z_threshold].index\n",
    "    else:\n",
    "        # if abs=False (default setting), we only delete the too large outlers\n",
    "        z_score = stats.zscore(df[str_col], nan_policy='omit')\n",
    "        print(\"we will only drop too large outliers\")\n",
    "        index_outlier = df[(z_score > z_threshold) | (z_score < -z_threshold)].index\n",
    "    # set a z-score threshold, any greater than this value will be eliminate\n",
    "    # z_threshold = 3\n",
    "    # filter that ooutlier rows in dataframe\n",
    "    # index_outlier = np.where(z_score > z_threshold, z_score)\n",
    "    # get the index of these outliers\n",
    "#     index_outlier = df[z_score > z_threshold].index\n",
    "    # restore these outliers in df_outlier for further review\n",
    "    df_outlier = df.loc[index_outlier,:]\n",
    "    print('We have {} data points are outliers, which between {} and {}'.format(len(index_outlier),\n",
    "                                                                                df_outlier[str_col].min(),\n",
    "                                                                                df_outlier[str_col].max()))\n",
    "    # drop these rows by index\n",
    "    df_clean = df.drop(axis=0, index=index_outlier)\n",
    "    print(\"After drop outlier, the {} column remain range between {} and {}\".format(str_col,\n",
    "                                                                                    df_clean[str_col].min(),\n",
    "                                                                                    df_clean[str_col].max()))\n",
    "    return df_clean, df_outlier, z_score, index_outlier\n"
   ]
  },
  {
   "cell_type": "code",
   "execution_count": 948,
   "metadata": {},
   "outputs": [
    {
     "name": "stdout",
     "output_type": "stream",
     "text": [
      "We will drop too large and too small outliers\n",
      "We have 843 data points are outliers, which between 0.1258802816901408 and 14083.333333333334\n",
      "After drop outlier, the Rate column remain range between 2.857142857142857 and 781.4569536423842\n"
     ]
    }
   ],
   "source": [
    "df_65, df_66, z_score, index_outlier = del_outlier(df_product_4, 'Rate', 1.3, abs=True)"
   ]
  },
  {
   "cell_type": "code",
   "execution_count": 810,
   "metadata": {},
   "outputs": [
    {
     "data": {
      "text/plain": [
       "array([90.37119625,  4.03164154,  7.02161483,  9.83310975, 18.98127757])"
      ]
     },
     "execution_count": 810,
     "metadata": {},
     "output_type": "execute_result"
    }
   ],
   "source": [
    "z_score[z_score>3]"
   ]
  },
  {
   "cell_type": "code",
   "execution_count": 809,
   "metadata": {},
   "outputs": [
    {
     "data": {
      "text/html": [
       "<div>\n",
       "<style scoped>\n",
       "    .dataframe tbody tr th:only-of-type {\n",
       "        vertical-align: middle;\n",
       "    }\n",
       "\n",
       "    .dataframe tbody tr th {\n",
       "        vertical-align: top;\n",
       "    }\n",
       "\n",
       "    .dataframe thead th {\n",
       "        text-align: right;\n",
       "    }\n",
       "</style>\n",
       "<table border=\"1\" class=\"dataframe\">\n",
       "  <thead>\n",
       "    <tr style=\"text-align: right;\">\n",
       "      <th></th>\n",
       "      <th>StartDate</th>\n",
       "      <th>BatchNumber</th>\n",
       "      <th>CustItem</th>\n",
       "      <th>Dryer</th>\n",
       "      <th>Flow</th>\n",
       "      <th>Hygroscopicity</th>\n",
       "      <th>Bulk Density</th>\n",
       "      <th>Moisture</th>\n",
       "      <th>ScheduledDryQty</th>\n",
       "      <th>ActualDryQty</th>\n",
       "      <th>YieldPercentage</th>\n",
       "      <th>DryingTime_Hrs</th>\n",
       "      <th>CleanTime_Hrs</th>\n",
       "      <th>DownTime_Hrs</th>\n",
       "      <th>TotalRunTime_Hrs</th>\n",
       "      <th>ProdLine</th>\n",
       "      <th>Rate</th>\n",
       "      <th>dt_est</th>\n",
       "    </tr>\n",
       "  </thead>\n",
       "  <tbody>\n",
       "    <tr>\n",
       "      <th>449</th>\n",
       "      <td>2016-03-29 22:00:36.000</td>\n",
       "      <td>PASD317476</td>\n",
       "      <td>10185-0000</td>\n",
       "      <td>Dryer 08</td>\n",
       "      <td>NaN</td>\n",
       "      <td>NaN</td>\n",
       "      <td>NaN</td>\n",
       "      <td>NaN</td>\n",
       "      <td>5820.1387</td>\n",
       "      <td>6554.8998</td>\n",
       "      <td>112.6</td>\n",
       "      <td>0.1</td>\n",
       "      <td>0.0</td>\n",
       "      <td>0.0</td>\n",
       "      <td>0.1</td>\n",
       "      <td>NaN</td>\n",
       "      <td>65548.998000</td>\n",
       "      <td>2016-03-29 22:00:00-04:00</td>\n",
       "    </tr>\n",
       "    <tr>\n",
       "      <th>2459</th>\n",
       "      <td>2017-05-31 14:55:09.420</td>\n",
       "      <td>PASD335907</td>\n",
       "      <td>40828-0000</td>\n",
       "      <td>Dryer 07</td>\n",
       "      <td>Good</td>\n",
       "      <td>Medium</td>\n",
       "      <td>Tapped 0.5 - 0.7 g/ml</td>\n",
       "      <td>5% Max</td>\n",
       "      <td>6079.9957</td>\n",
       "      <td>4958.9999</td>\n",
       "      <td>81.6</td>\n",
       "      <td>1.5</td>\n",
       "      <td>0.0</td>\n",
       "      <td>0.0</td>\n",
       "      <td>1.5</td>\n",
       "      <td>Nutraceutical</td>\n",
       "      <td>3305.999933</td>\n",
       "      <td>2017-05-31 15:00:00-04:00</td>\n",
       "    </tr>\n",
       "    <tr>\n",
       "      <th>3344</th>\n",
       "      <td>2017-11-09 03:45:01.613</td>\n",
       "      <td>PASD341208</td>\n",
       "      <td>10185-0000</td>\n",
       "      <td>Dryer 06</td>\n",
       "      <td>NaN</td>\n",
       "      <td>NaN</td>\n",
       "      <td>NaN</td>\n",
       "      <td>NaN</td>\n",
       "      <td>5820.1449</td>\n",
       "      <td>6553.7998</td>\n",
       "      <td>112.6</td>\n",
       "      <td>1.2</td>\n",
       "      <td>0.0</td>\n",
       "      <td>0.0</td>\n",
       "      <td>1.2</td>\n",
       "      <td>NaN</td>\n",
       "      <td>5461.499833</td>\n",
       "      <td>2017-11-09 04:00:00-05:00</td>\n",
       "    </tr>\n",
       "    <tr>\n",
       "      <th>7884</th>\n",
       "      <td>2020-01-10 09:16:44.370</td>\n",
       "      <td>PASD366223</td>\n",
       "      <td>44939-0000</td>\n",
       "      <td>Dryer 06</td>\n",
       "      <td>NaN</td>\n",
       "      <td>NaN</td>\n",
       "      <td>NaN</td>\n",
       "      <td>NaN</td>\n",
       "      <td>1940.0480</td>\n",
       "      <td>2246.4999</td>\n",
       "      <td>115.8</td>\n",
       "      <td>0.3</td>\n",
       "      <td>0.1</td>\n",
       "      <td>0.0</td>\n",
       "      <td>0.4</td>\n",
       "      <td>Chemical</td>\n",
       "      <td>7488.333000</td>\n",
       "      <td>2020-01-10 09:00:00-05:00</td>\n",
       "    </tr>\n",
       "    <tr>\n",
       "      <th>7916</th>\n",
       "      <td>2020-01-16 16:15:35.970</td>\n",
       "      <td>PASD366522</td>\n",
       "      <td>47645-0000</td>\n",
       "      <td>Dryer 06</td>\n",
       "      <td>Good</td>\n",
       "      <td>Medium</td>\n",
       "      <td>Record (loose)</td>\n",
       "      <td>5.0% Max</td>\n",
       "      <td>8580.0000</td>\n",
       "      <td>8450.0000</td>\n",
       "      <td>98.5</td>\n",
       "      <td>0.6</td>\n",
       "      <td>0.1</td>\n",
       "      <td>0.0</td>\n",
       "      <td>0.7</td>\n",
       "      <td>Flavors</td>\n",
       "      <td>14083.333333</td>\n",
       "      <td>2020-01-16 16:00:00-05:00</td>\n",
       "    </tr>\n",
       "  </tbody>\n",
       "</table>\n",
       "</div>"
      ],
      "text/plain": [
       "                    StartDate BatchNumber    CustItem     Dryer  Flow  \\\n",
       "449   2016-03-29 22:00:36.000  PASD317476  10185-0000  Dryer 08   NaN   \n",
       "2459  2017-05-31 14:55:09.420  PASD335907  40828-0000  Dryer 07  Good   \n",
       "3344  2017-11-09 03:45:01.613  PASD341208  10185-0000  Dryer 06   NaN   \n",
       "7884  2020-01-10 09:16:44.370  PASD366223  44939-0000  Dryer 06   NaN   \n",
       "7916  2020-01-16 16:15:35.970  PASD366522  47645-0000  Dryer 06  Good   \n",
       "\n",
       "     Hygroscopicity           Bulk Density  Moisture  ScheduledDryQty  \\\n",
       "449             NaN                    NaN       NaN        5820.1387   \n",
       "2459         Medium  Tapped 0.5 - 0.7 g/ml    5% Max        6079.9957   \n",
       "3344            NaN                    NaN       NaN        5820.1449   \n",
       "7884            NaN                    NaN       NaN        1940.0480   \n",
       "7916         Medium         Record (loose)  5.0% Max        8580.0000   \n",
       "\n",
       "      ActualDryQty  YieldPercentage  DryingTime_Hrs  CleanTime_Hrs  \\\n",
       "449      6554.8998            112.6             0.1            0.0   \n",
       "2459     4958.9999             81.6             1.5            0.0   \n",
       "3344     6553.7998            112.6             1.2            0.0   \n",
       "7884     2246.4999            115.8             0.3            0.1   \n",
       "7916     8450.0000             98.5             0.6            0.1   \n",
       "\n",
       "      DownTime_Hrs  TotalRunTime_Hrs       ProdLine          Rate  \\\n",
       "449            0.0               0.1            NaN  65548.998000   \n",
       "2459           0.0               1.5  Nutraceutical   3305.999933   \n",
       "3344           0.0               1.2            NaN   5461.499833   \n",
       "7884           0.0               0.4       Chemical   7488.333000   \n",
       "7916           0.0               0.7        Flavors  14083.333333   \n",
       "\n",
       "                        dt_est  \n",
       "449  2016-03-29 22:00:00-04:00  \n",
       "2459 2017-05-31 15:00:00-04:00  \n",
       "3344 2017-11-09 04:00:00-05:00  \n",
       "7884 2020-01-10 09:00:00-05:00  \n",
       "7916 2020-01-16 16:00:00-05:00  "
      ]
     },
     "execution_count": 809,
     "metadata": {},
     "output_type": "execute_result"
    }
   ],
   "source": [
    "df_raw_product.loc[index_outlier]"
   ]
  },
  {
   "cell_type": "code",
   "execution_count": 811,
   "metadata": {},
   "outputs": [
    {
     "data": {
      "text/plain": [
       "383.40851839865053"
      ]
     },
     "execution_count": 811,
     "metadata": {},
     "output_type": "execute_result"
    }
   ],
   "source": [
    "df_product['Rate'].mean()"
   ]
  },
  {
   "cell_type": "code",
   "execution_count": 812,
   "metadata": {},
   "outputs": [
    {
     "data": {
      "text/plain": [
       "240.7482265566957"
      ]
     },
     "execution_count": 812,
     "metadata": {},
     "output_type": "execute_result"
    }
   ],
   "source": [
    "df_product['Rate'].std()"
   ]
  },
  {
   "cell_type": "code",
   "execution_count": 833,
   "metadata": {},
   "outputs": [],
   "source": [
    "z_score_3 = stats.zscore(df_raw_product['Rate'],nan_policy='omit')"
   ]
  },
  {
   "cell_type": "code",
   "execution_count": 838,
   "metadata": {},
   "outputs": [
    {
     "data": {
      "text/plain": [
       "559"
      ]
     },
     "execution_count": 838,
     "metadata": {},
     "output_type": "execute_result"
    }
   ],
   "source": [
    "len(z_score[z_score_3<-0.5])"
   ]
  },
  {
   "cell_type": "code",
   "execution_count": 824,
   "metadata": {},
   "outputs": [
    {
     "data": {
      "text/plain": [
       "numpy.ndarray"
      ]
     },
     "execution_count": 824,
     "metadata": {},
     "output_type": "execute_result"
    }
   ],
   "source": [
    "type(z_score)"
   ]
  },
  {
   "cell_type": "code",
   "execution_count": 826,
   "metadata": {},
   "outputs": [
    {
     "data": {
      "text/plain": [
       "0.05953678361882513"
      ]
     },
     "execution_count": 826,
     "metadata": {},
     "output_type": "execute_result"
    }
   ],
   "source": [
    "z_score[10]"
   ]
  },
  {
   "cell_type": "code",
   "execution_count": null,
   "metadata": {},
   "outputs": [],
   "source": []
  },
  {
   "cell_type": "code",
   "execution_count": null,
   "metadata": {},
   "outputs": [],
   "source": []
  },
  {
   "cell_type": "code",
   "execution_count": null,
   "metadata": {},
   "outputs": [],
   "source": []
  },
  {
   "cell_type": "code",
   "execution_count": 827,
   "metadata": {},
   "outputs": [],
   "source": [
    "a = np.array([ 0.7972,  0.0767,  0.4383,  0.7866,  0.8091,\n",
    "               0.1954,  0.6307,  0.6599,  0.1065,  0.0508, 0.0000001])"
   ]
  },
  {
   "cell_type": "code",
   "execution_count": 828,
   "metadata": {},
   "outputs": [
    {
     "data": {
      "text/plain": [
       "0.41374546363636355"
      ]
     },
     "execution_count": 828,
     "metadata": {},
     "output_type": "execute_result"
    }
   ],
   "source": [
    "a.mean()"
   ]
  },
  {
   "cell_type": "code",
   "execution_count": 829,
   "metadata": {},
   "outputs": [
    {
     "data": {
      "text/plain": [
       "0.3175497304680503"
      ]
     },
     "execution_count": 829,
     "metadata": {},
     "output_type": "execute_result"
    }
   ],
   "source": [
    "a.std()"
   ]
  },
  {
   "cell_type": "code",
   "execution_count": 830,
   "metadata": {},
   "outputs": [],
   "source": [
    "z = stats.zscore(a)"
   ]
  },
  {
   "cell_type": "code",
   "execution_count": 831,
   "metadata": {},
   "outputs": [
    {
     "data": {
      "text/plain": [
       "array([ 1.20754168, -1.06139427,  0.07732501,  1.17416109,  1.24501613,\n",
       "       -0.68759455,  0.68321436,  0.77516846, -0.9675507 , -1.1429563 ,\n",
       "       -1.30293092])"
      ]
     },
     "execution_count": 831,
     "metadata": {},
     "output_type": "execute_result"
    }
   ],
   "source": [
    "z"
   ]
  },
  {
   "cell_type": "code",
   "execution_count": null,
   "metadata": {},
   "outputs": [],
   "source": []
  },
  {
   "cell_type": "code",
   "execution_count": null,
   "metadata": {},
   "outputs": [],
   "source": []
  },
  {
   "cell_type": "code",
   "execution_count": null,
   "metadata": {},
   "outputs": [],
   "source": []
  },
  {
   "cell_type": "code",
   "execution_count": 700,
   "metadata": {},
   "outputs": [
    {
     "data": {
      "text/plain": [
       "(217, 15)"
      ]
     },
     "execution_count": 700,
     "metadata": {},
     "output_type": "execute_result"
    }
   ],
   "source": [
    "df_product.loc[df_product['Rate']>1000].shape"
   ]
  },
  {
   "cell_type": "code",
   "execution_count": 742,
   "metadata": {},
   "outputs": [
    {
     "data": {
      "text/plain": [
       "(9970, 18)"
      ]
     },
     "execution_count": 742,
     "metadata": {},
     "output_type": "execute_result"
    }
   ],
   "source": [
    "df_raw_product.shape"
   ]
  },
  {
   "cell_type": "code",
   "execution_count": 798,
   "metadata": {},
   "outputs": [
    {
     "data": {
      "text/plain": [
       "9970"
      ]
     },
     "execution_count": 798,
     "metadata": {},
     "output_type": "execute_result"
    }
   ],
   "source": [
    "len(z_score)"
   ]
  },
  {
   "cell_type": "code",
   "execution_count": 755,
   "metadata": {},
   "outputs": [
    {
     "data": {
      "text/plain": [
       "Index(['StartDate', 'BatchNumber', 'CustItem', 'Dryer', 'Flow',\n",
       "       'Hygroscopicity', 'Bulk Density', 'Moisture', 'ScheduledDryQty',\n",
       "       'ActualDryQty', 'YieldPercentage', 'DryingTime_Hrs', 'CleanTime_Hrs',\n",
       "       'DownTime_Hrs', 'TotalRunTime_Hrs', 'ProdLine', 'Rate', 'dt_est'],\n",
       "      dtype='object')"
      ]
     },
     "execution_count": 755,
     "metadata": {},
     "output_type": "execute_result"
    }
   ],
   "source": [
    "df_65.columns"
   ]
  },
  {
   "cell_type": "code",
   "execution_count": 843,
   "metadata": {},
   "outputs": [
    {
     "name": "stdout",
     "output_type": "stream",
     "text": [
      "We will drop too large and too small outliers\n",
      "We have 5 data points are outliers, which between 3305.999933333333 and 65548.99799999999\n",
      "After drop outlier, the Rate column remain range between 0.1258802816901408 and 1713.3103448275865\n"
     ]
    }
   ],
   "source": [
    "df_65, df_66, z_score, index_outlier = del_outlier(df_raw_product, 'Rate', 3, abs=True)"
   ]
  },
  {
   "cell_type": "code",
   "execution_count": 844,
   "metadata": {},
   "outputs": [
    {
     "data": {
      "text/plain": [
       "array([90.37119625,  4.03164154,  7.02161483,  9.83310975, 18.98127757])"
      ]
     },
     "execution_count": 844,
     "metadata": {},
     "output_type": "execute_result"
    }
   ],
   "source": [
    "z_score[z_score > 3]"
   ]
  },
  {
   "cell_type": "code",
   "execution_count": 845,
   "metadata": {},
   "outputs": [
    {
     "data": {
      "text/plain": [
       "array([], dtype=float64)"
      ]
     },
     "execution_count": 845,
     "metadata": {},
     "output_type": "execute_result"
    }
   ],
   "source": [
    "z_score[z_score<0]"
   ]
  },
  {
   "cell_type": "code",
   "execution_count": null,
   "metadata": {},
   "outputs": [],
   "source": []
  },
  {
   "cell_type": "code",
   "execution_count": null,
   "metadata": {},
   "outputs": [],
   "source": []
  },
  {
   "cell_type": "code",
   "execution_count": null,
   "metadata": {},
   "outputs": [],
   "source": []
  },
  {
   "cell_type": "code",
   "execution_count": null,
   "metadata": {},
   "outputs": [],
   "source": []
  },
  {
   "cell_type": "code",
   "execution_count": 782,
   "metadata": {},
   "outputs": [
    {
     "name": "stderr",
     "output_type": "stream",
     "text": [
      "D:\\ProgramData\\Anaconda3\\envs\\08_web_mining\\lib\\site-packages\\seaborn\\_decorators.py:36: FutureWarning: Pass the following variable as a keyword arg: x. From version 0.12, the only valid positional argument will be `data`, and passing other arguments without an explicit keyword will result in an error or misinterpretation.\n",
      "  warnings.warn(\n"
     ]
    },
    {
     "data": {
      "text/plain": [
       "<AxesSubplot:xlabel='Rate'>"
      ]
     },
     "execution_count": 782,
     "metadata": {},
     "output_type": "execute_result"
    },
    {
     "data": {
      "image/png": "[encoded data removed]",
      "text/plain": [
       "<Figure size 432x288 with 1 Axes>"
      ]
     },
     "metadata": {
      "needs_background": "light"
     },
     "output_type": "display_data"
    }
   ],
   "source": [
    "sns.boxplot(df_65['Rate'])"
   ]
  },
  {
   "cell_type": "code",
   "execution_count": 784,
   "metadata": {},
   "outputs": [
    {
     "data": {
      "text/plain": [
       "(65, 18)"
      ]
     },
     "execution_count": 784,
     "metadata": {},
     "output_type": "execute_result"
    }
   ],
   "source": [
    "df_65[df_65['Rate']<1].shape"
   ]
  },
  {
   "cell_type": "code",
   "execution_count": 850,
   "metadata": {},
   "outputs": [
    {
     "data": {
      "text/plain": [
       "<AxesSubplot:>"
      ]
     },
     "execution_count": 850,
     "metadata": {},
     "output_type": "execute_result"
    },
    {
     "data": {
      "image/png": "[encoded data removed]",
      "text/plain": [
       "<Figure size 432x288 with 1 Axes>"
      ]
     },
     "metadata": {
      "needs_background": "light"
     },
     "output_type": "display_data"
    }
   ],
   "source": [
    "df_65[df_65['Rate']<500]['Rate'].hist(bins=50)"
   ]
  },
  {
   "cell_type": "code",
   "execution_count": 797,
   "metadata": {},
   "outputs": [
    {
     "data": {
      "text/plain": [
       "399.5515803528262"
      ]
     },
     "execution_count": 797,
     "metadata": {},
     "output_type": "execute_result"
    }
   ],
   "source": [
    "df_raw_product['Rate'].mean()"
   ]
  },
  {
   "cell_type": "code",
   "execution_count": 740,
   "metadata": {},
   "outputs": [
    {
     "data": {
      "text/plain": [
       "array([0.35068802, 0.09564569, 0.38323375, ..., 0.35098064, 0.69539233,\n",
       "       0.27020964])"
      ]
     },
     "execution_count": 740,
     "metadata": {},
     "output_type": "execute_result"
    }
   ],
   "source": [
    "z_score"
   ]
  },
  {
   "cell_type": "code",
   "execution_count": null,
   "metadata": {},
   "outputs": [],
   "source": [
    "df_65, df_66, z_score, index_outlier = del_outlier(df_raw_product, 'YieldPercentage', 1, abs=True)"
   ]
  },
  {
   "cell_type": "code",
   "execution_count": 748,
   "metadata": {},
   "outputs": [
    {
     "data": {
      "text/plain": [
       "Int64Index([ 105,  272,  346,  449,  746, 1031, 1072, 1090, 1153, 1161,\n",
       "            ...\n",
       "            8963, 9031, 9275, 9342, 9344, 9415, 9594, 9759, 9771, 9941],\n",
       "           dtype='int64', length=110)"
      ]
     },
     "execution_count": 748,
     "metadata": {},
     "output_type": "execute_result"
    }
   ],
   "source": [
    "index_outlier"
   ]
  },
  {
   "cell_type": "code",
   "execution_count": 757,
   "metadata": {},
   "outputs": [
    {
     "data": {
      "text/plain": [
       "array([], dtype=float64)"
      ]
     },
     "execution_count": 757,
     "metadata": {},
     "output_type": "execute_result"
    }
   ],
   "source": [
    "z_score[z_score<0]"
   ]
  },
  {
   "cell_type": "code",
   "execution_count": 774,
   "metadata": {},
   "outputs": [
    {
     "data": {
      "text/plain": [
       "array([ 3.43725443,  4.32076703,  6.71577786,  6.34028501,  6.16358249,\n",
       "        3.40780401,  6.31083459,  5.48622283,  3.81491149,  3.33634217,\n",
       "        5.64820014,  3.4004414 ,  3.63820897, 24.33232741,  3.4004414 ,\n",
       "       19.57608458,  3.06392578,  8.42910062,  3.21117788,  4.2640304 ,\n",
       "        4.25666779,  5.08864216,  4.66161107,  3.89590015,  3.29736493,\n",
       "        3.65293418,  3.39524301,  6.35501022,  4.58062241,  5.70493677,\n",
       "        3.63820897,  5.96479215,  3.40996822,  5.66292535,  3.72656023,\n",
       "        3.2332657 ,  4.18304174,  5.26534468,  3.5277699 ,  4.09988888,\n",
       "        6.28138417,  6.06050602,  3.04183797,  3.87381233,  6.71577786,\n",
       "        6.4801745 ,  4.02106443,  3.54985771,  4.4112825 ,  4.1241409 ,\n",
       "        4.44073292,  5.09600476,  6.3329224 ,  3.85172452,  4.04098804,\n",
       "        3.60139595,  3.89590015,  3.2332657 ,  3.55505611,  5.98687997,\n",
       "        5.56721148,  3.53296829,  4.32812963,  3.49095687,  6.00160518,\n",
       "        3.02494855,  6.08995644,  3.3878804 ,  6.70841526,  4.67633628,\n",
       "        4.5585346 ,  3.90326275, 56.96339276,  3.35842998,  3.32897956,\n",
       "        5.08127955,  6.34764761,  6.71577786,  3.13018923,  3.65813258,\n",
       "        3.40260561,  3.07865099,  6.26665896,  5.68501316,  3.71183502,\n",
       "        5.60402451,  6.71577786,  6.64215181,  4.93402745,  4.93402745,\n",
       "        4.93402745,  4.93402745,  4.93402745,  4.93402745,  4.93402745,\n",
       "        4.93402745,  4.93402745,  4.93402745,  4.93402745,  4.93402745,\n",
       "        4.93402745,  4.93402745,  4.93402745,  4.93402745,  6.71577786])"
      ]
     },
     "execution_count": 774,
     "metadata": {},
     "output_type": "execute_result"
    }
   ],
   "source": [
    "z_score[z_score>3]"
   ]
  },
  {
   "cell_type": "code",
   "execution_count": null,
   "metadata": {},
   "outputs": [],
   "source": []
  },
  {
   "cell_type": "code",
   "execution_count": 750,
   "metadata": {},
   "outputs": [
    {
     "name": "stderr",
     "output_type": "stream",
     "text": [
      "D:\\ProgramData\\Anaconda3\\envs\\08_web_mining\\lib\\site-packages\\seaborn\\distributions.py:2551: FutureWarning: `distplot` is a deprecated function and will be removed in a future version. Please adapt your code to use either `displot` (a figure-level function with similar flexibility) or `histplot` (an axes-level function for histograms).\n",
      "  warnings.warn(msg, FutureWarning)\n"
     ]
    },
    {
     "data": {
      "text/plain": [
       "<AxesSubplot:ylabel='Density'>"
      ]
     },
     "execution_count": 750,
     "metadata": {},
     "output_type": "execute_result"
    },
    {
     "data": {
      "image/png": "[encoded data removed]",
      "text/plain": [
       "<Figure size 432x288 with 1 Axes>"
      ]
     },
     "metadata": {
      "needs_background": "light"
     },
     "output_type": "display_data"
    }
   ],
   "source": [
    "sns.distplot(z_score)"
   ]
  },
  {
   "cell_type": "code",
   "execution_count": 751,
   "metadata": {},
   "outputs": [
    {
     "name": "stderr",
     "output_type": "stream",
     "text": [
      "D:\\ProgramData\\Anaconda3\\envs\\08_web_mining\\lib\\site-packages\\seaborn\\distributions.py:2551: FutureWarning: `distplot` is a deprecated function and will be removed in a future version. Please adapt your code to use either `displot` (a figure-level function with similar flexibility) or `histplot` (an axes-level function for histograms).\n",
      "  warnings.warn(msg, FutureWarning)\n"
     ]
    },
    {
     "data": {
      "text/plain": [
       "<AxesSubplot:ylabel='Density'>"
      ]
     },
     "execution_count": 751,
     "metadata": {},
     "output_type": "execute_result"
    },
    {
     "data": {
      "image/png": "[encoded data removed]",
      "text/plain": [
       "<Figure size 432x288 with 1 Axes>"
      ]
     },
     "metadata": {
      "needs_background": "light"
     },
     "output_type": "display_data"
    }
   ],
   "source": [
    "sns.distplot(np.abs(z_score))"
   ]
  },
  {
   "cell_type": "code",
   "execution_count": 706,
   "metadata": {},
   "outputs": [
    {
     "name": "stderr",
     "output_type": "stream",
     "text": [
      "D:\\ProgramData\\Anaconda3\\envs\\08_web_mining\\lib\\site-packages\\seaborn\\_decorators.py:36: FutureWarning: Pass the following variable as a keyword arg: x. From version 0.12, the only valid positional argument will be `data`, and passing other arguments without an explicit keyword will result in an error or misinterpretation.\n",
      "  warnings.warn(\n"
     ]
    },
    {
     "data": {
      "text/plain": [
       "<AxesSubplot:xlabel='Rate'>"
      ]
     },
     "execution_count": 706,
     "metadata": {},
     "output_type": "execute_result"
    },
    {
     "data": {
      "image/png": "[encoded data removed]",
      "text/plain": [
       "<Figure size 432x288 with 1 Axes>"
      ]
     },
     "metadata": {
      "needs_background": "light"
     },
     "output_type": "display_data"
    }
   ],
   "source": [
    "sns.boxplot(df_65['Rate'])"
   ]
  },
  {
   "cell_type": "code",
   "execution_count": 709,
   "metadata": {},
   "outputs": [],
   "source": [
    "from statsmodels.graphics.gofplots import qqplot"
   ]
  },
  {
   "cell_type": "code",
   "execution_count": 712,
   "metadata": {},
   "outputs": [
    {
     "data": {
      "image/png": "[encoded data removed]",
      "text/plain": [
       "<Figure size 432x288 with 1 Axes>"
      ]
     },
     "execution_count": 712,
     "metadata": {},
     "output_type": "execute_result"
    },
    {
     "data": {
      "image/png": "[encoded data removed]",
      "text/plain": [
       "<Figure size 432x288 with 1 Axes>"
      ]
     },
     "metadata": {
      "needs_background": "light"
     },
     "output_type": "display_data"
    }
   ],
   "source": [
    "qqplot(df_65['Rate'], line='s')"
   ]
  },
  {
   "cell_type": "code",
   "execution_count": null,
   "metadata": {},
   "outputs": [],
   "source": []
  },
  {
   "cell_type": "code",
   "execution_count": 713,
   "metadata": {},
   "outputs": [],
   "source": [
    "from scipy.stats import shapiro"
   ]
  },
  {
   "cell_type": "code",
   "execution_count": null,
   "metadata": {},
   "outputs": [],
   "source": [
    "df"
   ]
  },
  {
   "cell_type": "code",
   "execution_count": 746,
   "metadata": {},
   "outputs": [
    {
     "name": "stderr",
     "output_type": "stream",
     "text": [
      "D:\\ProgramData\\Anaconda3\\envs\\08_web_mining\\lib\\site-packages\\scipy\\stats\\morestats.py:1681: UserWarning: p-value may not be accurate for N > 5000.\n",
      "  warnings.warn(\"p-value may not be accurate for N > 5000.\")\n"
     ]
    }
   ],
   "source": [
    "stat, p = shapiro(df_nj_loc['humidity'])"
   ]
  },
  {
   "cell_type": "code",
   "execution_count": 747,
   "metadata": {},
   "outputs": [
    {
     "data": {
      "text/plain": [
       "1.0"
      ]
     },
     "execution_count": 747,
     "metadata": {},
     "output_type": "execute_result"
    }
   ],
   "source": [
    "p"
   ]
  },
  {
   "cell_type": "code",
   "execution_count": 718,
   "metadata": {},
   "outputs": [
    {
     "data": {
      "text/plain": [
       "(247, 15)"
      ]
     },
     "execution_count": 718,
     "metadata": {},
     "output_type": "execute_result"
    }
   ],
   "source": [
    "df_66.shape"
   ]
  },
  {
   "cell_type": "code",
   "execution_count": 840,
   "metadata": {},
   "outputs": [
    {
     "data": {
      "text/plain": [
       "(9970, 18)"
      ]
     },
     "execution_count": 840,
     "metadata": {},
     "output_type": "execute_result"
    }
   ],
   "source": [
    "df_raw_product.shape"
   ]
  },
  {
   "cell_type": "code",
   "execution_count": 841,
   "metadata": {},
   "outputs": [],
   "source": [
    "df_70 = df_raw_product.dropna()"
   ]
  },
  {
   "cell_type": "code",
   "execution_count": 937,
   "metadata": {},
   "outputs": [],
   "source": [
    "def iqr_outlier(df, str_col, iqr_threshold=3):\n",
    "    \"\"\":arg\n",
    "    Except z-socre, we also have also have 'Interquartile Range Method' to deal with non-Gaussian distribution\n",
    "\n",
    "    Args:\n",
    "    -----\n",
    "    df:pd.DataFrame\n",
    "\n",
    "    \"\"\"\n",
    "    print('Start using IQR to eliminate outliers.')\n",
    "    # caculate interquartile range\n",
    "    q75, q25 = np.percentile(df[str_col], 75), np.percentile(df[str_col], 25)\n",
    "    print('Q75 = {}, Q25 = {}'.format(q75, q25))\n",
    "    # IQR can be used to identify outliers by defining limits on the sample values that are a factore k\n",
    "    iqr = q75 - q25\n",
    "    print(iqr)\n",
    "    # of the IQR below the 25th percentile or above the 75th percentile. The commmon value of k is 1.5\n",
    "    # A factor k of 3 or more can be used to identify values that are extrmel outliers\n",
    "    cut_off = iqr * iqr_threshold\n",
    "    # get the lower bound and upper bound\n",
    "    lower_bound, upper_bound = q25-cut_off, q75+cut_off\n",
    "    # so we can use these bounds to identify outliers and remaining data\n",
    "    df_outlier = df.loc[(df[str_col]>upper_bound) | (df[str_col]<lower_bound)]\n",
    "    print('In {} column using {} as threshold'.format(str_col,iqr_threshold))\n",
    "    print('We have {} data points are outliers, which between {} and {}'.format(df_outlier.shape[0],\n",
    "                                                                                df_outlier[str_col].min(),\n",
    "                                                                                df_outlier[str_col].max()))\n",
    "    print(\"Before drop outlier, the {} column remain range between {} and {}\".format(str_col,\n",
    "                                                                                df[str_col].min(),\n",
    "                                                                                df[str_col].max()))\n",
    "    # then we calculate filter out outlers result\n",
    "    df_clean = df.loc[(df[str_col]<upper_bound) & (df[str_col]>lower_bound)]\n",
    "    print(\"After drop outlier, the {} column remain range between {} and {}\".format(str_col,\n",
    "                                                                                    df_clean[str_col].min(),\n",
    "                                                                                    df_clean[str_col].max()))\n",
    "    \n",
    "    \n",
    "\n",
    "    \n",
    "\n",
    "    print('Complete IQR eliminate outliers Function.')\n",
    "\n",
    "    return df_clean, df_outlier"
   ]
  },
  {
   "cell_type": "code",
   "execution_count": 949,
   "metadata": {},
   "outputs": [
    {
     "name": "stdout",
     "output_type": "stream",
     "text": [
      "Start using IQR to eliminate outliers.\n",
      "Q75 = 529.1401820699709, Q25 = 208.58487201591512\n",
      "320.5553100540558\n",
      "In Rate column using 1.5 as threshold\n",
      "We have 0 data points are outliers, which between nan and nan\n",
      "Before drop outlier, the Rate column remain range between 8.09090909090909 and 973.9130434782608\n",
      "After drop outlier, the Rate column remain range between 8.09090909090909 and 973.9130434782608\n",
      "Complete IQR eliminate outliers Function.\n"
     ]
    }
   ],
   "source": [
    "df_70, df_71 = iqr_outlier(df_product_5, 'Rate', 1.5)"
   ]
  },
  {
   "cell_type": "code",
   "execution_count": 899,
   "metadata": {},
   "outputs": [],
   "source": [
    "q9975 = np.percentile(df_product_4['Rate'], 5)"
   ]
  },
  {
   "cell_type": "code",
   "execution_count": 900,
   "metadata": {},
   "outputs": [
    {
     "data": {
      "text/plain": [
       "14.116718426501034"
      ]
     },
     "execution_count": 900,
     "metadata": {},
     "output_type": "execute_result"
    }
   ],
   "source": [
    "q9975"
   ]
  },
  {
   "cell_type": "code",
   "execution_count": null,
   "metadata": {},
   "outputs": [],
   "source": [
    "df_3sigma = "
   ]
  },
  {
   "cell_type": "code",
   "execution_count": 907,
   "metadata": {},
   "outputs": [],
   "source": [
    "q25 = np.percentile(df_product_4['Rate'], 2.5)"
   ]
  },
  {
   "cell_type": "code",
   "execution_count": 908,
   "metadata": {},
   "outputs": [
    {
     "data": {
      "text/plain": [
       "8.087831439393938"
      ]
     },
     "execution_count": 908,
     "metadata": {},
     "output_type": "execute_result"
    }
   ],
   "source": [
    "q25"
   ]
  },
  {
   "cell_type": "code",
   "execution_count": 910,
   "metadata": {},
   "outputs": [],
   "source": [
    "q975 = np.percentile(df_product_4['Rate'], 97.5)"
   ]
  },
  {
   "cell_type": "code",
   "execution_count": 911,
   "metadata": {},
   "outputs": [
    {
     "data": {
      "text/plain": [
       "975.6211180124221"
      ]
     },
     "execution_count": 911,
     "metadata": {},
     "output_type": "execute_result"
    }
   ],
   "source": [
    "q975"
   ]
  },
  {
   "cell_type": "code",
   "execution_count": null,
   "metadata": {},
   "outputs": [],
   "source": []
  },
  {
   "cell_type": "code",
   "execution_count": 765,
   "metadata": {},
   "outputs": [
    {
     "name": "stdout",
     "output_type": "stream",
     "text": [
      "Start using IQR to eliminate outliers.\n",
      "In Rate column using 2 as threshold\n",
      "We have 0 data points are outliers, which between nan and nan\n",
      "After drop outlier, the Rate column remain range between nan and nan\n",
      "Complete IQR eliminate outliers Function.\n"
     ]
    }
   ],
   "source": [
    "df_70, df_71 = iqr_outlier(df_raw_product, 'Rate', 2)"
   ]
  },
  {
   "cell_type": "code",
   "execution_count": 760,
   "metadata": {},
   "outputs": [],
   "source": [
    "  q75, q25 = np.percentile(df_raw_product['Rate'], 75), np.percentile(df_raw_product['Rate'], 25)"
   ]
  },
  {
   "cell_type": "code",
   "execution_count": 761,
   "metadata": {},
   "outputs": [
    {
     "data": {
      "text/plain": [
       "nan"
      ]
     },
     "execution_count": 761,
     "metadata": {},
     "output_type": "execute_result"
    }
   ],
   "source": [
    "q75"
   ]
  },
  {
   "cell_type": "code",
   "execution_count": null,
   "metadata": {},
   "outputs": [],
   "source": []
  },
  {
   "cell_type": "code",
   "execution_count": 868,
   "metadata": {},
   "outputs": [],
   "source": [
    "df_dropped = df_raw_product[df_raw_product.isnull().any(axis=1)]"
   ]
  },
  {
   "cell_type": "code",
   "execution_count": 873,
   "metadata": {},
   "outputs": [
    {
     "data": {
      "text/plain": [
       "0       False\n",
       "1       False\n",
       "2        True\n",
       "3        True\n",
       "4       False\n",
       "        ...  \n",
       "9965     True\n",
       "9966     True\n",
       "9967    False\n",
       "9968     True\n",
       "9969     True\n",
       "Length: 9970, dtype: bool"
      ]
     },
     "execution_count": 873,
     "metadata": {},
     "output_type": "execute_result"
    }
   ],
   "source": [
    "df_raw_product.isnull().any(axis=1)"
   ]
  },
  {
   "cell_type": "code",
   "execution_count": null,
   "metadata": {},
   "outputs": [],
   "source": []
  },
  {
   "cell_type": "code",
   "execution_count": 958,
   "metadata": {},
   "outputs": [
    {
     "data": {
      "text/plain": [
       "(99698, 35)"
      ]
     },
     "execution_count": 958,
     "metadata": {},
     "output_type": "execute_result"
    }
   ],
   "source": [
    "df_nj.shape"
   ]
  },
  {
   "cell_type": "code",
   "execution_count": 967,
   "metadata": {},
   "outputs": [
    {
     "data": {
      "text/html": [
       "<div>\n",
       "<style scoped>\n",
       "    .dataframe tbody tr th:only-of-type {\n",
       "        vertical-align: middle;\n",
       "    }\n",
       "\n",
       "    .dataframe tbody tr th {\n",
       "        vertical-align: top;\n",
       "    }\n",
       "\n",
       "    .dataframe thead th {\n",
       "        text-align: right;\n",
       "    }\n",
       "</style>\n",
       "<table border=\"1\" class=\"dataframe\">\n",
       "  <thead>\n",
       "    <tr style=\"text-align: right;\">\n",
       "      <th></th>\n",
       "      <th>StartDate</th>\n",
       "      <th>BatchNumber</th>\n",
       "      <th>CustItem</th>\n",
       "      <th>ScheduledDryQty</th>\n",
       "      <th>ActualDryQty</th>\n",
       "      <th>YieldPercentage</th>\n",
       "      <th>DryingTime_Hrs</th>\n",
       "      <th>CleanTime_Hrs</th>\n",
       "      <th>DownTime_Hrs</th>\n",
       "      <th>TotalRunTime_Hrs</th>\n",
       "      <th>...</th>\n",
       "      <th>clouds_all</th>\n",
       "      <th>weather_id</th>\n",
       "      <th>weather_main</th>\n",
       "      <th>weather_description</th>\n",
       "      <th>weather_icon</th>\n",
       "      <th>year</th>\n",
       "      <th>quarter</th>\n",
       "      <th>month</th>\n",
       "      <th>day</th>\n",
       "      <th>_merge</th>\n",
       "    </tr>\n",
       "    <tr>\n",
       "      <th>Dryer</th>\n",
       "      <th></th>\n",
       "      <th></th>\n",
       "      <th></th>\n",
       "      <th></th>\n",
       "      <th></th>\n",
       "      <th></th>\n",
       "      <th></th>\n",
       "      <th></th>\n",
       "      <th></th>\n",
       "      <th></th>\n",
       "      <th></th>\n",
       "      <th></th>\n",
       "      <th></th>\n",
       "      <th></th>\n",
       "      <th></th>\n",
       "      <th></th>\n",
       "      <th></th>\n",
       "      <th></th>\n",
       "      <th></th>\n",
       "      <th></th>\n",
       "      <th></th>\n",
       "    </tr>\n",
       "  </thead>\n",
       "  <tbody>\n",
       "    <tr>\n",
       "      <th>Dryer 04</th>\n",
       "      <td>93</td>\n",
       "      <td>93</td>\n",
       "      <td>93</td>\n",
       "      <td>93</td>\n",
       "      <td>93</td>\n",
       "      <td>93</td>\n",
       "      <td>93</td>\n",
       "      <td>93</td>\n",
       "      <td>93</td>\n",
       "      <td>93</td>\n",
       "      <td>...</td>\n",
       "      <td>93</td>\n",
       "      <td>93</td>\n",
       "      <td>93</td>\n",
       "      <td>93</td>\n",
       "      <td>93</td>\n",
       "      <td>93</td>\n",
       "      <td>93</td>\n",
       "      <td>93</td>\n",
       "      <td>93</td>\n",
       "      <td>93</td>\n",
       "    </tr>\n",
       "  </tbody>\n",
       "</table>\n",
       "<p>1 rows × 34 columns</p>\n",
       "</div>"
      ],
      "text/plain": [
       "          StartDate  BatchNumber  CustItem  ScheduledDryQty  ActualDryQty  \\\n",
       "Dryer                                                                       \n",
       "Dryer 04         93           93        93               93            93   \n",
       "\n",
       "          YieldPercentage  DryingTime_Hrs  CleanTime_Hrs  DownTime_Hrs  \\\n",
       "Dryer                                                                    \n",
       "Dryer 04               93              93             93            93   \n",
       "\n",
       "          TotalRunTime_Hrs  ...  clouds_all  weather_id  weather_main  \\\n",
       "Dryer                       ...                                         \n",
       "Dryer 04                93  ...          93          93            93   \n",
       "\n",
       "          weather_description  weather_icon  year  quarter  month  day  _merge  \n",
       "Dryer                                                                           \n",
       "Dryer 04                   93            93    93       93     93   93      93  \n",
       "\n",
       "[1 rows x 34 columns]"
      ]
     },
     "execution_count": 967,
     "metadata": {},
     "output_type": "execute_result"
    }
   ],
   "source": [
    "df_nj[df_nj['Rate']<20].groupby(['Dryer'])"
   ]
  },
  {
   "cell_type": "code",
   "execution_count": 972,
   "metadata": {},
   "outputs": [
    {
     "data": {
      "text/html": [
       "<div>\n",
       "<style scoped>\n",
       "    .dataframe tbody tr th:only-of-type {\n",
       "        vertical-align: middle;\n",
       "    }\n",
       "\n",
       "    .dataframe tbody tr th {\n",
       "        vertical-align: top;\n",
       "    }\n",
       "\n",
       "    .dataframe thead th {\n",
       "        text-align: right;\n",
       "    }\n",
       "</style>\n",
       "<table border=\"1\" class=\"dataframe\">\n",
       "  <thead>\n",
       "    <tr style=\"text-align: right;\">\n",
       "      <th></th>\n",
       "      <th>StartDate</th>\n",
       "      <th>BatchNumber</th>\n",
       "      <th>CustItem</th>\n",
       "      <th>Dryer</th>\n",
       "      <th>ScheduledDryQty</th>\n",
       "      <th>ActualDryQty</th>\n",
       "      <th>YieldPercentage</th>\n",
       "      <th>DryingTime_Hrs</th>\n",
       "      <th>CleanTime_Hrs</th>\n",
       "      <th>DownTime_Hrs</th>\n",
       "      <th>TotalRunTime_Hrs</th>\n",
       "      <th>ProdLine</th>\n",
       "      <th>Rate</th>\n",
       "      <th>dt_est</th>\n",
       "      <th>hours</th>\n",
       "    </tr>\n",
       "  </thead>\n",
       "  <tbody>\n",
       "    <tr>\n",
       "      <th>7080</th>\n",
       "      <td>2019-08-17 05:15:30.000</td>\n",
       "      <td>NJSD360625</td>\n",
       "      <td>44787-0000</td>\n",
       "      <td>Dryer 04</td>\n",
       "      <td>889.8184</td>\n",
       "      <td>874.6</td>\n",
       "      <td>98.3</td>\n",
       "      <td>45.9</td>\n",
       "      <td>3.4</td>\n",
       "      <td>41.6</td>\n",
       "      <td>91.0</td>\n",
       "      <td>Fragrance</td>\n",
       "      <td>19.054466</td>\n",
       "      <td>2019-08-17 05:00:00-04:00</td>\n",
       "      <td>46</td>\n",
       "    </tr>\n",
       "    <tr>\n",
       "      <th>7189</th>\n",
       "      <td>2019-09-03 07:54:22.000</td>\n",
       "      <td>NJSD362000</td>\n",
       "      <td>45272-0000</td>\n",
       "      <td>Dryer 04</td>\n",
       "      <td>114.9497</td>\n",
       "      <td>106.5</td>\n",
       "      <td>92.6</td>\n",
       "      <td>9.0</td>\n",
       "      <td>3.8</td>\n",
       "      <td>4.9</td>\n",
       "      <td>17.6</td>\n",
       "      <td>Fragrance</td>\n",
       "      <td>11.833333</td>\n",
       "      <td>2019-09-03 08:00:00-04:00</td>\n",
       "      <td>9</td>\n",
       "    </tr>\n",
       "    <tr>\n",
       "      <th>7406</th>\n",
       "      <td>2019-10-08 19:33:18.393</td>\n",
       "      <td>NJSD363424</td>\n",
       "      <td>47361-0000</td>\n",
       "      <td>Dryer 04</td>\n",
       "      <td>675.1284</td>\n",
       "      <td>551.0</td>\n",
       "      <td>81.6</td>\n",
       "      <td>36.9</td>\n",
       "      <td>4.1</td>\n",
       "      <td>5.2</td>\n",
       "      <td>46.3</td>\n",
       "      <td>Food Additive</td>\n",
       "      <td>14.932249</td>\n",
       "      <td>2019-10-08 20:00:00-04:00</td>\n",
       "      <td>37</td>\n",
       "    </tr>\n",
       "  </tbody>\n",
       "</table>\n",
       "</div>"
      ],
      "text/plain": [
       "                    StartDate BatchNumber    CustItem     Dryer  \\\n",
       "7080  2019-08-17 05:15:30.000  NJSD360625  44787-0000  Dryer 04   \n",
       "7189  2019-09-03 07:54:22.000  NJSD362000  45272-0000  Dryer 04   \n",
       "7406  2019-10-08 19:33:18.393  NJSD363424  47361-0000  Dryer 04   \n",
       "\n",
       "      ScheduledDryQty  ActualDryQty  YieldPercentage  DryingTime_Hrs  \\\n",
       "7080         889.8184         874.6             98.3            45.9   \n",
       "7189         114.9497         106.5             92.6             9.0   \n",
       "7406         675.1284         551.0             81.6            36.9   \n",
       "\n",
       "      CleanTime_Hrs  DownTime_Hrs  TotalRunTime_Hrs       ProdLine       Rate  \\\n",
       "7080            3.4          41.6              91.0      Fragrance  19.054466   \n",
       "7189            3.8           4.9              17.6      Fragrance  11.833333   \n",
       "7406            4.1           5.2              46.3  Food Additive  14.932249   \n",
       "\n",
       "                        dt_est  hours  \n",
       "7080 2019-08-17 05:00:00-04:00     46  \n",
       "7189 2019-09-03 08:00:00-04:00      9  \n",
       "7406 2019-10-08 20:00:00-04:00     37  "
      ]
     },
     "execution_count": 972,
     "metadata": {},
     "output_type": "execute_result"
    }
   ],
   "source": [
    "df_product_6[df_product_6['Rate']<20].loc[df_product_6['Dryer']=='Dryer 04']"
   ]
  },
  {
   "cell_type": "code",
   "execution_count": null,
   "metadata": {},
   "outputs": [],
   "source": []
  },
  {
   "cell_type": "code",
   "execution_count": 879,
   "metadata": {},
   "outputs": [
    {
     "data": {
      "text/plain": [
       "(9931, 14)"
      ]
     },
     "execution_count": 879,
     "metadata": {},
     "output_type": "execute_result"
    }
   ],
   "source": [
    "df_product_4.shape"
   ]
  },
  {
   "cell_type": "code",
   "execution_count": null,
   "metadata": {},
   "outputs": [],
   "source": []
  },
  {
   "cell_type": "code",
   "execution_count": 997,
   "metadata": {},
   "outputs": [],
   "source": [
    "df_product_6 = df_product_6.loc[df_product_6['Rate']>20]"
   ]
  },
  {
   "cell_type": "code",
   "execution_count": 1045,
   "metadata": {},
   "outputs": [
    {
     "data": {
      "text/html": [
       "<div>\n",
       "<style scoped>\n",
       "    .dataframe tbody tr th:only-of-type {\n",
       "        vertical-align: middle;\n",
       "    }\n",
       "\n",
       "    .dataframe tbody tr th {\n",
       "        vertical-align: top;\n",
       "    }\n",
       "\n",
       "    .dataframe thead th {\n",
       "        text-align: right;\n",
       "    }\n",
       "</style>\n",
       "<table border=\"1\" class=\"dataframe\">\n",
       "  <thead>\n",
       "    <tr style=\"text-align: right;\">\n",
       "      <th></th>\n",
       "      <th>StartDate</th>\n",
       "      <th>BatchNumber</th>\n",
       "      <th>CustItem</th>\n",
       "      <th>Dryer</th>\n",
       "      <th>ScheduledDryQty</th>\n",
       "      <th>ActualDryQty</th>\n",
       "      <th>YieldPercentage</th>\n",
       "      <th>DryingTime_Hrs</th>\n",
       "      <th>CleanTime_Hrs</th>\n",
       "      <th>DownTime_Hrs</th>\n",
       "      <th>TotalRunTime_Hrs</th>\n",
       "      <th>ProdLine</th>\n",
       "      <th>Rate</th>\n",
       "      <th>dt_est</th>\n",
       "      <th>hours</th>\n",
       "    </tr>\n",
       "  </thead>\n",
       "  <tbody>\n",
       "    <tr>\n",
       "      <th>0</th>\n",
       "      <td>2016-01-02 08:54:58.000</td>\n",
       "      <td>NJSD313825</td>\n",
       "      <td>10013-0000</td>\n",
       "      <td>Dryer 04</td>\n",
       "      <td>333.7357</td>\n",
       "      <td>352.2000</td>\n",
       "      <td>105.5</td>\n",
       "      <td>2.4</td>\n",
       "      <td>5.1</td>\n",
       "      <td>0.0</td>\n",
       "      <td>7.5</td>\n",
       "      <td>Fragrance</td>\n",
       "      <td>146.750000</td>\n",
       "      <td>2016-01-02 09:00:00-05:00</td>\n",
       "      <td>3</td>\n",
       "    </tr>\n",
       "    <tr>\n",
       "      <th>1</th>\n",
       "      <td>2016-01-02 11:06:57.863</td>\n",
       "      <td>NJSD312807</td>\n",
       "      <td>10558-0000</td>\n",
       "      <td>Dryer 03</td>\n",
       "      <td>4270.4120</td>\n",
       "      <td>3935.3999</td>\n",
       "      <td>92.2</td>\n",
       "      <td>8.4</td>\n",
       "      <td>0.2</td>\n",
       "      <td>4.2</td>\n",
       "      <td>12.8</td>\n",
       "      <td>Fragrance</td>\n",
       "      <td>468.499988</td>\n",
       "      <td>2016-01-02 11:00:00-05:00</td>\n",
       "      <td>9</td>\n",
       "    </tr>\n",
       "  </tbody>\n",
       "</table>\n",
       "</div>"
      ],
      "text/plain": [
       "                 StartDate BatchNumber    CustItem     Dryer  ScheduledDryQty  \\\n",
       "0  2016-01-02 08:54:58.000  NJSD313825  10013-0000  Dryer 04         333.7357   \n",
       "1  2016-01-02 11:06:57.863  NJSD312807  10558-0000  Dryer 03        4270.4120   \n",
       "\n",
       "   ActualDryQty  YieldPercentage  DryingTime_Hrs  CleanTime_Hrs  DownTime_Hrs  \\\n",
       "0      352.2000            105.5             2.4            5.1           0.0   \n",
       "1     3935.3999             92.2             8.4            0.2           4.2   \n",
       "\n",
       "   TotalRunTime_Hrs   ProdLine        Rate                    dt_est  hours  \n",
       "0               7.5  Fragrance  146.750000 2016-01-02 09:00:00-05:00      3  \n",
       "1              12.8  Fragrance  468.499988 2016-01-02 11:00:00-05:00      9  "
      ]
     },
     "execution_count": 1045,
     "metadata": {},
     "output_type": "execute_result"
    }
   ],
   "source": [
    "df_product_6.head(2)"
   ]
  },
  {
   "cell_type": "code",
   "execution_count": 1046,
   "metadata": {},
   "outputs": [
    {
     "data": {
      "text/html": [
       "<div>\n",
       "<style scoped>\n",
       "    .dataframe tbody tr th:only-of-type {\n",
       "        vertical-align: middle;\n",
       "    }\n",
       "\n",
       "    .dataframe tbody tr th {\n",
       "        vertical-align: top;\n",
       "    }\n",
       "\n",
       "    .dataframe thead th {\n",
       "        text-align: right;\n",
       "    }\n",
       "</style>\n",
       "<table border=\"1\" class=\"dataframe\">\n",
       "  <thead>\n",
       "    <tr style=\"text-align: right;\">\n",
       "      <th></th>\n",
       "      <th>StartDate</th>\n",
       "      <th>BatchNumber</th>\n",
       "      <th>CustItem</th>\n",
       "      <th>Dryer</th>\n",
       "      <th>ScheduledDryQty</th>\n",
       "      <th>ActualDryQty</th>\n",
       "      <th>YieldPercentage</th>\n",
       "      <th>DryingTime_Hrs</th>\n",
       "      <th>CleanTime_Hrs</th>\n",
       "      <th>DownTime_Hrs</th>\n",
       "      <th>TotalRunTime_Hrs</th>\n",
       "      <th>ProdLine</th>\n",
       "      <th>Rate</th>\n",
       "      <th>dt_est</th>\n",
       "      <th>hours</th>\n",
       "      <th>hour_add</th>\n",
       "    </tr>\n",
       "  </thead>\n",
       "  <tbody>\n",
       "    <tr>\n",
       "      <th>0</th>\n",
       "      <td>2016-01-02 08:54:58.000</td>\n",
       "      <td>NJSD313825</td>\n",
       "      <td>10013-0000</td>\n",
       "      <td>Dryer 04</td>\n",
       "      <td>333.7357</td>\n",
       "      <td>352.2</td>\n",
       "      <td>105.5</td>\n",
       "      <td>2.4</td>\n",
       "      <td>5.1</td>\n",
       "      <td>0.0</td>\n",
       "      <td>7.5</td>\n",
       "      <td>Fragrance</td>\n",
       "      <td>146.75</td>\n",
       "      <td>2016-01-02 09:00:00-05:00</td>\n",
       "      <td>3</td>\n",
       "      <td>0 days 00:00:00</td>\n",
       "    </tr>\n",
       "    <tr>\n",
       "      <th>1</th>\n",
       "      <td>2016-01-02 08:54:58.000</td>\n",
       "      <td>NJSD313825</td>\n",
       "      <td>10013-0000</td>\n",
       "      <td>Dryer 04</td>\n",
       "      <td>333.7357</td>\n",
       "      <td>352.2</td>\n",
       "      <td>105.5</td>\n",
       "      <td>2.4</td>\n",
       "      <td>5.1</td>\n",
       "      <td>0.0</td>\n",
       "      <td>7.5</td>\n",
       "      <td>Fragrance</td>\n",
       "      <td>146.75</td>\n",
       "      <td>2016-01-02 10:00:00-05:00</td>\n",
       "      <td>3</td>\n",
       "      <td>0 days 01:00:00</td>\n",
       "    </tr>\n",
       "    <tr>\n",
       "      <th>2</th>\n",
       "      <td>2016-01-02 08:54:58.000</td>\n",
       "      <td>NJSD313825</td>\n",
       "      <td>10013-0000</td>\n",
       "      <td>Dryer 04</td>\n",
       "      <td>333.7357</td>\n",
       "      <td>352.2</td>\n",
       "      <td>105.5</td>\n",
       "      <td>2.4</td>\n",
       "      <td>5.1</td>\n",
       "      <td>0.0</td>\n",
       "      <td>7.5</td>\n",
       "      <td>Fragrance</td>\n",
       "      <td>146.75</td>\n",
       "      <td>2016-01-02 11:00:00-05:00</td>\n",
       "      <td>3</td>\n",
       "      <td>0 days 02:00:00</td>\n",
       "    </tr>\n",
       "    <tr>\n",
       "      <th>3</th>\n",
       "      <td>2016-01-02 11:06:57.863</td>\n",
       "      <td>NJSD312807</td>\n",
       "      <td>10558-0000</td>\n",
       "      <td>Dryer 03</td>\n",
       "      <td>4270.412</td>\n",
       "      <td>3935.3999</td>\n",
       "      <td>92.2</td>\n",
       "      <td>8.4</td>\n",
       "      <td>0.2</td>\n",
       "      <td>4.2</td>\n",
       "      <td>12.8</td>\n",
       "      <td>Fragrance</td>\n",
       "      <td>468.499988</td>\n",
       "      <td>2016-01-02 11:00:00-05:00</td>\n",
       "      <td>9</td>\n",
       "      <td>0 days 00:00:00</td>\n",
       "    </tr>\n",
       "    <tr>\n",
       "      <th>4</th>\n",
       "      <td>2016-01-02 11:06:57.863</td>\n",
       "      <td>NJSD312807</td>\n",
       "      <td>10558-0000</td>\n",
       "      <td>Dryer 03</td>\n",
       "      <td>4270.412</td>\n",
       "      <td>3935.3999</td>\n",
       "      <td>92.2</td>\n",
       "      <td>8.4</td>\n",
       "      <td>0.2</td>\n",
       "      <td>4.2</td>\n",
       "      <td>12.8</td>\n",
       "      <td>Fragrance</td>\n",
       "      <td>468.499988</td>\n",
       "      <td>2016-01-02 12:00:00-05:00</td>\n",
       "      <td>9</td>\n",
       "      <td>0 days 01:00:00</td>\n",
       "    </tr>\n",
       "    <tr>\n",
       "      <th>5</th>\n",
       "      <td>2016-01-02 11:06:57.863</td>\n",
       "      <td>NJSD312807</td>\n",
       "      <td>10558-0000</td>\n",
       "      <td>Dryer 03</td>\n",
       "      <td>4270.412</td>\n",
       "      <td>3935.3999</td>\n",
       "      <td>92.2</td>\n",
       "      <td>8.4</td>\n",
       "      <td>0.2</td>\n",
       "      <td>4.2</td>\n",
       "      <td>12.8</td>\n",
       "      <td>Fragrance</td>\n",
       "      <td>468.499988</td>\n",
       "      <td>2016-01-02 13:00:00-05:00</td>\n",
       "      <td>9</td>\n",
       "      <td>0 days 02:00:00</td>\n",
       "    </tr>\n",
       "    <tr>\n",
       "      <th>6</th>\n",
       "      <td>2016-01-02 11:06:57.863</td>\n",
       "      <td>NJSD312807</td>\n",
       "      <td>10558-0000</td>\n",
       "      <td>Dryer 03</td>\n",
       "      <td>4270.412</td>\n",
       "      <td>3935.3999</td>\n",
       "      <td>92.2</td>\n",
       "      <td>8.4</td>\n",
       "      <td>0.2</td>\n",
       "      <td>4.2</td>\n",
       "      <td>12.8</td>\n",
       "      <td>Fragrance</td>\n",
       "      <td>468.499988</td>\n",
       "      <td>2016-01-02 14:00:00-05:00</td>\n",
       "      <td>9</td>\n",
       "      <td>0 days 03:00:00</td>\n",
       "    </tr>\n",
       "    <tr>\n",
       "      <th>7</th>\n",
       "      <td>2016-01-02 11:06:57.863</td>\n",
       "      <td>NJSD312807</td>\n",
       "      <td>10558-0000</td>\n",
       "      <td>Dryer 03</td>\n",
       "      <td>4270.412</td>\n",
       "      <td>3935.3999</td>\n",
       "      <td>92.2</td>\n",
       "      <td>8.4</td>\n",
       "      <td>0.2</td>\n",
       "      <td>4.2</td>\n",
       "      <td>12.8</td>\n",
       "      <td>Fragrance</td>\n",
       "      <td>468.499988</td>\n",
       "      <td>2016-01-02 15:00:00-05:00</td>\n",
       "      <td>9</td>\n",
       "      <td>0 days 04:00:00</td>\n",
       "    </tr>\n",
       "    <tr>\n",
       "      <th>8</th>\n",
       "      <td>2016-01-02 11:06:57.863</td>\n",
       "      <td>NJSD312807</td>\n",
       "      <td>10558-0000</td>\n",
       "      <td>Dryer 03</td>\n",
       "      <td>4270.412</td>\n",
       "      <td>3935.3999</td>\n",
       "      <td>92.2</td>\n",
       "      <td>8.4</td>\n",
       "      <td>0.2</td>\n",
       "      <td>4.2</td>\n",
       "      <td>12.8</td>\n",
       "      <td>Fragrance</td>\n",
       "      <td>468.499988</td>\n",
       "      <td>2016-01-02 16:00:00-05:00</td>\n",
       "      <td>9</td>\n",
       "      <td>0 days 05:00:00</td>\n",
       "    </tr>\n",
       "    <tr>\n",
       "      <th>9</th>\n",
       "      <td>2016-01-02 11:06:57.863</td>\n",
       "      <td>NJSD312807</td>\n",
       "      <td>10558-0000</td>\n",
       "      <td>Dryer 03</td>\n",
       "      <td>4270.412</td>\n",
       "      <td>3935.3999</td>\n",
       "      <td>92.2</td>\n",
       "      <td>8.4</td>\n",
       "      <td>0.2</td>\n",
       "      <td>4.2</td>\n",
       "      <td>12.8</td>\n",
       "      <td>Fragrance</td>\n",
       "      <td>468.499988</td>\n",
       "      <td>2016-01-02 17:00:00-05:00</td>\n",
       "      <td>9</td>\n",
       "      <td>0 days 06:00:00</td>\n",
       "    </tr>\n",
       "  </tbody>\n",
       "</table>\n",
       "</div>"
      ],
      "text/plain": [
       "                 StartDate BatchNumber    CustItem     Dryer ScheduledDryQty  \\\n",
       "0  2016-01-02 08:54:58.000  NJSD313825  10013-0000  Dryer 04        333.7357   \n",
       "1  2016-01-02 08:54:58.000  NJSD313825  10013-0000  Dryer 04        333.7357   \n",
       "2  2016-01-02 08:54:58.000  NJSD313825  10013-0000  Dryer 04        333.7357   \n",
       "3  2016-01-02 11:06:57.863  NJSD312807  10558-0000  Dryer 03        4270.412   \n",
       "4  2016-01-02 11:06:57.863  NJSD312807  10558-0000  Dryer 03        4270.412   \n",
       "5  2016-01-02 11:06:57.863  NJSD312807  10558-0000  Dryer 03        4270.412   \n",
       "6  2016-01-02 11:06:57.863  NJSD312807  10558-0000  Dryer 03        4270.412   \n",
       "7  2016-01-02 11:06:57.863  NJSD312807  10558-0000  Dryer 03        4270.412   \n",
       "8  2016-01-02 11:06:57.863  NJSD312807  10558-0000  Dryer 03        4270.412   \n",
       "9  2016-01-02 11:06:57.863  NJSD312807  10558-0000  Dryer 03        4270.412   \n",
       "\n",
       "  ActualDryQty YieldPercentage DryingTime_Hrs CleanTime_Hrs DownTime_Hrs  \\\n",
       "0        352.2           105.5            2.4           5.1          0.0   \n",
       "1        352.2           105.5            2.4           5.1          0.0   \n",
       "2        352.2           105.5            2.4           5.1          0.0   \n",
       "3    3935.3999            92.2            8.4           0.2          4.2   \n",
       "4    3935.3999            92.2            8.4           0.2          4.2   \n",
       "5    3935.3999            92.2            8.4           0.2          4.2   \n",
       "6    3935.3999            92.2            8.4           0.2          4.2   \n",
       "7    3935.3999            92.2            8.4           0.2          4.2   \n",
       "8    3935.3999            92.2            8.4           0.2          4.2   \n",
       "9    3935.3999            92.2            8.4           0.2          4.2   \n",
       "\n",
       "  TotalRunTime_Hrs   ProdLine        Rate                    dt_est hours  \\\n",
       "0              7.5  Fragrance      146.75 2016-01-02 09:00:00-05:00     3   \n",
       "1              7.5  Fragrance      146.75 2016-01-02 10:00:00-05:00     3   \n",
       "2              7.5  Fragrance      146.75 2016-01-02 11:00:00-05:00     3   \n",
       "3             12.8  Fragrance  468.499988 2016-01-02 11:00:00-05:00     9   \n",
       "4             12.8  Fragrance  468.499988 2016-01-02 12:00:00-05:00     9   \n",
       "5             12.8  Fragrance  468.499988 2016-01-02 13:00:00-05:00     9   \n",
       "6             12.8  Fragrance  468.499988 2016-01-02 14:00:00-05:00     9   \n",
       "7             12.8  Fragrance  468.499988 2016-01-02 15:00:00-05:00     9   \n",
       "8             12.8  Fragrance  468.499988 2016-01-02 16:00:00-05:00     9   \n",
       "9             12.8  Fragrance  468.499988 2016-01-02 17:00:00-05:00     9   \n",
       "\n",
       "         hour_add  \n",
       "0 0 days 00:00:00  \n",
       "1 0 days 01:00:00  \n",
       "2 0 days 02:00:00  \n",
       "3 0 days 00:00:00  \n",
       "4 0 days 01:00:00  \n",
       "5 0 days 02:00:00  \n",
       "6 0 days 03:00:00  \n",
       "7 0 days 04:00:00  \n",
       "8 0 days 05:00:00  \n",
       "9 0 days 06:00:00  "
      ]
     },
     "execution_count": 1046,
     "metadata": {},
     "output_type": "execute_result"
    }
   ],
   "source": [
    "df_.head(10)"
   ]
  }
 ],
 "metadata": {
  "kernelspec": {
   "display_name": "Python 3",
   "language": "python",
   "name": "python3"
  },
  "language_info": {
   "codemirror_mode": {
    "name": "ipython",
    "version": 3
   },
   "file_extension": ".py",
   "mimetype": "text/x-python",
   "name": "python",
   "nbconvert_exporter": "python",
   "pygments_lexer": "ipython3",
   "version": "3.8.5"
  }
 },
 "nbformat": 4,
 "nbformat_minor": 4
}

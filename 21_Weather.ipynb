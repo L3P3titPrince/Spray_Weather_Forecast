{
 "cells": [
  {
   "cell_type": "code",
   "execution_count": 1,
   "metadata": {},
   "outputs": [],
   "source": [
    "from IPython.display import Image"
   ]
  },
  {
   "cell_type": "markdown",
   "metadata": {},
   "source": [
    "# <a id=\"1.Summary\"> 1.Summary</a>"
   ]
  },
  {
   "cell_type": "markdown",
   "metadata": {},
   "source": [
    "I have attached a spreadsheet containing five years of production and weather data for our Middlesex, NJ and Bethlehem, PA facilities. When looking at the production data if the “BatchNumber” listed starts with PASD it was done in Bethlehem and if it starts with NJSD it was done in Middlesex. I included some info that we have on flowability and hygroscopicity but it’s not empirical data; mostly a judgement call made for “reasons”. Weather data was downloaded from openweathermap.org, temperatures are in °F. Let me know if you need any clarification on the data provided.\n"
   ]
  },
  {
   "cell_type": "markdown",
   "metadata": {},
   "source": [
    "More specifically, given the dependence of their drying products and services on weather\n",
    "conditions, the company is interested in using weather data to forecast the processing times for\n",
    "different batches of SKUs. \n",
    "\n",
    "The team is expected to:\n",
    "\n",
    "• Develop a database with manufacturing data that will be used to develop statistical\n",
    "models\n",
    "\n",
    "• Develop, manage and maintain statistical models, including but not limited to:\n",
    "\n",
    "o Forecasting of processing times based on weather data\n",
    "\n",
    "o Forecasting downtime and preventive maintenance issues"
   ]
  },
  {
   "cell_type": "markdown",
   "metadata": {},
   "source": [
    "<br>"
   ]
  },
  {
   "cell_type": "markdown",
   "metadata": {},
   "source": [
    "<br>"
   ]
  },
  {
   "cell_type": "markdown",
   "metadata": {},
   "source": [
    "<br>"
   ]
  },
  {
   "cell_type": "markdown",
   "metadata": {},
   "source": [
    "# <a id=\"2.Table of Contents\">2.Tabole of Contents</a>\n",
    "<a href=\"#1.Summary\">Click this Link back to Top</a>"
   ]
  },
  {
   "cell_type": "markdown",
   "metadata": {},
   "source": [
    "<ol>\n",
    "    <li><a href=\"#1.Summary\">Summary</a></li>\n",
    "    <li><a href=\"#2.Tabole of Contents\">Tabole of Contents</a></li>\n",
    "    <li><a href=\"#3.Preprocess\">Preprocess</a>\n",
    "    <ul>\n",
    "        <li><a href=\"#3.1 Hyperparameter\">3.1 Hyperparameter</a></li>\n",
    "        <li><a href=\"#3.2 Import Data\">3.2 Import Data</a></li>\n",
    "        <li><a href=\"#3.3 EDA\">3.3 EDA</a></li> \n",
    "        <li><a href=\"#3.4 Preprocess\">3.4 Preprocess</a></li> \n",
    "        <li><a href=\"#3.5 Join Data\">3.5 Join Data</a></li>  \n",
    "        <li><a href=\"#3.6 EDA\">3.6 EDA</a></li>  \n",
    "    </ul>\n",
    "    </li>\n",
    "    <li><a href=\"#4.Others\">Others</a>\n",
    "    <ul>\n",
    "        <li><del><a href=\"#TFIDF\">4.1 TFIDF</a></del></li>\n",
    "        <li><del><a href=\"#Embedding\">4.2 Embedding</a></del></li> \n",
    "    </ul>\n",
    "    </li>\n",
    "    <li><a href=\"#5.Classify\">Classify</a></li>\n",
    "    <li><a href=\"#6.Models\">Models</a>\n",
    "    <ul>\n",
    "        <li><a href=\"#6.1 Model1\">6.1 Model1</a></li>\n",
    "        <li><a href=\"#6.2 Model2\">6.2 Model2</a></li>\n",
    "    </ul>\n",
    "    </li>\n",
    "    <li><a href=\"#7.Analysis and Plot\">Analysis and Plot</a></li>\n",
    "    <ul>\n",
    "        <li><a href=\"#7.1 Analysis\">7.1 Analysis</a></li>\n",
    "        <li><a href=\"7.2 Spearmanr\">7.2 Spearmanr</a></li>\n",
    "    </ul>\n",
    "    <li><a href=\"#8.Main Function\">Main Function</a></li>\n",
    "    <li><a href=\"#9.Test Code\">Test Code</a></li>\n",
    "</ol>"
   ]
  },
  {
   "cell_type": "markdown",
   "metadata": {},
   "source": [
    "<br>"
   ]
  },
  {
   "cell_type": "markdown",
   "metadata": {},
   "source": [
    "<br>"
   ]
  },
  {
   "cell_type": "markdown",
   "metadata": {},
   "source": [
    "<br>"
   ]
  },
  {
   "cell_type": "markdown",
   "metadata": {},
   "source": [
    "# <a id=\"3.Preprocess\">3.Preprocess</a>\n",
    "<a href=\"#2.Table of Contents\">Click this Link back to Top</a>"
   ]
  },
  {
   "cell_type": "markdown",
   "metadata": {},
   "source": [
    "1. transform data column into identical format\n",
    "2. split data into two station part: NJ and PA\n",
    "3. "
   ]
  },
  {
   "cell_type": "markdown",
   "metadata": {},
   "source": [
    "## <a id=\"3.1 Hyperparameter\">3.1 Hyperparameter</a>\n",
    "<a href=\"#2.Table of Contents\">Click this Link back to Top</a>"
   ]
  },
  {
   "cell_type": "code",
   "execution_count": 329,
   "metadata": {},
   "outputs": [],
   "source": [
    "class HyperParamters(object):\n",
    "    \"\"\"\n",
    "    This class will be used to transmit hyperparameters between class.parameters\n",
    "    Most of class can inherit this class and its hyperparameters\n",
    "\n",
    "    ########################__Rules__##################################\n",
    "    class file name = class + _ + number of sequence + function name\n",
    "    class name = ClassType (Camel-Case)\n",
    "    function name = function_name\n",
    "    variable name = attribute_type_describe (Hungarian notation) # sometime I don't use attribute\n",
    "    constant = UPPERCASE\n",
    "    ###########################################################################\n",
    "\n",
    "\n",
    "    ########################__Notation__############################################\n",
    "    1. We might need split data into two place NJ and PA, but we also can try to merge two location into one,\n",
    "    because they are not far away\n",
    "    2. clean data, transform date format, join by date, Coeffience anaylsis\n",
    "    3. Check kaggle format\n",
    "    4. Check journals\n",
    "    5. Traditional way is to find relationship between total running time with other weather features\n",
    "    6. But we need to consider equipment service lift or depreciation will affect running time\n",
    "    7. Sometimes, we don't use running time itself, we can use the statiscal version of this data\n",
    "    For example, runing time - avg , variance of each running time data point\n",
    "    8.\n",
    "    #############################################################################\n",
    "\n",
    "    1.change import data path\n",
    "    \"\"\"\n",
    "\n",
    "    def __init__(self):\n",
    "        \"\"\":arg\n",
    "\n",
    "\n",
    "        \"\"\"\n",
    "        self.TEST = 1\n",
    "\n",
    "        # you can change this root path in this class and import_data() function will search from this root dictionary\n",
    "        self.ROOTPATH = 'D:\\\\OneDrive\\\\03_Academic\\\\23_Github\\\\20_Stevens\\\\66-MGT-809-A\\\\03_data'\n",
    "\n",
    "        # assign the column will be dropped in production table\n",
    "        # we believe these columns are objective result or not useful features\n",
    "        # ['Bulk Density'] is too objective\n",
    "        # ['Moisture'] is decided by custome requirement, that might affect drying time\n",
    "        # ['Hygroscopicity'] imbalance data distribution\n",
    "        self.DROP_COL = ['Bulk Density', 'Moisture','Flow', 'Hygroscopicity']\n",
    "        # we use z-score as our defination, If we set threshold as 3, the yeild great than 120% will be eliminate\n",
    "        # we also have a np.abs() for smaller outliers, which also affected by this threshold\n",
    "        self.YEILD_THRESHOLD = 3\n",
    "\n"
   ]
  },
  {
   "cell_type": "markdown",
   "metadata": {},
   "source": [
    "<br>"
   ]
  },
  {
   "cell_type": "markdown",
   "metadata": {},
   "source": [
    "<br>"
   ]
  },
  {
   "cell_type": "markdown",
   "metadata": {},
   "source": [
    "<br>"
   ]
  },
  {
   "cell_type": "markdown",
   "metadata": {},
   "source": [
    "## <a id=\"3.2 Import Data\">3.2 Import Data</a>\n",
    "<a href=\"#2.Table of Contents\">Click this Link back to Top</a>"
   ]
  },
  {
   "cell_type": "code",
   "execution_count": 330,
   "metadata": {},
   "outputs": [],
   "source": [
    "# from class_31_hyperparameters import HyperParamters\n",
    "\n",
    "# read xlxs file\n",
    "import pandas as pd\n",
    "# record running data\n",
    "from time import time\n",
    "# join directory path\n",
    "import os\n",
    "\n",
    "\n",
    "\n",
    "\n",
    "class ImportData(HyperParamters):\n",
    "    \"\"\"\n",
    "    Contain two method: import data and convert time\n",
    "\n",
    "\n",
    "    \"\"\"\n",
    "    def __init__(self):\n",
    "        # inhereit from HyperParameter\n",
    "        HyperParamters.__init__(self)\n",
    "\n",
    "\n",
    "    def import_data(self):\n",
    "        \"\"\":arg\n",
    "\n",
    "        Returns:\n",
    "        ----------\n",
    "        df_product:DataFrame\n",
    "            real production data including running time\n",
    "        df_nj_weather:DataFrame\n",
    "            Middlesex, NJ factory weather data from openweather.org\n",
    "        df_pa_weather:DataFrame\n",
    "\n",
    "\n",
    "        \"\"\"\n",
    "        print(\"*\" * 50, \"Start import_data()\", \"*\" * 50)\n",
    "        start_time = time()\n",
    "\n",
    "        # create excel full paht directory\n",
    "        excel_product = os.path.join(self.ROOTPATH, '019_20160101_20201231_ProductionData.xlsx')\n",
    "        # first sheet is real production data\n",
    "        df_product = pd.read_excel(excel_product, sheet_name = '20160101_20201231_ProductionDat')\n",
    "        # second sheet is NJ weather data\n",
    "        df_nj_weather = pd.read_excel(excel_product, sheet_name = 'MiddlesexWeather')\n",
    "        # third sheet is PA weather data\n",
    "        df_pa_weather = pd.read_excel(excel_product, sheet_name = 'BethlehemWeather')\n",
    "        # this new data missing rate, so we have to import old data and merge ['Rate'] to our new data\n",
    "        old_product = os.path.join(self.ROOTPATH, '017_20160101_20201231_ProductionData.xlsx')\n",
    "        df_old = pd.read_excel(old_product, sheet_name = '20160101_20201231_ProductionDat')\n",
    "        df_product['Rate'] = df_old['Rate']\n",
    "\n",
    "        # save\n",
    "        df_product.to_csv('03_data/20_production.csv',index=False)\n",
    "        df_nj_weather.to_csv('03_data/21_nj_weather.csv', index=False)\n",
    "        df_pa_weather.to_csv('03_data/22_pa_weather.csv', index=False)\n",
    "\n",
    "        cost_time = round((time() - start_time), 4)\n",
    "        print(\"*\" * 40, \"End import_data() with {} second\".format(cost_time), \"*\" * 40, end='\\n\\n')\n",
    "\n",
    "        return df_product, df_nj_weather, df_pa_weather\n",
    "\n",
    "    def read_csv(self):\n",
    "        \"\"\"\":arg\n",
    "        Because reading excel is too slow, so we use this function to read csv that processed and saved by\n",
    "        import_data() function.\n",
    "        \"\"\"\n",
    "        df_product = pd.read_csv('03_data/20_production.csv')\n",
    "        df_nj_weather = pd.read_csv('03_data/21_nj_weather.csv')\n",
    "        df_pa_weather = pd.read_csv('03_data/22_pa_weather.csv')\n",
    "\n",
    "\n",
    "        return df_product, df_nj_weather, df_pa_weather\n",
    "\n"
   ]
  },
  {
   "cell_type": "markdown",
   "metadata": {},
   "source": [
    "<br>"
   ]
  },
  {
   "cell_type": "markdown",
   "metadata": {},
   "source": [
    "<br>"
   ]
  },
  {
   "cell_type": "markdown",
   "metadata": {},
   "source": [
    "<br>"
   ]
  },
  {
   "cell_type": "markdown",
   "metadata": {},
   "source": [
    "## <a id=\"3.3 EDA\">3.3 EDA</a>\n",
    "<a href=\"#2.Table of Contents\">Click this Link back to Top</a>"
   ]
  },
  {
   "cell_type": "code",
   "execution_count": 331,
   "metadata": {},
   "outputs": [],
   "source": [
    "# from class_31_hyperparameters import HyperParamters\n",
    "\n",
    "# used for visulazation\n",
    "import matplotlib.pyplot as plt\n",
    "import pandas as pd\n",
    "import numpy as np\n",
    "\n",
    "class EDA(HyperParamters):\n",
    "    \"\"\":arg\n",
    "    \"\"\"\n",
    "    def __init__(self):\n",
    "        \"\"\":arg\n",
    "        \"\"\"\n",
    "        HyperParamters.__init__(self)\n",
    "\n",
    "    def missing_plot(self, df: pd.DataFrame):\n",
    "        \"\"\":arg\n",
    "\n",
    "        Used for missing data plot for count plot and percenatage plot\n",
    "        \"\"\"\n",
    "        # not all columns contain missing value, we only plot the colunms have missing value\n",
    "        # checking is there any missing value in this df and find threir column names and assign to col_missing_value\n",
    "        col_missing_value = list(df.columns[df.isnull().any()])\n",
    "        # count the missing value for each column\n",
    "        df[col_missing_value].isnull().sum()\n",
    "        # to hold the columns names\n",
    "        list_labels=[]\n",
    "        # to hold the count of missing values for each variable\n",
    "        list_value_count=[]\n",
    "        # to hold the percentage of missing values for each variable\n",
    "        list_percent_count=[]\n",
    "        #\n",
    "        for col in col_missing_value:\n",
    "            # add the column names into this list\n",
    "            list_labels.append(col)\n",
    "            # caculate each column missing value count and append to list\n",
    "            list_value_count.append(df[col].isnull().sum())\n",
    "            # df.shape[0] will give totoal row count\n",
    "            list_percent_count.append(df[col].isnull().sum()/df.shape[0])\n",
    "\n",
    "\n",
    "        # create two subplot with 1 row two columns\n",
    "        fig, (ax1, ax2) = plt.subplots(1,2)\n",
    "        # we use ax.barh() create horizontal bar chart, bar width is the count number of missing value\n",
    "        ax1.barh(y = np.arange(len(list_labels)),width = np.array(list_value_count), height=0.5, color='blue')\n",
    "        # set lenght of y labels\n",
    "        ax1.set_yticks(np.arange(len(list_labels)))\n",
    "        # set y labels\n",
    "        ax1.set_yticklabels(list_labels, rotation='horizontal')\n",
    "        ax1.set_xlabel('Count of missing values')\n",
    "        ax1.set_title(\"Columns with missing value count\")\n",
    "\n",
    "        ax2.barh(y=np.arange(len(list_labels)), width = np.array(list_percent_count), height=0.5, color='red')\n",
    "        ax2.set_yticks(np.arange(len(list_labels)))\n",
    "        ax2.set_yticklabels(list_labels, rotation='horizontal')\n",
    "        ax2.set_xlabel(\"Percentage of missing values\")\n",
    "        ax2.set_title(\"Columns with missing values\")\n",
    "\n",
    "        plt.show()\n",
    "        # print(col_missing_value, type(col_missing_value))\n",
    "\n",
    "        return col_missing_value\n"
   ]
  },
  {
   "cell_type": "markdown",
   "metadata": {},
   "source": [
    "<br>"
   ]
  },
  {
   "cell_type": "markdown",
   "metadata": {},
   "source": [
    "<br>"
   ]
  },
  {
   "cell_type": "markdown",
   "metadata": {},
   "source": [
    "<br>"
   ]
  },
  {
   "cell_type": "markdown",
   "metadata": {},
   "source": [
    "## <a id=\"3.4 Preprocess\">3.4 Preprocess</a>\n",
    "<a href=\"#2.Table of Contents\">Click this Link back to Top</a>"
   ]
  },
  {
   "cell_type": "code",
   "execution_count": 332,
   "metadata": {},
   "outputs": [],
   "source": [
    "# from class_31_hyperparameters import HyperParamters\n",
    "# from class_33_eda import EDA\n",
    "\n",
    "# using for timestap convert\n",
    "import pandas as pd\n",
    "import numpy as np\n",
    "from scipy import stats\n",
    "# recording running time in each function\n",
    "from time import time\n",
    "\n",
    "\n",
    "\n",
    "class PreProcess(HyperParamters):\n",
    "    \"\"\":arg\n",
    "    Actually, not only production data need to be clean.\n",
    "\n",
    "    tz_convert(): used to convert string to timestamp format\n",
    "    \"\"\"\n",
    "\n",
    "    def __init__(self):\n",
    "        \"\"\":arg\n",
    "        Inheriret from HyperParamters\n",
    "        \"\"\"\n",
    "        HyperParamters.__init__(self)\n",
    "\n",
    "\n",
    "    def tz_convert(self, series):\n",
    "        \"\"\":arg\n",
    "        Args:\n",
    "        ------\n",
    "        serise:DataFrame.series\n",
    "            each element from DataFrame columns\n",
    "\n",
    "        Returns:\n",
    "        -----------\n",
    "        series_est:timestamp\n",
    "\n",
    "        \"\"\"\n",
    "        series_est = pd.Timestamp(series, unit='s', tz='America/New_York')\n",
    "\n",
    "        return series_est\n",
    "\n",
    "    def round_to_hour(self,timestamp):\n",
    "        \"\"\"\n",
    "        We notice df_product['StartDat'] is string type not DataFrame.timestamp.\n",
    "        And weather data are seperated by hours, so we need transform string time data round to nearest hour\n",
    "\n",
    "        Args:\n",
    "        --------\n",
    "        timestamp\n",
    "        \"\"\"\n",
    "        # due to excel convert to csv, all format are lost and original timestamp has transformed to 'string'\n",
    "        # so we add a duplicate process to convert 'string' to 'timestamp'\n",
    "        timestamp = pd.Timestamp(timestamp)\n",
    "        # because of summer time and winter time rules, some UTC date can't conver to EST\n",
    "        try:\n",
    "            date_hour = timestamp.round(freq='H').tz_localize(tz='America/New_York', nonexistent='shift_forward')\n",
    "        except:\n",
    "            print('This data cant convert correctly {}'.format(timestamp.round(freq='H')))\n",
    "            date_hour = timestamp.round(freq='H').tz_localize(tz='America/New_York',\n",
    "                                                              ambiguous='NaT',\n",
    "                                                              nonexistent='shift_forward')\n",
    "            print('This date replaced by {}'.format('NaT'))\n",
    "\n",
    "        return date_hour\n",
    "\n",
    "    def drop_na(self, df, list_col):\n",
    "        \"\"\"\n",
    "        Args:\n",
    "        ------\n",
    "        df:DataFrame\n",
    "            The DF has delete some objective columns\n",
    "        list_col:list\n",
    "            Generated by EDA() part, like['dt_est','Rate']\n",
    "\n",
    "        Returns:\n",
    "        --------\n",
    "        df_clean:DataFrame\n",
    "            complete cleaning\n",
    "        df_dropped:DataFrame\n",
    "            Contain the rows have been dropped by dropna()\n",
    "        \"\"\"\n",
    "        # sometime, we also need review these columns that has been deleted by rows, so we restore them\n",
    "        df_dropped = df[df.isnull().any(axis=1)]\n",
    "        # according to eda result, we got columns name that has missing values\n",
    "        df_clean = df.dropna(subset=list_col)\n",
    "        print(\"These {} columns still have missing data\".format(list_col))\n",
    "        print(\"After dropping na, {} rows has decreased to {} rows\".format(df.shape[0], df_clean.shape[0]))\n",
    "\n",
    "        return df_clean, df_dropped\n",
    "\n",
    "\n",
    "    def del_outlier(self, df, str_col, abs=False):\n",
    "        \"\"\"\n",
    "        We use z-score to delete outliers in our data. for example ['YieldPrecentage'] and ['Rate']\n",
    "        When ads=True, it will delete smallest and biggest outliers.\n",
    "        When ads=False, it will only delete outliers ['YieldPercentage']> 130%, which means remain [0,130]\n",
    "\n",
    "        Args:\n",
    "        ------\n",
    "        df:DataFrame\n",
    "            Any dataframe\n",
    "        str_col:str\n",
    "            the name of column you want to detect outliers and drop\n",
    "\n",
    "        Returns:\n",
    "        --------\n",
    "        df_clean:DataFrame\n",
    "            df has been dropped\n",
    "        df_outlier:DataFrame\n",
    "            The rows that has been detected as outliers\n",
    "        \"\"\"\n",
    "        if abs:\n",
    "            # if abs=True, we will absolute z-score and find the both side outliers\n",
    "            z_score = np.abs(stats.zscore(df[str_col], nan_policy='omit'))\n",
    "            print(\"We will drop too large and too small outliers\")\n",
    "        else:\n",
    "            # if abs=False (default setting), we only delete the too large outlers\n",
    "            z_score = stats.zscore(df[str_col], nan_policy='omit')\n",
    "            print(\"we will only drop too large outliers\")\n",
    "        # set a z-score threshold, any greater than this value will be eliminate\n",
    "        # z_threshold = 3\n",
    "        # filter that ooutlier rows in dataframe\n",
    "        # index_outlier = np.where(z_score > z_threshold, z_score)\n",
    "        # get the index of these outliers\n",
    "        index_outlier = df[z_score > self.YEILD_THRESHOLD].index\n",
    "        # restore these outliers in df_outlier for further review\n",
    "        df_outlier = df.loc[index_outlier]\n",
    "        print('We have {} data points are outliers, which between {} and {}'.format(len(index_outlier),\n",
    "                                                                                    df_outlier[str_col].min(),\n",
    "                                                                                    df_outlier[str_col].max()))\n",
    "        # drop these rows by index\n",
    "        df_clean = df.drop(axis=0, index=index_outlier)\n",
    "        print(\"After drop outlier, the {} column remain range between {} and {}\".format(str_col,\n",
    "                                                                                        df_clean[str_col].min(),\n",
    "                                                                                        df_clean[str_col].max()))\n",
    "        return df_clean, df_outlier\n",
    "\n",
    "\n",
    "    def clean_data(self, df_product, df_nj_weather, df_pa_weather):\n",
    "        \"\"\":arg\n",
    "        Delete columns we believe didn't use in the future.\n",
    "\n",
    "        Args:\n",
    "        --------\n",
    "        df_product:DataFrame\n",
    "\n",
    "        Returns:\n",
    "        --------\n",
    "        df_product:DataFrame\n",
    "            droped missing value, add a new column['dt_est'] for merge purpose\n",
    "        df_nj_weather:DataFrame\n",
    "            cleaned DataFrame table\n",
    "\n",
    "        \"\"\"\n",
    "        print(\"*\" * 50, \"Start clean_data()\", \"*\" * 50)\n",
    "        start_time = time()\n",
    "\n",
    "        class_eda = EDA()\n",
    "        #***************Drop non-realted columns**********************\n",
    "        # *************Drop by columns**************\n",
    "        # ['Bulk Density'] have 50% missing data\n",
    "        df_product = df_product.drop(self.DROP_COL, axis=1)\n",
    "        print(\"These columns have been dropped {}\".format(self.DROP_COL))\n",
    "        # some weather data might also need clearn\n",
    "        list_missing_nj = class_eda.missing_plot(df_nj_weather)\n",
    "        df_nj_weather = df_nj_weather.drop(list_missing_nj, axis = 1)\n",
    "        list_missing_pa = class_eda.missing_plot(df_pa_weather)\n",
    "        df_pa_weather = df_pa_weather.drop(list_missing_pa, axis = 1)\n",
    "        #******************End************************************\n",
    "\n",
    "\n",
    "        #**************Convert all time into same timestamp format***************************\n",
    "        # convert weather data ['dt'] (unix time) to Eastern Stardard Time(EST)\n",
    "        # pass an argument(series) to function tz_convert()\n",
    "        df_nj_weather['dt_est'] = df_nj_weather['dt'].apply(self.tz_convert)\n",
    "        # another way to use apply()\n",
    "        # df_nj_weather['dt_est'] = df_nj_weather['dt'].apply(lambda x: pd.TimeStamp(x, unit='s', tz='America/New_York'))\n",
    "        df_pa_weather['dt_est'] = df_pa_weather['dt'].apply(self.tz_convert)\n",
    "        # for merge purpose, make sure two column have same name\n",
    "        df_product['dt_est'] = df_product['StartDate'].apply(self.round_to_hour)\n",
    "        #***********************End***************************************************\n",
    "\n",
    "        #*************Drop missing data********************************\n",
    "        list_col_missing_product = class_eda.missing_plot(df_product)\n",
    "        #**************Drop by rows**********************\n",
    "        # we get the name of columns that has missing value from eda part\n",
    "        df_product,df_dropped = self.drop_na(df_product, list_col_missing_product)\n",
    "        #******************End*****************\n",
    "\n",
    "\n",
    "        #*****************Drop by outliers****************\n",
    "        # after drop non-related columns, convert timestamp format, drop missing data by rows,\n",
    "        # we need to drop outliers in some necessary columns\n",
    "        # we might need automate generate outlier by some EDA() models\n",
    "        str_col='YieldPercentage'\n",
    "        df_product, df_outlier = self.del_outlier(df_product, str_col, abs=False)\n",
    "\n",
    "\n",
    "\n",
    "\n",
    "\n",
    "        cost_time = round((time() - start_time), 4)\n",
    "        print(\"*\" * 40, \"End clean_data() with {} second\".format(cost_time), \"*\" * 40, end='\\n\\n')\n",
    "\n",
    "        return df_product, df_nj_weather, df_pa_weather, df_dropped, df_outlier\n",
    "\n"
   ]
  },
  {
   "cell_type": "markdown",
   "metadata": {},
   "source": [
    "<br>"
   ]
  },
  {
   "cell_type": "markdown",
   "metadata": {},
   "source": [
    "<br>"
   ]
  },
  {
   "cell_type": "markdown",
   "metadata": {},
   "source": [
    "<br>"
   ]
  },
  {
   "cell_type": "markdown",
   "metadata": {},
   "source": [
    "## <a id=\"3.5 Merge Data\">3.5 Merge Data</a>\n",
    "<a href=\"#2.Table of Contents\">Click this Link back to Top</a>"
   ]
  },
  {
   "cell_type": "code",
   "execution_count": 483,
   "metadata": {},
   "outputs": [],
   "source": [
    "# from class_31_hyperparameters import HyperParamters\n",
    "\n",
    "import pandas as pd\n",
    "import numpy as np\n",
    "# for time sum()\n",
    "import datetime\n",
    "\n",
    "class MergeData(HyperParamters):\n",
    "    \"\"\":arg\n",
    "    For now, we have differenty hypothesis to view our data\n",
    "    We will use self.MERGE_WAY to choose different hypothesis\n",
    "\n",
    "    1.self.MERGE_WAY:one\n",
    "        without further process, just using dt_est to merge\n",
    "    2.self.MERGE_WAY:\n",
    "\n",
    "    \"\"\"\n",
    "    def __init__(self):\n",
    "        HyperParamters.__init__(self)\n",
    "\n",
    "    def convert_timedelta(self, element):\n",
    "        \"\"\":arg\n",
    "        \"\"\"\n",
    "        time_delta = datetime.timedelta(hours = element)\n",
    "        return time_delta\n",
    "\n",
    "\n",
    "    def row_proliferate(self, df_product):\n",
    "        \"\"\":arg\n",
    "        Because weather data is split by hour, so we need transform each records into every hour records\n",
    "        \"\"\"\n",
    "        # first create a new column ['hours'] from ['DryingTime_Hrs'] round to bigger integer\n",
    "        df_product['hours'] = np.ceil(df_product['DryingTime_Hrs']).astype(int)\n",
    "        # Second, repeat each records/rows by ['hours'] times\n",
    "        # which means you will have how many running hours, you will have how many rows for each column\n",
    "        df_multi = pd.DataFrame(np.repeat(df_product.values, df_product['hours'], axis=0),\n",
    "                                      columns = df_product.columns)\n",
    "        # Thrid, adjust ['hours'] to ascending rank model, for instance, [3,3,3] to [0,1,2]\n",
    "        # this is used for next step add to ['dt_est'] time\n",
    "        # groupby each old record, for instance, for first records, groupby will be a three row table\n",
    "        # for second records, groupby['StartData'] will be a nine row table\n",
    "        # Then, extract ['hours'] column, for each pd.Series, apply a fomulation\n",
    "        # addition, in here, ['hours'] will not be a single row, instead, it will be a three element Series\n",
    "        # for this three/nine series, we cacualte their cumulation sum cumsum() [3,3,3] will be [3,6,9]\n",
    "        # for instance [9.9.9.9...9] will be [9,18,27,,,,81]\n",
    "        # and we divide by ['hours'] count, which will be [3,9,...], last minute 1 to get a column for timestamp add\n",
    "        df_multi['hour_add'] = df_multi.groupby(['StartDate'])['hours'].apply(lambda x:x.cumsum()/x.count())-1\n",
    "        # our weather segmentation is one hour\n",
    "        # one_hour = datetime.timedelta(hours = 1)\n",
    "        df_multi['hour_add'] = df_multi['hour_add'].apply(self.convert_timedelta)\n",
    "        df_multi['dt_est'] = df_multi['dt_est'] + df_multi['hour_add']\n",
    "\n",
    "        return df_multi\n",
    "\n",
    "\n",
    "\n",
    "    def merge_one(self, df_product, df_nj_weather, df_pa_weather):\n",
    "        \"\"\":arg\n",
    "        Don't split, just merge all together by ['dt_est']\n",
    "        \"\"\"\n",
    "        df_nj = pd.merge(df_product, df_nj_weather, how='left', on=['dt_est'])\n",
    "        df_pa = pd.merge(df_product, df_pa_weather, how='left', on=['dt_est'])\n",
    "\n",
    "        return df_nj, df_pa\n",
    "\n"
   ]
  },
  {
   "cell_type": "code",
   "execution_count": null,
   "metadata": {},
   "outputs": [],
   "source": []
  },
  {
   "cell_type": "code",
   "execution_count": null,
   "metadata": {},
   "outputs": [],
   "source": []
  },
  {
   "cell_type": "code",
   "execution_count": null,
   "metadata": {},
   "outputs": [],
   "source": []
  },
  {
   "cell_type": "markdown",
   "metadata": {},
   "source": [
    "# <a id=\"4.others\">4.Others</a>\n",
    "<a href=\"#2.Table of Contents\">Click this Link back to Top</a>"
   ]
  },
  {
   "cell_type": "code",
   "execution_count": null,
   "metadata": {},
   "outputs": [],
   "source": []
  },
  {
   "cell_type": "code",
   "execution_count": null,
   "metadata": {},
   "outputs": [],
   "source": []
  },
  {
   "cell_type": "code",
   "execution_count": null,
   "metadata": {},
   "outputs": [],
   "source": []
  },
  {
   "cell_type": "code",
   "execution_count": null,
   "metadata": {},
   "outputs": [],
   "source": []
  },
  {
   "cell_type": "code",
   "execution_count": null,
   "metadata": {},
   "outputs": [],
   "source": []
  },
  {
   "cell_type": "code",
   "execution_count": null,
   "metadata": {},
   "outputs": [],
   "source": []
  },
  {
   "cell_type": "markdown",
   "metadata": {},
   "source": [
    "# <a id=\"7.Main Function\">7.Main Function</a>\n",
    "<a href=\"#2.Table of Contents\">Click this Link back to Top</a>"
   ]
  },
  {
   "cell_type": "code",
   "execution_count": 484,
   "metadata": {},
   "outputs": [
    {
     "name": "stdout",
     "output_type": "stream",
     "text": [
      "************************************************** Start clean_data() **************************************************\n",
      "These columns have been dropped ['Bulk Density', 'Moisture', 'Flow', 'Hygroscopicity']\n"
     ]
    },
    {
     "data": {
      "image/png": "[encoded data removed]",
      "text/plain": [
       "<Figure size 432x288 with 2 Axes>"
      ]
     },
     "metadata": {
      "needs_background": "light"
     },
     "output_type": "display_data"
    },
    {
     "data": {
      "image/png": "[encoded data removed]",
      "text/plain": [
       "<Figure size 432x288 with 2 Axes>"
      ]
     },
     "metadata": {
      "needs_background": "light"
     },
     "output_type": "display_data"
    },
    {
     "name": "stdout",
     "output_type": "stream",
     "text": [
      "This data cant convert correctly 2016-11-06 01:00:00\n",
      "This date replaced by NaT\n",
      "This data cant convert correctly 2017-11-05 01:00:00\n",
      "This date replaced by NaT\n"
     ]
    },
    {
     "data": {
      "image/png": "[encoded data removed]",
      "text/plain": [
       "<Figure size 432x288 with 2 Axes>"
      ]
     },
     "metadata": {
      "needs_background": "light"
     },
     "output_type": "display_data"
    },
    {
     "name": "stdout",
     "output_type": "stream",
     "text": [
      "These ['CustItem', 'ScheduledDryQty', 'ActualDryQty', 'YieldPercentage', 'ProdLine', 'Rate', 'dt_est'] columns still have missing data\n",
      "After dropping na, 9970 rows has decreased to 9931 rows\n",
      "we will only drop too large outliers\n",
      "We have 15 data points are outliers, which between 136.0 and 864.9\n",
      "After drop outlier, the YieldPercentage column remain range between 0.0 and 130.0\n",
      "**************************************** End clean_data() with 4.6622 second ****************************************\n",
      "\n",
      "OVER\n"
     ]
    }
   ],
   "source": [
    "# from class_31_hyperparameters import HyperParamters\n",
    "# from class_32_import_data import ImportData\n",
    "# from class_34_preprocess import PreProcess\n",
    "# from class_33_eda import EDA\n",
    "# from class_35_merge_data import MergeData\n",
    "\n",
    "def main():\n",
    "    \"\"\"\n",
    "    We use this function to call process one by one.\n",
    "    \"\"\"\n",
    "\n",
    "\n",
    "    # ***********************import******************************\n",
    "    class_import = ImportData()\n",
    "    # df_product, df_nj_weather, df_pa_weather = class_import.import_data()\n",
    "    df_product, df_nj_weather, df_pa_weather = class_import.read_csv()\n",
    "\n",
    "    # *******************3.Preprocess**************************************\n",
    "    class_pre = PreProcess()\n",
    "    df_product, df_nj_weather, df_pa_weather, df_dropped, df_outlier = class_pre.clean_data(df_product,\n",
    "                                                                                df_nj_weather,\n",
    "                                                                                df_pa_weather)\n",
    "\n",
    "    #*******************3.5 MergeDate************************\n",
    "    class_merge = MergeData()\n",
    "    df_nj, df_pa = class_merge.merge_one(df_product, df_nj_weather, df_pa_weather)\n",
    "    df_multi = class_merge.row_proliferate(df_product)\n",
    "\n",
    "    return (df_product, df_nj_weather, df_pa_weather, df_dropped, df_outlier,\n",
    "            df_nj, df_pa, df_multi)\n",
    "\n",
    "\n",
    "\n",
    "if __name__==\"__main__\":\n",
    "    \"\"\":arg\n",
    "    \n",
    "    \"\"\"\n",
    "    (df_product, df_nj_weather, df_pa_weather, df_dropped, df_outlier,\n",
    "     df_nj, df_pa, df_multi) = main()\n",
    "\n",
    "    print(\"OVER\")"
   ]
  },
  {
   "cell_type": "code",
   "execution_count": null,
   "metadata": {},
   "outputs": [],
   "source": []
  },
  {
   "cell_type": "code",
   "execution_count": null,
   "metadata": {},
   "outputs": [],
   "source": []
  },
  {
   "cell_type": "code",
   "execution_count": null,
   "metadata": {},
   "outputs": [],
   "source": []
  },
  {
   "cell_type": "code",
   "execution_count": null,
   "metadata": {},
   "outputs": [],
   "source": []
  },
  {
   "cell_type": "code",
   "execution_count": null,
   "metadata": {},
   "outputs": [],
   "source": []
  },
  {
   "cell_type": "markdown",
   "metadata": {},
   "source": [
    "# <a id=\"9.Test Code\">9.Test Code</a>\n",
    "<a href=\"#2.Table of Contents\">Click this Link back to Top</a>"
   ]
  },
  {
   "cell_type": "markdown",
   "metadata": {},
   "source": [
    "1. We might need split data into two place NJ and PA, but we also can try to merge two location into one, because they are not far away\n",
    "2. clean data, transform date format, join by date, Coeffience anaylsis\n",
    "3. Check kaggle format\n",
    "4. Check journals "
   ]
  },
  {
   "cell_type": "code",
   "execution_count": 486,
   "metadata": {},
   "outputs": [
    {
     "data": {
      "text/html": [
       "<div>\n",
       "<style scoped>\n",
       "    .dataframe tbody tr th:only-of-type {\n",
       "        vertical-align: middle;\n",
       "    }\n",
       "\n",
       "    .dataframe tbody tr th {\n",
       "        vertical-align: top;\n",
       "    }\n",
       "\n",
       "    .dataframe thead th {\n",
       "        text-align: right;\n",
       "    }\n",
       "</style>\n",
       "<table border=\"1\" class=\"dataframe\">\n",
       "  <thead>\n",
       "    <tr style=\"text-align: right;\">\n",
       "      <th></th>\n",
       "      <th>StartDate</th>\n",
       "      <th>BatchNumber</th>\n",
       "      <th>CustItem</th>\n",
       "      <th>Dryer</th>\n",
       "      <th>ScheduledDryQty</th>\n",
       "      <th>ActualDryQty</th>\n",
       "      <th>YieldPercentage</th>\n",
       "      <th>DryingTime_Hrs</th>\n",
       "      <th>CleanTime_Hrs</th>\n",
       "      <th>DownTime_Hrs</th>\n",
       "      <th>TotalRunTime_Hrs</th>\n",
       "      <th>ProdLine</th>\n",
       "      <th>Rate</th>\n",
       "      <th>dt_est</th>\n",
       "      <th>hours</th>\n",
       "      <th>hour_add</th>\n",
       "    </tr>\n",
       "  </thead>\n",
       "  <tbody>\n",
       "    <tr>\n",
       "      <th>0</th>\n",
       "      <td>2016-01-02 08:54:58.000</td>\n",
       "      <td>NJSD313825</td>\n",
       "      <td>10013-0000</td>\n",
       "      <td>Dryer 04</td>\n",
       "      <td>333.736</td>\n",
       "      <td>352.2</td>\n",
       "      <td>105.5</td>\n",
       "      <td>2.4</td>\n",
       "      <td>5.1</td>\n",
       "      <td>0</td>\n",
       "      <td>7.5</td>\n",
       "      <td>Fragrance</td>\n",
       "      <td>146.75</td>\n",
       "      <td>2016-01-02 09:00:00-05:00</td>\n",
       "      <td>3</td>\n",
       "      <td>0 days 00:00:00</td>\n",
       "    </tr>\n",
       "    <tr>\n",
       "      <th>1</th>\n",
       "      <td>2016-01-02 08:54:58.000</td>\n",
       "      <td>NJSD313825</td>\n",
       "      <td>10013-0000</td>\n",
       "      <td>Dryer 04</td>\n",
       "      <td>333.736</td>\n",
       "      <td>352.2</td>\n",
       "      <td>105.5</td>\n",
       "      <td>2.4</td>\n",
       "      <td>5.1</td>\n",
       "      <td>0</td>\n",
       "      <td>7.5</td>\n",
       "      <td>Fragrance</td>\n",
       "      <td>146.75</td>\n",
       "      <td>2016-01-02 10:00:00-05:00</td>\n",
       "      <td>3</td>\n",
       "      <td>0 days 01:00:00</td>\n",
       "    </tr>\n",
       "    <tr>\n",
       "      <th>2</th>\n",
       "      <td>2016-01-02 08:54:58.000</td>\n",
       "      <td>NJSD313825</td>\n",
       "      <td>10013-0000</td>\n",
       "      <td>Dryer 04</td>\n",
       "      <td>333.736</td>\n",
       "      <td>352.2</td>\n",
       "      <td>105.5</td>\n",
       "      <td>2.4</td>\n",
       "      <td>5.1</td>\n",
       "      <td>0</td>\n",
       "      <td>7.5</td>\n",
       "      <td>Fragrance</td>\n",
       "      <td>146.75</td>\n",
       "      <td>2016-01-02 11:00:00-05:00</td>\n",
       "      <td>3</td>\n",
       "      <td>0 days 02:00:00</td>\n",
       "    </tr>\n",
       "    <tr>\n",
       "      <th>3</th>\n",
       "      <td>2016-01-02 11:06:57.863</td>\n",
       "      <td>NJSD312807</td>\n",
       "      <td>10558-0000</td>\n",
       "      <td>Dryer 03</td>\n",
       "      <td>4270.41</td>\n",
       "      <td>3935.4</td>\n",
       "      <td>92.2</td>\n",
       "      <td>8.4</td>\n",
       "      <td>0.2</td>\n",
       "      <td>4.2</td>\n",
       "      <td>12.8</td>\n",
       "      <td>Fragrance</td>\n",
       "      <td>468.5</td>\n",
       "      <td>2016-01-02 11:00:00-05:00</td>\n",
       "      <td>9</td>\n",
       "      <td>0 days 00:00:00</td>\n",
       "    </tr>\n",
       "    <tr>\n",
       "      <th>4</th>\n",
       "      <td>2016-01-02 11:06:57.863</td>\n",
       "      <td>NJSD312807</td>\n",
       "      <td>10558-0000</td>\n",
       "      <td>Dryer 03</td>\n",
       "      <td>4270.41</td>\n",
       "      <td>3935.4</td>\n",
       "      <td>92.2</td>\n",
       "      <td>8.4</td>\n",
       "      <td>0.2</td>\n",
       "      <td>4.2</td>\n",
       "      <td>12.8</td>\n",
       "      <td>Fragrance</td>\n",
       "      <td>468.5</td>\n",
       "      <td>2016-01-02 12:00:00-05:00</td>\n",
       "      <td>9</td>\n",
       "      <td>0 days 01:00:00</td>\n",
       "    </tr>\n",
       "    <tr>\n",
       "      <th>5</th>\n",
       "      <td>2016-01-02 11:06:57.863</td>\n",
       "      <td>NJSD312807</td>\n",
       "      <td>10558-0000</td>\n",
       "      <td>Dryer 03</td>\n",
       "      <td>4270.41</td>\n",
       "      <td>3935.4</td>\n",
       "      <td>92.2</td>\n",
       "      <td>8.4</td>\n",
       "      <td>0.2</td>\n",
       "      <td>4.2</td>\n",
       "      <td>12.8</td>\n",
       "      <td>Fragrance</td>\n",
       "      <td>468.5</td>\n",
       "      <td>2016-01-02 13:00:00-05:00</td>\n",
       "      <td>9</td>\n",
       "      <td>0 days 02:00:00</td>\n",
       "    </tr>\n",
       "    <tr>\n",
       "      <th>6</th>\n",
       "      <td>2016-01-02 11:06:57.863</td>\n",
       "      <td>NJSD312807</td>\n",
       "      <td>10558-0000</td>\n",
       "      <td>Dryer 03</td>\n",
       "      <td>4270.41</td>\n",
       "      <td>3935.4</td>\n",
       "      <td>92.2</td>\n",
       "      <td>8.4</td>\n",
       "      <td>0.2</td>\n",
       "      <td>4.2</td>\n",
       "      <td>12.8</td>\n",
       "      <td>Fragrance</td>\n",
       "      <td>468.5</td>\n",
       "      <td>2016-01-02 14:00:00-05:00</td>\n",
       "      <td>9</td>\n",
       "      <td>0 days 03:00:00</td>\n",
       "    </tr>\n",
       "  </tbody>\n",
       "</table>\n",
       "</div>"
      ],
      "text/plain": [
       "                 StartDate BatchNumber    CustItem     Dryer ScheduledDryQty  \\\n",
       "0  2016-01-02 08:54:58.000  NJSD313825  10013-0000  Dryer 04         333.736   \n",
       "1  2016-01-02 08:54:58.000  NJSD313825  10013-0000  Dryer 04         333.736   \n",
       "2  2016-01-02 08:54:58.000  NJSD313825  10013-0000  Dryer 04         333.736   \n",
       "3  2016-01-02 11:06:57.863  NJSD312807  10558-0000  Dryer 03         4270.41   \n",
       "4  2016-01-02 11:06:57.863  NJSD312807  10558-0000  Dryer 03         4270.41   \n",
       "5  2016-01-02 11:06:57.863  NJSD312807  10558-0000  Dryer 03         4270.41   \n",
       "6  2016-01-02 11:06:57.863  NJSD312807  10558-0000  Dryer 03         4270.41   \n",
       "\n",
       "  ActualDryQty YieldPercentage DryingTime_Hrs CleanTime_Hrs DownTime_Hrs  \\\n",
       "0        352.2           105.5            2.4           5.1            0   \n",
       "1        352.2           105.5            2.4           5.1            0   \n",
       "2        352.2           105.5            2.4           5.1            0   \n",
       "3       3935.4            92.2            8.4           0.2          4.2   \n",
       "4       3935.4            92.2            8.4           0.2          4.2   \n",
       "5       3935.4            92.2            8.4           0.2          4.2   \n",
       "6       3935.4            92.2            8.4           0.2          4.2   \n",
       "\n",
       "  TotalRunTime_Hrs   ProdLine    Rate                    dt_est hours  \\\n",
       "0              7.5  Fragrance  146.75 2016-01-02 09:00:00-05:00     3   \n",
       "1              7.5  Fragrance  146.75 2016-01-02 10:00:00-05:00     3   \n",
       "2              7.5  Fragrance  146.75 2016-01-02 11:00:00-05:00     3   \n",
       "3             12.8  Fragrance   468.5 2016-01-02 11:00:00-05:00     9   \n",
       "4             12.8  Fragrance   468.5 2016-01-02 12:00:00-05:00     9   \n",
       "5             12.8  Fragrance   468.5 2016-01-02 13:00:00-05:00     9   \n",
       "6             12.8  Fragrance   468.5 2016-01-02 14:00:00-05:00     9   \n",
       "\n",
       "         hour_add  \n",
       "0 0 days 00:00:00  \n",
       "1 0 days 01:00:00  \n",
       "2 0 days 02:00:00  \n",
       "3 0 days 00:00:00  \n",
       "4 0 days 01:00:00  \n",
       "5 0 days 02:00:00  \n",
       "6 0 days 03:00:00  "
      ]
     },
     "execution_count": 486,
     "metadata": {},
     "output_type": "execute_result"
    }
   ],
   "source": [
    "df_multi.head(7)"
   ]
  },
  {
   "cell_type": "code",
   "execution_count": 487,
   "metadata": {},
   "outputs": [
    {
     "data": {
      "text/plain": [
       "(46646, 20)"
      ]
     },
     "execution_count": 487,
     "metadata": {},
     "output_type": "execute_result"
    }
   ],
   "source": [
    "df_nj_weather.shape"
   ]
  },
  {
   "cell_type": "code",
   "execution_count": 485,
   "metadata": {},
   "outputs": [
    {
     "data": {
      "text/plain": [
       "(220787, 16)"
      ]
     },
     "execution_count": 485,
     "metadata": {},
     "output_type": "execute_result"
    }
   ],
   "source": [
    "df_multi.shape"
   ]
  },
  {
   "cell_type": "code",
   "execution_count": 473,
   "metadata": {},
   "outputs": [
    {
     "data": {
      "text/html": [
       "<div>\n",
       "<style scoped>\n",
       "    .dataframe tbody tr th:only-of-type {\n",
       "        vertical-align: middle;\n",
       "    }\n",
       "\n",
       "    .dataframe tbody tr th {\n",
       "        vertical-align: top;\n",
       "    }\n",
       "\n",
       "    .dataframe thead th {\n",
       "        text-align: right;\n",
       "    }\n",
       "</style>\n",
       "<table border=\"1\" class=\"dataframe\">\n",
       "  <thead>\n",
       "    <tr style=\"text-align: right;\">\n",
       "      <th></th>\n",
       "      <th>StartDate</th>\n",
       "      <th>BatchNumber</th>\n",
       "      <th>CustItem</th>\n",
       "      <th>Dryer</th>\n",
       "      <th>ScheduledDryQty</th>\n",
       "      <th>ActualDryQty</th>\n",
       "      <th>YieldPercentage</th>\n",
       "      <th>DryingTime_Hrs</th>\n",
       "      <th>CleanTime_Hrs</th>\n",
       "      <th>DownTime_Hrs</th>\n",
       "      <th>...</th>\n",
       "      <th>temp_max</th>\n",
       "      <th>pressure</th>\n",
       "      <th>humidity</th>\n",
       "      <th>wind_speed</th>\n",
       "      <th>wind_deg</th>\n",
       "      <th>clouds_all</th>\n",
       "      <th>weather_id</th>\n",
       "      <th>weather_main</th>\n",
       "      <th>weather_description</th>\n",
       "      <th>weather_icon</th>\n",
       "    </tr>\n",
       "  </thead>\n",
       "  <tbody>\n",
       "    <tr>\n",
       "      <th>0</th>\n",
       "      <td>2016-01-02 08:54:58.000</td>\n",
       "      <td>NJSD313825</td>\n",
       "      <td>10013-0000</td>\n",
       "      <td>Dryer 04</td>\n",
       "      <td>333.7357</td>\n",
       "      <td>352.2000</td>\n",
       "      <td>105.5</td>\n",
       "      <td>2.4</td>\n",
       "      <td>5.1</td>\n",
       "      <td>0.0</td>\n",
       "      <td>...</td>\n",
       "      <td>33.85</td>\n",
       "      <td>1020</td>\n",
       "      <td>51</td>\n",
       "      <td>3.36</td>\n",
       "      <td>270</td>\n",
       "      <td>90</td>\n",
       "      <td>804</td>\n",
       "      <td>Clouds</td>\n",
       "      <td>overcast clouds</td>\n",
       "      <td>04d</td>\n",
       "    </tr>\n",
       "    <tr>\n",
       "      <th>1</th>\n",
       "      <td>2016-01-02 11:06:57.863</td>\n",
       "      <td>NJSD312807</td>\n",
       "      <td>10558-0000</td>\n",
       "      <td>Dryer 03</td>\n",
       "      <td>4270.4120</td>\n",
       "      <td>3935.3999</td>\n",
       "      <td>92.2</td>\n",
       "      <td>8.4</td>\n",
       "      <td>0.2</td>\n",
       "      <td>4.2</td>\n",
       "      <td>...</td>\n",
       "      <td>38.28</td>\n",
       "      <td>1019</td>\n",
       "      <td>47</td>\n",
       "      <td>8.05</td>\n",
       "      <td>280</td>\n",
       "      <td>75</td>\n",
       "      <td>803</td>\n",
       "      <td>Clouds</td>\n",
       "      <td>broken clouds</td>\n",
       "      <td>04d</td>\n",
       "    </tr>\n",
       "  </tbody>\n",
       "</table>\n",
       "<p>2 rows × 33 columns</p>\n",
       "</div>"
      ],
      "text/plain": [
       "                 StartDate BatchNumber    CustItem     Dryer  ScheduledDryQty  \\\n",
       "0  2016-01-02 08:54:58.000  NJSD313825  10013-0000  Dryer 04         333.7357   \n",
       "1  2016-01-02 11:06:57.863  NJSD312807  10558-0000  Dryer 03        4270.4120   \n",
       "\n",
       "   ActualDryQty  YieldPercentage  DryingTime_Hrs  CleanTime_Hrs  DownTime_Hrs  \\\n",
       "0      352.2000            105.5             2.4            5.1           0.0   \n",
       "1     3935.3999             92.2             8.4            0.2           4.2   \n",
       "\n",
       "   ...  temp_max pressure  humidity wind_speed  wind_deg clouds_all  \\\n",
       "0  ...     33.85     1020        51       3.36       270         90   \n",
       "1  ...     38.28     1019        47       8.05       280         75   \n",
       "\n",
       "   weather_id weather_main  weather_description  weather_icon  \n",
       "0         804       Clouds      overcast clouds           04d  \n",
       "1         803       Clouds        broken clouds           04d  \n",
       "\n",
       "[2 rows x 33 columns]"
      ]
     },
     "execution_count": 473,
     "metadata": {},
     "output_type": "execute_result"
    }
   ],
   "source": [
    "df_nj.head(2)"
   ]
  },
  {
   "cell_type": "code",
   "execution_count": 334,
   "metadata": {},
   "outputs": [
    {
     "data": {
      "text/plain": [
       "(9916, 14)"
      ]
     },
     "execution_count": 334,
     "metadata": {},
     "output_type": "execute_result"
    }
   ],
   "source": [
    "df_product.shape"
   ]
  },
  {
   "cell_type": "code",
   "execution_count": 336,
   "metadata": {},
   "outputs": [
    {
     "data": {
      "text/plain": [
       "Index(['StartDate', 'BatchNumber', 'CustItem', 'Dryer', 'ScheduledDryQty',\n",
       "       'ActualDryQty', 'YieldPercentage', 'DryingTime_Hrs', 'CleanTime_Hrs',\n",
       "       'DownTime_Hrs', 'TotalRunTime_Hrs', 'ProdLine', 'Rate', 'dt_est'],\n",
       "      dtype='object')"
      ]
     },
     "execution_count": 336,
     "metadata": {},
     "output_type": "execute_result"
    }
   ],
   "source": [
    "df_product.columns"
   ]
  },
  {
   "cell_type": "code",
   "execution_count": 337,
   "metadata": {},
   "outputs": [
    {
     "data": {
      "text/plain": [
       "0      2016-01-02 09:00:00-05:00\n",
       "1      2016-01-02 11:00:00-05:00\n",
       "2      2016-01-02 22:00:00-05:00\n",
       "3      2016-01-02 23:00:00-05:00\n",
       "4      2016-01-03 00:00:00-05:00\n",
       "                  ...           \n",
       "9965   2020-12-28 09:00:00-05:00\n",
       "9966   2020-12-29 12:00:00-05:00\n",
       "9967   2020-12-29 22:00:00-05:00\n",
       "9968   2020-12-30 15:00:00-05:00\n",
       "9969   2020-12-30 21:00:00-05:00\n",
       "Name: dt_est, Length: 9916, dtype: datetime64[ns, America/New_York]"
      ]
     },
     "execution_count": 337,
     "metadata": {},
     "output_type": "execute_result"
    }
   ],
   "source": [
    "df_product['dt_est']"
   ]
  },
  {
   "cell_type": "code",
   "execution_count": 339,
   "metadata": {},
   "outputs": [
    {
     "data": {
      "text/plain": [
       "StartDate             2016-01-02 08:54:58.000\n",
       "BatchNumber                        NJSD313825\n",
       "CustItem                           10013-0000\n",
       "Dryer                                Dryer 04\n",
       "ScheduledDryQty                       333.736\n",
       "ActualDryQty                            352.2\n",
       "YieldPercentage                         105.5\n",
       "DryingTime_Hrs                            2.4\n",
       "CleanTime_Hrs                             5.1\n",
       "DownTime_Hrs                                0\n",
       "TotalRunTime_Hrs                          7.5\n",
       "ProdLine                            Fragrance\n",
       "Rate                                   146.75\n",
       "dt_est              2016-01-02 09:00:00-05:00\n",
       "Name: 0, dtype: object"
      ]
     },
     "execution_count": 339,
     "metadata": {},
     "output_type": "execute_result"
    }
   ],
   "source": [
    "df_product.iloc[0,:]"
   ]
  },
  {
   "cell_type": "code",
   "execution_count": 344,
   "metadata": {},
   "outputs": [
    {
     "data": {
      "text/plain": [
       "numpy.float64"
      ]
     },
     "execution_count": 344,
     "metadata": {},
     "output_type": "execute_result"
    }
   ],
   "source": [
    "type(df_product.loc[0, 'TotalRunTime_Hrs'])"
   ]
  },
  {
   "cell_type": "code",
   "execution_count": 345,
   "metadata": {},
   "outputs": [],
   "source": [
    "float_10 = df_product.loc[0, 'TotalRunTime_Hrs']"
   ]
  },
  {
   "cell_type": "code",
   "execution_count": 346,
   "metadata": {},
   "outputs": [],
   "source": [
    "df_20 = df_product.copy()"
   ]
  },
  {
   "cell_type": "code",
   "execution_count": 349,
   "metadata": {},
   "outputs": [
    {
     "data": {
      "text/html": [
       "<div>\n",
       "<style scoped>\n",
       "    .dataframe tbody tr th:only-of-type {\n",
       "        vertical-align: middle;\n",
       "    }\n",
       "\n",
       "    .dataframe tbody tr th {\n",
       "        vertical-align: top;\n",
       "    }\n",
       "\n",
       "    .dataframe thead th {\n",
       "        text-align: right;\n",
       "    }\n",
       "</style>\n",
       "<table border=\"1\" class=\"dataframe\">\n",
       "  <thead>\n",
       "    <tr style=\"text-align: right;\">\n",
       "      <th></th>\n",
       "      <th>StartDate</th>\n",
       "      <th>BatchNumber</th>\n",
       "      <th>CustItem</th>\n",
       "      <th>Dryer</th>\n",
       "      <th>ScheduledDryQty</th>\n",
       "      <th>ActualDryQty</th>\n",
       "      <th>YieldPercentage</th>\n",
       "      <th>DryingTime_Hrs</th>\n",
       "      <th>CleanTime_Hrs</th>\n",
       "      <th>DownTime_Hrs</th>\n",
       "      <th>TotalRunTime_Hrs</th>\n",
       "      <th>ProdLine</th>\n",
       "      <th>Rate</th>\n",
       "      <th>dt_est</th>\n",
       "    </tr>\n",
       "  </thead>\n",
       "  <tbody>\n",
       "    <tr>\n",
       "      <th>0</th>\n",
       "      <td>2016-01-02 08:54:58.000</td>\n",
       "      <td>NJSD313825</td>\n",
       "      <td>10013-0000</td>\n",
       "      <td>Dryer 04</td>\n",
       "      <td>333.7357</td>\n",
       "      <td>352.2000</td>\n",
       "      <td>105.5</td>\n",
       "      <td>2.4</td>\n",
       "      <td>5.1</td>\n",
       "      <td>0.0</td>\n",
       "      <td>7.5</td>\n",
       "      <td>Fragrance</td>\n",
       "      <td>146.750000</td>\n",
       "      <td>2016-01-02 09:00:00-05:00</td>\n",
       "    </tr>\n",
       "    <tr>\n",
       "      <th>1</th>\n",
       "      <td>2016-01-02 11:06:57.863</td>\n",
       "      <td>NJSD312807</td>\n",
       "      <td>10558-0000</td>\n",
       "      <td>Dryer 03</td>\n",
       "      <td>4270.4120</td>\n",
       "      <td>3935.3999</td>\n",
       "      <td>92.2</td>\n",
       "      <td>8.4</td>\n",
       "      <td>0.2</td>\n",
       "      <td>4.2</td>\n",
       "      <td>12.8</td>\n",
       "      <td>Fragrance</td>\n",
       "      <td>468.499988</td>\n",
       "      <td>2016-01-02 11:00:00-05:00</td>\n",
       "    </tr>\n",
       "  </tbody>\n",
       "</table>\n",
       "</div>"
      ],
      "text/plain": [
       "                 StartDate BatchNumber    CustItem     Dryer  ScheduledDryQty  \\\n",
       "0  2016-01-02 08:54:58.000  NJSD313825  10013-0000  Dryer 04         333.7357   \n",
       "1  2016-01-02 11:06:57.863  NJSD312807  10558-0000  Dryer 03        4270.4120   \n",
       "\n",
       "   ActualDryQty  YieldPercentage  DryingTime_Hrs  CleanTime_Hrs  DownTime_Hrs  \\\n",
       "0      352.2000            105.5             2.4            5.1           0.0   \n",
       "1     3935.3999             92.2             8.4            0.2           4.2   \n",
       "\n",
       "   TotalRunTime_Hrs   ProdLine        Rate                    dt_est  \n",
       "0               7.5  Fragrance  146.750000 2016-01-02 09:00:00-05:00  \n",
       "1              12.8  Fragrance  468.499988 2016-01-02 11:00:00-05:00  "
      ]
     },
     "execution_count": 349,
     "metadata": {},
     "output_type": "execute_result"
    }
   ],
   "source": [
    "df_20.head(2)"
   ]
  },
  {
   "cell_type": "code",
   "execution_count": 380,
   "metadata": {},
   "outputs": [],
   "source": [
    "def row_proliferate(int):\n",
    "    \"\"\"\n",
    "    \"\"\"\n",
    "    for n in range(int):\n",
    "        \n",
    "#         print(n)\n",
    "    \n",
    "#     print(int)\n",
    "    "
   ]
  },
  {
   "cell_type": "code",
   "execution_count": 372,
   "metadata": {},
   "outputs": [],
   "source": [
    "df_20['hours'] = np.ceil(df_20['DryingTime_Hrs']).astype(int)"
   ]
  },
  {
   "cell_type": "markdown",
   "metadata": {},
   "source": [
    "df_20['hours'].apply(row_proliferate)"
   ]
  },
  {
   "cell_type": "code",
   "execution_count": 450,
   "metadata": {},
   "outputs": [
    {
     "data": {
      "text/html": [
       "<div>\n",
       "<style scoped>\n",
       "    .dataframe tbody tr th:only-of-type {\n",
       "        vertical-align: middle;\n",
       "    }\n",
       "\n",
       "    .dataframe tbody tr th {\n",
       "        vertical-align: top;\n",
       "    }\n",
       "\n",
       "    .dataframe thead th {\n",
       "        text-align: right;\n",
       "    }\n",
       "</style>\n",
       "<table border=\"1\" class=\"dataframe\">\n",
       "  <thead>\n",
       "    <tr style=\"text-align: right;\">\n",
       "      <th></th>\n",
       "      <th>StartDate</th>\n",
       "      <th>BatchNumber</th>\n",
       "      <th>CustItem</th>\n",
       "      <th>Dryer</th>\n",
       "      <th>ScheduledDryQty</th>\n",
       "      <th>ActualDryQty</th>\n",
       "      <th>YieldPercentage</th>\n",
       "      <th>DryingTime_Hrs</th>\n",
       "      <th>CleanTime_Hrs</th>\n",
       "      <th>DownTime_Hrs</th>\n",
       "      <th>TotalRunTime_Hrs</th>\n",
       "      <th>ProdLine</th>\n",
       "      <th>Rate</th>\n",
       "      <th>dt_est</th>\n",
       "      <th>hours</th>\n",
       "    </tr>\n",
       "  </thead>\n",
       "  <tbody>\n",
       "    <tr>\n",
       "      <th>0</th>\n",
       "      <td>2016-01-02 08:54:58.000</td>\n",
       "      <td>NJSD313825</td>\n",
       "      <td>10013-0000</td>\n",
       "      <td>Dryer 04</td>\n",
       "      <td>333.736</td>\n",
       "      <td>352.2</td>\n",
       "      <td>105.5</td>\n",
       "      <td>2.4</td>\n",
       "      <td>5.1</td>\n",
       "      <td>0</td>\n",
       "      <td>7.5</td>\n",
       "      <td>Fragrance</td>\n",
       "      <td>146.75</td>\n",
       "      <td>2016-01-02 09:00:00-05:00</td>\n",
       "      <td>3</td>\n",
       "    </tr>\n",
       "    <tr>\n",
       "      <th>1</th>\n",
       "      <td>2016-01-02 08:54:58.000</td>\n",
       "      <td>NJSD313825</td>\n",
       "      <td>10013-0000</td>\n",
       "      <td>Dryer 04</td>\n",
       "      <td>333.736</td>\n",
       "      <td>352.2</td>\n",
       "      <td>105.5</td>\n",
       "      <td>2.4</td>\n",
       "      <td>5.1</td>\n",
       "      <td>0</td>\n",
       "      <td>7.5</td>\n",
       "      <td>Fragrance</td>\n",
       "      <td>146.75</td>\n",
       "      <td>2016-01-02 09:00:00-05:00</td>\n",
       "      <td>3</td>\n",
       "    </tr>\n",
       "    <tr>\n",
       "      <th>2</th>\n",
       "      <td>2016-01-02 08:54:58.000</td>\n",
       "      <td>NJSD313825</td>\n",
       "      <td>10013-0000</td>\n",
       "      <td>Dryer 04</td>\n",
       "      <td>333.736</td>\n",
       "      <td>352.2</td>\n",
       "      <td>105.5</td>\n",
       "      <td>2.4</td>\n",
       "      <td>5.1</td>\n",
       "      <td>0</td>\n",
       "      <td>7.5</td>\n",
       "      <td>Fragrance</td>\n",
       "      <td>146.75</td>\n",
       "      <td>2016-01-02 09:00:00-05:00</td>\n",
       "      <td>3</td>\n",
       "    </tr>\n",
       "    <tr>\n",
       "      <th>3</th>\n",
       "      <td>2016-01-02 11:06:57.863</td>\n",
       "      <td>NJSD312807</td>\n",
       "      <td>10558-0000</td>\n",
       "      <td>Dryer 03</td>\n",
       "      <td>4270.41</td>\n",
       "      <td>3935.4</td>\n",
       "      <td>92.2</td>\n",
       "      <td>8.4</td>\n",
       "      <td>0.2</td>\n",
       "      <td>4.2</td>\n",
       "      <td>12.8</td>\n",
       "      <td>Fragrance</td>\n",
       "      <td>468.5</td>\n",
       "      <td>2016-01-02 12:00:00-05:00</td>\n",
       "      <td>9</td>\n",
       "    </tr>\n",
       "    <tr>\n",
       "      <th>4</th>\n",
       "      <td>2016-01-02 11:06:57.863</td>\n",
       "      <td>NJSD312807</td>\n",
       "      <td>10558-0000</td>\n",
       "      <td>Dryer 03</td>\n",
       "      <td>4270.41</td>\n",
       "      <td>3935.4</td>\n",
       "      <td>92.2</td>\n",
       "      <td>8.4</td>\n",
       "      <td>0.2</td>\n",
       "      <td>4.2</td>\n",
       "      <td>12.8</td>\n",
       "      <td>Fragrance</td>\n",
       "      <td>468.5</td>\n",
       "      <td>2016-01-02 12:00:00-05:00</td>\n",
       "      <td>9</td>\n",
       "    </tr>\n",
       "    <tr>\n",
       "      <th>5</th>\n",
       "      <td>2016-01-02 11:06:57.863</td>\n",
       "      <td>NJSD312807</td>\n",
       "      <td>10558-0000</td>\n",
       "      <td>Dryer 03</td>\n",
       "      <td>4270.41</td>\n",
       "      <td>3935.4</td>\n",
       "      <td>92.2</td>\n",
       "      <td>8.4</td>\n",
       "      <td>0.2</td>\n",
       "      <td>4.2</td>\n",
       "      <td>12.8</td>\n",
       "      <td>Fragrance</td>\n",
       "      <td>468.5</td>\n",
       "      <td>2016-01-02 12:00:00-05:00</td>\n",
       "      <td>9</td>\n",
       "    </tr>\n",
       "    <tr>\n",
       "      <th>6</th>\n",
       "      <td>2016-01-02 11:06:57.863</td>\n",
       "      <td>NJSD312807</td>\n",
       "      <td>10558-0000</td>\n",
       "      <td>Dryer 03</td>\n",
       "      <td>4270.41</td>\n",
       "      <td>3935.4</td>\n",
       "      <td>92.2</td>\n",
       "      <td>8.4</td>\n",
       "      <td>0.2</td>\n",
       "      <td>4.2</td>\n",
       "      <td>12.8</td>\n",
       "      <td>Fragrance</td>\n",
       "      <td>468.5</td>\n",
       "      <td>2016-01-02 12:00:00-05:00</td>\n",
       "      <td>9</td>\n",
       "    </tr>\n",
       "  </tbody>\n",
       "</table>\n",
       "</div>"
      ],
      "text/plain": [
       "                 StartDate BatchNumber    CustItem     Dryer ScheduledDryQty  \\\n",
       "0  2016-01-02 08:54:58.000  NJSD313825  10013-0000  Dryer 04         333.736   \n",
       "1  2016-01-02 08:54:58.000  NJSD313825  10013-0000  Dryer 04         333.736   \n",
       "2  2016-01-02 08:54:58.000  NJSD313825  10013-0000  Dryer 04         333.736   \n",
       "3  2016-01-02 11:06:57.863  NJSD312807  10558-0000  Dryer 03         4270.41   \n",
       "4  2016-01-02 11:06:57.863  NJSD312807  10558-0000  Dryer 03         4270.41   \n",
       "5  2016-01-02 11:06:57.863  NJSD312807  10558-0000  Dryer 03         4270.41   \n",
       "6  2016-01-02 11:06:57.863  NJSD312807  10558-0000  Dryer 03         4270.41   \n",
       "\n",
       "  ActualDryQty YieldPercentage DryingTime_Hrs CleanTime_Hrs DownTime_Hrs  \\\n",
       "0        352.2           105.5            2.4           5.1            0   \n",
       "1        352.2           105.5            2.4           5.1            0   \n",
       "2        352.2           105.5            2.4           5.1            0   \n",
       "3       3935.4            92.2            8.4           0.2          4.2   \n",
       "4       3935.4            92.2            8.4           0.2          4.2   \n",
       "5       3935.4            92.2            8.4           0.2          4.2   \n",
       "6       3935.4            92.2            8.4           0.2          4.2   \n",
       "\n",
       "  TotalRunTime_Hrs   ProdLine    Rate                    dt_est hours  \n",
       "0              7.5  Fragrance  146.75 2016-01-02 09:00:00-05:00     3  \n",
       "1              7.5  Fragrance  146.75 2016-01-02 09:00:00-05:00     3  \n",
       "2              7.5  Fragrance  146.75 2016-01-02 09:00:00-05:00     3  \n",
       "3             12.8  Fragrance   468.5 2016-01-02 12:00:00-05:00     9  \n",
       "4             12.8  Fragrance   468.5 2016-01-02 12:00:00-05:00     9  \n",
       "5             12.8  Fragrance   468.5 2016-01-02 12:00:00-05:00     9  \n",
       "6             12.8  Fragrance   468.5 2016-01-02 12:00:00-05:00     9  "
      ]
     },
     "execution_count": 450,
     "metadata": {},
     "output_type": "execute_result"
    }
   ],
   "source": [
    "df_21.head(7)"
   ]
  },
  {
   "cell_type": "code",
   "execution_count": 467,
   "metadata": {},
   "outputs": [],
   "source": [
    "# for index, m in df_20.iterrows():\n",
    "#     print(index)\n",
    "#     print('\\n')\n",
    "#     print(m['hours'])\n",
    "#     print(type(m['dt_est']))\n",
    "#     s_10 = pd.DataFrame(m.repeat(m['hours']))\n",
    "#     print(s_10)\n",
    "#     break"
   ]
  },
  {
   "cell_type": "code",
   "execution_count": 409,
   "metadata": {},
   "outputs": [
    {
     "data": {
      "text/plain": [
       "(9916, 15)"
      ]
     },
     "execution_count": 409,
     "metadata": {},
     "output_type": "execute_result"
    }
   ],
   "source": [
    "df_20.shape"
   ]
  },
  {
   "cell_type": "code",
   "execution_count": 413,
   "metadata": {},
   "outputs": [],
   "source": [
    "df_21 = pd.DataFrame(np.repeat(df_20.values,df_20['hours'],axis=0), columns = df_20.columns)"
   ]
  },
  {
   "cell_type": "code",
   "execution_count": 465,
   "metadata": {},
   "outputs": [],
   "source": [
    "df_21['hours_add'] = df_21.groupby(['StartDate'])['hours'].apply(lambda x: x.cumsum()/x.count()) - 1"
   ]
  },
  {
   "cell_type": "code",
   "execution_count": 466,
   "metadata": {},
   "outputs": [
    {
     "data": {
      "text/html": [
       "<div>\n",
       "<style scoped>\n",
       "    .dataframe tbody tr th:only-of-type {\n",
       "        vertical-align: middle;\n",
       "    }\n",
       "\n",
       "    .dataframe tbody tr th {\n",
       "        vertical-align: top;\n",
       "    }\n",
       "\n",
       "    .dataframe thead th {\n",
       "        text-align: right;\n",
       "    }\n",
       "</style>\n",
       "<table border=\"1\" class=\"dataframe\">\n",
       "  <thead>\n",
       "    <tr style=\"text-align: right;\">\n",
       "      <th></th>\n",
       "      <th>StartDate</th>\n",
       "      <th>BatchNumber</th>\n",
       "      <th>CustItem</th>\n",
       "      <th>Dryer</th>\n",
       "      <th>ScheduledDryQty</th>\n",
       "      <th>ActualDryQty</th>\n",
       "      <th>YieldPercentage</th>\n",
       "      <th>DryingTime_Hrs</th>\n",
       "      <th>CleanTime_Hrs</th>\n",
       "      <th>DownTime_Hrs</th>\n",
       "      <th>TotalRunTime_Hrs</th>\n",
       "      <th>ProdLine</th>\n",
       "      <th>Rate</th>\n",
       "      <th>dt_est</th>\n",
       "      <th>hours</th>\n",
       "      <th>hours_add</th>\n",
       "    </tr>\n",
       "  </thead>\n",
       "  <tbody>\n",
       "    <tr>\n",
       "      <th>3</th>\n",
       "      <td>2016-01-02 11:06:57.863</td>\n",
       "      <td>NJSD312807</td>\n",
       "      <td>10558-0000</td>\n",
       "      <td>Dryer 03</td>\n",
       "      <td>4270.41</td>\n",
       "      <td>3935.4</td>\n",
       "      <td>92.2</td>\n",
       "      <td>8.4</td>\n",
       "      <td>0.2</td>\n",
       "      <td>4.2</td>\n",
       "      <td>12.8</td>\n",
       "      <td>Fragrance</td>\n",
       "      <td>468.5</td>\n",
       "      <td>2016-01-02 12:00:00-05:00</td>\n",
       "      <td>9</td>\n",
       "      <td>0</td>\n",
       "    </tr>\n",
       "    <tr>\n",
       "      <th>4</th>\n",
       "      <td>2016-01-02 11:06:57.863</td>\n",
       "      <td>NJSD312807</td>\n",
       "      <td>10558-0000</td>\n",
       "      <td>Dryer 03</td>\n",
       "      <td>4270.41</td>\n",
       "      <td>3935.4</td>\n",
       "      <td>92.2</td>\n",
       "      <td>8.4</td>\n",
       "      <td>0.2</td>\n",
       "      <td>4.2</td>\n",
       "      <td>12.8</td>\n",
       "      <td>Fragrance</td>\n",
       "      <td>468.5</td>\n",
       "      <td>2016-01-02 12:00:00-05:00</td>\n",
       "      <td>9</td>\n",
       "      <td>1</td>\n",
       "    </tr>\n",
       "    <tr>\n",
       "      <th>5</th>\n",
       "      <td>2016-01-02 11:06:57.863</td>\n",
       "      <td>NJSD312807</td>\n",
       "      <td>10558-0000</td>\n",
       "      <td>Dryer 03</td>\n",
       "      <td>4270.41</td>\n",
       "      <td>3935.4</td>\n",
       "      <td>92.2</td>\n",
       "      <td>8.4</td>\n",
       "      <td>0.2</td>\n",
       "      <td>4.2</td>\n",
       "      <td>12.8</td>\n",
       "      <td>Fragrance</td>\n",
       "      <td>468.5</td>\n",
       "      <td>2016-01-02 12:00:00-05:00</td>\n",
       "      <td>9</td>\n",
       "      <td>2</td>\n",
       "    </tr>\n",
       "    <tr>\n",
       "      <th>6</th>\n",
       "      <td>2016-01-02 11:06:57.863</td>\n",
       "      <td>NJSD312807</td>\n",
       "      <td>10558-0000</td>\n",
       "      <td>Dryer 03</td>\n",
       "      <td>4270.41</td>\n",
       "      <td>3935.4</td>\n",
       "      <td>92.2</td>\n",
       "      <td>8.4</td>\n",
       "      <td>0.2</td>\n",
       "      <td>4.2</td>\n",
       "      <td>12.8</td>\n",
       "      <td>Fragrance</td>\n",
       "      <td>468.5</td>\n",
       "      <td>2016-01-02 12:00:00-05:00</td>\n",
       "      <td>9</td>\n",
       "      <td>3</td>\n",
       "    </tr>\n",
       "    <tr>\n",
       "      <th>7</th>\n",
       "      <td>2016-01-02 11:06:57.863</td>\n",
       "      <td>NJSD312807</td>\n",
       "      <td>10558-0000</td>\n",
       "      <td>Dryer 03</td>\n",
       "      <td>4270.41</td>\n",
       "      <td>3935.4</td>\n",
       "      <td>92.2</td>\n",
       "      <td>8.4</td>\n",
       "      <td>0.2</td>\n",
       "      <td>4.2</td>\n",
       "      <td>12.8</td>\n",
       "      <td>Fragrance</td>\n",
       "      <td>468.5</td>\n",
       "      <td>2016-01-02 12:00:00-05:00</td>\n",
       "      <td>9</td>\n",
       "      <td>4</td>\n",
       "    </tr>\n",
       "    <tr>\n",
       "      <th>8</th>\n",
       "      <td>2016-01-02 11:06:57.863</td>\n",
       "      <td>NJSD312807</td>\n",
       "      <td>10558-0000</td>\n",
       "      <td>Dryer 03</td>\n",
       "      <td>4270.41</td>\n",
       "      <td>3935.4</td>\n",
       "      <td>92.2</td>\n",
       "      <td>8.4</td>\n",
       "      <td>0.2</td>\n",
       "      <td>4.2</td>\n",
       "      <td>12.8</td>\n",
       "      <td>Fragrance</td>\n",
       "      <td>468.5</td>\n",
       "      <td>2016-01-02 12:00:00-05:00</td>\n",
       "      <td>9</td>\n",
       "      <td>5</td>\n",
       "    </tr>\n",
       "    <tr>\n",
       "      <th>9</th>\n",
       "      <td>2016-01-02 11:06:57.863</td>\n",
       "      <td>NJSD312807</td>\n",
       "      <td>10558-0000</td>\n",
       "      <td>Dryer 03</td>\n",
       "      <td>4270.41</td>\n",
       "      <td>3935.4</td>\n",
       "      <td>92.2</td>\n",
       "      <td>8.4</td>\n",
       "      <td>0.2</td>\n",
       "      <td>4.2</td>\n",
       "      <td>12.8</td>\n",
       "      <td>Fragrance</td>\n",
       "      <td>468.5</td>\n",
       "      <td>2016-01-02 12:00:00-05:00</td>\n",
       "      <td>9</td>\n",
       "      <td>6</td>\n",
       "    </tr>\n",
       "    <tr>\n",
       "      <th>10</th>\n",
       "      <td>2016-01-02 11:06:57.863</td>\n",
       "      <td>NJSD312807</td>\n",
       "      <td>10558-0000</td>\n",
       "      <td>Dryer 03</td>\n",
       "      <td>4270.41</td>\n",
       "      <td>3935.4</td>\n",
       "      <td>92.2</td>\n",
       "      <td>8.4</td>\n",
       "      <td>0.2</td>\n",
       "      <td>4.2</td>\n",
       "      <td>12.8</td>\n",
       "      <td>Fragrance</td>\n",
       "      <td>468.5</td>\n",
       "      <td>2016-01-02 12:00:00-05:00</td>\n",
       "      <td>9</td>\n",
       "      <td>7</td>\n",
       "    </tr>\n",
       "    <tr>\n",
       "      <th>11</th>\n",
       "      <td>2016-01-02 11:06:57.863</td>\n",
       "      <td>NJSD312807</td>\n",
       "      <td>10558-0000</td>\n",
       "      <td>Dryer 03</td>\n",
       "      <td>4270.41</td>\n",
       "      <td>3935.4</td>\n",
       "      <td>92.2</td>\n",
       "      <td>8.4</td>\n",
       "      <td>0.2</td>\n",
       "      <td>4.2</td>\n",
       "      <td>12.8</td>\n",
       "      <td>Fragrance</td>\n",
       "      <td>468.5</td>\n",
       "      <td>2016-01-02 12:00:00-05:00</td>\n",
       "      <td>9</td>\n",
       "      <td>8</td>\n",
       "    </tr>\n",
       "    <tr>\n",
       "      <th>12</th>\n",
       "      <td>2016-01-02 21:40:51.470</td>\n",
       "      <td>NJSD313826</td>\n",
       "      <td>10447-0000</td>\n",
       "      <td>Dryer 04</td>\n",
       "      <td>1353.1</td>\n",
       "      <td>1195.9</td>\n",
       "      <td>88.4</td>\n",
       "      <td>9.7</td>\n",
       "      <td>5.7</td>\n",
       "      <td>0.9</td>\n",
       "      <td>16.2</td>\n",
       "      <td>Fragrance</td>\n",
       "      <td>123.289</td>\n",
       "      <td>2016-01-02 23:00:00-05:00</td>\n",
       "      <td>10</td>\n",
       "      <td>0</td>\n",
       "    </tr>\n",
       "    <tr>\n",
       "      <th>13</th>\n",
       "      <td>2016-01-02 21:40:51.470</td>\n",
       "      <td>NJSD313826</td>\n",
       "      <td>10447-0000</td>\n",
       "      <td>Dryer 04</td>\n",
       "      <td>1353.1</td>\n",
       "      <td>1195.9</td>\n",
       "      <td>88.4</td>\n",
       "      <td>9.7</td>\n",
       "      <td>5.7</td>\n",
       "      <td>0.9</td>\n",
       "      <td>16.2</td>\n",
       "      <td>Fragrance</td>\n",
       "      <td>123.289</td>\n",
       "      <td>2016-01-02 23:00:00-05:00</td>\n",
       "      <td>10</td>\n",
       "      <td>1</td>\n",
       "    </tr>\n",
       "  </tbody>\n",
       "</table>\n",
       "</div>"
      ],
      "text/plain": [
       "                  StartDate BatchNumber    CustItem     Dryer ScheduledDryQty  \\\n",
       "3   2016-01-02 11:06:57.863  NJSD312807  10558-0000  Dryer 03         4270.41   \n",
       "4   2016-01-02 11:06:57.863  NJSD312807  10558-0000  Dryer 03         4270.41   \n",
       "5   2016-01-02 11:06:57.863  NJSD312807  10558-0000  Dryer 03         4270.41   \n",
       "6   2016-01-02 11:06:57.863  NJSD312807  10558-0000  Dryer 03         4270.41   \n",
       "7   2016-01-02 11:06:57.863  NJSD312807  10558-0000  Dryer 03         4270.41   \n",
       "8   2016-01-02 11:06:57.863  NJSD312807  10558-0000  Dryer 03         4270.41   \n",
       "9   2016-01-02 11:06:57.863  NJSD312807  10558-0000  Dryer 03         4270.41   \n",
       "10  2016-01-02 11:06:57.863  NJSD312807  10558-0000  Dryer 03         4270.41   \n",
       "11  2016-01-02 11:06:57.863  NJSD312807  10558-0000  Dryer 03         4270.41   \n",
       "12  2016-01-02 21:40:51.470  NJSD313826  10447-0000  Dryer 04          1353.1   \n",
       "13  2016-01-02 21:40:51.470  NJSD313826  10447-0000  Dryer 04          1353.1   \n",
       "\n",
       "   ActualDryQty YieldPercentage DryingTime_Hrs CleanTime_Hrs DownTime_Hrs  \\\n",
       "3        3935.4            92.2            8.4           0.2          4.2   \n",
       "4        3935.4            92.2            8.4           0.2          4.2   \n",
       "5        3935.4            92.2            8.4           0.2          4.2   \n",
       "6        3935.4            92.2            8.4           0.2          4.2   \n",
       "7        3935.4            92.2            8.4           0.2          4.2   \n",
       "8        3935.4            92.2            8.4           0.2          4.2   \n",
       "9        3935.4            92.2            8.4           0.2          4.2   \n",
       "10       3935.4            92.2            8.4           0.2          4.2   \n",
       "11       3935.4            92.2            8.4           0.2          4.2   \n",
       "12       1195.9            88.4            9.7           5.7          0.9   \n",
       "13       1195.9            88.4            9.7           5.7          0.9   \n",
       "\n",
       "   TotalRunTime_Hrs   ProdLine     Rate                    dt_est hours  \\\n",
       "3              12.8  Fragrance    468.5 2016-01-02 12:00:00-05:00     9   \n",
       "4              12.8  Fragrance    468.5 2016-01-02 12:00:00-05:00     9   \n",
       "5              12.8  Fragrance    468.5 2016-01-02 12:00:00-05:00     9   \n",
       "6              12.8  Fragrance    468.5 2016-01-02 12:00:00-05:00     9   \n",
       "7              12.8  Fragrance    468.5 2016-01-02 12:00:00-05:00     9   \n",
       "8              12.8  Fragrance    468.5 2016-01-02 12:00:00-05:00     9   \n",
       "9              12.8  Fragrance    468.5 2016-01-02 12:00:00-05:00     9   \n",
       "10             12.8  Fragrance    468.5 2016-01-02 12:00:00-05:00     9   \n",
       "11             12.8  Fragrance    468.5 2016-01-02 12:00:00-05:00     9   \n",
       "12             16.2  Fragrance  123.289 2016-01-02 23:00:00-05:00    10   \n",
       "13             16.2  Fragrance  123.289 2016-01-02 23:00:00-05:00    10   \n",
       "\n",
       "   hours_add  \n",
       "3          0  \n",
       "4          1  \n",
       "5          2  \n",
       "6          3  \n",
       "7          4  \n",
       "8          5  \n",
       "9          6  \n",
       "10         7  \n",
       "11         8  \n",
       "12         0  \n",
       "13         1  "
      ]
     },
     "execution_count": 466,
     "metadata": {},
     "output_type": "execute_result"
    }
   ],
   "source": [
    "df_21.iloc[3:14]"
   ]
  },
  {
   "cell_type": "code",
   "execution_count": 481,
   "metadata": {},
   "outputs": [
    {
     "name": "stderr",
     "output_type": "stream",
     "text": [
      "D:\\ProgramData\\Anaconda3\\envs\\08_web_mining\\lib\\site-packages\\pandas\\core\\arrays\\datetimelike.py:1342: PerformanceWarning: Adding/subtracting object-dtype array to DatetimeArray not vectorized\n",
      "  warnings.warn(\n"
     ]
    },
    {
     "ename": "TypeError",
     "evalue": "unsupported operand type(s) for +: 'Timestamp' and 'float'",
     "output_type": "error",
     "traceback": [
      "\u001b[1;31m---------------------------------------------------------------------------\u001b[0m",
      "\u001b[1;31mTypeError\u001b[0m                                 Traceback (most recent call last)",
      "\u001b[1;32m<ipython-input-481-62ca95a038ae>\u001b[0m in \u001b[0;36m<module>\u001b[1;34m\u001b[0m\n\u001b[0;32m     17\u001b[0m \u001b[1;31m# one_hour = datetime.timedelta(hours = 1)\u001b[0m\u001b[1;33m\u001b[0m\u001b[1;33m\u001b[0m\u001b[1;33m\u001b[0m\u001b[0m\n\u001b[0;32m     18\u001b[0m \u001b[0mdf_multi\u001b[0m\u001b[1;33m[\u001b[0m\u001b[1;34m'hour_add'\u001b[0m\u001b[1;33m]\u001b[0m\u001b[1;33m.\u001b[0m\u001b[0mapply\u001b[0m\u001b[1;33m(\u001b[0m\u001b[0mconvert_timedelta\u001b[0m\u001b[1;33m)\u001b[0m\u001b[1;33m\u001b[0m\u001b[1;33m\u001b[0m\u001b[0m\n\u001b[1;32m---> 19\u001b[1;33m \u001b[0mdf_multi\u001b[0m\u001b[1;33m[\u001b[0m\u001b[1;34m'dt_est'\u001b[0m\u001b[1;33m]\u001b[0m \u001b[1;33m=\u001b[0m \u001b[0mdf_multi\u001b[0m\u001b[1;33m[\u001b[0m\u001b[1;34m'dt_est'\u001b[0m\u001b[1;33m]\u001b[0m \u001b[1;33m+\u001b[0m \u001b[0mdf_multi\u001b[0m\u001b[1;33m[\u001b[0m\u001b[1;34m'hour_add'\u001b[0m\u001b[1;33m]\u001b[0m\u001b[1;33m\u001b[0m\u001b[1;33m\u001b[0m\u001b[0m\n\u001b[0m",
      "\u001b[1;32mD:\\ProgramData\\Anaconda3\\envs\\08_web_mining\\lib\\site-packages\\pandas\\core\\ops\\common.py\u001b[0m in \u001b[0;36mnew_method\u001b[1;34m(self, other)\u001b[0m\n\u001b[0;32m     63\u001b[0m         \u001b[0mother\u001b[0m \u001b[1;33m=\u001b[0m \u001b[0mitem_from_zerodim\u001b[0m\u001b[1;33m(\u001b[0m\u001b[0mother\u001b[0m\u001b[1;33m)\u001b[0m\u001b[1;33m\u001b[0m\u001b[1;33m\u001b[0m\u001b[0m\n\u001b[0;32m     64\u001b[0m \u001b[1;33m\u001b[0m\u001b[0m\n\u001b[1;32m---> 65\u001b[1;33m         \u001b[1;32mreturn\u001b[0m \u001b[0mmethod\u001b[0m\u001b[1;33m(\u001b[0m\u001b[0mself\u001b[0m\u001b[1;33m,\u001b[0m \u001b[0mother\u001b[0m\u001b[1;33m)\u001b[0m\u001b[1;33m\u001b[0m\u001b[1;33m\u001b[0m\u001b[0m\n\u001b[0m\u001b[0;32m     66\u001b[0m \u001b[1;33m\u001b[0m\u001b[0m\n\u001b[0;32m     67\u001b[0m     \u001b[1;32mreturn\u001b[0m \u001b[0mnew_method\u001b[0m\u001b[1;33m\u001b[0m\u001b[1;33m\u001b[0m\u001b[0m\n",
      "\u001b[1;32mD:\\ProgramData\\Anaconda3\\envs\\08_web_mining\\lib\\site-packages\\pandas\\core\\ops\\__init__.py\u001b[0m in \u001b[0;36mwrapper\u001b[1;34m(left, right)\u001b[0m\n\u001b[0;32m    341\u001b[0m         \u001b[0mlvalues\u001b[0m \u001b[1;33m=\u001b[0m \u001b[0mextract_array\u001b[0m\u001b[1;33m(\u001b[0m\u001b[0mleft\u001b[0m\u001b[1;33m,\u001b[0m \u001b[0mextract_numpy\u001b[0m\u001b[1;33m=\u001b[0m\u001b[1;32mTrue\u001b[0m\u001b[1;33m)\u001b[0m\u001b[1;33m\u001b[0m\u001b[1;33m\u001b[0m\u001b[0m\n\u001b[0;32m    342\u001b[0m         \u001b[0mrvalues\u001b[0m \u001b[1;33m=\u001b[0m \u001b[0mextract_array\u001b[0m\u001b[1;33m(\u001b[0m\u001b[0mright\u001b[0m\u001b[1;33m,\u001b[0m \u001b[0mextract_numpy\u001b[0m\u001b[1;33m=\u001b[0m\u001b[1;32mTrue\u001b[0m\u001b[1;33m)\u001b[0m\u001b[1;33m\u001b[0m\u001b[1;33m\u001b[0m\u001b[0m\n\u001b[1;32m--> 343\u001b[1;33m         \u001b[0mresult\u001b[0m \u001b[1;33m=\u001b[0m \u001b[0marithmetic_op\u001b[0m\u001b[1;33m(\u001b[0m\u001b[0mlvalues\u001b[0m\u001b[1;33m,\u001b[0m \u001b[0mrvalues\u001b[0m\u001b[1;33m,\u001b[0m \u001b[0mop\u001b[0m\u001b[1;33m)\u001b[0m\u001b[1;33m\u001b[0m\u001b[1;33m\u001b[0m\u001b[0m\n\u001b[0m\u001b[0;32m    344\u001b[0m \u001b[1;33m\u001b[0m\u001b[0m\n\u001b[0;32m    345\u001b[0m         \u001b[1;32mreturn\u001b[0m \u001b[0mleft\u001b[0m\u001b[1;33m.\u001b[0m\u001b[0m_construct_result\u001b[0m\u001b[1;33m(\u001b[0m\u001b[0mresult\u001b[0m\u001b[1;33m,\u001b[0m \u001b[0mname\u001b[0m\u001b[1;33m=\u001b[0m\u001b[0mres_name\u001b[0m\u001b[1;33m)\u001b[0m\u001b[1;33m\u001b[0m\u001b[1;33m\u001b[0m\u001b[0m\n",
      "\u001b[1;32mD:\\ProgramData\\Anaconda3\\envs\\08_web_mining\\lib\\site-packages\\pandas\\core\\ops\\array_ops.py\u001b[0m in \u001b[0;36marithmetic_op\u001b[1;34m(left, right, op)\u001b[0m\n\u001b[0;32m    184\u001b[0m     \u001b[1;32mif\u001b[0m \u001b[0mshould_extension_dispatch\u001b[0m\u001b[1;33m(\u001b[0m\u001b[0mlvalues\u001b[0m\u001b[1;33m,\u001b[0m \u001b[0mrvalues\u001b[0m\u001b[1;33m)\u001b[0m \u001b[1;32mor\u001b[0m \u001b[0misinstance\u001b[0m\u001b[1;33m(\u001b[0m\u001b[0mrvalues\u001b[0m\u001b[1;33m,\u001b[0m \u001b[0mTimedelta\u001b[0m\u001b[1;33m)\u001b[0m\u001b[1;33m:\u001b[0m\u001b[1;33m\u001b[0m\u001b[1;33m\u001b[0m\u001b[0m\n\u001b[0;32m    185\u001b[0m         \u001b[1;31m# Timedelta is included because numexpr will fail on it, see GH#31457\u001b[0m\u001b[1;33m\u001b[0m\u001b[1;33m\u001b[0m\u001b[1;33m\u001b[0m\u001b[0m\n\u001b[1;32m--> 186\u001b[1;33m         \u001b[0mres_values\u001b[0m \u001b[1;33m=\u001b[0m \u001b[0mop\u001b[0m\u001b[1;33m(\u001b[0m\u001b[0mlvalues\u001b[0m\u001b[1;33m,\u001b[0m \u001b[0mrvalues\u001b[0m\u001b[1;33m)\u001b[0m\u001b[1;33m\u001b[0m\u001b[1;33m\u001b[0m\u001b[0m\n\u001b[0m\u001b[0;32m    187\u001b[0m \u001b[1;33m\u001b[0m\u001b[0m\n\u001b[0;32m    188\u001b[0m     \u001b[1;32melse\u001b[0m\u001b[1;33m:\u001b[0m\u001b[1;33m\u001b[0m\u001b[1;33m\u001b[0m\u001b[0m\n",
      "\u001b[1;32mD:\\ProgramData\\Anaconda3\\envs\\08_web_mining\\lib\\site-packages\\pandas\\core\\ops\\common.py\u001b[0m in \u001b[0;36mnew_method\u001b[1;34m(self, other)\u001b[0m\n\u001b[0;32m     63\u001b[0m         \u001b[0mother\u001b[0m \u001b[1;33m=\u001b[0m \u001b[0mitem_from_zerodim\u001b[0m\u001b[1;33m(\u001b[0m\u001b[0mother\u001b[0m\u001b[1;33m)\u001b[0m\u001b[1;33m\u001b[0m\u001b[1;33m\u001b[0m\u001b[0m\n\u001b[0;32m     64\u001b[0m \u001b[1;33m\u001b[0m\u001b[0m\n\u001b[1;32m---> 65\u001b[1;33m         \u001b[1;32mreturn\u001b[0m \u001b[0mmethod\u001b[0m\u001b[1;33m(\u001b[0m\u001b[0mself\u001b[0m\u001b[1;33m,\u001b[0m \u001b[0mother\u001b[0m\u001b[1;33m)\u001b[0m\u001b[1;33m\u001b[0m\u001b[1;33m\u001b[0m\u001b[0m\n\u001b[0m\u001b[0;32m     66\u001b[0m \u001b[1;33m\u001b[0m\u001b[0m\n\u001b[0;32m     67\u001b[0m     \u001b[1;32mreturn\u001b[0m \u001b[0mnew_method\u001b[0m\u001b[1;33m\u001b[0m\u001b[1;33m\u001b[0m\u001b[0m\n",
      "\u001b[1;32mD:\\ProgramData\\Anaconda3\\envs\\08_web_mining\\lib\\site-packages\\pandas\\core\\arrays\\datetimelike.py\u001b[0m in \u001b[0;36m__add__\u001b[1;34m(self, other)\u001b[0m\n\u001b[0;32m   1420\u001b[0m         \u001b[1;32melif\u001b[0m \u001b[0mis_object_dtype\u001b[0m\u001b[1;33m(\u001b[0m\u001b[0mother_dtype\u001b[0m\u001b[1;33m)\u001b[0m\u001b[1;33m:\u001b[0m\u001b[1;33m\u001b[0m\u001b[1;33m\u001b[0m\u001b[0m\n\u001b[0;32m   1421\u001b[0m             \u001b[1;31m# e.g. Array/Index of DateOffset objects\u001b[0m\u001b[1;33m\u001b[0m\u001b[1;33m\u001b[0m\u001b[1;33m\u001b[0m\u001b[0m\n\u001b[1;32m-> 1422\u001b[1;33m             \u001b[0mresult\u001b[0m \u001b[1;33m=\u001b[0m \u001b[0mself\u001b[0m\u001b[1;33m.\u001b[0m\u001b[0m_addsub_object_array\u001b[0m\u001b[1;33m(\u001b[0m\u001b[0mother\u001b[0m\u001b[1;33m,\u001b[0m \u001b[0moperator\u001b[0m\u001b[1;33m.\u001b[0m\u001b[0madd\u001b[0m\u001b[1;33m)\u001b[0m\u001b[1;33m\u001b[0m\u001b[1;33m\u001b[0m\u001b[0m\n\u001b[0m\u001b[0;32m   1423\u001b[0m         \u001b[1;32melif\u001b[0m \u001b[0mis_datetime64_dtype\u001b[0m\u001b[1;33m(\u001b[0m\u001b[0mother_dtype\u001b[0m\u001b[1;33m)\u001b[0m \u001b[1;32mor\u001b[0m \u001b[0mis_datetime64tz_dtype\u001b[0m\u001b[1;33m(\u001b[0m\u001b[0mother_dtype\u001b[0m\u001b[1;33m)\u001b[0m\u001b[1;33m:\u001b[0m\u001b[1;33m\u001b[0m\u001b[1;33m\u001b[0m\u001b[0m\n\u001b[0;32m   1424\u001b[0m             \u001b[1;31m# DatetimeIndex, ndarray[datetime64]\u001b[0m\u001b[1;33m\u001b[0m\u001b[1;33m\u001b[0m\u001b[1;33m\u001b[0m\u001b[0m\n",
      "\u001b[1;32mD:\\ProgramData\\Anaconda3\\envs\\08_web_mining\\lib\\site-packages\\pandas\\core\\arrays\\datetimelike.py\u001b[0m in \u001b[0;36m_addsub_object_array\u001b[1;34m(self, other, op)\u001b[0m\n\u001b[0;32m   1349\u001b[0m         \u001b[1;32massert\u001b[0m \u001b[0mself\u001b[0m\u001b[1;33m.\u001b[0m\u001b[0mshape\u001b[0m \u001b[1;33m==\u001b[0m \u001b[0mother\u001b[0m\u001b[1;33m.\u001b[0m\u001b[0mshape\u001b[0m\u001b[1;33m,\u001b[0m \u001b[1;33m(\u001b[0m\u001b[0mself\u001b[0m\u001b[1;33m.\u001b[0m\u001b[0mshape\u001b[0m\u001b[1;33m,\u001b[0m \u001b[0mother\u001b[0m\u001b[1;33m.\u001b[0m\u001b[0mshape\u001b[0m\u001b[1;33m)\u001b[0m\u001b[1;33m\u001b[0m\u001b[1;33m\u001b[0m\u001b[0m\n\u001b[0;32m   1350\u001b[0m \u001b[1;33m\u001b[0m\u001b[0m\n\u001b[1;32m-> 1351\u001b[1;33m         \u001b[0mres_values\u001b[0m \u001b[1;33m=\u001b[0m \u001b[0mop\u001b[0m\u001b[1;33m(\u001b[0m\u001b[0mself\u001b[0m\u001b[1;33m.\u001b[0m\u001b[0mastype\u001b[0m\u001b[1;33m(\u001b[0m\u001b[1;34m\"O\"\u001b[0m\u001b[1;33m)\u001b[0m\u001b[1;33m,\u001b[0m \u001b[0mnp\u001b[0m\u001b[1;33m.\u001b[0m\u001b[0masarray\u001b[0m\u001b[1;33m(\u001b[0m\u001b[0mother\u001b[0m\u001b[1;33m)\u001b[0m\u001b[1;33m)\u001b[0m\u001b[1;33m\u001b[0m\u001b[1;33m\u001b[0m\u001b[0m\n\u001b[0m\u001b[0;32m   1352\u001b[0m         \u001b[0mresult\u001b[0m \u001b[1;33m=\u001b[0m \u001b[0marray\u001b[0m\u001b[1;33m(\u001b[0m\u001b[0mres_values\u001b[0m\u001b[1;33m.\u001b[0m\u001b[0mravel\u001b[0m\u001b[1;33m(\u001b[0m\u001b[1;33m)\u001b[0m\u001b[1;33m)\u001b[0m\u001b[1;33m\u001b[0m\u001b[1;33m\u001b[0m\u001b[0m\n\u001b[0;32m   1353\u001b[0m         \u001b[0mresult\u001b[0m \u001b[1;33m=\u001b[0m \u001b[0mextract_array\u001b[0m\u001b[1;33m(\u001b[0m\u001b[0mresult\u001b[0m\u001b[1;33m,\u001b[0m \u001b[0mextract_numpy\u001b[0m\u001b[1;33m=\u001b[0m\u001b[1;32mTrue\u001b[0m\u001b[1;33m)\u001b[0m\u001b[1;33m.\u001b[0m\u001b[0mreshape\u001b[0m\u001b[1;33m(\u001b[0m\u001b[0mself\u001b[0m\u001b[1;33m.\u001b[0m\u001b[0mshape\u001b[0m\u001b[1;33m)\u001b[0m\u001b[1;33m\u001b[0m\u001b[1;33m\u001b[0m\u001b[0m\n",
      "\u001b[1;31mTypeError\u001b[0m: unsupported operand type(s) for +: 'Timestamp' and 'float'"
     ]
    }
   ],
   "source": [
    "df_product['hours'] = np.ceil(df_product['DryingTime_Hrs']).astype(int)\n",
    "# Second, repeat each records/rows by ['hours'] times\n",
    "# which means you will have how many running hours, you will have how many rows for each column\n",
    "df_multi = pd.DataFrame(np.repeat(df_product.values, df_product['hours'], axis=0),\n",
    "                              columns = df_product.columns)\n",
    "# Thrid, adjust ['hours'] to ascending rank model, for instance, [3,3,3] to [0,1,2]\n",
    "# this is used for next step add to ['dt_est'] time\n",
    "# groupby each old record, for instance, for first records, groupby will be a three row table\n",
    "# for second records, groupby['StartData'] will be a nine row table\n",
    "# Then, extract ['hours'] column, for each pd.Series, apply a fomulation\n",
    "# addition, in here, ['hours'] will not be a single row, instead, it will be a three element Series\n",
    "# for this three/nine series, we cacualte their cumulation sum cumsum() [3,3,3] will be [3,6,9]\n",
    "# for instance [9.9.9.9...9] will be [9,18,27,,,,81]\n",
    "# and we divide by ['hours'] count, which will be [3,9,...], last minute 1 to get a column for timestamp add\n",
    "df_multi['hour_add'] = df_multi.groupby(['StartDate'])['hours'].apply(lambda x:x.cumsum()/x.count())-1\n",
    "# our weather segmentation is one hour\n",
    "# one_hour = datetime.timedelta(hours = 1)\n",
    "df_multi['hour_add'].apply(convert_timedelta)\n",
    "df_multi['dt_est'] = df_multi['dt_est'] + df_multi['hour_add']"
   ]
  },
  {
   "cell_type": "code",
   "execution_count": 482,
   "metadata": {},
   "outputs": [
    {
     "data": {
      "text/plain": [
       "0          0\n",
       "1          1\n",
       "2          2\n",
       "3          0\n",
       "4          1\n",
       "          ..\n",
       "220782    50\n",
       "220783     0\n",
       "220784     1\n",
       "220785     2\n",
       "220786     3\n",
       "Name: hour_add, Length: 220787, dtype: object"
      ]
     },
     "execution_count": 482,
     "metadata": {},
     "output_type": "execute_result"
    }
   ],
   "source": [
    "df_multi['hour_add'].apply"
   ]
  },
  {
   "cell_type": "code",
   "execution_count": 476,
   "metadata": {},
   "outputs": [],
   "source": [
    "def date_time(series):\n",
    "    date_time = datetime.timedelta(hours = series)\n",
    "    return date_time"
   ]
  },
  {
   "cell_type": "code",
   "execution_count": 478,
   "metadata": {},
   "outputs": [],
   "source": [
    "def convert_timedelta(element):\n",
    "    \"\"\":arg\n",
    "    \"\"\"\n",
    "    time_delta = datetime.timedelta(hours = element)\n",
    "    return time_delta"
   ]
  },
  {
   "cell_type": "code",
   "execution_count": 479,
   "metadata": {},
   "outputs": [
    {
     "data": {
      "text/plain": [
       "0        0 days 00:00:00\n",
       "1        0 days 01:00:00\n",
       "2        0 days 02:00:00\n",
       "3        0 days 00:00:00\n",
       "4        0 days 01:00:00\n",
       "               ...      \n",
       "220782   2 days 02:00:00\n",
       "220783   0 days 00:00:00\n",
       "220784   0 days 01:00:00\n",
       "220785   0 days 02:00:00\n",
       "220786   0 days 03:00:00\n",
       "Name: hours_add, Length: 220787, dtype: timedelta64[ns]"
      ]
     },
     "execution_count": 479,
     "metadata": {},
     "output_type": "execute_result"
    }
   ],
   "source": [
    "df_21['hours_add'].apply(convert_timedelta)"
   ]
  },
  {
   "cell_type": "code",
   "execution_count": null,
   "metadata": {},
   "outputs": [],
   "source": []
  },
  {
   "cell_type": "code",
   "execution_count": 455,
   "metadata": {},
   "outputs": [],
   "source": [
    "for idx, tab in df_21.groupby(['StartDate']):\n",
    "    idx, tab\n",
    "    break"
   ]
  },
  {
   "cell_type": "code",
   "execution_count": null,
   "metadata": {},
   "outputs": [],
   "source": []
  },
  {
   "cell_type": "code",
   "execution_count": 459,
   "metadata": {},
   "outputs": [
    {
     "data": {
      "text/plain": [
       "3"
      ]
     },
     "execution_count": 459,
     "metadata": {},
     "output_type": "execute_result"
    }
   ],
   "source": [
    "tab['hours'].count()"
   ]
  },
  {
   "cell_type": "code",
   "execution_count": 414,
   "metadata": {},
   "outputs": [
    {
     "data": {
      "text/html": [
       "<div>\n",
       "<style scoped>\n",
       "    .dataframe tbody tr th:only-of-type {\n",
       "        vertical-align: middle;\n",
       "    }\n",
       "\n",
       "    .dataframe tbody tr th {\n",
       "        vertical-align: top;\n",
       "    }\n",
       "\n",
       "    .dataframe thead th {\n",
       "        text-align: right;\n",
       "    }\n",
       "</style>\n",
       "<table border=\"1\" class=\"dataframe\">\n",
       "  <thead>\n",
       "    <tr style=\"text-align: right;\">\n",
       "      <th></th>\n",
       "      <th>StartDate</th>\n",
       "      <th>BatchNumber</th>\n",
       "      <th>CustItem</th>\n",
       "      <th>Dryer</th>\n",
       "      <th>ScheduledDryQty</th>\n",
       "      <th>ActualDryQty</th>\n",
       "      <th>YieldPercentage</th>\n",
       "      <th>DryingTime_Hrs</th>\n",
       "      <th>CleanTime_Hrs</th>\n",
       "      <th>DownTime_Hrs</th>\n",
       "      <th>TotalRunTime_Hrs</th>\n",
       "      <th>ProdLine</th>\n",
       "      <th>Rate</th>\n",
       "      <th>dt_est</th>\n",
       "      <th>hours</th>\n",
       "    </tr>\n",
       "  </thead>\n",
       "  <tbody>\n",
       "    <tr>\n",
       "      <th>0</th>\n",
       "      <td>2016-01-02 08:54:58.000</td>\n",
       "      <td>NJSD313825</td>\n",
       "      <td>10013-0000</td>\n",
       "      <td>Dryer 04</td>\n",
       "      <td>333.736</td>\n",
       "      <td>352.2</td>\n",
       "      <td>105.5</td>\n",
       "      <td>2.4</td>\n",
       "      <td>5.1</td>\n",
       "      <td>0</td>\n",
       "      <td>7.5</td>\n",
       "      <td>Fragrance</td>\n",
       "      <td>146.75</td>\n",
       "      <td>2016-01-02 09:00:00-05:00</td>\n",
       "      <td>3</td>\n",
       "    </tr>\n",
       "    <tr>\n",
       "      <th>1</th>\n",
       "      <td>2016-01-02 08:54:58.000</td>\n",
       "      <td>NJSD313825</td>\n",
       "      <td>10013-0000</td>\n",
       "      <td>Dryer 04</td>\n",
       "      <td>333.736</td>\n",
       "      <td>352.2</td>\n",
       "      <td>105.5</td>\n",
       "      <td>2.4</td>\n",
       "      <td>5.1</td>\n",
       "      <td>0</td>\n",
       "      <td>7.5</td>\n",
       "      <td>Fragrance</td>\n",
       "      <td>146.75</td>\n",
       "      <td>2016-01-02 09:00:00-05:00</td>\n",
       "      <td>3</td>\n",
       "    </tr>\n",
       "    <tr>\n",
       "      <th>2</th>\n",
       "      <td>2016-01-02 08:54:58.000</td>\n",
       "      <td>NJSD313825</td>\n",
       "      <td>10013-0000</td>\n",
       "      <td>Dryer 04</td>\n",
       "      <td>333.736</td>\n",
       "      <td>352.2</td>\n",
       "      <td>105.5</td>\n",
       "      <td>2.4</td>\n",
       "      <td>5.1</td>\n",
       "      <td>0</td>\n",
       "      <td>7.5</td>\n",
       "      <td>Fragrance</td>\n",
       "      <td>146.75</td>\n",
       "      <td>2016-01-02 09:00:00-05:00</td>\n",
       "      <td>3</td>\n",
       "    </tr>\n",
       "    <tr>\n",
       "      <th>3</th>\n",
       "      <td>2016-01-02 11:06:57.863</td>\n",
       "      <td>NJSD312807</td>\n",
       "      <td>10558-0000</td>\n",
       "      <td>Dryer 03</td>\n",
       "      <td>4270.41</td>\n",
       "      <td>3935.4</td>\n",
       "      <td>92.2</td>\n",
       "      <td>8.4</td>\n",
       "      <td>0.2</td>\n",
       "      <td>4.2</td>\n",
       "      <td>12.8</td>\n",
       "      <td>Fragrance</td>\n",
       "      <td>468.5</td>\n",
       "      <td>2016-01-02 11:00:00-05:00</td>\n",
       "      <td>9</td>\n",
       "    </tr>\n",
       "    <tr>\n",
       "      <th>4</th>\n",
       "      <td>2016-01-02 11:06:57.863</td>\n",
       "      <td>NJSD312807</td>\n",
       "      <td>10558-0000</td>\n",
       "      <td>Dryer 03</td>\n",
       "      <td>4270.41</td>\n",
       "      <td>3935.4</td>\n",
       "      <td>92.2</td>\n",
       "      <td>8.4</td>\n",
       "      <td>0.2</td>\n",
       "      <td>4.2</td>\n",
       "      <td>12.8</td>\n",
       "      <td>Fragrance</td>\n",
       "      <td>468.5</td>\n",
       "      <td>2016-01-02 11:00:00-05:00</td>\n",
       "      <td>9</td>\n",
       "    </tr>\n",
       "    <tr>\n",
       "      <th>5</th>\n",
       "      <td>2016-01-02 11:06:57.863</td>\n",
       "      <td>NJSD312807</td>\n",
       "      <td>10558-0000</td>\n",
       "      <td>Dryer 03</td>\n",
       "      <td>4270.41</td>\n",
       "      <td>3935.4</td>\n",
       "      <td>92.2</td>\n",
       "      <td>8.4</td>\n",
       "      <td>0.2</td>\n",
       "      <td>4.2</td>\n",
       "      <td>12.8</td>\n",
       "      <td>Fragrance</td>\n",
       "      <td>468.5</td>\n",
       "      <td>2016-01-02 11:00:00-05:00</td>\n",
       "      <td>9</td>\n",
       "    </tr>\n",
       "    <tr>\n",
       "      <th>6</th>\n",
       "      <td>2016-01-02 11:06:57.863</td>\n",
       "      <td>NJSD312807</td>\n",
       "      <td>10558-0000</td>\n",
       "      <td>Dryer 03</td>\n",
       "      <td>4270.41</td>\n",
       "      <td>3935.4</td>\n",
       "      <td>92.2</td>\n",
       "      <td>8.4</td>\n",
       "      <td>0.2</td>\n",
       "      <td>4.2</td>\n",
       "      <td>12.8</td>\n",
       "      <td>Fragrance</td>\n",
       "      <td>468.5</td>\n",
       "      <td>2016-01-02 11:00:00-05:00</td>\n",
       "      <td>9</td>\n",
       "    </tr>\n",
       "  </tbody>\n",
       "</table>\n",
       "</div>"
      ],
      "text/plain": [
       "                 StartDate BatchNumber    CustItem     Dryer ScheduledDryQty  \\\n",
       "0  2016-01-02 08:54:58.000  NJSD313825  10013-0000  Dryer 04         333.736   \n",
       "1  2016-01-02 08:54:58.000  NJSD313825  10013-0000  Dryer 04         333.736   \n",
       "2  2016-01-02 08:54:58.000  NJSD313825  10013-0000  Dryer 04         333.736   \n",
       "3  2016-01-02 11:06:57.863  NJSD312807  10558-0000  Dryer 03         4270.41   \n",
       "4  2016-01-02 11:06:57.863  NJSD312807  10558-0000  Dryer 03         4270.41   \n",
       "5  2016-01-02 11:06:57.863  NJSD312807  10558-0000  Dryer 03         4270.41   \n",
       "6  2016-01-02 11:06:57.863  NJSD312807  10558-0000  Dryer 03         4270.41   \n",
       "\n",
       "  ActualDryQty YieldPercentage DryingTime_Hrs CleanTime_Hrs DownTime_Hrs  \\\n",
       "0        352.2           105.5            2.4           5.1            0   \n",
       "1        352.2           105.5            2.4           5.1            0   \n",
       "2        352.2           105.5            2.4           5.1            0   \n",
       "3       3935.4            92.2            8.4           0.2          4.2   \n",
       "4       3935.4            92.2            8.4           0.2          4.2   \n",
       "5       3935.4            92.2            8.4           0.2          4.2   \n",
       "6       3935.4            92.2            8.4           0.2          4.2   \n",
       "\n",
       "  TotalRunTime_Hrs   ProdLine    Rate                    dt_est hours  \n",
       "0              7.5  Fragrance  146.75 2016-01-02 09:00:00-05:00     3  \n",
       "1              7.5  Fragrance  146.75 2016-01-02 09:00:00-05:00     3  \n",
       "2              7.5  Fragrance  146.75 2016-01-02 09:00:00-05:00     3  \n",
       "3             12.8  Fragrance   468.5 2016-01-02 11:00:00-05:00     9  \n",
       "4             12.8  Fragrance   468.5 2016-01-02 11:00:00-05:00     9  \n",
       "5             12.8  Fragrance   468.5 2016-01-02 11:00:00-05:00     9  \n",
       "6             12.8  Fragrance   468.5 2016-01-02 11:00:00-05:00     9  "
      ]
     },
     "execution_count": 414,
     "metadata": {},
     "output_type": "execute_result"
    }
   ],
   "source": [
    "df_21.head(7)"
   ]
  },
  {
   "cell_type": "code",
   "execution_count": null,
   "metadata": {},
   "outputs": [],
   "source": []
  },
  {
   "cell_type": "code",
   "execution_count": null,
   "metadata": {},
   "outputs": [],
   "source": []
  },
  {
   "cell_type": "code",
   "execution_count": null,
   "metadata": {},
   "outputs": [],
   "source": []
  },
  {
   "cell_type": "code",
   "execution_count": null,
   "metadata": {},
   "outputs": [],
   "source": []
  },
  {
   "cell_type": "code",
   "execution_count": null,
   "metadata": {},
   "outputs": [],
   "source": []
  },
  {
   "cell_type": "code",
   "execution_count": null,
   "metadata": {},
   "outputs": [],
   "source": []
  },
  {
   "cell_type": "code",
   "execution_count": 449,
   "metadata": {},
   "outputs": [],
   "source": [
    "# too too too slow\n",
    "\n",
    "# one_hour = hours_added = datetime.timedelta(hours = 1)\n",
    "# old_time = df_21.iloc[0,0]\n",
    "# for index, rows in df_21.iterrows():\n",
    "# #     print(old_time)\n",
    "#     new_time = df_21.iloc[index,0]\n",
    "# #     print(new_time)\n",
    "#     if old_time==new_time:\n",
    "# #         print('Equal')\n",
    "#         pass\n",
    "#     else:\n",
    "# #         print(rows['dt_est'])\n",
    "#         df_21.loc[index,'dt_est'] = rows['dt_est'] + one_hour\n",
    "# #         print(rows['dt_est'])\n",
    "#         old_time = df_21.loc[index,'dt_est']\n",
    "    "
   ]
  },
  {
   "cell_type": "code",
   "execution_count": 448,
   "metadata": {},
   "outputs": [
    {
     "data": {
      "text/html": [
       "<div>\n",
       "<style scoped>\n",
       "    .dataframe tbody tr th:only-of-type {\n",
       "        vertical-align: middle;\n",
       "    }\n",
       "\n",
       "    .dataframe tbody tr th {\n",
       "        vertical-align: top;\n",
       "    }\n",
       "\n",
       "    .dataframe thead th {\n",
       "        text-align: right;\n",
       "    }\n",
       "</style>\n",
       "<table border=\"1\" class=\"dataframe\">\n",
       "  <thead>\n",
       "    <tr style=\"text-align: right;\">\n",
       "      <th></th>\n",
       "      <th>StartDate</th>\n",
       "      <th>BatchNumber</th>\n",
       "      <th>CustItem</th>\n",
       "      <th>Dryer</th>\n",
       "      <th>ScheduledDryQty</th>\n",
       "      <th>ActualDryQty</th>\n",
       "      <th>YieldPercentage</th>\n",
       "      <th>DryingTime_Hrs</th>\n",
       "      <th>CleanTime_Hrs</th>\n",
       "      <th>DownTime_Hrs</th>\n",
       "      <th>TotalRunTime_Hrs</th>\n",
       "      <th>ProdLine</th>\n",
       "      <th>Rate</th>\n",
       "      <th>dt_est</th>\n",
       "      <th>hours</th>\n",
       "    </tr>\n",
       "  </thead>\n",
       "  <tbody>\n",
       "    <tr>\n",
       "      <th>0</th>\n",
       "      <td>2016-01-02 08:54:58.000</td>\n",
       "      <td>NJSD313825</td>\n",
       "      <td>10013-0000</td>\n",
       "      <td>Dryer 04</td>\n",
       "      <td>333.736</td>\n",
       "      <td>352.2</td>\n",
       "      <td>105.5</td>\n",
       "      <td>2.4</td>\n",
       "      <td>5.1</td>\n",
       "      <td>0</td>\n",
       "      <td>7.5</td>\n",
       "      <td>Fragrance</td>\n",
       "      <td>146.75</td>\n",
       "      <td>2016-01-02 09:00:00-05:00</td>\n",
       "      <td>3</td>\n",
       "    </tr>\n",
       "    <tr>\n",
       "      <th>1</th>\n",
       "      <td>2016-01-02 08:54:58.000</td>\n",
       "      <td>NJSD313825</td>\n",
       "      <td>10013-0000</td>\n",
       "      <td>Dryer 04</td>\n",
       "      <td>333.736</td>\n",
       "      <td>352.2</td>\n",
       "      <td>105.5</td>\n",
       "      <td>2.4</td>\n",
       "      <td>5.1</td>\n",
       "      <td>0</td>\n",
       "      <td>7.5</td>\n",
       "      <td>Fragrance</td>\n",
       "      <td>146.75</td>\n",
       "      <td>2016-01-02 09:00:00-05:00</td>\n",
       "      <td>3</td>\n",
       "    </tr>\n",
       "    <tr>\n",
       "      <th>2</th>\n",
       "      <td>2016-01-02 08:54:58.000</td>\n",
       "      <td>NJSD313825</td>\n",
       "      <td>10013-0000</td>\n",
       "      <td>Dryer 04</td>\n",
       "      <td>333.736</td>\n",
       "      <td>352.2</td>\n",
       "      <td>105.5</td>\n",
       "      <td>2.4</td>\n",
       "      <td>5.1</td>\n",
       "      <td>0</td>\n",
       "      <td>7.5</td>\n",
       "      <td>Fragrance</td>\n",
       "      <td>146.75</td>\n",
       "      <td>2016-01-02 09:00:00-05:00</td>\n",
       "      <td>3</td>\n",
       "    </tr>\n",
       "    <tr>\n",
       "      <th>3</th>\n",
       "      <td>2016-01-02 11:06:57.863</td>\n",
       "      <td>NJSD312807</td>\n",
       "      <td>10558-0000</td>\n",
       "      <td>Dryer 03</td>\n",
       "      <td>4270.41</td>\n",
       "      <td>3935.4</td>\n",
       "      <td>92.2</td>\n",
       "      <td>8.4</td>\n",
       "      <td>0.2</td>\n",
       "      <td>4.2</td>\n",
       "      <td>12.8</td>\n",
       "      <td>Fragrance</td>\n",
       "      <td>468.5</td>\n",
       "      <td>2016-01-02 12:00:00-05:00</td>\n",
       "      <td>9</td>\n",
       "    </tr>\n",
       "    <tr>\n",
       "      <th>4</th>\n",
       "      <td>2016-01-02 11:06:57.863</td>\n",
       "      <td>NJSD312807</td>\n",
       "      <td>10558-0000</td>\n",
       "      <td>Dryer 03</td>\n",
       "      <td>4270.41</td>\n",
       "      <td>3935.4</td>\n",
       "      <td>92.2</td>\n",
       "      <td>8.4</td>\n",
       "      <td>0.2</td>\n",
       "      <td>4.2</td>\n",
       "      <td>12.8</td>\n",
       "      <td>Fragrance</td>\n",
       "      <td>468.5</td>\n",
       "      <td>2016-01-02 12:00:00-05:00</td>\n",
       "      <td>9</td>\n",
       "    </tr>\n",
       "    <tr>\n",
       "      <th>5</th>\n",
       "      <td>2016-01-02 11:06:57.863</td>\n",
       "      <td>NJSD312807</td>\n",
       "      <td>10558-0000</td>\n",
       "      <td>Dryer 03</td>\n",
       "      <td>4270.41</td>\n",
       "      <td>3935.4</td>\n",
       "      <td>92.2</td>\n",
       "      <td>8.4</td>\n",
       "      <td>0.2</td>\n",
       "      <td>4.2</td>\n",
       "      <td>12.8</td>\n",
       "      <td>Fragrance</td>\n",
       "      <td>468.5</td>\n",
       "      <td>2016-01-02 12:00:00-05:00</td>\n",
       "      <td>9</td>\n",
       "    </tr>\n",
       "  </tbody>\n",
       "</table>\n",
       "</div>"
      ],
      "text/plain": [
       "                 StartDate BatchNumber    CustItem     Dryer ScheduledDryQty  \\\n",
       "0  2016-01-02 08:54:58.000  NJSD313825  10013-0000  Dryer 04         333.736   \n",
       "1  2016-01-02 08:54:58.000  NJSD313825  10013-0000  Dryer 04         333.736   \n",
       "2  2016-01-02 08:54:58.000  NJSD313825  10013-0000  Dryer 04         333.736   \n",
       "3  2016-01-02 11:06:57.863  NJSD312807  10558-0000  Dryer 03         4270.41   \n",
       "4  2016-01-02 11:06:57.863  NJSD312807  10558-0000  Dryer 03         4270.41   \n",
       "5  2016-01-02 11:06:57.863  NJSD312807  10558-0000  Dryer 03         4270.41   \n",
       "\n",
       "  ActualDryQty YieldPercentage DryingTime_Hrs CleanTime_Hrs DownTime_Hrs  \\\n",
       "0        352.2           105.5            2.4           5.1            0   \n",
       "1        352.2           105.5            2.4           5.1            0   \n",
       "2        352.2           105.5            2.4           5.1            0   \n",
       "3       3935.4            92.2            8.4           0.2          4.2   \n",
       "4       3935.4            92.2            8.4           0.2          4.2   \n",
       "5       3935.4            92.2            8.4           0.2          4.2   \n",
       "\n",
       "  TotalRunTime_Hrs   ProdLine    Rate                    dt_est hours  \n",
       "0              7.5  Fragrance  146.75 2016-01-02 09:00:00-05:00     3  \n",
       "1              7.5  Fragrance  146.75 2016-01-02 09:00:00-05:00     3  \n",
       "2              7.5  Fragrance  146.75 2016-01-02 09:00:00-05:00     3  \n",
       "3             12.8  Fragrance   468.5 2016-01-02 12:00:00-05:00     9  \n",
       "4             12.8  Fragrance   468.5 2016-01-02 12:00:00-05:00     9  \n",
       "5             12.8  Fragrance   468.5 2016-01-02 12:00:00-05:00     9  "
      ]
     },
     "execution_count": 448,
     "metadata": {},
     "output_type": "execute_result"
    }
   ],
   "source": [
    "df_21.head(6)"
   ]
  },
  {
   "cell_type": "code",
   "execution_count": null,
   "metadata": {},
   "outputs": [],
   "source": []
  },
  {
   "cell_type": "code",
   "execution_count": null,
   "metadata": {},
   "outputs": [],
   "source": []
  },
  {
   "cell_type": "code",
   "execution_count": null,
   "metadata": {},
   "outputs": [],
   "source": []
  },
  {
   "cell_type": "code",
   "execution_count": null,
   "metadata": {},
   "outputs": [],
   "source": []
  },
  {
   "cell_type": "code",
   "execution_count": null,
   "metadata": {},
   "outputs": [],
   "source": []
  },
  {
   "cell_type": "code",
   "execution_count": 422,
   "metadata": {},
   "outputs": [],
   "source": [
    "def test(row):\n",
    "    print(row[0])"
   ]
  },
  {
   "cell_type": "markdown",
   "metadata": {},
   "source": [
    "df_21.apply(test, axis=1)"
   ]
  },
  {
   "cell_type": "code",
   "execution_count": null,
   "metadata": {},
   "outputs": [],
   "source": []
  },
  {
   "cell_type": "code",
   "execution_count": null,
   "metadata": {},
   "outputs": [],
   "source": []
  },
  {
   "cell_type": "code",
   "execution_count": 441,
   "metadata": {},
   "outputs": [
    {
     "data": {
      "text/plain": [
       "Timestamp('2016-01-02 09:00:00-0500', tz='America/New_York')"
      ]
     },
     "execution_count": 441,
     "metadata": {},
     "output_type": "execute_result"
    }
   ],
   "source": [
    "df_21.loc[index,'dt_est'] "
   ]
  },
  {
   "cell_type": "code",
   "execution_count": 415,
   "metadata": {},
   "outputs": [
    {
     "data": {
      "text/plain": [
       "(220787, 15)"
      ]
     },
     "execution_count": 415,
     "metadata": {},
     "output_type": "execute_result"
    }
   ],
   "source": [
    "df_21.shape"
   ]
  },
  {
   "cell_type": "code",
   "execution_count": 368,
   "metadata": {},
   "outputs": [],
   "source": [
    "hours = np.ceil(df_20['DryingTime_Hrs']).astype(int)"
   ]
  },
  {
   "cell_type": "code",
   "execution_count": 395,
   "metadata": {},
   "outputs": [
    {
     "data": {
      "text/plain": [
       "Timestamp('2016-01-02 09:00:00-0500', tz='America/New_York')"
      ]
     },
     "execution_count": 395,
     "metadata": {},
     "output_type": "execute_result"
    }
   ],
   "source": [
    "df_20['dt_est'][0]"
   ]
  },
  {
   "cell_type": "code",
   "execution_count": 397,
   "metadata": {},
   "outputs": [],
   "source": [
    "import datetime"
   ]
  },
  {
   "cell_type": "code",
   "execution_count": 399,
   "metadata": {},
   "outputs": [],
   "source": [
    "hours_added = datetime.timedelta(hours = 3)"
   ]
  },
  {
   "cell_type": "code",
   "execution_count": 400,
   "metadata": {},
   "outputs": [
    {
     "data": {
      "text/plain": [
       "datetime.timedelta(seconds=10800)"
      ]
     },
     "execution_count": 400,
     "metadata": {},
     "output_type": "execute_result"
    }
   ],
   "source": [
    "hours_added"
   ]
  },
  {
   "cell_type": "code",
   "execution_count": 402,
   "metadata": {},
   "outputs": [],
   "source": [
    "future_date_and_time = df_20['dt_est'][0] + hours_added"
   ]
  },
  {
   "cell_type": "code",
   "execution_count": 403,
   "metadata": {},
   "outputs": [
    {
     "data": {
      "text/plain": [
       "Timestamp('2016-01-02 12:00:00-0500', tz='America/New_York')"
      ]
     },
     "execution_count": 403,
     "metadata": {},
     "output_type": "execute_result"
    }
   ],
   "source": [
    "future_date_and_time"
   ]
  },
  {
   "cell_type": "code",
   "execution_count": 354,
   "metadata": {},
   "outputs": [
    {
     "name": "stdout",
     "output_type": "stream",
     "text": [
      "0\n",
      "1\n",
      "2\n",
      "3\n",
      "4\n",
      "5\n",
      "6\n",
      "7\n"
     ]
    }
   ],
   "source": [
    "for x in range(int(8.0)):\n",
    "    print(x)"
   ]
  },
  {
   "cell_type": "code",
   "execution_count": null,
   "metadata": {},
   "outputs": [],
   "source": []
  },
  {
   "cell_type": "code",
   "execution_count": null,
   "metadata": {},
   "outputs": [],
   "source": []
  },
  {
   "cell_type": "code",
   "execution_count": null,
   "metadata": {},
   "outputs": [],
   "source": []
  },
  {
   "cell_type": "code",
   "execution_count": null,
   "metadata": {},
   "outputs": [],
   "source": []
  },
  {
   "cell_type": "code",
   "execution_count": null,
   "metadata": {},
   "outputs": [],
   "source": []
  },
  {
   "cell_type": "code",
   "execution_count": 212,
   "metadata": {},
   "outputs": [],
   "source": [
    "# solve statistical problem\n",
    "from scipy import stats\n",
    "import seaborn as sns"
   ]
  },
  {
   "cell_type": "code",
   "execution_count": 312,
   "metadata": {},
   "outputs": [
    {
     "data": {
      "text/plain": [
       "StartDate           0\n",
       "BatchNumber         0\n",
       "CustItem            0\n",
       "Dryer               0\n",
       "ScheduledDryQty     0\n",
       "ActualDryQty        0\n",
       "YieldPercentage     0\n",
       "DryingTime_Hrs      0\n",
       "CleanTime_Hrs       0\n",
       "DownTime_Hrs        0\n",
       "TotalRunTime_Hrs    0\n",
       "ProdLine            0\n",
       "Rate                0\n",
       "dt_est              0\n",
       "dtype: int64"
      ]
     },
     "execution_count": 312,
     "metadata": {},
     "output_type": "execute_result"
    }
   ],
   "source": [
    "df_product.isnull().sum()"
   ]
  },
  {
   "cell_type": "code",
   "execution_count": 323,
   "metadata": {},
   "outputs": [
    {
     "data": {
      "text/plain": [
       "(46646, 26)"
      ]
     },
     "execution_count": 323,
     "metadata": {},
     "output_type": "execute_result"
    }
   ],
   "source": [
    "df_nj_weather.shape"
   ]
  },
  {
   "cell_type": "code",
   "execution_count": 314,
   "metadata": {},
   "outputs": [
    {
     "data": {
      "text/plain": [
       "dt                         0\n",
       "dt_iso                     0\n",
       "timezone                   0\n",
       "city_name                  0\n",
       "lat                        0\n",
       "lon                        0\n",
       "temp                       0\n",
       "feels_like                 0\n",
       "temp_min                   0\n",
       "temp_max                   0\n",
       "pressure                   0\n",
       "sea_level              46646\n",
       "grnd_level             46646\n",
       "humidity                   0\n",
       "wind_speed                 0\n",
       "wind_deg                   0\n",
       "rain_1h                40028\n",
       "rain_3h                45966\n",
       "snow_1h                45779\n",
       "snow_3h                46561\n",
       "clouds_all                 0\n",
       "weather_id                 0\n",
       "weather_main               0\n",
       "weather_description        0\n",
       "weather_icon               0\n",
       "dt_est                     0\n",
       "dtype: int64"
      ]
     },
     "execution_count": 314,
     "metadata": {},
     "output_type": "execute_result"
    }
   ],
   "source": [
    "df_nj_weather.isnull().sum()"
   ]
  },
  {
   "cell_type": "code",
   "execution_count": 316,
   "metadata": {},
   "outputs": [
    {
     "data": {
      "image/png": "[encoded data removed]",
      "text/plain": [
       "<Figure size 432x288 with 2 Axes>"
      ]
     },
     "metadata": {
      "needs_background": "light"
     },
     "output_type": "display_data"
    },
    {
     "name": "stdout",
     "output_type": "stream",
     "text": [
      "['sea_level', 'grnd_level', 'rain_1h', 'rain_3h', 'snow_1h', 'snow_3h'] <class 'list'>\n"
     ]
    }
   ],
   "source": [
    "class_eda = EDA()\n",
    "list_missing_nj = class_eda.missing_plot(df_nj_weather)"
   ]
  },
  {
   "cell_type": "code",
   "execution_count": 321,
   "metadata": {},
   "outputs": [],
   "source": [
    "# class_preprocess = PreProcess()\n",
    "# df_20, df_drop_21 = class_preprocess.drop_na(df_nj_weather, list_missing_nj)"
   ]
  },
  {
   "cell_type": "code",
   "execution_count": 325,
   "metadata": {},
   "outputs": [],
   "source": [
    "df_20 = df_nj_weather.drop(list_missing_nj, axis=1)"
   ]
  },
  {
   "cell_type": "code",
   "execution_count": 326,
   "metadata": {},
   "outputs": [
    {
     "data": {
      "text/plain": [
       "Index(['dt', 'dt_iso', 'timezone', 'city_name', 'lat', 'lon', 'temp',\n",
       "       'feels_like', 'temp_min', 'temp_max', 'pressure', 'humidity',\n",
       "       'wind_speed', 'wind_deg', 'clouds_all', 'weather_id', 'weather_main',\n",
       "       'weather_description', 'weather_icon', 'dt_est'],\n",
       "      dtype='object')"
      ]
     },
     "execution_count": 326,
     "metadata": {},
     "output_type": "execute_result"
    }
   ],
   "source": [
    "df_20.columns"
   ]
  },
  {
   "cell_type": "code",
   "execution_count": 328,
   "metadata": {},
   "outputs": [
    {
     "data": {
      "text/plain": [
       "(46646, 26)"
      ]
     },
     "execution_count": 328,
     "metadata": {},
     "output_type": "execute_result"
    }
   ],
   "source": [
    "df_nj_weather.shape"
   ]
  },
  {
   "cell_type": "code",
   "execution_count": 327,
   "metadata": {},
   "outputs": [
    {
     "data": {
      "text/plain": [
       "(46646, 20)"
      ]
     },
     "execution_count": 327,
     "metadata": {},
     "output_type": "execute_result"
    }
   ],
   "source": [
    "df_20.shape"
   ]
  },
  {
   "cell_type": "code",
   "execution_count": 322,
   "metadata": {},
   "outputs": [
    {
     "data": {
      "text/plain": [
       "['sea_level', 'grnd_level', 'rain_1h', 'rain_3h', 'snow_1h', 'snow_3h']"
      ]
     },
     "execution_count": 322,
     "metadata": {},
     "output_type": "execute_result"
    }
   ],
   "source": [
    "list_missing_nj"
   ]
  }
 ],
 "metadata": {
  "kernelspec": {
   "display_name": "Python 3",
   "language": "python",
   "name": "python3"
  },
  "language_info": {
   "codemirror_mode": {
    "name": "ipython",
    "version": 3
   },
   "file_extension": ".py",
   "mimetype": "text/x-python",
   "name": "python",
   "nbconvert_exporter": "python",
   "pygments_lexer": "ipython3",
   "version": "3.8.5"
  }
 },
 "nbformat": 4,
 "nbformat_minor": 4
}

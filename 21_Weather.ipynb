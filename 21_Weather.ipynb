{
 "cells": [
  {
   "cell_type": "code",
   "execution_count": 1,
   "metadata": {},
   "outputs": [],
   "source": [
    "from IPython.display import Image"
   ]
  },
  {
   "cell_type": "markdown",
   "metadata": {},
   "source": [
    "# <a id=\"1.Summary\"> 1.Summary</a>"
   ]
  },
  {
   "cell_type": "markdown",
   "metadata": {},
   "source": [
    "I have attached a spreadsheet containing five years of production and weather data for our Middlesex, NJ and Bethlehem, PA facilities. When looking at the production data if the “BatchNumber” listed starts with PASD it was done in Bethlehem and if it starts with NJSD it was done in Middlesex. I included some info that we have on flowability and hygroscopicity but it’s not empirical data; mostly a judgement call made for “reasons”. Weather data was downloaded from openweathermap.org, temperatures are in °F. Let me know if you need any clarification on the data provided.\n"
   ]
  },
  {
   "cell_type": "markdown",
   "metadata": {},
   "source": [
    "More specifically, given the dependence of their drying products and services on weather\n",
    "conditions, the company is interested in using weather data to forecast the processing times for\n",
    "different batches of SKUs. \n",
    "\n",
    "The team is expected to:\n",
    "\n",
    "• Develop a database with manufacturing data that will be used to develop statistical\n",
    "models\n",
    "\n",
    "• Develop, manage and maintain statistical models, including but not limited to:\n",
    "\n",
    "o Forecasting of processing times based on weather data\n",
    "\n",
    "o Forecasting downtime and preventive maintenance issues"
   ]
  },
  {
   "cell_type": "markdown",
   "metadata": {},
   "source": [
    "<br>"
   ]
  },
  {
   "cell_type": "markdown",
   "metadata": {},
   "source": [
    "<br>"
   ]
  },
  {
   "cell_type": "markdown",
   "metadata": {},
   "source": [
    "<br>"
   ]
  },
  {
   "cell_type": "markdown",
   "metadata": {},
   "source": [
    "# <a id=\"2.Table of Contents\">2.Tabole of Contents</a>\n",
    "<a href=\"#1.Summary\">Click this Link back to Top</a>"
   ]
  },
  {
   "cell_type": "markdown",
   "metadata": {},
   "source": [
    "<ol>\n",
    "    <li><a href=\"#1.Summary\">Summary</a></li>\n",
    "    <li><a href=\"#2.Tabole of Contents\">Tabole of Contents</a></li>\n",
    "    <li><a href=\"#3.Preprocess\">Preprocess</a>\n",
    "    <ul>\n",
    "        <li><a href=\"#3.1 Hyperparameter\">3.1 Hyperparameter</a></li>\n",
    "        <li><a href=\"#3.2 Import Data\">3.2 Import Data</a></li>\n",
    "        <li><a href=\"#3.3 EDA\">3.3 EDA</a></li> \n",
    "        <li><a href=\"#3.4 Preprocess\">3.4 Preprocess</a></li> \n",
    "        <li><a href=\"#3.5 Merge Data\">3.5 Merge Data</a></li>    \n",
    "    </ul>\n",
    "    </li>\n",
    "    <li><a href=\"#4.Others\">Others</a>\n",
    "    <ul>\n",
    "        <li><del><a href=\"#TFIDF\">4.1 TFIDF</a></del></li>\n",
    "        <li><del><a href=\"#Embedding\">4.2 Embedding</a></del></li> \n",
    "    </ul>\n",
    "    </li>\n",
    "    <li><del><a href=\"#5.Classify\">Classify</a></del></li>\n",
    "    <li><del><a href=\"#6.Models\">Models</del></a>\n",
    "    <ul>\n",
    "        <li><a href=\"#6.1 Model1\">6.1 Model1</a></li>\n",
    "        <li><a href=\"#6.2 Model2\">6.2 Model2</a></li>\n",
    "    </ul>\n",
    "    </li>\n",
    "    <li><a href=\"#7.Main Function\">Main Function</a></li>\n",
    "    <li><a href=\"#9.Test Code\">Test Code</a></li>\n",
    "</ol>"
   ]
  },
  {
   "cell_type": "markdown",
   "metadata": {},
   "source": [
    "<br>"
   ]
  },
  {
   "cell_type": "markdown",
   "metadata": {},
   "source": [
    "<br>"
   ]
  },
  {
   "cell_type": "markdown",
   "metadata": {},
   "source": [
    "<br>"
   ]
  },
  {
   "cell_type": "markdown",
   "metadata": {},
   "source": [
    "# <a id=\"3.Preprocess\">3.Preprocess</a>\n",
    "<a href=\"#2.Table of Contents\">Click this Link back to Top</a>"
   ]
  },
  {
   "cell_type": "markdown",
   "metadata": {},
   "source": [
    "1. transform data column into identical format\n",
    "2. split data into two station part: NJ and PA\n",
    "3. For each hour data, we have multi rows if there are two differnet weather condition(Snow / Frog)"
   ]
  },
  {
   "cell_type": "markdown",
   "metadata": {},
   "source": [
    "## <a id=\"3.1 Hyperparameter\">3.1 Hyperparameter</a>\n",
    "<a href=\"#2.Table of Contents\">Click this Link back to Top</a>"
   ]
  },
  {
   "cell_type": "code",
   "execution_count": 2,
   "metadata": {},
   "outputs": [],
   "source": [
    "class HyperParamters(object):\n",
    "    \"\"\"\n",
    "    This class will be used to transmit hyperparameters between class.parameters\n",
    "    Most of class can inherit this class and its hyperparameters\n",
    "\n",
    "    ########################__Rules__##################################\n",
    "    class file name = class + _ + number of sequence + function name\n",
    "    class name = ClassType (Camel-Case)\n",
    "    function name = function_name\n",
    "    variable name = attribute_type_describe (Hungarian notation) # sometime I don't use attribute\n",
    "    constant = UPPERCASE\n",
    "    ###########################################################################\n",
    "\n",
    "\n",
    "    ########################__Notation__############################################\n",
    "    1. We might need split data into two place NJ and PA, but we also can try to merge two location into one,\n",
    "    because they are not far away\n",
    "    2. clean data, transform date format, join by date, Coeffience anaylsis\n",
    "    3. Check kaggle format\n",
    "    4. Check journals\n",
    "    5. Traditional way is to find relationship between total running time with other weather features\n",
    "    6. But we need to consider equipment service lift or depreciation will affect running time\n",
    "    7. Sometimes, we don't use running time itself, we can use the statiscal version of this data\n",
    "    For example, runing time - avg , variance of each running time data point\n",
    "    8.\n",
    "    #############################################################################\n",
    "\n",
    "    1.change import data path\n",
    "\n",
    "\n",
    "    There is a little space in class_34_proprocess, we elimiate some error record by mannully,\n",
    "    This is not general proceedure, we can comments that part of code any time\n",
    "    \"\"\"\n",
    "\n",
    "    def __init__(self):\n",
    "        \"\"\":arg\n",
    "\n",
    "\n",
    "        \"\"\"\n",
    "        self.TEST = 1\n",
    "\n",
    "        # you can change this root path in this class and import_data() function will search from this root dictionary\n",
    "        self.ROOTPATH = 'D:\\\\OneDrive\\\\03_Academic\\\\23_Github\\\\20_Stevens\\\\66-MGT-809-A\\\\03_data'\n",
    "\n",
    "\n",
    "        # assign the column will be dropped in production table\n",
    "        # we believe these columns are objective result or not useful features\n",
    "        # ['Bulk Density'] is too objective\n",
    "        # ['Moisture'] is decided by custome requirement, that might affect drying time\n",
    "        # ['Hygroscopicity'] imbalance data distribution\n",
    "        self.PRODUCT_DROP = ['Bulk Density', 'Moisture','Flow', 'Hygroscopicity']\n",
    "\n",
    "\n",
    "        # these are the un-related columns in weather data\n",
    "        # ['timezone'] will change from -18000 to -14400 because winter time to summer time, vsia. We can delete it\n",
    "        self.WEATHER_DROP = ['dt_iso', 'timezone', 'city_name', 'lat', 'lon']\n",
    "        # These columns are non-numerical data, if we need use these columns, we can add them back,\n",
    "        # for now, I will delete them in this hyperparameters\n",
    "        # self.WEATHER_DROP = ['dt_iso', 'timezone', 'city_name', 'lat', 'lon',\n",
    "        #                      'weather_id', 'weather_main', 'weather_description', 'weather_icon']\n",
    "\n",
    "\n",
    "        # sometimes operater repack powder back to dryer again because it's not meet particular size requirement\n",
    "        # we use z-score as our defination, If we set threshold as 3, the yeild great than 130% will be eliminate\n",
    "        # we also have a np.abs() for smaller outliers, which also affected by this threshold\n",
    "        # when we set our threshold to 3, we eliminate the percentage great then 130%,\n",
    "        # set to 1.5, then delete precentage greater than 111% (106 rows was dropped)\n",
    "        # 3 - 130% /  1.5 - 111%   / 1 - 104.6%\n",
    "        self.YEILD_THRESHOLD = 1.5\n",
    "        # ['Rate'] is our target output, we more concens this colunm's statistcal results.\n",
    "        # Typically rate can be as high as possible, but sometimes, the extramly high rate is operation error\n",
    "        # We will try to identify ourlier by z-socre and Interquartile Range method\n",
    "        # If we shrink our threshold to a small number, we will delete more outliers. But they might not be delete so early\n",
    "        # For example, in index ['821', '2983','2999'] after manually double chek, they are operation error.\n",
    "        # We can't do this to every ['Rate'] outliers. So we can do this drop process only for statiscal visulzation\n",
    "        self.IQR_THRESHOLD = 2\n",
    "\n",
    "        # using two sigma and three sigma to delete those extramlly higher ['Rate']\n",
    "        # two sigma will CDF = 95%, for each on side, it will be 2.5%\n",
    "        self.TWO_SIGMA = 2.5\n",
    "        # if we don't want delete less rows, we can use three sigma, it will only delete approcimate 30 rows.\n",
    "        # self.THREE_SIGMA = 0.3\n"
   ]
  },
  {
   "cell_type": "markdown",
   "metadata": {},
   "source": [
    "<br>"
   ]
  },
  {
   "cell_type": "markdown",
   "metadata": {},
   "source": [
    "<br>"
   ]
  },
  {
   "cell_type": "markdown",
   "metadata": {},
   "source": [
    "<br>"
   ]
  },
  {
   "cell_type": "markdown",
   "metadata": {},
   "source": [
    "## <a id=\"3.2 Import Data\">3.2 Import Data</a>\n",
    "<a href=\"#2.Table of Contents\">Click this Link back to Top</a>"
   ]
  },
  {
   "cell_type": "code",
   "execution_count": 3,
   "metadata": {},
   "outputs": [],
   "source": [
    "# from class_31_hyperparameters import HyperParamters\n",
    "\n",
    "# read xlxs file\n",
    "import pandas as pd\n",
    "# record running data\n",
    "from time import time\n",
    "# join directory path\n",
    "import os\n",
    "\n",
    "\n",
    "\n",
    "\n",
    "class ImportData(HyperParamters):\n",
    "    \"\"\"\n",
    "    Contain two method: import data and convert time\n",
    "\n",
    "\n",
    "    \"\"\"\n",
    "    def __init__(self):\n",
    "        # inhereit from HyperParameter\n",
    "        HyperParamters.__init__(self)\n",
    "\n",
    "\n",
    "    def import_data(self):\n",
    "        \"\"\":arg\n",
    "\n",
    "        Returns:\n",
    "        ----------\n",
    "        df_product:DataFrame\n",
    "            real production data including running time\n",
    "        df_nj_weather:DataFrame\n",
    "            Middlesex, NJ factory weather data from openweather.org\n",
    "        df_pa_weather:DataFrame\n",
    "\n",
    "\n",
    "        \"\"\"\n",
    "        print(\"*\" * 50, \"Start import_data()\", \"*\" * 50)\n",
    "        start_time = time()\n",
    "\n",
    "        # create excel full paht directory\n",
    "        excel_product = os.path.join(self.ROOTPATH, '019_20160101_20201231_ProductionData.xlsx')\n",
    "        # first sheet is real production data\n",
    "        df_product = pd.read_excel(excel_product, sheet_name = '20160101_20201231_ProductionDat')\n",
    "        # second sheet is NJ weather data\n",
    "        df_nj_weather = pd.read_excel(excel_product, sheet_name = 'MiddlesexWeather')\n",
    "        # third sheet is PA weather data\n",
    "        df_pa_weather = pd.read_excel(excel_product, sheet_name = 'BethlehemWeather')\n",
    "        # this new data missing rate, so we have to import old data and merge ['Rate'] to our new data\n",
    "        old_product = os.path.join(self.ROOTPATH, '017_20160101_20201231_ProductionData.xlsx')\n",
    "        df_old = pd.read_excel(old_product, sheet_name = '20160101_20201231_ProductionDat')\n",
    "        df_product['Rate'] = df_old['Rate']\n",
    "\n",
    "        # save\n",
    "        df_product.to_csv('03_data/20_production.csv',index=False)\n",
    "        df_nj_weather.to_csv('03_data/21_nj_weather.csv', index=False)\n",
    "        df_pa_weather.to_csv('03_data/22_pa_weather.csv', index=False)\n",
    "\n",
    "        cost_time = round((time() - start_time), 4)\n",
    "        print(\"*\" * 40, \"End import_data() with {} second\".format(cost_time), \"*\" * 40, end='\\n\\n')\n",
    "\n",
    "        return df_product, df_nj_weather, df_pa_weather\n",
    "\n",
    "    def read_csv(self):\n",
    "        \"\"\"\":arg\n",
    "        Because reading excel is too slow, so we use this function to read csv that processed and saved by\n",
    "        import_data() function.\n",
    "        \"\"\"\n",
    "        df_product = pd.read_csv('03_data/20_production.csv')\n",
    "        df_nj_weather = pd.read_csv('03_data/21_nj_weather.csv')\n",
    "        df_pa_weather = pd.read_csv('03_data/22_pa_weather.csv')\n",
    "\n",
    "\n",
    "        return df_product, df_nj_weather, df_pa_weather\n",
    "\n"
   ]
  },
  {
   "cell_type": "markdown",
   "metadata": {},
   "source": [
    "<br>"
   ]
  },
  {
   "cell_type": "markdown",
   "metadata": {},
   "source": [
    "<br>"
   ]
  },
  {
   "cell_type": "markdown",
   "metadata": {},
   "source": [
    "<br>"
   ]
  },
  {
   "cell_type": "markdown",
   "metadata": {},
   "source": [
    "## <a id=\"3.3 EDA\">3.3 EDA</a>\n",
    "<a href=\"#2.Table of Contents\">Click this Link back to Top</a>"
   ]
  },
  {
   "cell_type": "code",
   "execution_count": 19,
   "metadata": {},
   "outputs": [],
   "source": [
    "# from class_31_hyperparameters import HyperParamters\n",
    "\n",
    "# used for visulazation\n",
    "import matplotlib.pyplot as plt\n",
    "import pandas as pd\n",
    "import numpy as np\n",
    "\n",
    "class EDA(HyperParamters):\n",
    "    \"\"\":arg\n",
    "    \"\"\"\n",
    "    def __init__(self):\n",
    "        \"\"\":arg\n",
    "        \"\"\"\n",
    "        HyperParamters.__init__(self)\n",
    "\n",
    "    def missing_plot(self, df: pd.DataFrame):\n",
    "        \"\"\":arg\n",
    "\n",
    "        Used for missing data plot for count plot and percenatage plot\n",
    "        \"\"\"\n",
    "        # not all columns contain missing value, we only plot the colunms have missing value\n",
    "        # checking is there any missing value in this df and find threir column names and assign to col_missing_value\n",
    "        col_missing_value = list(df.columns[df.isnull().any()])\n",
    "        # count the missing value for each column\n",
    "        df[col_missing_value].isnull().sum()\n",
    "        # to hold the columns names\n",
    "        list_labels=[]\n",
    "        # to hold the count of missing values for each variable\n",
    "        list_value_count=[]\n",
    "        # to hold the percentage of missing values for each variable\n",
    "        list_percent_count=[]\n",
    "        #\n",
    "        for col in col_missing_value:\n",
    "            # add the column names into this list\n",
    "            list_labels.append(col)\n",
    "            # caculate each column missing value count and append to list\n",
    "            list_value_count.append(df[col].isnull().sum())\n",
    "            # df.shape[0] will give totoal row count\n",
    "            list_percent_count.append(df[col].isnull().sum()/df.shape[0])\n",
    "\n",
    "\n",
    "        # create two subplot with 1 row two columns\n",
    "        fig, (ax1, ax2) = plt.subplots(1,2)\n",
    "        # we use ax.barh() create horizontal bar chart, bar width is the count number of missing value\n",
    "        ax1.barh(y = np.arange(len(list_labels)),width = np.array(list_value_count), height=0.5, color='blue')\n",
    "        # set lenght of y labels\n",
    "        ax1.set_yticks(np.arange(len(list_labels)))\n",
    "        # set y labels\n",
    "        ax1.set_yticklabels(list_labels, rotation='horizontal')\n",
    "        ax1.set_xlabel('Count of missing values')\n",
    "        ax1.set_title(\"Columns with missing value count\")\n",
    "\n",
    "        ax2.barh(y=np.arange(len(list_labels)), width = np.array(list_percent_count), height=0.5, color='red')\n",
    "        ax2.set_yticks(np.arange(len(list_labels)))\n",
    "        ax2.set_yticklabels(list_labels, rotation='horizontal')\n",
    "        ax2.set_xlabel(\"Percentage of missing values\")\n",
    "        ax2.set_title(\"Columns with missing values\")\n",
    "\n",
    "        plt.show()\n",
    "        # print(col_missing_value, type(col_missing_value))\n",
    "\n",
    "        return col_missing_value\n",
    "\n",
    "\n",
    "    def bcr_dryer(self, df_product, df_nj_weather, df_pa_weather):\n",
    "        \"\"\"\n",
    "        This fucntion used for bar_chart_race library data reconstruction.\n",
    "        This function will present the relationship between ['Dryer'] and time\n",
    "\n",
    "        https://www.wikihow.com/Install-FFmpeg-on-Windows\n",
    "\n",
    "        Args:\n",
    "        -----\n",
    "        df_product:pd.DataFrame\n",
    "            We into\n",
    "\n",
    "        Returns:\n",
    "        ------\n",
    "        df\n",
    "        \"\"\"\n",
    "        # due to format unification, we need transform ['dt_date'] to its string type\n",
    "        df_nj_weather.loc[:, ('str_date')] = df_nj_weather['dt_date'].apply(lambda x: x.strftime('%Y-%m-%d'))\n",
    "        df_pa_weather.loc[:, ('str_date')] = df_pa_weather['dt_date'].apply(lambda x: x.strftime('%Y-%m-%d'))\n",
    "\n",
    "        # direct merge on ['dt_est'] without split each row to several hours rows\n",
    "        # because we only care about its accumualte results, so just extract combination of location and time\n",
    "        df_nj = pd.merge(df_product, df_nj_weather, on=['dt_est'], how='left')\n",
    "        df_pa = pd.merge(df_product, df_pa_weather, on=['dt_est'], how='left')\n",
    "\n",
    "\n",
    "        # ***********This part logic have some problem, we need delete duplicate from weather first ************\n",
    "        # in same day, it might have two weather condition, so when you merge data, it will appear duplicate records\n",
    "        # we know it will be duplicate when we merge with product data because some duplicate weather data\n",
    "        print('Before drop duplicate, {}, {}'.format(df_nj.shape, df_pa.shape))\n",
    "        # ['StartDate'] is unipue, other columns more or less contain same records\n",
    "        # we keep the first records and directly do this action on current DataFrame\n",
    "        df_nj.drop_duplicates(subset=['StartDate'], keep='first', inplace=True)\n",
    "        df_pa.drop_duplicates(subset=['StartDate'], keep='first', inplace=True)\n",
    "        print('After drop duplicate, {}, {}'.format(df_nj.shape, df_pa.shape))\n",
    "\n",
    "\n",
    "        # extract each dryer from df_product\n",
    "        df_01 = df_nj.loc[df_nj['Dryer'] == 'Dryer 01']\n",
    "        df_02 = df_nj.loc[df_nj['Dryer'] == 'Dryer 02']\n",
    "        df_03 = df_nj.loc[df_nj['Dryer'] == 'Dryer 03']\n",
    "        df_04 = df_nj.loc[df_nj['Dryer'] == 'Dryer 04']\n",
    "        df_06 = df_pa.loc[df_pa['Dryer'] == 'Dryer 06']\n",
    "        df_07 = df_pa.loc[df_pa['Dryer'] == 'Dryer 07']\n",
    "        df_08 = df_pa.loc[df_pa['Dryer'] == 'Dryer 08']\n",
    "        df_10 = df_pa.loc[df_pa['Dryer'] == 'Dryer 10']\n",
    "\n",
    "        # in each day, there might be several orders in one dryer, so we need to sum one day data into one row\n",
    "        series_01_cum = df_01.groupby(by=['str_date'])['ActualDryQty'].sum().cumsum()\n",
    "        series_02_cum = df_02.groupby(by=['str_date'])['ActualDryQty'].sum().cumsum()\n",
    "        series_03_cum = df_03.groupby(by=['str_date'])['ActualDryQty'].sum().cumsum()\n",
    "        series_04_cum = df_04.groupby(by=['str_date'])['ActualDryQty'].sum().cumsum()\n",
    "        series_06_cum = df_06.groupby(by=['str_date'])['ActualDryQty'].sum().cumsum()\n",
    "        series_07_cum = df_07.groupby(by=['str_date'])['ActualDryQty'].sum().cumsum()\n",
    "        series_08_cum = df_08.groupby(by=['str_date'])['ActualDryQty'].sum().cumsum()\n",
    "        series_10_cum = df_10.groupby(by=['str_date'])['ActualDryQty'].sum().cumsum()\n",
    "\n",
    "        # create a new time base DataFrame for next step merge with time range and type=datetime.time\n",
    "        df_base = pd.DataFrame(data=pd.date_range(start='1/2/2016', end='12/31/2020'), columns=['dt'])\n",
    "        # because next step we need to merge and using bar_race_chart librayr,\n",
    "        # so we tranform date into same format and type and restore into new column ['str_date']\n",
    "        df_base.loc[:, ('str_date')] = df_base['dt'].apply(lambda x: x.strftime('%Y-%m-%d'))\n",
    "        # in brc() library, it use time (string type) as index\n",
    "        df_base = df_base.set_index('str_date')\n",
    "        # concatnate data by columns, so rows is time index from df_base with everyday for these 5 years\n",
    "        # for each dryers, it might have someday don't work\n",
    "        df_bcr = pd.concat([df_base, series_01_cum], axis=1)\n",
    "        df_bcr = pd.concat([df_bcr, series_02_cum], axis=1)\n",
    "        df_bcr = pd.concat([df_bcr, series_03_cum], axis=1)\n",
    "        df_bcr = pd.concat([df_bcr, series_04_cum], axis=1)\n",
    "        df_bcr = pd.concat([df_bcr, series_06_cum], axis=1)\n",
    "        df_bcr = pd.concat([df_bcr, series_07_cum], axis=1)\n",
    "        df_bcr = pd.concat([df_bcr, series_08_cum], axis=1)\n",
    "        df_bcr = pd.concat([df_bcr, series_10_cum], axis=1)\n",
    "        # only reserve dryers columns\n",
    "        df_bcr.drop(labels=['dt'], axis=1, inplace=True)\n",
    "        df_bcr.columns = ['Dryer 01', 'Dryer 02', 'Dryer 03', 'Dryer 04', 'Dryer 06', 'Dryer 07', 'Dryer 08',\n",
    "                          'Dryer 10']\n",
    "        # this is used to fullfill with contiuous data in days that dryers dont' have task\n",
    "        df_bcr = df_bcr.interpolate()\n",
    "        # full fill some early day, like 01/01/2016, that interpolate() can't full fill\n",
    "        df_bcr.fillna(0, inplace=True)\n",
    "        # it's more easy to read file and start processing to movies\n",
    "        df_bcr.to_csv('03_data/27_bcr.csv', index=True)\n",
    "\n",
    "        # because each row is already start from on day, so we can directly use ['ActualDrayQty'] to cumulate sum\n",
    "        #     df_01.loc[:,('cumsum')] = df_01['ActualDryQty'].cumsum()\n",
    "        #     df_02.loc[:,('cumsum')] = df_02['ActualDryQty'].cumsum()\n",
    "\n",
    "        #     df_20 = pd.DataFrame(data=[df_14['dt_date'], df_14['cumsum']])\n",
    "        #     df_21 = df_20.T\n",
    "        #     df_21['str_date'] = df_21['dt_date'].apply(lambda x:x.strftime('%Y-%m-%d'))\n",
    "        #     df_22 = df_21.set_index('str_date')\n",
    "\n",
    "        #     # merge\n",
    "        #     df_bcr = pd.merge(df_base, df_01, on=['str_date'], how='left')\n",
    "        #     df_bcr = pd.merge(df_bc)\n",
    "\n",
    "        # create a new DataFrame for  bar_race_chart\n",
    "        #     df_bcr = pd.DataFrame()\n",
    "\n",
    "        return df_base, df_bcr\n"
   ]
  },
  {
   "cell_type": "markdown",
   "metadata": {},
   "source": [
    "<br>"
   ]
  },
  {
   "cell_type": "markdown",
   "metadata": {},
   "source": [
    "<br>"
   ]
  },
  {
   "cell_type": "markdown",
   "metadata": {},
   "source": [
    "<br>"
   ]
  },
  {
   "cell_type": "markdown",
   "metadata": {},
   "source": [
    "## <a id=\"3.4 Preprocess\">3.4 Preprocess</a>\n",
    "<a href=\"#2.Table of Contents\">Click this Link back to Top</a>"
   ]
  },
  {
   "cell_type": "code",
   "execution_count": 5,
   "metadata": {},
   "outputs": [],
   "source": [
    "# from class_31_hyperparameters import HyperParamters\n",
    "# from class_33_eda import EDA\n",
    "\n",
    "# using for timestap convert\n",
    "import pandas as pd\n",
    "import numpy as np\n",
    "from scipy import stats\n",
    "# recording running time in each function\n",
    "from time import time\n",
    "\n",
    "\n",
    "\n",
    "class PreProcess(HyperParamters):\n",
    "    \"\"\":arg\n",
    "    Actually, not only production data need to be clean.\n",
    "\n",
    "    tz_convert(): used to convert string to timestamp format\n",
    "    \"\"\"\n",
    "\n",
    "    def __init__(self):\n",
    "        \"\"\":arg\n",
    "        Inheriret from HyperParamters\n",
    "        \"\"\"\n",
    "        HyperParamters.__init__(self)\n",
    "\n",
    "\n",
    "    def tz_convert(self, series):\n",
    "        \"\"\":arg\n",
    "        Args:\n",
    "        ------\n",
    "        serise:DataFrame.series\n",
    "            each element from DataFrame columns\n",
    "\n",
    "        Returns:\n",
    "        -----------\n",
    "        series_est:timestamp\n",
    "\n",
    "        \"\"\"\n",
    "        series_est = pd.Timestamp(series, unit='s', tz='America/New_York')\n",
    "\n",
    "        return series_est\n",
    "\n",
    "    def tz_y_m_d(self, ts):\n",
    "        \"\"\":arg\n",
    "        We use this function to convert Timestamp to year/quarter/month/day\n",
    "\n",
    "        Args:\n",
    "        ------\n",
    "        ts:pd.Timestamp\n",
    "            ['dt_est']\n",
    "\n",
    "        Returns:\n",
    "        -------\n",
    "        year:int\n",
    "        quarter:int\n",
    "        month:int\n",
    "        day:int\n",
    "        \"\"\"\n",
    "        year = ts.year\n",
    "        quarter = ts.quarter\n",
    "        month = ts.month\n",
    "        day = ts.day\n",
    "        hour = ts.hour\n",
    "        dt_date = ts.date()\n",
    "        return year, quarter, month, day, hour, dt_date\n",
    "\n",
    "\n",
    "    def round_to_hour(self,timestamp):\n",
    "        \"\"\"\n",
    "        We notice df_product['StartDat'] is string type not DataFrame.timestamp.\n",
    "        And weather data are seperated by hours, so we need transform string time data round to nearest hour\n",
    "\n",
    "        Args:\n",
    "        --------\n",
    "        timestamp\n",
    "        \"\"\"\n",
    "        # due to excel convert to csv, all format are lost and original timestamp has transformed to 'string'\n",
    "        # so we add a duplicate process to convert 'string' to 'timestamp'\n",
    "        timestamp = pd.Timestamp(timestamp)\n",
    "        # because of summer time and winter time rules, some UTC date can't conver to EST\n",
    "        try:\n",
    "            date_hour = timestamp.round(freq='H').tz_localize(tz='America/New_York', nonexistent='shift_forward')\n",
    "        except:\n",
    "            print('This data cant convert correctly {}'.format(timestamp.round(freq='H')))\n",
    "            date_hour = timestamp.round(freq='H').tz_localize(tz='America/New_York',\n",
    "                                                              ambiguous='NaT',\n",
    "                                                              nonexistent='shift_forward')\n",
    "            print('This date replaced by {}'.format('NaT'))\n",
    "\n",
    "        return date_hour\n",
    "\n",
    "\n",
    "    def z_outlier(self, df, str_col, z_threshold  = 3, abs=False):\n",
    "        \"\"\"\n",
    "        We use z-score to delete outliers in our data. for example ['YieldPrecentage'] and ['Rate']\n",
    "        When ads=True, it will delete smallest and biggest outliers.\n",
    "        When ads=False, it will only delete outliers ['YieldPercentage']> 130%, which means remain [0,130]\n",
    "\n",
    "        Args:\n",
    "        ------\n",
    "        df:DataFrame\n",
    "            Any dataframe\n",
    "        str_col:str\n",
    "            the name of column you want to detect outliers and drop\n",
    "\n",
    "        Returns:\n",
    "        --------\n",
    "        df_clean:DataFrame\n",
    "            df has been dropped\n",
    "        df_outlier:DataFrame\n",
    "            The rows that has been detected as outliers\n",
    "        \"\"\"\n",
    "        if abs:\n",
    "            # if abs=True, we will absolute z-score and find the both side outliers\n",
    "            z_score = np.abs(stats.zscore(df[str_col], nan_policy='omit'))\n",
    "            print(\"We will drop too large and too small outliers\")\n",
    "            index_outlier = df[z_score > z_threshold].index\n",
    "        else:\n",
    "            # if abs=False (default setting), we only delete the too large outlers\n",
    "            z_score = stats.zscore(df[str_col], nan_policy='omit')\n",
    "            print(\"we will only drop too large outliers\")\n",
    "            index_outlier = df[(z_score > z_threshold) | (z_score < -z_threshold)].index\n",
    "        # set a z-score threshold, any greater than this value will be eliminate\n",
    "        # z_threshold = 3\n",
    "        # filter that ooutlier rows in dataframe\n",
    "        # index_outlier = np.where(z_score > z_threshold, z_score)\n",
    "        # get the index of these outliers\n",
    "        # index_outlier = df[z_score > z_threshold].index\n",
    "        # restore these outliers in df_outlier for further review\n",
    "        df_outlier = df.loc[index_outlier,:]\n",
    "        print('We have {} data points are outliers, which between {} and {}'.format(len(index_outlier),\n",
    "                                                                                    df_outlier[str_col].min(),\n",
    "                                                                                    df_outlier[str_col].max()))\n",
    "        # drop these rows by index\n",
    "        df_clean = df.drop(axis=0, index=index_outlier)\n",
    "        print(\"After drop outlier, the {} column remain range between {} and {}\".format(str_col,\n",
    "                                                                                        df_clean[str_col].min(),\n",
    "                                                                                        df_clean[str_col].max()))\n",
    "        return df_clean, df_outlier\n",
    "\n",
    "\n",
    "\n",
    "    def iqr_outlier(self, df, str_col, iqr_threshold=3):\n",
    "        \"\"\":arg\n",
    "        Except z-socre, we also have also have 'Interquartile Range Method' to deal with non-Gaussian distribution\n",
    "\n",
    "        Args:\n",
    "        -----\n",
    "        df:pd.DataFrame\n",
    "\n",
    "        \"\"\"\n",
    "        print('Start using IQR to eliminate outliers.')\n",
    "        # caculate interquartile range\n",
    "        q75, q25 = np.percentile(df[str_col], 75), np.percentile(df[str_col], 25)\n",
    "        # IQR can be used to identify outliers by defining limits on the sample values that are a factore k\n",
    "        iqr = q75 - q25\n",
    "        # of the IQR below the 25th percentile or above the 75th percentile. The commmon value of k is 1.5\n",
    "        # A factor k of 3 or more can be used to identify values that are extrmel outliers\n",
    "        cut_off = iqr * iqr_threshold\n",
    "        # get the lower bound and upper bound\n",
    "        lower_bound, upper_bound = q25-cut_off, q75+cut_off\n",
    "        # so we can use these bounds to identify outliers and remaining data\n",
    "        df_outlier = df.loc[(df[str_col]>upper_bound) | (df[str_col]<lower_bound)]\n",
    "        print('In {} column using {} as threshold'.format(str_col,iqr_threshold))\n",
    "        print('We have {} data points are outliers, which between {} and {}'.format(df_outlier.shape[0],\n",
    "                                                                                    df_outlier[str_col].min(),\n",
    "                                                                                    df_outlier[str_col].max()))\n",
    "        print(\"Before drop outlier, the {} column remain range between {} and {}\".format(str_col,\n",
    "                                                                                         df[str_col].min(),\n",
    "                                                                                         df[str_col].max()))\n",
    "        # then we calculate filter out outlers result\n",
    "        df_clean = df.loc[(df[str_col]<upper_bound) & (df[str_col]>lower_bound)]\n",
    "        print(\"After drop outlier, the {} column remain range between {} and {}\".format(str_col,\n",
    "                                                                                        df_clean[str_col].min(),\n",
    "                                                                                        df_clean[str_col].max()))\n",
    "\n",
    "        print('Complete IQR eliminate outliers Function.')\n",
    "\n",
    "        return df_clean, df_outlier\n",
    "\n",
    "    def drop_na(self, df, list_col):\n",
    "        \"\"\"\n",
    "        Args:\n",
    "        ------\n",
    "        df:DataFrame\n",
    "            The DF has delete some objective columns\n",
    "        list_col:list\n",
    "            Generated by EDA() part, like['dt_est','Rate']\n",
    "\n",
    "        Returns:\n",
    "        --------\n",
    "        df_clean:DataFrame\n",
    "            complete cleaning\n",
    "        df_dropped:DataFrame\n",
    "            Contain the rows have been dropped by dropna()\n",
    "        \"\"\"\n",
    "        # sometime, we also need review these columns that has been deleted by rows, so we restore them\n",
    "        # isnull() will return every element, NaN=True, Value=False\n",
    "        # any() axis=0, reduced the index, return a Serise whose index is the original column labesl\n",
    "        # any(axis=1), reduced the columns, return a Serise whose index is the original index label\n",
    "        # we use isnull().any(axis=1) to check each rows have missing data or not\n",
    "        df_dropped = df[df.isnull().any(axis=1)]\n",
    "        # according to eda result, we got columns name that has missing values\n",
    "        df_clean = df.dropna(subset=list_col, axis=0)\n",
    "        print(\"These {} columns still have missing data\".format(list_col))\n",
    "        print(\"After dropping na, {} rows has decreased to {} rows\".format(df.shape[0], df_clean.shape[0]))\n",
    "\n",
    "        return df_clean, df_dropped\n",
    "\n",
    "    def convert_time(self, df_product, df_nj_weather, df_pa_weather):\n",
    "        \"\"\":arg\n",
    "        \"\"\"\n",
    "        # **************Convert all time into same timestamp format***************************\n",
    "        # It should clean data first by columns then by rows, but missing data will appear when you convert time\n",
    "        # From out put, we can now, 11-05 and 11-06 two records got Nan on ['dt_est'] column,\n",
    "        # so we need drop them by row in the next part\n",
    "        # convert weather data ['dt'] (unix time) to Eastern Stardard Time(EST)\n",
    "        # pass an argument(series) to function tz_convert()\n",
    "        df_nj_weather['dt_est'] = df_nj_weather['dt'].apply(self.tz_convert)\n",
    "        # according to Timestamp split into year, quarter, month and day for further merge action\n",
    "        df_nj_weather['year'] = df_nj_weather['dt_est'].apply(lambda x: self.tz_y_m_d(x)[0])\n",
    "        df_nj_weather['quarter'] = df_nj_weather['dt_est'].apply(lambda x: self.tz_y_m_d(x)[1])\n",
    "        df_nj_weather['month'] = df_nj_weather['dt_est'].apply(lambda x: self.tz_y_m_d(x)[2])\n",
    "        df_nj_weather['day'] = df_nj_weather['dt_est'].apply(lambda x: self.tz_y_m_d(x)[3])\n",
    "        df_nj_weather['hour'] = df_nj_weather['dt_est'].apply(lambda x: self.tz_y_m_d(x)[4])\n",
    "        df_nj_weather['dt_date'] = df_nj_weather['dt_est'].apply(lambda x: self.tz_y_m_d(x)[5])\n",
    "        # another way to use apply()\n",
    "        # df_nj_weather['dt_est'] = df_nj_weather['dt'].apply(lambda x: pd.TimeStamp(x, unit='s', tz='America/New_York'))\n",
    "        df_pa_weather['dt_est'] = df_pa_weather['dt'].apply(self.tz_convert)\n",
    "        # according to Timestamp split into year, quarter, month and day for further merge action\n",
    "        df_pa_weather['year'] = df_pa_weather['dt_est'].apply(lambda x: self.tz_y_m_d(x)[0])\n",
    "        df_pa_weather['quarter'] = df_pa_weather['dt_est'].apply(lambda x: self.tz_y_m_d(x)[1])\n",
    "        df_pa_weather['month'] = df_pa_weather['dt_est'].apply(lambda x: self.tz_y_m_d(x)[2])\n",
    "        df_pa_weather['day'] = df_pa_weather['dt_est'].apply(lambda x: self.tz_y_m_d(x)[3])\n",
    "        df_pa_weather['hour'] = df_pa_weather['dt_est'].apply(lambda x: self.tz_y_m_d(x)[4])\n",
    "        df_pa_weather['dt_date'] = df_pa_weather['dt_est'].apply(lambda x: self.tz_y_m_d(x)[5])\n",
    "        # for merge purpose, make sure two column have same name\n",
    "        df_product['dt_est'] = df_product['StartDate'].apply(self.round_to_hour)\n",
    "        # ***********************End***************************************************\n",
    "\n",
    "        return df_product, df_nj_weather, df_pa_weather\n",
    "\n",
    "\n",
    "    def drop_col(self, df_product, df_nj_weather, df_pa_weather):\n",
    "        \"\"\":arg\n",
    "        From initial observation, we know some columns are not useful data analysis infomation,\n",
    "        So, we directly delete them by columns according to EDA() results\n",
    "\n",
    "        \"\"\"\n",
    "        class_eda = EDA()\n",
    "        # ***************Drop non-realted columns**********************\n",
    "        # *************Drop by columns**************\n",
    "        # ['Bulk Density'] have 50% missing data\n",
    "        df_product = df_product.drop(self.PRODUCT_DROP, axis=1)\n",
    "        print(\"In Production sheet, these columns have been dropped {}\".format(self.PRODUCT_DROP))\n",
    "        # Drop un-related colunms from weather data\n",
    "        df_nj_weather = df_nj_weather.drop(self.WEATHER_DROP, axis=1)\n",
    "        # some weather data might also need clearn\n",
    "        list_missing_nj = class_eda.missing_plot(df_nj_weather)\n",
    "        # axis=0/index axis=1/columns\n",
    "        df_nj_weather = df_nj_weather.drop(list_missing_nj, axis=1)\n",
    "        list_missing_pa = class_eda.missing_plot(df_pa_weather)\n",
    "        df_pa_weather = df_pa_weather.drop(list_missing_pa, axis=1)\n",
    "        # ******************End************************************\n",
    "        return df_product, df_nj_weather, df_pa_weather\n",
    "\n",
    "\n",
    "    def drop_outlier(self, df_product):\n",
    "        \"\"\":arg\n",
    "        For now we only drop outlier on df_prodcut. Weather data are not involved yet.\n",
    "        Actually, we can find that ['Humidity'] is fit normal distribution perfectlly\n",
    "\n",
    "        Args:\n",
    "        -------\n",
    "        df_product:DataFrame\n",
    "            After dropping columns and rows, we can not drop outliers\n",
    "        Returns:\n",
    "        -------\n",
    "\n",
    "        \"\"\"\n",
    "        #*****************Drop by outliers****************\n",
    "        # after drop non-related columns, convert timestamp format, drop missing data by rows,\n",
    "        # we need to drop outliers in some necessary columns\n",
    "        # we might need automate generate outlier by some EDA() models\n",
    "        str_col='YieldPercentage'\n",
    "        df_product, df_outlier_1 = self.z_outlier(df_product, str_col, z_threshold = self.YEILD_THRESHOLD, abs=False)\n",
    "        # ['Rate'] data have a lot of extramly large data. According to human judgement, >2000 might be delete.\n",
    "        # Before we use z-score we can use two sigma range to only restore CDF locate in 95%\n",
    "        q_lower = np.percentile(df_product['Rate'], self.TWO_SIGMA)\n",
    "        q_upper = np.percentile(df_product['Rate'], (100-self.TWO_SIGMA))\n",
    "        print(\"Any data smaller than {} and greater than {} will be eliminate\".format(q_lower, q_upper))\n",
    "        # we want to restore these delete column for double check\n",
    "        df_outlier_2 = df_product.loc[(df_product['Rate']>q_upper) | (df_product['Rate']<q_lower)]\n",
    "        print('There are {} rows identified as extramlly outliers'.format(df_outlier_1.shape[0]))\n",
    "        # If we use two sigma, we will directly delete data smaller than 8.1 and greater than 975\n",
    "        df_product = df_product.loc[(df_product['Rate']<q_upper) & (df_product['Rate']>q_lower)]\n",
    "        # But when we use statistical method to testify our data outliers\n",
    "        # In z-score function, if we set value to 3, ['Rate']>1275 row=3 will be delete\n",
    "        # if we set value to 2, ['Rate']>973 row=247 will be delete\n",
    "        df_product, df_outlier_3 = self.z_outlier(df_product, 'Rate', z_threshold = self.IQR_THRESHOLD, abs=True)\n",
    "        # concate outliers into one data frame\n",
    "        frames = [df_outlier_1, df_outlier_2, df_outlier_3]\n",
    "        df_outlier = pd.concat(frames)\n",
    "        #*****************************End**********************\n",
    "\n",
    "        return df_product, df_outlier\n",
    "\n",
    "\n",
    "\n",
    "\n",
    "    def clean_modify(self, df_product, df_nj_weather, df_pa_weather):\n",
    "        \"\"\":arg\n",
    "        \"\"\"\n",
    "        # ********************Adidtional modified*****************************\n",
    "        # we have a few small changes based on some inputing error\n",
    "        # For example ['Food Addit'] == ['Food Additive']\n",
    "        df_product.loc[df_product['ProdLine'] == 'Food Addit', 'ProdLine'] = 'Food Additive'\n",
    "        # PA only proedure food related (non-Fragance) kind custome material\n",
    "        # we find a record in PA location index=3299, Batchnumber = PASD340354\n",
    "        # It could be correct record but for now we delete this line\n",
    "        ind = df_product[(df_product['ProdLine'] == 'Fragrance') & (df_product['BatchNumber'].str.contains('PA'))].index\n",
    "        # we can use former index to drop, beacuse it's two long for one line code.\n",
    "        df_product.drop(index=ind, inplace=True)\n",
    "\n",
    "        # when we deal with product data, we find some dryer in the wrong location.\n",
    "        # Generally, NJ has Dryer 01 -04, PA has Dryer 06-11.\n",
    "        # For index=7491, BatchNumber ='NJSD362799' this records originally palced in NJ and then swithed over\n",
    "        # to be run in PA. Typically, Spray-Tek protocal is cancel the NJ order and re-submit it as a PA order\n",
    "        # In this records, the NJ order was not cancelled. The dyer number is accurate and the location is incorrect\n",
    "        df_nj_1 = df_product[df_product['BatchNumber'].str.contains('NJ')]\n",
    "        # then we find the index of these error recording columns\n",
    "        idx_1 = df_nj_1.loc[(df_nj_1['Dryer'] == 'Dryer 06') | (df_nj_1['Dryer'] == 'Dryer 09')].index\n",
    "        # idx_1 = df_nj_1.loc[df_nj_1['Dryer'].isin(['Dryer 06','Dryer 09'])].index\n",
    "        # The best way to replace/assign value is use .loc[] to locate and then assign new value 'PA000'\n",
    "        df_product.loc[idx_1, 'BatchNumber'] = 'PA000'\n",
    "        # vice-versa, we find Dryer01 in PA, it should be in NJ\n",
    "        # there index=(2761, 3245), BatchNumber=('PASD337379', 'PASD337014')\n",
    "        df_pa_1 = df_product[df_product['BatchNumber'].str.contains('PA')]\n",
    "        idx_2 = df_pa_1.loc[(df_pa_1['Dryer'] == 'Dryer 01')].index\n",
    "        df_product.loc[idx_2, 'BatchNumber'] = 'NJ000'\n",
    "        # anthoer way, If you want to assign multi-values to a pd.Series, the other head also should be pd.Serise\n",
    "        # df_product.loc[idx_2, 'BatchNumber'] = df_product.loc[idx_2, 'BatchNumber'].map(lambda x: 'NJ111').values\n",
    "\n",
    "        # *************************End**********************************************\n",
    "        return df_product, df_nj_weather, df_pa_weather\n",
    "\n",
    "\n",
    "\n",
    "\n",
    "    def clean_data(self, df_product, df_nj_weather, df_pa_weather):\n",
    "        \"\"\":arg\n",
    "        Delete columns we believe didn't use in the future.\n",
    "\n",
    "        Args:\n",
    "        --------\n",
    "        df_product:DataFrame\n",
    "\n",
    "        Returns:\n",
    "        --------\n",
    "        df_product:DataFrame\n",
    "            droped missing value, add a new column['dt_est'] for merge purpose\n",
    "        df_nj_weather:DataFrame\n",
    "            cleaned DataFrame table\n",
    "\n",
    "        \"\"\"\n",
    "        print(\"*\" * 50, \"Start clean_data()\", \"*\" * 50)\n",
    "        start_time = time()\n",
    "\n",
    "        class_eda = EDA()\n",
    "\n",
    "\n",
    "        #**************Convert all time into same timestamp format***************************\n",
    "        # It should clean data first by columns then by rows, but missing data will appear when you convert time\n",
    "        # From out put, we can now, 11-05 and 11-06 two records got Nan on ['dt_est'] column,\n",
    "        # so we need drop them by row in the next part\n",
    "        # convert weather data ['dt'] (unix time) to Eastern Stardard Time(EST)\n",
    "        # pass an argument(series) to function tz_convert()\n",
    "        df_nj_weather['dt_est'] = df_nj_weather['dt'].apply(self.tz_convert)\n",
    "        # according to Timestamp split into year, quarter, month and day for further merge action\n",
    "        df_nj_weather['year'] = df_nj_weather['dt_est'].apply(lambda x: self.tz_y_m_d(x)[0])\n",
    "        df_nj_weather['quarter'] = df_nj_weather['dt_est'].apply(lambda x: self.tz_y_m_d(x)[1])\n",
    "        df_nj_weather['month'] = df_nj_weather['dt_est'].apply(lambda x: self.tz_y_m_d(x)[2])\n",
    "        df_nj_weather['day'] = df_nj_weather['dt_est'].apply(lambda x: self.tz_y_m_d(x)[3])\n",
    "        # another way to use apply()\n",
    "        # df_nj_weather['dt_est'] = df_nj_weather['dt'].apply(lambda x: pd.TimeStamp(x, unit='s', tz='America/New_York'))\n",
    "        df_pa_weather['dt_est'] = df_pa_weather['dt'].apply(self.tz_convert)\n",
    "        # according to Timestamp split into year, quarter, month and day for further merge action\n",
    "        df_pa_weather['year'] = df_pa_weather['dt_est'].apply(lambda x: self.tz_y_m_d(x)[0])\n",
    "        df_pa_weather['quarter'] = df_pa_weather['dt_est'].apply(lambda x: self.tz_y_m_d(x)[1])\n",
    "        df_pa_weather['month'] = df_pa_weather['dt_est'].apply(lambda x: self.tz_y_m_d(x)[2])\n",
    "        df_pa_weather['day'] = df_pa_weather['dt_est'].apply(lambda x: self.tz_y_m_d(x)[3])\n",
    "        # for merge purpose, make sure two column have same name\n",
    "        df_product['dt_est'] = df_product['StartDate'].apply(self.round_to_hour)\n",
    "        #***********************End***************************************************\n",
    "\n",
    "\n",
    "        #***************Drop non-realted columns**********************\n",
    "        # *************Drop by columns**************\n",
    "        # ['Bulk Density'] have 50% missing data\n",
    "        df_product = df_product.drop(self.PRODUCT_DROP, axis=1)\n",
    "        print(\"In Production sheet, these columns have been dropped {}\".format(self.PRODUCT_DROP))\n",
    "        # Drop un-related colunms from weather data\n",
    "        df_nj_weather = df_nj_weather.drop(self.WEATHER_DROP, axis = 1)\n",
    "        # some weather data might also need clearn\n",
    "        list_missing_nj = class_eda.missing_plot(df_nj_weather)\n",
    "        df_nj_weather = df_nj_weather.drop(list_missing_nj, axis = 1)\n",
    "        list_missing_pa = class_eda.missing_plot(df_pa_weather)\n",
    "        df_pa_weather = df_pa_weather.drop(list_missing_pa, axis = 1)\n",
    "        #******************End************************************\n",
    "\n",
    "\n",
    "        #***********************Drop missing data********************************\n",
    "        list_col_missing_product = class_eda.missing_plot(df_product)\n",
    "        #**************Drop by rows**********************\n",
    "        # we get the name of columns that has missing value from eda part\n",
    "        df_product,df_dropped = self.drop_na(df_product, list_col_missing_product)\n",
    "        #******************End*****************\n",
    "\n",
    "\n",
    "        #*****************Drop by outliers****************\n",
    "        # after drop non-related columns, convert timestamp format, drop missing data by rows,\n",
    "        # we need to drop outliers in some necessary columns\n",
    "        # we might need automate generate outlier by some EDA() models\n",
    "        str_col='YieldPercentage'\n",
    "        df_product, df_outlier_1 = self.z_outlier(df_product, str_col, z_threshold = self.YEILD_THRESHOLD, abs=False)\n",
    "        # ['Rate'] data have a lot of extramly large data. According to human judgement, >2000 might be delete.\n",
    "        # But when we use statistical method to testify our data outliers\n",
    "        # In z-score function, if we set value to 3, ['Rate']>1275 row=3 will be delete\n",
    "        # if we set value to 2, ['Rate']>973 row=247 will be delete\n",
    "        df_product, df_outlier_2 = self.z_outlier(df_product, 'Rate', z_threshold = self.IQR_THRESHOLD, abs=False)\n",
    "        # concate outliers into one data frame\n",
    "        frames = [df_outlier_1, df_outlier_2]\n",
    "        df_outlier = pd.concat(frames)\n",
    "        #*****************************End**********************\n",
    "\n",
    "\n",
    "        #********************Adidtional modified*****************************\n",
    "        # we have a few small changes based on some inputing error\n",
    "        # For example ['Food Addit'] == ['Food Additive']\n",
    "        df_product.loc[df_product['ProdLine'] == 'Food Addit', 'ProdLine'] = 'Food Additive'\n",
    "        # PA only proedure food related (non-Fragance) kind custome material\n",
    "        # we find a record in PA location index=3299, Batchnumber = PASD340354\n",
    "        # It could be correct record but for now we delete this line\n",
    "        ind=df_product[(df_product['ProdLine'] == 'Fragrance') & (df_product['BatchNumber'].str.contains('PA'))].index\n",
    "        # we can use former index to drop, beacuse it's two long for one line code.\n",
    "        df_product.drop(index=ind, inplace=True)\n",
    "\n",
    "        # when we deal with product data, we find some dryer in the wrong location.\n",
    "        # Generally, NJ has Dryer 01 -04, PA has Dryer 06-11.\n",
    "        # For index=7491, BatchNumber ='NJSD362799' this records originally palced in NJ and then swithed over\n",
    "        # to be run in PA. Typically, Spray-Tek protocal is cancel the NJ order and re-submit it as a PA order\n",
    "        # In this records, the NJ order was not cancelled. The dyer number is accurate and the location is incorrect\n",
    "        df_nj_1 = df_product[df_product['BatchNumber'].str.contains('NJ')]\n",
    "        # then we find the index of these error recording columns\n",
    "        idx_1 = df_nj_1.loc[(df_nj_1['Dryer'] == 'Dryer 06') | (df_nj_1['Dryer'] == 'Dryer 09')].index\n",
    "        # idx_1 = df_nj_1.loc[df_nj_1['Dryer'].isin(['Dryer 06','Dryer 09'])].index\n",
    "        # The best way to replace/assign value is use .loc[] to locate and then assign new value 'PA000'\n",
    "        df_product.loc[idx_1, 'BatchNumber'] = 'PA000'\n",
    "        # vice-versa, we find Dryer01 in PA, it should be in NJ\n",
    "        # there index=(2761, 3245), BatchNumber=('PASD337379', 'PASD337014')\n",
    "        df_pa_1 = df_product[df_product['BatchNumber'].str.contains('PA')]\n",
    "        idx_2 = df_pa_1.loc[(df_pa_1['Dryer'] == 'Dryer 01')].index\n",
    "        df_product.loc[idx_2, 'BatchNumber'] = 'NJ000'\n",
    "        # anthoer way, If you want to assign multi-values to a pd.Series, the other head also should be pd.Serise\n",
    "        # df_product.loc[idx_2, 'BatchNumber'] = df_product.loc[idx_2, 'BatchNumber'].map(lambda x: 'NJ111').values\n",
    "\n",
    "        #*************************End**********************************************\n",
    "\n",
    "\n",
    "        cost_time = round((time() - start_time), 4)\n",
    "        print(\"*\" * 40, \"End clean_data() with {} second\".format(cost_time), \"*\" * 40, end='\\n\\n')\n",
    "\n",
    "        return df_product, df_nj_weather, df_pa_weather, df_dropped, df_outlier\n",
    "\n"
   ]
  },
  {
   "cell_type": "markdown",
   "metadata": {},
   "source": [
    "<br>"
   ]
  },
  {
   "cell_type": "markdown",
   "metadata": {},
   "source": [
    "<br>"
   ]
  },
  {
   "cell_type": "markdown",
   "metadata": {},
   "source": [
    "<br>"
   ]
  },
  {
   "cell_type": "markdown",
   "metadata": {},
   "source": [
    "## <a id=\"3.5 Merge Data\">3.5 Merge Data</a>\n",
    "<a href=\"#2.Table of Contents\">Click this Link back to Top</a>"
   ]
  },
  {
   "cell_type": "code",
   "execution_count": 6,
   "metadata": {},
   "outputs": [],
   "source": [
    "# from class_31_hyperparameters import HyperParamters\n",
    "\n",
    "import pandas as pd\n",
    "import numpy as np\n",
    "# for time sum()\n",
    "import datetime\n",
    "from time import time\n",
    "\n",
    "class MergeData(HyperParamters):\n",
    "    \"\"\":arg\n",
    "    For now, we have differenty hypothesis to view our data\n",
    "    We will use self.MERGE_WAY to choose different hypothesis\n",
    "\n",
    "    row_proliferate will be the core components. Every other merge function will need call self.df_multi variable first\n",
    "\n",
    "\n",
    "    1.self.MERGE_WAY:one\n",
    "        without further process, just using dt_est to merge\n",
    "    2.self.MERGE_WAY:\n",
    "\n",
    "    \"\"\"\n",
    "    def __init__(self):\n",
    "        HyperParamters.__init__(self)\n",
    "\n",
    "    def convert_timedelta(self, element):\n",
    "        \"\"\":arg\n",
    "        \"\"\"\n",
    "        time_delta = datetime.timedelta(hours = element)\n",
    "        return time_delta\n",
    "\n",
    "\n",
    "    def row_proliferate(self, df_product):\n",
    "        \"\"\":arg\n",
    "        Because weather data is split by hour, so we need transform each records into every hour records\n",
    "\n",
    "        Args:\n",
    "        -----\n",
    "        df_product:DataFrame\n",
    "            Production data that complete clean\n",
    "\n",
    "        Returns:\n",
    "        -------\n",
    "        self.df_multi:DataFrame\n",
    "            Inhereit production information from df_product, so its a production df with ['dt_est'] hours proliferate\n",
    "            All other function in this class wiil need call this variable to merge\n",
    "        \"\"\"\n",
    "        print(\"*\" * 50, \"Start row_proliferate()\", \"*\" * 50)\n",
    "        start_time = time()\n",
    "\n",
    "        # first create a new column ['hours'] from ['DryingTime_Hrs'] round to bigger integer\n",
    "        df_product['hours'] = np.ceil(df_product['DryingTime_Hrs']).astype(int)\n",
    "        # Second, repeat each records/rows by ['hours'] times\n",
    "        # which means you will have how many running hours, you will have how many rows for each column\n",
    "        self.df_multi = pd.DataFrame(np.repeat(df_product.values, df_product['hours'], axis=0),\n",
    "                                      columns = df_product.columns)\n",
    "        # Thrid, adjust ['hours'] to ascending rank model, for instance, [3,3,3] to [0,1,2]\n",
    "        # this is used for next step add to ['dt_est'] time\n",
    "        # groupby each old record, for instance, for first records, groupby will be a three row table\n",
    "        # for second records, groupby['StartData'] will be a nine row table\n",
    "        # Then, extract ['hours'] column, for each pd.Series, apply a fomulation\n",
    "        # addition, in here, ['hours'] will not be a single row, instead, it will be a three element Series\n",
    "        # for this three/nine series, we cacualte their cumulation sum cumsum() [3,3,3] will be [3,6,9]\n",
    "        # for instance [9.9.9.9...9] will be [9,18,27,,,,81]\n",
    "        # and we divide by ['hours'] count, which will be [3,9,...], last minute 1 to get a column for timestamp add\n",
    "        self.df_multi['hour_add'] = self.df_multi.groupby(['StartDate'])['hours'].apply(lambda x:x.cumsum()/x.count())-1\n",
    "        # our weather segmentation is one hour\n",
    "        # one_hour = datetime.timedelta(hours = 1)\n",
    "        self.df_multi['hour_add'] = self.df_multi['hour_add'].apply(self.convert_timedelta)\n",
    "        self.df_multi['dt_est'] = self.df_multi['dt_est'] + self.df_multi['hour_add']\n",
    "\n",
    "        cost_time = round((time() - start_time), 4)\n",
    "        print(\"*\" * 40, \"End row_proliferate() with {} second\".format(cost_time), \"*\" * 40, end='\\n\\n')\n",
    "\n",
    "        return self.df_multi\n",
    "\n",
    "\n",
    "    def merge_location(self, df_product, df_nj_weather, df_pa_weather):\n",
    "        \"\"\":arg\n",
    "        split by location, just merge all together by ['dt_est']\n",
    "        \"\"\"\n",
    "        # Identify location by ['Batchnumber']\n",
    "        df_nj_product = self.df_multi[self.df_multi['BatchNumber'].str.contains('NJ', regex=False)]\n",
    "        # them merge them into a new DataFrame\n",
    "        # after merge, we find a situation, df_nj_product.shape=(102385,6) df_nj.shape=(108907,31)\n",
    "        # after I check indicator, they are exist in both dataset,\n",
    "        # In some day, it should only have 24 records by each hours. But if there is some weather condition mixed up\n",
    "        # for example, at Jan/23/2016, we got 39 records in one day, because most of time mix snow and frog\n",
    "        # so the extract rows are from these dual weather condition, which only different in ['weather_id']\n",
    "        df_nj = pd.merge(df_nj_product, df_nj_weather, how='left', on=['dt_est'], indicator=True)\n",
    "        # merge with self.df_multi and got a new NJ_Production DataFrame\n",
    "        df_pa_pro = self.df_multi[self.df_multi['BatchNumber'].str.contains('PA', regex=False)]\n",
    "        # then merge\n",
    "        df_pa = pd.merge(df_pa_pro, df_pa_weather, how='left', on=['dt_est'], indicator=True)\n",
    "\n",
    "        return df_nj, df_pa\n",
    "\n"
   ]
  },
  {
   "cell_type": "markdown",
   "metadata": {},
   "source": [
    "<br>"
   ]
  },
  {
   "cell_type": "markdown",
   "metadata": {},
   "source": [
    "<br>"
   ]
  },
  {
   "cell_type": "markdown",
   "metadata": {},
   "source": [
    "<br>"
   ]
  },
  {
   "cell_type": "markdown",
   "metadata": {},
   "source": [
    "# <a id=\"4.others\">4.Others</a>\n",
    "<a href=\"#2.Table of Contents\">Click this Link back to Top</a>"
   ]
  },
  {
   "cell_type": "code",
   "execution_count": null,
   "metadata": {},
   "outputs": [],
   "source": []
  },
  {
   "cell_type": "code",
   "execution_count": null,
   "metadata": {},
   "outputs": [],
   "source": []
  },
  {
   "cell_type": "code",
   "execution_count": null,
   "metadata": {},
   "outputs": [],
   "source": []
  },
  {
   "cell_type": "code",
   "execution_count": null,
   "metadata": {},
   "outputs": [],
   "source": []
  },
  {
   "cell_type": "code",
   "execution_count": null,
   "metadata": {},
   "outputs": [],
   "source": []
  },
  {
   "cell_type": "code",
   "execution_count": null,
   "metadata": {},
   "outputs": [],
   "source": []
  },
  {
   "cell_type": "markdown",
   "metadata": {},
   "source": [
    "# <a id=\"7.Main Function\">7.Main Function</a>\n",
    "<a href=\"#2.Table of Contents\">Click this Link back to Top</a>"
   ]
  },
  {
   "cell_type": "code",
   "execution_count": 7,
   "metadata": {},
   "outputs": [
    {
     "name": "stdout",
     "output_type": "stream",
     "text": [
      "This data cant convert correctly 2016-11-06 01:00:00\n",
      "This date replaced by NaT\n",
      "This data cant convert correctly 2017-11-05 01:00:00\n",
      "This date replaced by NaT\n",
      "In Production sheet, these columns have been dropped ['Bulk Density', 'Moisture', 'Flow', 'Hygroscopicity']\n"
     ]
    },
    {
     "data": {
      "image/png": "[encoded data removed]",
      "text/plain": [
       "<Figure size 432x288 with 2 Axes>"
      ]
     },
     "metadata": {
      "needs_background": "light"
     },
     "output_type": "display_data"
    },
    {
     "data": {
      "image/png": "[encoded data removed]",
      "text/plain": [
       "<Figure size 432x288 with 2 Axes>"
      ]
     },
     "metadata": {
      "needs_background": "light"
     },
     "output_type": "display_data"
    },
    {
     "data": {
      "image/png": "[encoded data removed]",
      "text/plain": [
       "<Figure size 432x288 with 2 Axes>"
      ]
     },
     "metadata": {
      "needs_background": "light"
     },
     "output_type": "display_data"
    },
    {
     "name": "stdout",
     "output_type": "stream",
     "text": [
      "These ['CustItem', 'ScheduledDryQty', 'ActualDryQty', 'YieldPercentage', 'ProdLine', 'Rate', 'dt_est'] columns still have missing data\n",
      "After dropping na, 9970 rows has decreased to 9931 rows\n",
      "we will only drop too large outliers\n",
      "We have 431 data points are outliers, which between 0.0 and 864.9\n",
      "After drop outlier, the YieldPercentage column remain range between 71.2 and 111.0\n",
      "Any data smaller than 10.04036731634183 and greater than 981.9324986390856 will be eliminate\n",
      "There are 431 rows identified as extramlly outliers\n",
      "We will drop too large and too small outliers\n",
      "We have 327 data points are outliers, which between 819.260752688172 and 981.8181818181821\n",
      "After drop outlier, the Rate column remain range between 10.06896551724138 and 818.9655172413792\n",
      "************************************************** Start row_proliferate() **************************************************\n",
      "**************************************** End row_proliferate() with 5.4216 second ****************************************\n",
      "\n",
      "OVER\n"
     ]
    }
   ],
   "source": [
    "# from class_31_hyperparameters import HyperParamters\n",
    "# from class_32_import_data import ImportData\n",
    "# from class_34_preprocess import PreProcess\n",
    "# from class_33_eda import EDA\n",
    "# from class_35_merge_data import MergeData\n",
    "\n",
    "def main():\n",
    "    \"\"\"\n",
    "    We use this function to call process one by one.\n",
    "    \"\"\"\n",
    "\n",
    "\n",
    "    # ***********************import******************************\n",
    "    class_import = ImportData()\n",
    "    # df_product, df_nj_weather, df_pa_weather = class_import.import_data()\n",
    "    df_product_1, df_nj_weather_1, df_pa_weather_1 = class_import.read_csv()\n",
    "\n",
    "    # **************************EDA***************************\n",
    "    class_eda = EDA()\n",
    "\n",
    "    # *******************3.4 Preprocess**************************************\n",
    "    class_pre = PreProcess()\n",
    "    # convert timestmap into same format and generate detail time columns\n",
    "    df_product_2, df_nj_weather_2, df_pa_weather_2 = class_pre.convert_time(df_product_1,\n",
    "                                                                            df_nj_weather_1,\n",
    "                                                                            df_pa_weather_1)\n",
    "    # drop meanningless columns from hyperparameter and EDA result\n",
    "    df_product_3, df_nj_weather_3, df_pa_weather_3 = class_pre.drop_col(df_product_2,\n",
    "                                                                        df_nj_weather_2,\n",
    "                                                                        df_pa_weather_2)\n",
    "    # drop rows still have NaN, these just normal missing data caused by operation error\n",
    "    list_col_missing_product = class_eda.missing_plot(df_product_3)\n",
    "    # Drop by rows\n",
    "    # we get the name of columns that has missing value from eda part\n",
    "    df_product_4, df_dropped = class_pre.drop_na(df_product_3, list_col_missing_product)\n",
    "    # drop outliers\n",
    "    df_product_5 ,df_outlier = class_pre.drop_outlier(df_product_4)\n",
    "    # There are some human issue we can modify and correct here\n",
    "    df_product_6, df_nj_weather_6, df_pa_weather_6 = class_pre.clean_modify(df_product_5,\n",
    "                                                                            df_nj_weather_3,\n",
    "                                                                            df_pa_weather_3)\n",
    "\n",
    "    # **********************WARNING*****************************\n",
    "    # **********************WARNING*****************************\n",
    "    # we should not add this code in final code, but we can temperaoly delete ['Rate']<20 for statistical result\n",
    "    # Because running ['Rate'] might related to Dryer size. So we delete Dryer09 temporary\n",
    "    df_product_6 = df_product_6.loc[df_product_6['Dryer']!='Dryer 09']\n",
    "    df_product_6 = df_product_6.loc[df_product_6['Rate']>20]\n",
    "    # **********************WARNING****************************\n",
    "    # **********************WARNING****************************\n",
    "\n",
    "    # df_product, df_nj_weather, df_pa_weather, df_dropped, df_outlier = class_pre.clean_data(df_raw_product,\n",
    "    #                                                                                         df_raw_nj_weather,\n",
    "    #                                                                                         df_raw_pa_weather)\n",
    "\n",
    "    #*******************3.5 MergeDate************************\n",
    "    class_merge = MergeData()\n",
    "    # if you need use self.df_multi in the next line, you need call function to product self.multi first\n",
    "    df_multi = class_merge.row_proliferate(df_product_6)\n",
    "    # identify this is only belong to\n",
    "    df_nj, df_pa = class_merge.merge_location(df_product_6, df_nj_weather_6, df_pa_weather_6)\n",
    "\n",
    "\n",
    "    return (df_product_1, df_nj_weather_1, df_pa_weather_1, df_product_2, df_nj_weather_2, df_pa_weather_2,\n",
    "            df_product_3, df_nj_weather_3, df_pa_weather_3, df_product_4, df_product_5, df_dropped, df_outlier,\n",
    "            df_product_6, df_nj_weather_6, df_pa_weather_6,\n",
    "            df_multi, df_nj, df_pa,)\n",
    "\n",
    "\n",
    "\n",
    "if __name__==\"__main__\":\n",
    "    \"\"\":arg\n",
    "    \n",
    "    \"\"\"\n",
    "    (df_product_1, df_nj_weather_1, df_pa_weather_1, df_product_2, df_nj_weather_2, df_pa_weather_2,\n",
    "     df_product_3, df_nj_weather_3, df_pa_weather_3, df_product_4, df_product_5, df_dropped, df_outlier,\n",
    "     df_product_6, df_nj_weather_6, df_pa_weather_6,\n",
    "     df_multi, df_nj, df_pa,) = main()\n",
    "\n",
    "    print(\"OVER\")"
   ]
  },
  {
   "cell_type": "code",
   "execution_count": null,
   "metadata": {},
   "outputs": [],
   "source": []
  },
  {
   "cell_type": "code",
   "execution_count": null,
   "metadata": {},
   "outputs": [],
   "source": []
  },
  {
   "cell_type": "markdown",
   "metadata": {},
   "source": [
    "# <a id=\"8.Analysis\">8.Analysis</a>\n",
    "<a href=\"#2.Table of Contents\">Click this Link back to Top</a>"
   ]
  },
  {
   "cell_type": "markdown",
   "metadata": {},
   "source": [
    "# <a id=\"8.1 Preliminary\">8.1 Preliminary</a>\n",
    "<a href=\"#2.Table of Contents\">Click this Link back to Top</a>"
   ]
  },
  {
   "cell_type": "markdown",
   "metadata": {},
   "source": [
    "Directly using ['Rate'] will not get Gasssian distribution"
   ]
  },
  {
   "cell_type": "code",
   "execution_count": 27,
   "metadata": {},
   "outputs": [],
   "source": [
    "import seaborn as sns"
   ]
  },
  {
   "cell_type": "code",
   "execution_count": 25,
   "metadata": {},
   "outputs": [
    {
     "name": "stderr",
     "output_type": "stream",
     "text": [
      "D:\\ProgramData\\Anaconda3\\envs\\06_ten_GPU_22\\lib\\site-packages\\seaborn\\distributions.py:2551: FutureWarning: `distplot` is a deprecated function and will be removed in a future version. Please adapt your code to use either `displot` (a figure-level function with similar flexibility) or `histplot` (an axes-level function for histograms).\n",
      "  warnings.warn(msg, FutureWarning)\n"
     ]
    },
    {
     "data": {
      "text/plain": [
       "<AxesSubplot:xlabel='Rate', ylabel='Density'>"
      ]
     },
     "execution_count": 25,
     "metadata": {},
     "output_type": "execute_result"
    },
    {
     "data": {
      "image/png": "[encoded data removed]",
      "text/plain": [
       "<Figure size 432x288 with 1 Axes>"
      ]
     },
     "metadata": {
      "needs_background": "light"
     },
     "output_type": "display_data"
    }
   ],
   "source": [
    "sns.distplot(df_product_6['Rate'])"
   ]
  },
  {
   "cell_type": "code",
   "execution_count": 26,
   "metadata": {},
   "outputs": [
    {
     "name": "stderr",
     "output_type": "stream",
     "text": [
      "D:\\ProgramData\\Anaconda3\\envs\\06_ten_GPU_22\\lib\\site-packages\\seaborn\\distributions.py:2551: FutureWarning: `distplot` is a deprecated function and will be removed in a future version. Please adapt your code to use either `displot` (a figure-level function with similar flexibility) or `histplot` (an axes-level function for histograms).\n",
      "  warnings.warn(msg, FutureWarning)\n"
     ]
    },
    {
     "data": {
      "text/plain": [
       "<AxesSubplot:xlabel='Rate', ylabel='Density'>"
      ]
     },
     "execution_count": 26,
     "metadata": {},
     "output_type": "execute_result"
    },
    {
     "data": {
      "image/png": "[encoded data removed]",
      "text/plain": [
       "<Figure size 432x288 with 1 Axes>"
      ]
     },
     "metadata": {
      "needs_background": "light"
     },
     "output_type": "display_data"
    }
   ],
   "source": [
    "sns.distplot(np.log(df_product_6['Rate']))"
   ]
  },
  {
   "cell_type": "code",
   "execution_count": 29,
   "metadata": {},
   "outputs": [
    {
     "name": "stderr",
     "output_type": "stream",
     "text": [
      "D:\\ProgramData\\Anaconda3\\envs\\06_ten_GPU_22\\lib\\site-packages\\seaborn\\_decorators.py:43: FutureWarning: Pass the following variable as a keyword arg: x. From version 0.12, the only valid positional argument will be `data`, and passing other arguments without an explicit keyword will result in an error or misinterpretation.\n",
      "  FutureWarning\n"
     ]
    },
    {
     "data": {
      "text/plain": [
       "<AxesSubplot:xlabel='Rate'>"
      ]
     },
     "execution_count": 29,
     "metadata": {},
     "output_type": "execute_result"
    },
    {
     "data": {
      "image/png": "[encoded data removed]",
      "text/plain": [
       "<Figure size 432x288 with 1 Axes>"
      ]
     },
     "metadata": {
      "needs_background": "light"
     },
     "output_type": "display_data"
    }
   ],
   "source": [
    "sns.boxplot(df_product_6['Rate'])"
   ]
  },
  {
   "cell_type": "code",
   "execution_count": 32,
   "metadata": {},
   "outputs": [
    {
     "data": {
      "image/png": "[encoded data removed]",
      "text/plain": [
       "<Figure size 432x288 with 1 Axes>"
      ]
     },
     "metadata": {
      "needs_background": "light"
     },
     "output_type": "display_data"
    }
   ],
   "source": [
    "data_2 = pd.concat([df_pa['Rate'], df_pa['ProdLine']], axis=1)\n",
    "fig = sns.boxplot(x='ProdLine', y='Rate', data=data_2)"
   ]
  },
  {
   "cell_type": "code",
   "execution_count": null,
   "metadata": {},
   "outputs": [],
   "source": []
  },
  {
   "cell_type": "code",
   "execution_count": 1021,
   "metadata": {},
   "outputs": [],
   "source": [
    "df_41 = df_pa.loc[(df_pa['ProdLine']=='Chemical') & (df_pa['Dryer'] == 'Dryer 06')]"
   ]
  },
  {
   "cell_type": "code",
   "execution_count": 1023,
   "metadata": {},
   "outputs": [
    {
     "data": {
      "image/png": "[encoded data removed]",
      "text/plain": [
       "<Figure size 576x432 with 1 Axes>"
      ]
     },
     "metadata": {
      "needs_background": "light"
     },
     "output_type": "display_data"
    }
   ],
   "source": [
    "fig,ax = plt.subplots(figsize=(8,6))\n",
    "data_41 = pd.concat([df_41['Rate'], df_41['month']], axis=1)\n",
    "fig = sns.boxplot(x='month', y='Rate', data=data_41)"
   ]
  },
  {
   "cell_type": "code",
   "execution_count": 1024,
   "metadata": {},
   "outputs": [
    {
     "data": {
      "image/png": "[encoded data removed]",
      "text/plain": [
       "<Figure size 576x432 with 1 Axes>"
      ]
     },
     "metadata": {
      "needs_background": "light"
     },
     "output_type": "display_data"
    }
   ],
   "source": [
    "df_42 = df_pa.loc[(df_pa['ProdLine']=='Chemical') & (df_pa['Dryer'] == 'Dryer 07')]\n",
    "fig,ax = plt.subplots(figsize=(8,6))\n",
    "data_42 = pd.concat([df_42['Rate'], df_42['month']], axis=1)\n",
    "fig = sns.boxplot(x='month', y='Rate', data=data_42)"
   ]
  },
  {
   "cell_type": "code",
   "execution_count": 1025,
   "metadata": {},
   "outputs": [
    {
     "data": {
      "image/png": "[encoded data removed]",
      "text/plain": [
       "<Figure size 576x432 with 1 Axes>"
      ]
     },
     "metadata": {
      "needs_background": "light"
     },
     "output_type": "display_data"
    }
   ],
   "source": [
    "df_43 = df_pa.loc[(df_pa['ProdLine']=='Chemical') & (df_pa['Dryer'] == 'Dryer 08')]\n",
    "fig,ax = plt.subplots(figsize=(8,6))\n",
    "data_43 = pd.concat([df_43['Rate'], df_43['month']], axis=1)\n",
    "fig = sns.boxplot(x='month', y='Rate', data=data_43)"
   ]
  },
  {
   "cell_type": "code",
   "execution_count": 1026,
   "metadata": {},
   "outputs": [
    {
     "data": {
      "image/png": "[encoded data removed]",
      "text/plain": [
       "<Figure size 576x432 with 1 Axes>"
      ]
     },
     "metadata": {
      "needs_background": "light"
     },
     "output_type": "display_data"
    }
   ],
   "source": [
    "df_44 = df_pa.loc[(df_pa['ProdLine']=='Chemical') & (df_pa['Dryer'] == 'Dryer 10')]\n",
    "fig,ax = plt.subplots(figsize=(8,6))\n",
    "data_44 = pd.concat([df_44['Rate'], df_44['month']], axis=1)\n",
    "fig = sns.boxplot(x='month', y='Rate', data=data_44)"
   ]
  },
  {
   "cell_type": "code",
   "execution_count": 1027,
   "metadata": {},
   "outputs": [
    {
     "data": {
      "image/png": "[encoded data removed]",
      "text/plain": [
       "<Figure size 576x432 with 1 Axes>"
      ]
     },
     "metadata": {
      "needs_background": "light"
     },
     "output_type": "display_data"
    }
   ],
   "source": [
    "df_45 = df_pa.loc[(df_pa['ProdLine']=='Flavors') & (df_pa['Dryer'] == 'Dryer 06')]\n",
    "fig,ax = plt.subplots(figsize=(8,6))\n",
    "data_45 = pd.concat([df_45['Rate'], df_45['month']], axis=1)\n",
    "fig = sns.boxplot(x='month', y='Rate', data=data_45)"
   ]
  },
  {
   "cell_type": "code",
   "execution_count": 1028,
   "metadata": {},
   "outputs": [
    {
     "data": {
      "image/png": "[encoded data removed]",
      "text/plain": [
       "<Figure size 576x432 with 1 Axes>"
      ]
     },
     "metadata": {
      "needs_background": "light"
     },
     "output_type": "display_data"
    }
   ],
   "source": [
    "df_46 = df_pa.loc[(df_pa['ProdLine']=='Flavors') & (df_pa['Dryer'] == 'Dryer 07')]\n",
    "fig,ax = plt.subplots(figsize=(8,6))\n",
    "data_46 = pd.concat([df_46['Rate'], df_46['month']], axis=1)\n",
    "fig = sns.boxplot(x='month', y='Rate', data=data_46)"
   ]
  },
  {
   "cell_type": "code",
   "execution_count": 1030,
   "metadata": {},
   "outputs": [
    {
     "name": "stdout",
     "output_type": "stream",
     "text": [
      "(13460, 40)\n"
     ]
    },
    {
     "data": {
      "image/png": "[encoded data removed]",
      "text/plain": [
       "<Figure size 576x432 with 1 Axes>"
      ]
     },
     "metadata": {
      "needs_background": "light"
     },
     "output_type": "display_data"
    }
   ],
   "source": [
    "df_47 = df_pa.loc[(df_pa['ProdLine']=='Flavors') & (df_pa['Dryer'] == 'Dryer 08')]\n",
    "print(df_47.shape)\n",
    "fig,ax = plt.subplots(figsize=(8,6))\n",
    "data_47 = pd.concat([df_47['Rate'], df_47['month']], axis=1)\n",
    "fig = sns.boxplot(x='month', y='Rate', data=data_47)"
   ]
  },
  {
   "cell_type": "code",
   "execution_count": 1031,
   "metadata": {},
   "outputs": [
    {
     "name": "stdout",
     "output_type": "stream",
     "text": [
      "(9495, 40)\n"
     ]
    },
    {
     "data": {
      "image/png": "[encoded data removed]",
      "text/plain": [
       "<Figure size 576x432 with 1 Axes>"
      ]
     },
     "metadata": {
      "needs_background": "light"
     },
     "output_type": "display_data"
    }
   ],
   "source": [
    "df_48 = df_pa.loc[(df_pa['ProdLine']=='Flavors') & (df_pa['Dryer'] == 'Dryer 10')]\n",
    "print(df_48.shape)\n",
    "fig,ax = plt.subplots(figsize=(8,6))\n",
    "data_48 = pd.concat([df_48['Rate'], df_48['month']], axis=1)\n",
    "fig = sns.boxplot(x='month', y='Rate', data=data_48)"
   ]
  },
  {
   "cell_type": "code",
   "execution_count": 1032,
   "metadata": {},
   "outputs": [
    {
     "name": "stdout",
     "output_type": "stream",
     "text": [
      "(2033, 40)\n"
     ]
    },
    {
     "data": {
      "image/png": "[encoded data removed]",
      "text/plain": [
       "<Figure size 576x432 with 1 Axes>"
      ]
     },
     "metadata": {
      "needs_background": "light"
     },
     "output_type": "display_data"
    }
   ],
   "source": [
    "df_50 = df_pa.loc[(df_pa['ProdLine']=='Food Additive') & (df_pa['Dryer'] == 'Dryer 06')]\n",
    "print(df_50.shape)\n",
    "fig,ax = plt.subplots(figsize=(8,6))\n",
    "data_50 = pd.concat([df_50['Rate'], df_50['month']], axis=1)\n",
    "fig = sns.boxplot(x='month', y='Rate', data=data_50)"
   ]
  },
  {
   "cell_type": "code",
   "execution_count": 1033,
   "metadata": {},
   "outputs": [
    {
     "name": "stdout",
     "output_type": "stream",
     "text": [
      "(1927, 40)\n"
     ]
    },
    {
     "data": {
      "image/png": "[encoded data removed]",
      "text/plain": [
       "<Figure size 576x432 with 1 Axes>"
      ]
     },
     "metadata": {
      "needs_background": "light"
     },
     "output_type": "display_data"
    }
   ],
   "source": [
    "df_51 = df_pa.loc[(df_pa['ProdLine']=='Food Additive') & (df_pa['Dryer'] == 'Dryer 07')]\n",
    "print(df_51.shape)\n",
    "fig,ax = plt.subplots(figsize=(8,6))\n",
    "data_51 = pd.concat([df_51['Rate'], df_51['month']], axis=1)\n",
    "fig = sns.boxplot(x='month', y='Rate', data=data_51)"
   ]
  },
  {
   "cell_type": "code",
   "execution_count": 1034,
   "metadata": {},
   "outputs": [
    {
     "name": "stdout",
     "output_type": "stream",
     "text": [
      "(855, 40)\n"
     ]
    },
    {
     "data": {
      "image/png": "[encoded data removed]",
      "text/plain": [
       "<Figure size 576x432 with 1 Axes>"
      ]
     },
     "metadata": {
      "needs_background": "light"
     },
     "output_type": "display_data"
    }
   ],
   "source": [
    "df_52 = df_pa.loc[(df_pa['ProdLine']=='Food Additive') & (df_pa['Dryer'] == 'Dryer 08')]\n",
    "print(df_52.shape)\n",
    "fig,ax = plt.subplots(figsize=(8,6))\n",
    "data_52 = pd.concat([df_52['Rate'], df_52['month']], axis=1)\n",
    "fig = sns.boxplot(x='month', y='Rate', data=data_52)"
   ]
  },
  {
   "cell_type": "code",
   "execution_count": 1035,
   "metadata": {},
   "outputs": [
    {
     "name": "stdout",
     "output_type": "stream",
     "text": [
      "(3771, 40)\n"
     ]
    },
    {
     "data": {
      "image/png": "[encoded data removed]",
      "text/plain": [
       "<Figure size 576x432 with 1 Axes>"
      ]
     },
     "metadata": {
      "needs_background": "light"
     },
     "output_type": "display_data"
    }
   ],
   "source": [
    "df_53 = df_pa.loc[(df_pa['ProdLine']=='Food Additive') & (df_pa['Dryer'] == 'Dryer 10')]\n",
    "print(df_53.shape)\n",
    "fig,ax = plt.subplots(figsize=(8,6))\n",
    "data_53 = pd.concat([df_53['Rate'], df_53['month']], axis=1)\n",
    "fig = sns.boxplot(x='month', y='Rate', data=data_53)"
   ]
  },
  {
   "cell_type": "code",
   "execution_count": 1052,
   "metadata": {},
   "outputs": [
    {
     "name": "stdout",
     "output_type": "stream",
     "text": [
      "(3771, 41)\n"
     ]
    },
    {
     "data": {
      "image/png": "[encoded data removed]",
      "text/plain": [
       "<Figure size 576x432 with 1 Axes>"
      ]
     },
     "metadata": {
      "needs_background": "light"
     },
     "output_type": "display_data"
    }
   ],
   "source": [
    "df_54 = df_pa.loc[(df_pa['ProdLine']=='Food Additive') & (df_pa['Dryer'] == 'Dryer 10')]\n",
    "print(df_54.shape)\n",
    "fig,ax = plt.subplots(figsize=(8,6))\n",
    "data_54 = pd.concat([df_54['Rate'], df_54['hour']], axis=1)\n",
    "fig = sns.boxplot(x='hour', y='Rate', data=data_54)"
   ]
  },
  {
   "cell_type": "code",
   "execution_count": 1053,
   "metadata": {},
   "outputs": [
    {
     "name": "stdout",
     "output_type": "stream",
     "text": [
      "(855, 41)\n"
     ]
    },
    {
     "data": {
      "image/png": "[encoded data removed]",
      "text/plain": [
       "<Figure size 576x432 with 1 Axes>"
      ]
     },
     "metadata": {
      "needs_background": "light"
     },
     "output_type": "display_data"
    }
   ],
   "source": [
    "df_55 = df_pa.loc[(df_pa['ProdLine']=='Food Additive') & (df_pa['Dryer'] == 'Dryer 08')]\n",
    "print(df_55.shape)\n",
    "fig,ax = plt.subplots(figsize=(8,6))\n",
    "data_55 = pd.concat([df_55['Rate'], df_55['hour']], axis=1)\n",
    "fig = sns.boxplot(x='hour', y='Rate', data=data_55)"
   ]
  },
  {
   "cell_type": "code",
   "execution_count": 1054,
   "metadata": {},
   "outputs": [
    {
     "name": "stdout",
     "output_type": "stream",
     "text": [
      "(3771, 41)\n"
     ]
    },
    {
     "data": {
      "image/png": "[encoded data removed]",
      "text/plain": [
       "<Figure size 576x432 with 1 Axes>"
      ]
     },
     "metadata": {
      "needs_background": "light"
     },
     "output_type": "display_data"
    }
   ],
   "source": [
    "df_56 = df_pa.loc[(df_pa['ProdLine']=='Food Additive') & (df_pa['Dryer'] == 'Dryer 10')]\n",
    "print(df_56.shape)\n",
    "fig,ax = plt.subplots(figsize=(8,6))\n",
    "data_56 = pd.concat([df_56['Rate'], df_56['hour']], axis=1)\n",
    "fig = sns.boxplot(x='hour', y='Rate', data=data_56)"
   ]
  },
  {
   "cell_type": "code",
   "execution_count": null,
   "metadata": {},
   "outputs": [],
   "source": []
  },
  {
   "cell_type": "markdown",
   "metadata": {},
   "source": [
    "# <a id=\"9.Test Code\">9.Test Code</a>\n",
    "<a href=\"#2.Table of Contents\">Click this Link back to Top</a>"
   ]
  },
  {
   "cell_type": "markdown",
   "metadata": {},
   "source": [
    "1. We might need split data into two place NJ and PA, but we also can try to merge two location into one, because they are not far away\n",
    "2. clean data, transform date format, join by date, Coeffience anaylsis\n",
    "3. Check kaggle format\n",
    "4. Check journals "
   ]
  },
  {
   "cell_type": "code",
   "execution_count": null,
   "metadata": {},
   "outputs": [],
   "source": []
  },
  {
   "cell_type": "code",
   "execution_count": 33,
   "metadata": {},
   "outputs": [
    {
     "data": {
      "text/plain": [
       "(8512, 15)"
      ]
     },
     "execution_count": 33,
     "metadata": {},
     "output_type": "execute_result"
    }
   ],
   "source": [
    "df_product_6.shape"
   ]
  },
  {
   "cell_type": "code",
   "execution_count": null,
   "metadata": {},
   "outputs": [],
   "source": []
  }
 ],
 "metadata": {
  "kernelspec": {
   "display_name": "Python 3",
   "language": "python",
   "name": "python3"
  },
  "language_info": {
   "codemirror_mode": {
    "name": "ipython",
    "version": 3
   },
   "file_extension": ".py",
   "mimetype": "text/x-python",
   "name": "python",
   "nbconvert_exporter": "python",
   "pygments_lexer": "ipython3",
   "version": "3.7.9"
  }
 },
 "nbformat": 4,
 "nbformat_minor": 4
}

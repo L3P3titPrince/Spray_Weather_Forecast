{
 "cells": [
  {
   "cell_type": "code",
   "execution_count": 1,
   "metadata": {},
   "outputs": [],
   "source": [
    "from IPython.display import Image"
   ]
  },
  {
   "cell_type": "markdown",
   "metadata": {},
   "source": [
    "# <a id=\"1.Summary\"> 1.Summary</a>"
   ]
  },
  {
   "cell_type": "markdown",
   "metadata": {},
   "source": [
    "I have attached a spreadsheet containing five years of production and weather data for our Middlesex, NJ and Bethlehem, PA facilities. When looking at the production data if the “BatchNumber” listed starts with PASD it was done in Bethlehem and if it starts with NJSD it was done in Middlesex. I included some info that we have on flowability and hygroscopicity but it’s not empirical data; mostly a judgement call made for “reasons”. Weather data was downloaded from openweathermap.org, temperatures are in °F. Let me know if you need any clarification on the data provided.\n"
   ]
  },
  {
   "cell_type": "markdown",
   "metadata": {},
   "source": [
    "More specifically, given the dependence of their drying products and services on weather\n",
    "conditions, the company is interested in using weather data to forecast the processing times for\n",
    "different batches of SKUs. \n",
    "\n",
    "The team is expected to:\n",
    "\n",
    "• Develop a database with manufacturing data that will be used to develop statistical\n",
    "models\n",
    "\n",
    "• Develop, manage and maintain statistical models, including but not limited to:\n",
    "\n",
    "o Forecasting of processing times based on weather data\n",
    "\n",
    "o Forecasting downtime and preventive maintenance issues"
   ]
  },
  {
   "cell_type": "markdown",
   "metadata": {},
   "source": [
    "<br>"
   ]
  },
  {
   "cell_type": "markdown",
   "metadata": {},
   "source": [
    "<br>"
   ]
  },
  {
   "cell_type": "markdown",
   "metadata": {},
   "source": [
    "<br>"
   ]
  },
  {
   "cell_type": "markdown",
   "metadata": {},
   "source": [
    "# <a id=\"2.Table of Contents\">2.Tabole of Contents</a>\n",
    "<a href=\"#1.Summary\">Click this Link back to Top</a>"
   ]
  },
  {
   "cell_type": "markdown",
   "metadata": {},
   "source": [
    "<ol>\n",
    "    <li><a href=\"#1.Summary\">Summary</a></li>\n",
    "    <li><a href=\"#2.Tabole of Contents\">Tabole of Contents</a></li>\n",
    "    <li><a href=\"#3.Preprocess\">Preprocess</a>\n",
    "    <ul>\n",
    "        <li><a href=\"#3.1 Hyperparameter\">3.1 Hyperparameter</a></li>\n",
    "        <li><a href=\"#3.2 Import Data\">3.2 Import Data</a></li>\n",
    "        <li><a href=\"#3.3 Preprocess\">3.3 Preprocess</a></li> \n",
    "        <li><a href=\"#3.4 Tokenize\">3.4 Tokenize</a></li> \n",
    "        <li><a href=\"#3.5 Label Processing\">3.5 Label Processing</a></li>  \n",
    "        <li><a href=\"#3.6 EDA\">3.6 EDA</a></li>  \n",
    "    </ul>\n",
    "    </li>\n",
    "    <li><a href=\"#4.Word2Vect\">Word2Vect</a>\n",
    "    <ul>\n",
    "        <li><del><a href=\"#TFIDF\">4.1 TFIDF</a></del></li>\n",
    "        <li><del><a href=\"#Embedding\">4.2 Embedding</a></del></li> \n",
    "    </ul>\n",
    "    </li>\n",
    "    <li><a href=\"#5.Classify\">Classify</a></li>\n",
    "    <li><a href=\"#6.Models\">Models</a>\n",
    "    <ul>\n",
    "        <li><a href=\"#6.1 Model1\">6.1 Model1</a></li>\n",
    "        <li><a href=\"#6.2 Model2\">6.2 Model2</a></li>\n",
    "    </ul>\n",
    "    </li>\n",
    "    <li><a href=\"#7.Analysis and Plot\">Analysis and Plot</a></li>\n",
    "    <ul>\n",
    "        <li><a href=\"#7.1 Analysis\">7.1 Analysis</a></li>\n",
    "        <li><a href=\"7.2 Spearmanr\">7.2 Spearmanr</a></li>\n",
    "    </ul>\n",
    "    <li><a href=\"#8.Main Function\">Main Function</a></li>\n",
    "    <li><a href=\"#9.Test Code\">Test Code</a></li>\n",
    "</ol>"
   ]
  },
  {
   "cell_type": "markdown",
   "metadata": {},
   "source": [
    "<br>"
   ]
  },
  {
   "cell_type": "markdown",
   "metadata": {},
   "source": [
    "<br>"
   ]
  },
  {
   "cell_type": "markdown",
   "metadata": {},
   "source": [
    "<br>"
   ]
  },
  {
   "cell_type": "markdown",
   "metadata": {},
   "source": [
    "# <a id=\"3.Preprocess\">3.Preprocess</a>\n",
    "<a href=\"#2.Table of Contents\">Click this Link back to Top</a>"
   ]
  },
  {
   "cell_type": "markdown",
   "metadata": {},
   "source": [
    "1. transform data column into identical format\n",
    "2. split data into two station part: NJ and PA\n",
    "3. "
   ]
  },
  {
   "cell_type": "markdown",
   "metadata": {},
   "source": [
    "## <a id=\"3.1 Hyperparameter\">3.1 Hyperparameter</a>\n",
    "<a href=\"#2.Table of Contents\">Click this Link back to Top</a>"
   ]
  },
  {
   "cell_type": "code",
   "execution_count": 196,
   "metadata": {},
   "outputs": [],
   "source": [
    "class HyperParamters(object):\n",
    "    \"\"\"\n",
    "    This class will be used to transmit hyperparameters between class.parameters\n",
    "    Most of class can inherit this class and its hyperparameters\n",
    "\n",
    "    ########################__Rules__##################################\n",
    "    class file name = class + _ + number of sequence + function name\n",
    "    class name = ClassType (Camel-Case)\n",
    "    function name = function_name\n",
    "    variable name = attribute_type_describe (Hungarian notation) # sometime I don't use attribute\n",
    "    constant = UPPERCASE\n",
    "    ###########################################################################\n",
    "\n",
    "\n",
    "    ########################__Notation__############################################\n",
    "    1. We might need split data into two place NJ and PA, but we also can try to merge two location into one,\n",
    "    because they are not far away\n",
    "    2. clean data, transform date format, join by date, Coeffience anaylsis\n",
    "    3. Check kaggle format\n",
    "    4. Check journals\n",
    "    5. Traditional way is to find relationship between total running time with other weather features\n",
    "    6. But we need to consider equipment service lift or depreciation will affect running time\n",
    "    7. Sometimes, we don't use running time itself, we can use the statiscal version of this data\n",
    "    For example, runing time - avg , variance of each running time data point\n",
    "    8.\n",
    "    #############################################################################\n",
    "\n",
    "    1.change import data path\n",
    "    \"\"\"\n",
    "\n",
    "    def __init__(self):\n",
    "        \"\"\":arg\n",
    "\n",
    "\n",
    "        \"\"\"\n",
    "        self.TEST = 1\n",
    "\n",
    "        # you can change this root path in this class and import_data() function will search from this root dictionary\n",
    "        self.ROOTPATH = 'D:\\\\OneDrive\\\\03_Academic\\\\23_Github\\\\20_Stevens\\\\66-MGT-809-A\\\\03_data'\n",
    "\n",
    "        # assign the column will be dropped in production table\n",
    "        # we believe these columns are objective result or not useful features\n",
    "        # ['Bulk Density'] is too objective\n",
    "        # ['Moisture'] is decided by custome requirement, that might affect drying time\n",
    "        # ['Hygroscopicity'] imbalance data distribution\n",
    "        self.DROP_COL = ['Bulk Density', 'Moisture','Flow', 'Hygroscopicity']\n",
    "        # we use z-score as our defination, If we set threshold as 3, the yeild great than 120% will be eliminate\n",
    "        # we also have a np.abs() for smaller outliers, which also affected by this threshold\n",
    "        self.YEILD_THRESHOLD = 3\n",
    "\n"
   ]
  },
  {
   "cell_type": "markdown",
   "metadata": {},
   "source": [
    "<br>"
   ]
  },
  {
   "cell_type": "markdown",
   "metadata": {},
   "source": [
    "<br>"
   ]
  },
  {
   "cell_type": "markdown",
   "metadata": {},
   "source": [
    "<br>"
   ]
  },
  {
   "cell_type": "markdown",
   "metadata": {},
   "source": [
    "## <a id=\"3.2 Import Data\">3.2 Import Data</a>\n",
    "<a href=\"#2.Table of Contents\">Click this Link back to Top</a>"
   ]
  },
  {
   "cell_type": "code",
   "execution_count": 197,
   "metadata": {},
   "outputs": [],
   "source": [
    "# from class_31_hyperparameters import HyperParamters\n",
    "\n",
    "# read xlxs file\n",
    "import pandas as pd\n",
    "# record running data\n",
    "from time import time\n",
    "# join directory path\n",
    "import os\n",
    "\n",
    "\n",
    "\n",
    "\n",
    "class ImportData(HyperParamters):\n",
    "    \"\"\"\n",
    "    Contain two method: import data and convert time\n",
    "\n",
    "\n",
    "    \"\"\"\n",
    "    def __init__(self):\n",
    "        # inhereit from HyperParameter\n",
    "        HyperParamters.__init__(self)\n",
    "\n",
    "\n",
    "    def import_data(self):\n",
    "        \"\"\":arg\n",
    "\n",
    "        Returns:\n",
    "        ----------\n",
    "        df_product:DataFrame\n",
    "            real production data including running time\n",
    "        df_nj_weather:DataFrame\n",
    "            Middlesex, NJ factory weather data from openweather.org\n",
    "        df_pa_weather:DataFrame\n",
    "\n",
    "\n",
    "        \"\"\"\n",
    "        print(\"*\" * 50, \"Start import_data()\", \"*\" * 50)\n",
    "        start_time = time()\n",
    "\n",
    "        # create excel full paht directory\n",
    "        excel_product = os.path.join(self.ROOTPATH, '019_20160101_20201231_ProductionData.xlsx')\n",
    "        # first sheet is real production data\n",
    "        df_product = pd.read_excel(excel_product, sheet_name = '20160101_20201231_ProductionDat')\n",
    "        # second sheet is NJ weather data\n",
    "        df_nj_weather = pd.read_excel(excel_product, sheet_name = 'MiddlesexWeather')\n",
    "        # third sheet is PA weather data\n",
    "        df_pa_weather = pd.read_excel(excel_product, sheet_name = 'BethlehemWeather')\n",
    "        # this new data missing rate, so we have to import old data and merge ['Rate'] to our new data\n",
    "        old_product = os.path.join(self.ROOTPATH, '017_20160101_20201231_ProductionData.xlsx')\n",
    "        df_old = pd.read_excel(old_product, sheet_name = '20160101_20201231_ProductionDat')\n",
    "        df_product['Rate'] = df_old['Rate']\n",
    "\n",
    "        # save\n",
    "        df_product.to_csv('03_data/20_production.csv',index=False)\n",
    "        df_nj_weather.to_csv('03_data/21_nj_weather.csv', index=False)\n",
    "        df_pa_weather.to_csv('03_data/22_pa_weather.csv', index=False)\n",
    "\n",
    "        cost_time = round((time() - start_time), 4)\n",
    "        print(\"*\" * 40, \"End import_data() with {} second\".format(cost_time), \"*\" * 40, end='\\n\\n')\n",
    "\n",
    "        return df_product, df_nj_weather, df_pa_weather\n",
    "\n",
    "    def read_csv(self):\n",
    "        \"\"\"\":arg\n",
    "        Because reading excel is too slow, so we use this function to read csv that processed and saved by\n",
    "        import_data() function.\n",
    "        \"\"\"\n",
    "        df_product = pd.read_csv('03_data/20_production.csv')\n",
    "        df_nj_weather = pd.read_csv('03_data/21_nj_weather.csv')\n",
    "        df_pa_weather = pd.read_csv('03_data/22_pa_weather.csv')\n",
    "\n",
    "\n",
    "        return df_product, df_nj_weather, df_pa_weather\n",
    "\n"
   ]
  },
  {
   "cell_type": "markdown",
   "metadata": {},
   "source": [
    "<br>"
   ]
  },
  {
   "cell_type": "markdown",
   "metadata": {},
   "source": [
    "<br>"
   ]
  },
  {
   "cell_type": "markdown",
   "metadata": {},
   "source": [
    "<br>"
   ]
  },
  {
   "cell_type": "markdown",
   "metadata": {},
   "source": [
    "## <a id=\"3.3 EDA\">3.3 EDA</a>\n",
    "<a href=\"#2.Table of Contents\">Click this Link back to Top</a>"
   ]
  },
  {
   "cell_type": "code",
   "execution_count": 198,
   "metadata": {},
   "outputs": [],
   "source": [
    "# from class_31_hyperparameters import HyperParamters\n",
    "\n",
    "# used for visulazation\n",
    "import matplotlib.pyplot as plt\n",
    "import pandas as pd\n",
    "import numpy as np\n",
    "\n",
    "class EDA(HyperParamters):\n",
    "    \"\"\":arg\n",
    "    \"\"\"\n",
    "    def __init__(self):\n",
    "        \"\"\":arg\n",
    "        \"\"\"\n",
    "        HyperParamters.__init__(self)\n",
    "\n",
    "    def missing_plot(self, df: pd.DataFrame):\n",
    "        \"\"\":arg\n",
    "\n",
    "        Used for missing data plot for count plot and percenatage plot\n",
    "        \"\"\"\n",
    "        # not all columns contain missing value, we only plot the colunms have missing value\n",
    "        # checking is there any missing value in this df and find threir column names and assign to col_missing_value\n",
    "        col_missing_value = list(df.columns[df.isnull().any()])\n",
    "        # count the missing value for each column\n",
    "        df[col_missing_value].isnull().sum()\n",
    "        # to hold the columns names\n",
    "        list_labels=[]\n",
    "        # to hold the count of missing values for each variable\n",
    "        list_value_count=[]\n",
    "        # to hold the percentage of missing values for each variable\n",
    "        list_percent_count=[]\n",
    "        #\n",
    "        for col in col_missing_value:\n",
    "            # add the column names into this list\n",
    "            list_labels.append(col)\n",
    "            # caculate each column missing value count and append to list\n",
    "            list_value_count.append(df[col].isnull().sum())\n",
    "            # df.shape[0] will give totoal row count\n",
    "            list_percent_count.append(df[col].isnull().sum()/df.shape[0])\n",
    "\n",
    "\n",
    "        # create two subplot with 1 row two columns\n",
    "        fig, (ax1, ax2) = plt.subplots(1,2)\n",
    "        # we use ax.barh() create horizontal bar chart, bar width is the count number of missing value\n",
    "        ax1.barh(y = np.arange(len(list_labels)),width = np.array(list_value_count), height=0.5, color='blue')\n",
    "        # set lenght of y labels\n",
    "        ax1.set_yticks(np.arange(len(list_labels)))\n",
    "        # set y labels\n",
    "        ax1.set_yticklabels(list_labels, rotation='horizontal')\n",
    "        ax1.set_xlabel('Count of missing values')\n",
    "        ax1.set_title(\"Columns with missing value count\")\n",
    "\n",
    "        ax2.barh(y=np.arange(len(list_labels)), width = np.array(list_percent_count), height=0.5, color='red')\n",
    "        ax2.set_yticks(np.arange(len(list_labels)))\n",
    "        ax2.set_yticklabels(list_labels, rotation='horizontal')\n",
    "        ax2.set_xlabel(\"Percentage of missing values\")\n",
    "        ax2.set_title(\"Columns with missing values\")\n",
    "\n",
    "        plt.show()\n",
    "        print(col_missing_value, type(col_missing_value))\n",
    "        return col_missing_value\n"
   ]
  },
  {
   "cell_type": "markdown",
   "metadata": {},
   "source": [
    "<br>"
   ]
  },
  {
   "cell_type": "markdown",
   "metadata": {},
   "source": [
    "<br>"
   ]
  },
  {
   "cell_type": "markdown",
   "metadata": {},
   "source": [
    "<br>"
   ]
  },
  {
   "cell_type": "markdown",
   "metadata": {},
   "source": [
    "## <a id=\"3.4 Preprocess\">3.4 Preprocess</a>\n",
    "<a href=\"#2.Table of Contents\">Click this Link back to Top</a>"
   ]
  },
  {
   "cell_type": "code",
   "execution_count": 310,
   "metadata": {},
   "outputs": [],
   "source": [
    "# from class_31_hyperparameters import HyperParamters\n",
    "# from class_33_eda import EDA\n",
    "\n",
    "# using for timestap convert\n",
    "import pandas as pd\n",
    "import numpy as np\n",
    "from scipy import stats\n",
    "# recording running time in each function\n",
    "from time import time\n",
    "\n",
    "\n",
    "\n",
    "class PreProcess(HyperParamters):\n",
    "    \"\"\":arg\n",
    "    Actually, not only production data need to be clean.\n",
    "\n",
    "    tz_convert(): used to convert string to timestamp format\n",
    "    \"\"\"\n",
    "\n",
    "    def __init__(self):\n",
    "        \"\"\":arg\n",
    "        Inheriret from HyperParamters\n",
    "        \"\"\"\n",
    "        HyperParamters.__init__(self)\n",
    "\n",
    "\n",
    "    def tz_convert(self, series):\n",
    "        \"\"\":arg\n",
    "        Args:\n",
    "        ------\n",
    "        serise:DataFrame.series\n",
    "            each element from DataFrame columns\n",
    "\n",
    "        Returns:\n",
    "        -----------\n",
    "        series_est:timestamp\n",
    "\n",
    "        \"\"\"\n",
    "        series_est = pd.Timestamp(series, unit='s', tz='America/New_York')\n",
    "\n",
    "        return series_est\n",
    "\n",
    "    def round_to_hour(self,timestamp):\n",
    "        \"\"\"\n",
    "        We notice df_product['StartDat'] is string type not DataFrame.timestamp.\n",
    "        And weather data are seperated by hours, so we need transform string time data round to nearest hour\n",
    "\n",
    "        Args:\n",
    "        --------\n",
    "        timestamp\n",
    "        \"\"\"\n",
    "        # due to excel convert to csv, all format are lost and original timestamp has transformed to 'string'\n",
    "        # so we add a duplicate process to convert 'string' to 'timestamp'\n",
    "        timestamp = pd.Timestamp(timestamp)\n",
    "        # because of summer time and winter time rules, some UTC date can't conver to EST\n",
    "        try:\n",
    "            date_hour = timestamp.round(freq='H').tz_localize(tz='America/New_York', nonexistent='shift_forward')\n",
    "        except:\n",
    "            print('This data cant convert correctly {}'.format(timestamp.round(freq='H')))\n",
    "            date_hour = timestamp.round(freq='H').tz_localize(tz='America/New_York',\n",
    "                                                              ambiguous='NaT',\n",
    "                                                              nonexistent='shift_forward')\n",
    "            print('This date replaced by {}'.format('NaT'))\n",
    "\n",
    "        return date_hour\n",
    "\n",
    "    def drop_na(self, df, list_col):\n",
    "        \"\"\"\n",
    "        Args:\n",
    "        ------\n",
    "        df:DataFrame\n",
    "            The DF has delete some objective columns\n",
    "        list_col:list\n",
    "            Generated by EDA() part, like['dt_est','Rate']\n",
    "\n",
    "        Returns:\n",
    "        --------\n",
    "        df_clean:DataFrame\n",
    "            complete cleaning\n",
    "        df_dropped:DataFrame\n",
    "            Contain the rows have been dropped by dropna()\n",
    "        \"\"\"\n",
    "        # sometime, we also need review these columns that has been deleted by rows, so we restore them\n",
    "        df_dropped = df[df.isnull().any(axis=1)]\n",
    "        # according to eda result, we got columns name that has missing values\n",
    "        df_clean = df.dropna(subset=list_col)\n",
    "        print(\"These {} columns still have missing data\".format(list_col))\n",
    "        print(\"After dropping na, {} rows has decreased to {} rows\".format(df.shape[0], df_clean.shape[0]))\n",
    "\n",
    "        return df_clean, df_dropped\n",
    "\n",
    "\n",
    "    def del_outlier(self, df, str_col, abs=False):\n",
    "        \"\"\"\n",
    "        We use z-score to delete outliers in our data. for example ['YieldPrecentage'] and ['Rate']\n",
    "        When ads=True, it will delete smallest and biggest outliers.\n",
    "        When ads=False, it will only delete outliers ['YieldPercentage']> 130%, which means remain [0,130]\n",
    "\n",
    "        Args:\n",
    "        ------\n",
    "        df:DataFrame\n",
    "            Any dataframe\n",
    "        str_col:str\n",
    "            the name of column you want to detect outliers and drop\n",
    "\n",
    "        Returns:\n",
    "        --------\n",
    "        df_clean:DataFrame\n",
    "            df has been dropped\n",
    "        df_outlier:DataFrame\n",
    "            The rows that has been detected as outliers\n",
    "        \"\"\"\n",
    "        if abs:\n",
    "            # if abs=True, we will absolute z-score and find the both side outliers\n",
    "            z_score = np.abs(stats.zscore(df[str_col], nan_policy='omit'))\n",
    "            print(\"We will drop too large and too small outliers\")\n",
    "        else:\n",
    "            # if abs=False (default setting), we only delete the too large outlers\n",
    "            z_score = stats.zscore(df[str_col], nan_policy='omit')\n",
    "            print(\"we will only drop too large outliers\")\n",
    "        # set a z-score threshold, any greater than this value will be eliminate\n",
    "        # z_threshold = 3\n",
    "        # filter that ooutlier rows in dataframe\n",
    "        # index_outlier = np.where(z_score > z_threshold, z_score)\n",
    "        # get the index of these outliers\n",
    "        index_outlier = df[z_score > self.YEILD_THRESHOLD].index\n",
    "        # restore these outliers in df_outlier for further review\n",
    "        df_outlier = df.loc[index_outlier]\n",
    "        print('We have {} data points are outliers, which between {} and {}'.format(len(index_outlier),\n",
    "                                                                                    df_outlier[str_col].min(),\n",
    "                                                                                    df_outlier[str_col].max()))\n",
    "        # drop these rows by index\n",
    "        df_clean = df.drop(axis=0, index=index_outlier)\n",
    "        print(\"After drop outlier, the {} column remain range between {} and {}\".format(str_col,\n",
    "                                                                                        df_clean[str_col].min(),\n",
    "                                                                                        df_clean[str_col].max()))\n",
    "        return df_clean, df_outlier\n",
    "\n",
    "\n",
    "    def clean_data(self, df_product, df_nj_weather, df_pa_weather):\n",
    "        \"\"\":arg\n",
    "        Delete columns we believe didn't use in the future.\n",
    "\n",
    "        Args:\n",
    "        --------\n",
    "        df_product:DataFrame\n",
    "\n",
    "        Returns:\n",
    "        --------\n",
    "        df_product:DataFrame\n",
    "            droped missing value, add a new column['dt_est'] for merge purpose\n",
    "        df_nj_weather:DataFrame\n",
    "            cleaned DataFrame table\n",
    "\n",
    "        \"\"\"\n",
    "        print(\"*\" * 50, \"Start clean_data()\", \"*\" * 50)\n",
    "        start_time = time()\n",
    "\n",
    "        #***************Drop non-realted columns**********************\n",
    "        # *************Drop by columns**************\n",
    "        # ['Bulk Density'] have 50% missing data\n",
    "        df_product = df_product.drop(self.DROP_COL, axis=1)\n",
    "        print(\"These columns have been dropped {}\".format(self.DROP_COL))\n",
    "        #******************End************************************\n",
    "\n",
    "\n",
    "        #**************Convert all time into same timestamp format***************************\n",
    "        # convert weather data ['dt'] (unix time) to Eastern Stardard Time(EST)\n",
    "        # pass an argument(series) to function tz_convert()\n",
    "        df_nj_weather['dt_est'] = df_nj_weather['dt'].apply(self.tz_convert)\n",
    "        # another way to use apply()\n",
    "        # df_nj_weather['dt_est'] = df_nj_weather['dt'].apply(lambda x: pd.TimeStamp(x, unit='s', tz='America/New_York'))\n",
    "        df_pa_weather['dt_est'] = df_pa_weather['dt'].apply(self.tz_convert)\n",
    "        # for merge purpose, make sure two column have same name\n",
    "        df_product['dt_est'] = df_product['StartDate'].apply(self.round_to_hour)\n",
    "        #***********************End***************************************************\n",
    "\n",
    "        #*************Drop missing data********************************\n",
    "        class_eda = EDA()\n",
    "        list_col_missing_product = class_eda.missing_plot(df_product)\n",
    "        #**************Drop by rows**********************\n",
    "        # we get the name of columns that has missing value from eda part\n",
    "        df_product,df_dropped = self.drop_na(df_product, list_col_missing_product)\n",
    "        #******************End*****************\n",
    "\n",
    "\n",
    "        #*****************Drop by outliers****************\n",
    "        # after drop non-related columns, convert timestamp format, drop missing data by rows,\n",
    "        # we need to drop outliers in some necessary columns\n",
    "        # we might need automate generate outlier by some EDA() models\n",
    "        str_col='YieldPercentage'\n",
    "        df_product, df_outlier = self.del_outlier(df_product, str_col, abs=False)\n",
    "\n",
    "        # some weather data might also need clearn\n",
    "\n",
    "\n",
    "\n",
    "        cost_time = round((time() - start_time), 4)\n",
    "        print(\"*\" * 40, \"End clean_data() with {} second\".format(cost_time), \"*\" * 40, end='\\n\\n')\n",
    "\n",
    "        return df_product, df_nj_weather, df_pa_weather, df_dropped, df_outlier\n",
    "\n"
   ]
  },
  {
   "cell_type": "markdown",
   "metadata": {},
   "source": [
    "class_pre = PreProcess()\n",
    "df_product, df_nj_weather, df_pa_weather = class_pre.clean_data(df_product, df_nj_weather, df_pa_weather, col_missing)"
   ]
  },
  {
   "cell_type": "code",
   "execution_count": 157,
   "metadata": {},
   "outputs": [],
   "source": [
    "null_data = df_nj_weather[df_nj_weather.isnull().any(axis=1)]"
   ]
  },
  {
   "cell_type": "code",
   "execution_count": 162,
   "metadata": {},
   "outputs": [],
   "source": [
    "null_2 = df_nj_weather[df_nj_weather.isnull().values.any(axis=1)]"
   ]
  },
  {
   "cell_type": "code",
   "execution_count": 164,
   "metadata": {},
   "outputs": [
    {
     "data": {
      "text/plain": [
       "(46646, 26)"
      ]
     },
     "execution_count": 164,
     "metadata": {},
     "output_type": "execute_result"
    }
   ],
   "source": [
    "null_2.shape"
   ]
  },
  {
   "cell_type": "code",
   "execution_count": 159,
   "metadata": {},
   "outputs": [
    {
     "data": {
      "text/plain": [
       "(46646, 26)"
      ]
     },
     "execution_count": 159,
     "metadata": {},
     "output_type": "execute_result"
    }
   ],
   "source": [
    "null_data.shape"
   ]
  },
  {
   "cell_type": "code",
   "execution_count": 151,
   "metadata": {},
   "outputs": [],
   "source": [
    "# def round_to_hour(timestamp):\n",
    "#     \"\"\"\n",
    "#     We notice df_product['StartDat'] is string type not DataFrame.timestamp.\n",
    "#     And weather data are seperated by hours, so we need transform string time data round to nearest hour\n",
    "\n",
    "#     Args:\n",
    "#     --------\n",
    "#     timestamp\n",
    "#     \"\"\"\n",
    "#     # because of summer time and winter time rules, some UTC date can't conver to EST\n",
    "#     try:\n",
    "#         date_hour = timestamp.round(freq='H').tz_localize(tz='America/New_York', nonexistent='shift_forward')\n",
    "#     except:\n",
    "#         print('This data cant convert correctly {}'.format(timestamp.round(freq='H')))\n",
    "#         date_hour = timestamp.round(freq='H').tz_localize(tz='America/New_York',\n",
    "#                                                           ambiguous='NaT',\n",
    "#                                                           nonexistent='shift_forward')\n",
    "#         print('This date replaced by {}'.format('NaT'))\n",
    "\n",
    "#     return date_hour\n",
    "\n",
    "# df_product.iloc[:,('dt_est')] = df_product['StartDate'].apply(round_to_hour)"
   ]
  },
  {
   "cell_type": "markdown",
   "metadata": {},
   "source": [
    "<br>"
   ]
  },
  {
   "cell_type": "markdown",
   "metadata": {},
   "source": [
    "<br>"
   ]
  },
  {
   "cell_type": "markdown",
   "metadata": {},
   "source": [
    "<br>"
   ]
  },
  {
   "cell_type": "markdown",
   "metadata": {},
   "source": [
    "# <a id=\"4.others\">4.Others</a>\n",
    "<a href=\"#2.Table of Contents\">Click this Link back to Top</a>"
   ]
  },
  {
   "cell_type": "code",
   "execution_count": null,
   "metadata": {},
   "outputs": [],
   "source": []
  },
  {
   "cell_type": "code",
   "execution_count": null,
   "metadata": {},
   "outputs": [],
   "source": []
  },
  {
   "cell_type": "code",
   "execution_count": null,
   "metadata": {},
   "outputs": [],
   "source": []
  },
  {
   "cell_type": "code",
   "execution_count": null,
   "metadata": {},
   "outputs": [],
   "source": []
  },
  {
   "cell_type": "code",
   "execution_count": null,
   "metadata": {},
   "outputs": [],
   "source": []
  },
  {
   "cell_type": "code",
   "execution_count": null,
   "metadata": {},
   "outputs": [],
   "source": []
  },
  {
   "cell_type": "markdown",
   "metadata": {},
   "source": [
    "# <a id=\"8.Main Function\">8.Main Function</a>\n",
    "<a href=\"#2.Table of Contents\">Click this Link back to Top</a>"
   ]
  },
  {
   "cell_type": "code",
   "execution_count": 311,
   "metadata": {},
   "outputs": [
    {
     "name": "stdout",
     "output_type": "stream",
     "text": [
      "************************************************** Start clean_data() **************************************************\n",
      "These columns have been dropped ['Bulk Density', 'Moisture', 'Flow', 'Hygroscopicity']\n",
      "This data cant convert correctly 2016-11-06 01:00:00\n",
      "This date replaced by NaT\n",
      "This data cant convert correctly 2017-11-05 01:00:00\n",
      "This date replaced by NaT\n"
     ]
    },
    {
     "data": {
      "image/png": "[encoded data removed]",
      "text/plain": [
       "<Figure size 432x288 with 2 Axes>"
      ]
     },
     "metadata": {
      "needs_background": "light"
     },
     "output_type": "display_data"
    },
    {
     "name": "stdout",
     "output_type": "stream",
     "text": [
      "['CustItem', 'ScheduledDryQty', 'ActualDryQty', 'YieldPercentage', 'ProdLine', 'Rate', 'dt_est'] <class 'list'>\n",
      "These ['CustItem', 'ScheduledDryQty', 'ActualDryQty', 'YieldPercentage', 'ProdLine', 'Rate', 'dt_est'] columns still have missing data\n",
      "After dropping na, 9970 rows has decreased to 9931 rows\n",
      "we will only drop too large outliers\n",
      "We have 15 data points are outliers, which between 136.0 and 864.9\n",
      "After drop outlier, the YieldPercentage column remain range between 0.0 and 130.0\n",
      "**************************************** End clean_data() with 3.5837 second ****************************************\n",
      "\n",
      "OVER\n"
     ]
    }
   ],
   "source": [
    "# from class_31_hyperparameters import HyperParamters\n",
    "# from class_32_import_data import ImportData\n",
    "# from class_34_preprocess import PreProcess\n",
    "# from class_33_eda import EDA\n",
    "\n",
    "def main():\n",
    "    \"\"\"\n",
    "    We use this function to call process one by one.\n",
    "    \"\"\"\n",
    "\n",
    "\n",
    "    # ***********************import******************************\n",
    "    class_import = ImportData()\n",
    "    # df_product, df_nj_weather, df_pa_weather = class_import.import_data()\n",
    "    df_product, df_nj_weather, df_pa_weather = class_import.read_csv()\n",
    "\n",
    "    # *******************3.Preprocess**************************************\n",
    "    class_pre = PreProcess()\n",
    "    df_product, df_nj_weather, df_pa_weather, df_dropped, df_outlier = class_pre.clean_data(df_product,\n",
    "                                                                                df_nj_weather,\n",
    "                                                                                df_pa_weather)\n",
    "\n",
    "\n",
    "    return df_product, df_nj_weather, df_pa_weather, df_dropped\n",
    "\n",
    "if __name__==\"__main__\":\n",
    "    \"\"\":arg\n",
    "    \n",
    "    \"\"\"\n",
    "    (df_product, df_nj_weather, df_pa_weather, df_dropped) = main()\n",
    "\n",
    "    print(\"OVER\")"
   ]
  },
  {
   "cell_type": "code",
   "execution_count": null,
   "metadata": {},
   "outputs": [],
   "source": []
  },
  {
   "cell_type": "code",
   "execution_count": null,
   "metadata": {},
   "outputs": [],
   "source": []
  },
  {
   "cell_type": "code",
   "execution_count": null,
   "metadata": {},
   "outputs": [],
   "source": []
  },
  {
   "cell_type": "code",
   "execution_count": null,
   "metadata": {},
   "outputs": [],
   "source": []
  },
  {
   "cell_type": "code",
   "execution_count": null,
   "metadata": {},
   "outputs": [],
   "source": []
  },
  {
   "cell_type": "markdown",
   "metadata": {},
   "source": [
    "# <a id=\"9.Test Code\">9.Test Code</a>\n",
    "<a href=\"#2.Table of Contents\">Click this Link back to Top</a>"
   ]
  },
  {
   "cell_type": "markdown",
   "metadata": {},
   "source": [
    "1. We might need split data into two place NJ and PA, but we also can try to merge two location into one, because they are not far away\n",
    "2. clean data, transform date format, join by date, Coeffience anaylsis\n",
    "3. Check kaggle format\n",
    "4. Check journals "
   ]
  },
  {
   "cell_type": "code",
   "execution_count": 212,
   "metadata": {},
   "outputs": [],
   "source": [
    "# solve statistical problem\n",
    "from scipy import stats\n",
    "import seaborn as sns"
   ]
  },
  {
   "cell_type": "code",
   "execution_count": null,
   "metadata": {},
   "outputs": [],
   "source": []
  }
 ],
 "metadata": {
  "kernelspec": {
   "display_name": "Python 3",
   "language": "python",
   "name": "python3"
  },
  "language_info": {
   "codemirror_mode": {
    "name": "ipython",
    "version": 3
   },
   "file_extension": ".py",
   "mimetype": "text/x-python",
   "name": "python",
   "nbconvert_exporter": "python",
   "pygments_lexer": "ipython3",
   "version": "3.8.5"
  }
 },
 "nbformat": 4,
 "nbformat_minor": 4
}
